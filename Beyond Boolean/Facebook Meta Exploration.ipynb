{
 "cells": [
  {
   "cell_type": "code",
   "execution_count": null,
   "id": "4d9a1772",
   "metadata": {},
   "outputs": [],
   "source": [
    "# !pip install git+https://github.com/deepset-ai/haystack.git\n",
    "# !pip install 'ray[default]'"
   ]
  },
  {
   "cell_type": "code",
   "execution_count": 14,
   "id": "2e7123e4",
   "metadata": {},
   "outputs": [
    {
     "name": "stderr",
     "output_type": "stream",
     "text": [
      "Generating new fontManager, this may take some time...\n",
      "Failed to extract font properties from /System/Library/Fonts/Apple Color Emoji.ttc: In FT2Font: Could not set the fontsize (error code 0x17)\n",
      "Failed to extract font properties from /System/Library/Fonts/Supplemental/NISC18030.ttf: In FT2Font: Could not set the fontsize (error code 0x17)\n",
      "Failed to extract font properties from /System/Library/Fonts/LastResort.otf: tuple indices must be integers or slices, not str\n"
     ]
    }
   ],
   "source": [
    "import json\n",
    "import plotly.express as px\n",
    "import matplotlib.pyplot as plt\n",
    "import numpy as np\n",
    "import pandas as pd\n",
    "\n",
    "from glob import glob\n",
    "from tqdm.notebook import tqdm\n",
    "from sklearn.manifold import TSNE\n",
    "from haystack import Pipeline\n",
    "from haystack.utils import (\n",
    "    clean_wiki_text, \n",
    "    convert_files_to_dicts, \n",
    "    fetch_archive_from_http, \n",
    "    print_answers, \n",
    "    print_documents, \n",
    ")\n",
    "from haystack.nodes import (\n",
    "    PreProcessor, \n",
    "    FARMReader, \n",
    "    TransformersReader, \n",
    "    DensePassageRetriever, \n",
    "    TransformersQueryClassifier,\n",
    ")\n",
    "from haystack.document_stores import InMemoryDocumentStore, FAISSDocumentStore"
   ]
  },
  {
   "cell_type": "code",
   "execution_count": 2,
   "id": "81dc56d6",
   "metadata": {},
   "outputs": [
    {
     "data": {
      "application/vnd.jupyter.widget-view+json": {
       "model_id": "fcd4186221bc45aa826973d4659eb337",
       "version_major": 2,
       "version_minor": 0
      },
      "text/plain": [
       "  0%|          | 0/10 [00:00<?, ?it/s]"
      ]
     },
     "metadata": {},
     "output_type": "display_data"
    }
   ],
   "source": [
    "files = glob(\"data/fbmetaverse/*.json\")\n",
    "\n",
    "docs = []\n",
    "for f in tqdm(files[:10]):\n",
    "    with open(f, 'rb') as fp:\n",
    "        data = fp.read()\n",
    "        docs.append(json.loads(data))"
   ]
  },
  {
   "cell_type": "code",
   "execution_count": 4,
   "id": "24a61d0d",
   "metadata": {},
   "outputs": [
    {
     "name": "stderr",
     "output_type": "stream",
     "text": [
      "  0%|          | 0/10 [00:00<?, ?docs/s]One or more sentence found with word count higher than the split length.\n",
      "100%|██████████| 10/10 [00:00<00:00, 378.65docs/s]\n",
      "Using devices: CPU\n",
      "Number of GPUs: 0\n",
      "Lock 140569170383632 acquired on /Users/nicholaslincoln/.cache/huggingface/transformers/4ad08b5f983c1384baaf257d8edf51a7a3961fd8c75a1778ac604e3c0b564dd9.d789d64ebfe299b0e416afc4a169632f903f693095b4629a7ea271d5a0cf2c99.lock\n"
     ]
    },
    {
     "data": {
      "application/vnd.jupyter.widget-view+json": {
       "model_id": "2ff04691fa634a2da0eb515c023895ba",
       "version_major": 2,
       "version_minor": 0
      },
      "text/plain": [
       "Downloading:   0%|          | 0.00/232k [00:00<?, ?B/s]"
      ]
     },
     "metadata": {},
     "output_type": "display_data"
    },
    {
     "name": "stderr",
     "output_type": "stream",
     "text": [
      "Lock 140569170383632 released on /Users/nicholaslincoln/.cache/huggingface/transformers/4ad08b5f983c1384baaf257d8edf51a7a3961fd8c75a1778ac604e3c0b564dd9.d789d64ebfe299b0e416afc4a169632f903f693095b4629a7ea271d5a0cf2c99.lock\n",
      "Lock 140569170706976 acquired on /Users/nicholaslincoln/.cache/huggingface/transformers/b305bc9085b3d0ce33551c251b75c11b6c6df1d4d51e5d3439d01cf4bb1abc9d.7f2721073f19841be16f41b0a70b600ca6b880c8f3df6f3535cbc704371bdfa4.lock\n"
     ]
    },
    {
     "data": {
      "application/vnd.jupyter.widget-view+json": {
       "model_id": "b6c80962d4f24fd980dfe96e0ff89bfc",
       "version_major": 2,
       "version_minor": 0
      },
      "text/plain": [
       "Downloading:   0%|          | 0.00/466k [00:00<?, ?B/s]"
      ]
     },
     "metadata": {},
     "output_type": "display_data"
    },
    {
     "name": "stderr",
     "output_type": "stream",
     "text": [
      "Lock 140569170706976 released on /Users/nicholaslincoln/.cache/huggingface/transformers/b305bc9085b3d0ce33551c251b75c11b6c6df1d4d51e5d3439d01cf4bb1abc9d.7f2721073f19841be16f41b0a70b600ca6b880c8f3df6f3535cbc704371bdfa4.lock\n",
      "Lock 140569169403472 acquired on /Users/nicholaslincoln/.cache/huggingface/transformers/d5b5f07ee846d5baa7142e121b6ee77d11ac68bd5d4541faab38a1ea76c2954a.20430bd8e10ef77a7d2977accefe796051e01bc2fc4aa146bc862997a1a15e79.lock\n"
     ]
    },
    {
     "data": {
      "application/vnd.jupyter.widget-view+json": {
       "model_id": "12a26ca348cc428ba92f1a9706e6048a",
       "version_major": 2,
       "version_minor": 0
      },
      "text/plain": [
       "Downloading:   0%|          | 0.00/28.0 [00:00<?, ?B/s]"
      ]
     },
     "metadata": {},
     "output_type": "display_data"
    },
    {
     "name": "stderr",
     "output_type": "stream",
     "text": [
      "Lock 140569169403472 released on /Users/nicholaslincoln/.cache/huggingface/transformers/d5b5f07ee846d5baa7142e121b6ee77d11ac68bd5d4541faab38a1ea76c2954a.20430bd8e10ef77a7d2977accefe796051e01bc2fc4aa146bc862997a1a15e79.lock\n",
      "Lock 140569170286048 acquired on /Users/nicholaslincoln/.cache/huggingface/transformers/52774638a790c9ebc5ce11005b260f79cd4cc389abdab9eaa31e8f09d15b4f46.13b559f49587470ab6d85a7dde13174670a0b61c1b942d1489c96023f5d03772.lock\n"
     ]
    },
    {
     "data": {
      "application/vnd.jupyter.widget-view+json": {
       "model_id": "98513e9c43664bc0a94bd5501e004000",
       "version_major": 2,
       "version_minor": 0
      },
      "text/plain": [
       "Downloading:   0%|          | 0.00/493 [00:00<?, ?B/s]"
      ]
     },
     "metadata": {},
     "output_type": "display_data"
    },
    {
     "name": "stderr",
     "output_type": "stream",
     "text": [
      "Lock 140569170286048 released on /Users/nicholaslincoln/.cache/huggingface/transformers/52774638a790c9ebc5ce11005b260f79cd4cc389abdab9eaa31e8f09d15b4f46.13b559f49587470ab6d85a7dde13174670a0b61c1b942d1489c96023f5d03772.lock\n",
      "Lock 140569163550624 acquired on /Users/nicholaslincoln/.cache/huggingface/transformers/41dac75f5df9070331cb0e4bf318c9fdeaef38d9ffd8ca80993c7db830d0c674.446ee898f4788c3ee90f8e7ee5a50281905f509e698f76dc0b583eb74ef973bd.lock\n"
     ]
    },
    {
     "data": {
      "application/vnd.jupyter.widget-view+json": {
       "model_id": "8aef798bf6fe4774928fa7c060504f01",
       "version_major": 2,
       "version_minor": 0
      },
      "text/plain": [
       "Downloading:   0%|          | 0.00/438M [00:00<?, ?B/s]"
      ]
     },
     "metadata": {},
     "output_type": "display_data"
    },
    {
     "name": "stderr",
     "output_type": "stream",
     "text": [
      "Lock 140569163550624 released on /Users/nicholaslincoln/.cache/huggingface/transformers/41dac75f5df9070331cb0e4bf318c9fdeaef38d9ffd8ca80993c7db830d0c674.446ee898f4788c3ee90f8e7ee5a50281905f509e698f76dc0b583eb74ef973bd.lock\n",
      "Lock 140569170782048 acquired on /Users/nicholaslincoln/.cache/huggingface/transformers/deacb2c219c1bfe83909173f286b60d7cbfd37fc73dc8de723805ca82cabd183.d789d64ebfe299b0e416afc4a169632f903f693095b4629a7ea271d5a0cf2c99.lock\n"
     ]
    },
    {
     "data": {
      "application/vnd.jupyter.widget-view+json": {
       "model_id": "b6ff897b6f2d45ccaa8363ad35760a44",
       "version_major": 2,
       "version_minor": 0
      },
      "text/plain": [
       "Downloading:   0%|          | 0.00/232k [00:00<?, ?B/s]"
      ]
     },
     "metadata": {},
     "output_type": "display_data"
    },
    {
     "name": "stderr",
     "output_type": "stream",
     "text": [
      "Lock 140569170782048 released on /Users/nicholaslincoln/.cache/huggingface/transformers/deacb2c219c1bfe83909173f286b60d7cbfd37fc73dc8de723805ca82cabd183.d789d64ebfe299b0e416afc4a169632f903f693095b4629a7ea271d5a0cf2c99.lock\n",
      "Lock 140569170814528 acquired on /Users/nicholaslincoln/.cache/huggingface/transformers/9a42d18175a45f8dcfd587d7056cbe397e0fe49828bcc543bc3f5b4d2862f7e5.7f2721073f19841be16f41b0a70b600ca6b880c8f3df6f3535cbc704371bdfa4.lock\n"
     ]
    },
    {
     "data": {
      "application/vnd.jupyter.widget-view+json": {
       "model_id": "171d1a27597a4127968229a84924f68d",
       "version_major": 2,
       "version_minor": 0
      },
      "text/plain": [
       "Downloading:   0%|          | 0.00/466k [00:00<?, ?B/s]"
      ]
     },
     "metadata": {},
     "output_type": "display_data"
    },
    {
     "name": "stderr",
     "output_type": "stream",
     "text": [
      "Lock 140569170814528 released on /Users/nicholaslincoln/.cache/huggingface/transformers/9a42d18175a45f8dcfd587d7056cbe397e0fe49828bcc543bc3f5b4d2862f7e5.7f2721073f19841be16f41b0a70b600ca6b880c8f3df6f3535cbc704371bdfa4.lock\n",
      "Lock 140569170300304 acquired on /Users/nicholaslincoln/.cache/huggingface/transformers/70b0d7ed89bb3511a323f99b7cfa4a3e0c35754fda6a3ac74c3458ca8ffb5764.20430bd8e10ef77a7d2977accefe796051e01bc2fc4aa146bc862997a1a15e79.lock\n"
     ]
    },
    {
     "data": {
      "application/vnd.jupyter.widget-view+json": {
       "model_id": "cb5abf21857146b684ab40426a1cff0a",
       "version_major": 2,
       "version_minor": 0
      },
      "text/plain": [
       "Downloading:   0%|          | 0.00/28.0 [00:00<?, ?B/s]"
      ]
     },
     "metadata": {},
     "output_type": "display_data"
    },
    {
     "name": "stderr",
     "output_type": "stream",
     "text": [
      "Lock 140569170300304 released on /Users/nicholaslincoln/.cache/huggingface/transformers/70b0d7ed89bb3511a323f99b7cfa4a3e0c35754fda6a3ac74c3458ca8ffb5764.20430bd8e10ef77a7d2977accefe796051e01bc2fc4aa146bc862997a1a15e79.lock\n",
      "Lock 140569170901312 acquired on /Users/nicholaslincoln/.cache/huggingface/transformers/f31ea67434695abc6c4fbe109214416d8b48a44f2fe5a0617e7faa3d6a4f8d05.be8dbf4cc0650b9c5997b3b3bc47d0d6c20749c3871e9285d3b624cd75dd9ee6.lock\n"
     ]
    },
    {
     "data": {
      "application/vnd.jupyter.widget-view+json": {
       "model_id": "9cf20cc6cad2470982669ce570945792",
       "version_major": 2,
       "version_minor": 0
      },
      "text/plain": [
       "Downloading:   0%|          | 0.00/492 [00:00<?, ?B/s]"
      ]
     },
     "metadata": {},
     "output_type": "display_data"
    },
    {
     "name": "stderr",
     "output_type": "stream",
     "text": [
      "Lock 140569170901312 released on /Users/nicholaslincoln/.cache/huggingface/transformers/f31ea67434695abc6c4fbe109214416d8b48a44f2fe5a0617e7faa3d6a4f8d05.be8dbf4cc0650b9c5997b3b3bc47d0d6c20749c3871e9285d3b624cd75dd9ee6.lock\n",
      "Lock 140568816676976 acquired on /Users/nicholaslincoln/.cache/huggingface/transformers/2623d56adfe8cc7bf9275b0c620a0e271ee4004c335173bde56310dc8ea99d4f.714228ba33c6248205269978fd6d0ca0ef96508cbd4a11d894882e71d45fad7c.lock\n"
     ]
    },
    {
     "data": {
      "application/vnd.jupyter.widget-view+json": {
       "model_id": "f51b4f86c2c1480081173469edf237a3",
       "version_major": 2,
       "version_minor": 0
      },
      "text/plain": [
       "Downloading:   0%|          | 0.00/438M [00:00<?, ?B/s]"
      ]
     },
     "metadata": {},
     "output_type": "display_data"
    },
    {
     "name": "stderr",
     "output_type": "stream",
     "text": [
      "Lock 140568816676976 released on /Users/nicholaslincoln/.cache/huggingface/transformers/2623d56adfe8cc7bf9275b0c620a0e271ee4004c335173bde56310dc8ea99d4f.714228ba33c6248205269978fd6d0ca0ef96508cbd4a11d894882e71d45fad7c.lock\n",
      "Updating embeddings for 59 docs...\n",
      "Updating Embedding:   0%|          | 0/59 [00:00<?, ? docs/s]"
     ]
    },
    {
     "data": {
      "application/vnd.jupyter.widget-view+json": {
       "model_id": "",
       "version_major": 2,
       "version_minor": 0
      },
      "text/plain": [
       "Create embeddings:   0%|          | 0/64 [00:00<?, ? Docs/s]"
      ]
     },
     "metadata": {},
     "output_type": "display_data"
    },
    {
     "name": "stderr",
     "output_type": "stream",
     "text": [
      "Documents Processed: 10000 docs [00:35, 285.44 docs/s]        \n"
     ]
    }
   ],
   "source": [
    "# load and clean documents with processor\n",
    "processor = PreProcessor(\n",
    "    clean_empty_lines=True,\n",
    "    clean_whitespace=True,\n",
    "    clean_header_footer=True,\n",
    "    split_by=\"word\",\n",
    "    split_length=200,\n",
    "    split_respect_sentence_boundary=True,\n",
    "    split_overlap=0\n",
    ")\n",
    "documents = processor.process(docs)\n",
    "\n",
    "# create document store\n",
    "document_store = FAISSDocumentStore(\n",
    "    similarity='dot_product',\n",
    "    return_embedding=True,\n",
    "    faiss_index_factory_str=\"Flat\"\n",
    ")\n",
    "document_store.write_documents(documents, duplicate_documents='overwrite')\n",
    "\n",
    "# load retriever\n",
    "retriever = DensePassageRetriever(\n",
    "    document_store=document_store,\n",
    "    query_embedding_model=\"facebook/dpr-question_encoder-single-nq-base\",\n",
    "    passage_embedding_model=\"facebook/dpr-ctx_encoder-single-nq-base\"\n",
    ")\n",
    "\n",
    "# save/load document store\n",
    "document_store.update_embeddings(retriever)\n",
    "document_store.save(\"facebook-meta.faiss\")\n",
    "document_store = FAISSDocumentStore.load(\"facebook-meta.faiss\")"
   ]
  },
  {
   "cell_type": "code",
   "execution_count": 5,
   "id": "b3d5ea06",
   "metadata": {},
   "outputs": [
    {
     "name": "stderr",
     "output_type": "stream",
     "text": [
      "Using devices: CPU\n",
      "Number of GPUs: 0\n",
      "Using devices: CPU\n",
      "Number of GPUs: 0\n",
      "Lock 140569488125856 acquired on /Users/nicholaslincoln/.cache/huggingface/transformers/c40d0abb589629c48763f271020d0b1f602f5208c432c0874d420491ed37e28b.122ed338b3591c07dba452777c59ff52330edb340d3d56d67aa9117ad9905673.lock\n"
     ]
    },
    {
     "data": {
      "application/vnd.jupyter.widget-view+json": {
       "model_id": "5ebf615c6eef4786bfe2100bb0cd12b0",
       "version_major": 2,
       "version_minor": 0
      },
      "text/plain": [
       "Downloading:   0%|          | 0.00/571 [00:00<?, ?B/s]"
      ]
     },
     "metadata": {},
     "output_type": "display_data"
    },
    {
     "name": "stderr",
     "output_type": "stream",
     "text": [
      "Lock 140569488125856 released on /Users/nicholaslincoln/.cache/huggingface/transformers/c40d0abb589629c48763f271020d0b1f602f5208c432c0874d420491ed37e28b.122ed338b3591c07dba452777c59ff52330edb340d3d56d67aa9117ad9905673.lock\n",
      "Lock 140569170234912 acquired on /Users/nicholaslincoln/.cache/huggingface/transformers/eac3273a8097dda671e3bea1db32c616e74f36a306c65b4858171c98d6db83e9.084aa7284f3a51fa1c8f0641aa04c47d366fbd18711f29d0a995693cfdbc9c9e.lock\n"
     ]
    },
    {
     "data": {
      "application/vnd.jupyter.widget-view+json": {
       "model_id": "6b889f8e50454c59aa91ea17f47a446c",
       "version_major": 2,
       "version_minor": 0
      },
      "text/plain": [
       "Downloading:   0%|          | 0.00/496M [00:00<?, ?B/s]"
      ]
     },
     "metadata": {},
     "output_type": "display_data"
    },
    {
     "name": "stderr",
     "output_type": "stream",
     "text": [
      "Lock 140569170234912 released on /Users/nicholaslincoln/.cache/huggingface/transformers/eac3273a8097dda671e3bea1db32c616e74f36a306c65b4858171c98d6db83e9.084aa7284f3a51fa1c8f0641aa04c47d366fbd18711f29d0a995693cfdbc9c9e.lock\n",
      "Some weights of the model checkpoint at deepset/roberta-base-squad2 were not used when initializing RobertaModel: ['qa_outputs.weight', 'qa_outputs.bias']\n",
      "- This IS expected if you are initializing RobertaModel from the checkpoint of a model trained on another task or with another architecture (e.g. initializing a BertForSequenceClassification model from a BertForPreTraining model).\n",
      "- This IS NOT expected if you are initializing RobertaModel from the checkpoint of a model that you expect to be exactly identical (initializing a BertForSequenceClassification model from a BertForSequenceClassification model).\n",
      "Some weights of RobertaModel were not initialized from the model checkpoint at deepset/roberta-base-squad2 and are newly initialized: ['roberta.pooler.dense.bias', 'roberta.pooler.dense.weight']\n",
      "You should probably TRAIN this model on a down-stream task to be able to use it for predictions and inference.\n",
      "Failed to log params: Changing param values is not allowed. Param with key='prediction_heads' was already logged with value='TextSimilarityHead' for run ID='5a046582f81344a7b400bdc50b025df0'. Attempted logging new value 'QuestionAnsweringHead'.\n",
      "Lock 140567826999952 acquired on /Users/nicholaslincoln/.cache/huggingface/transformers/81c80edb4c6cefa5cae64ccfdb34b3b309ecaf60da99da7cd1c17e24a5d36eb5.647b4548b6d9ea817e82e7a9231a320231a1c9ea24053cc9e758f3fe68216f05.lock\n"
     ]
    },
    {
     "data": {
      "application/vnd.jupyter.widget-view+json": {
       "model_id": "da3a0bb912b1445e97f61814f2e17e2d",
       "version_major": 2,
       "version_minor": 0
      },
      "text/plain": [
       "Downloading:   0%|          | 0.00/899k [00:00<?, ?B/s]"
      ]
     },
     "metadata": {},
     "output_type": "display_data"
    },
    {
     "name": "stderr",
     "output_type": "stream",
     "text": [
      "Lock 140567826999952 released on /Users/nicholaslincoln/.cache/huggingface/transformers/81c80edb4c6cefa5cae64ccfdb34b3b309ecaf60da99da7cd1c17e24a5d36eb5.647b4548b6d9ea817e82e7a9231a320231a1c9ea24053cc9e758f3fe68216f05.lock\n",
      "Lock 140567826998704 acquired on /Users/nicholaslincoln/.cache/huggingface/transformers/b87d46371731376b11768b7839b1a5938a4f77d6bd2d9b683f167df0026af432.5d12962c5ee615a4c803841266e9c3be9a691a924f72d395d3a6c6c81157788b.lock\n"
     ]
    },
    {
     "data": {
      "application/vnd.jupyter.widget-view+json": {
       "model_id": "9c6088146a5d4ee38ac3afa2b5c8a58f",
       "version_major": 2,
       "version_minor": 0
      },
      "text/plain": [
       "Downloading:   0%|          | 0.00/456k [00:00<?, ?B/s]"
      ]
     },
     "metadata": {},
     "output_type": "display_data"
    },
    {
     "name": "stderr",
     "output_type": "stream",
     "text": [
      "Lock 140567826998704 released on /Users/nicholaslincoln/.cache/huggingface/transformers/b87d46371731376b11768b7839b1a5938a4f77d6bd2d9b683f167df0026af432.5d12962c5ee615a4c803841266e9c3be9a691a924f72d395d3a6c6c81157788b.lock\n",
      "Lock 140567792121984 acquired on /Users/nicholaslincoln/.cache/huggingface/transformers/c9d2c178fac8d40234baa1833a3b1903d393729bf93ea34da247c07db24900d0.cb2244924ab24d706b02fd7fcedaea4531566537687a539ebb94db511fd122a0.lock\n"
     ]
    },
    {
     "data": {
      "application/vnd.jupyter.widget-view+json": {
       "model_id": "f12dc99a74e4411aa49bd74b0ec3a4b1",
       "version_major": 2,
       "version_minor": 0
      },
      "text/plain": [
       "Downloading:   0%|          | 0.00/772 [00:00<?, ?B/s]"
      ]
     },
     "metadata": {},
     "output_type": "display_data"
    },
    {
     "name": "stderr",
     "output_type": "stream",
     "text": [
      "Lock 140567792121984 released on /Users/nicholaslincoln/.cache/huggingface/transformers/c9d2c178fac8d40234baa1833a3b1903d393729bf93ea34da247c07db24900d0.cb2244924ab24d706b02fd7fcedaea4531566537687a539ebb94db511fd122a0.lock\n",
      "Lock 140567792121984 acquired on /Users/nicholaslincoln/.cache/huggingface/transformers/e8a600814b69e3ee74bb4a7398cc6fef9812475010f16a6c9f151b2c2772b089.451739a2f3b82c3375da0dfc6af295bedc4567373b171f514dd09a4cc4b31513.lock\n"
     ]
    },
    {
     "data": {
      "application/vnd.jupyter.widget-view+json": {
       "model_id": "ce0549564b084915bc82586200518733",
       "version_major": 2,
       "version_minor": 0
      },
      "text/plain": [
       "Downloading:   0%|          | 0.00/79.0 [00:00<?, ?B/s]"
      ]
     },
     "metadata": {},
     "output_type": "display_data"
    },
    {
     "name": "stderr",
     "output_type": "stream",
     "text": [
      "Lock 140567792121984 released on /Users/nicholaslincoln/.cache/huggingface/transformers/e8a600814b69e3ee74bb4a7398cc6fef9812475010f16a6c9f151b2c2772b089.451739a2f3b82c3375da0dfc6af295bedc4567373b171f514dd09a4cc4b31513.lock\n",
      "Failed to log params: Changing param values is not allowed. Param with key='processor' was already logged with value='TextSimilarityProcessor' for run ID='5a046582f81344a7b400bdc50b025df0'. Attempted logging new value 'SquadProcessor'.\n",
      "ML Logging is turned off. No parameters, metrics or artifacts will be logged to MLFlow.\n",
      "Using devices: CPU\n",
      "Number of GPUs: 0\n",
      "Got ya 7 parallel workers to do inference ...\n",
      " 0    0    0    0    0    0    0 \n",
      "/w\\  /w\\  /w\\  /w\\  /w\\  /w\\  /w\\\n",
      "/'\\  / \\  /'\\  /'\\  / \\  / \\  /'\\\n",
      "            \n"
     ]
    }
   ],
   "source": [
    "# create reader from specified model\n",
    "model = \"deepset/roberta-base-squad2\"\n",
    "reader = FARMReader(model, use_gpu=True)"
   ]
  },
  {
   "cell_type": "code",
   "execution_count": 8,
   "id": "bb006495",
   "metadata": {},
   "outputs": [
    {
     "name": "stderr",
     "output_type": "stream",
     "text": [
      "Using devices: CPU\n",
      "Number of GPUs: 0\n",
      "Lock 140569170194496 acquired on /Users/nicholaslincoln/.cache/huggingface/transformers/4d234001a83eae968081ec17d51595e697e54a0db0fa1d5bb419e042cf14b24b.d76a0b1a82684bce82554efb4cbe093f287a29945e4298543a2561d1036510cf.lock\n"
     ]
    },
    {
     "data": {
      "application/vnd.jupyter.widget-view+json": {
       "model_id": "1860b422da9a4f6ca6c5b2bca35902dc",
       "version_major": 2,
       "version_minor": 0
      },
      "text/plain": [
       "Downloading:   0%|          | 0.00/619 [00:00<?, ?B/s]"
      ]
     },
     "metadata": {},
     "output_type": "display_data"
    },
    {
     "name": "stderr",
     "output_type": "stream",
     "text": [
      "Lock 140569170194496 released on /Users/nicholaslincoln/.cache/huggingface/transformers/4d234001a83eae968081ec17d51595e697e54a0db0fa1d5bb419e042cf14b24b.d76a0b1a82684bce82554efb4cbe093f287a29945e4298543a2561d1036510cf.lock\n",
      "Lock 140567826893120 acquired on /Users/nicholaslincoln/.cache/huggingface/transformers/e8abcef969219de89fbd9e9cf9a2b945bbe043b01854dc92f697180da4c7bd6f.40ad410a2c6387d007645e40a171b1568fcda3cafd4008a4032aa4b5e5b6e69a.lock\n"
     ]
    },
    {
     "data": {
      "application/vnd.jupyter.widget-view+json": {
       "model_id": "5a3a762d4644482e86fffa8cd3458e19",
       "version_major": 2,
       "version_minor": 0
      },
      "text/plain": [
       "Downloading:   0%|          | 0.00/44.7M [00:00<?, ?B/s]"
      ]
     },
     "metadata": {},
     "output_type": "display_data"
    },
    {
     "name": "stderr",
     "output_type": "stream",
     "text": [
      "Lock 140567826893120 released on /Users/nicholaslincoln/.cache/huggingface/transformers/e8abcef969219de89fbd9e9cf9a2b945bbe043b01854dc92f697180da4c7bd6f.40ad410a2c6387d007645e40a171b1568fcda3cafd4008a4032aa4b5e5b6e69a.lock\n",
      "Lock 140567123820208 acquired on /Users/nicholaslincoln/.cache/huggingface/transformers/7afed1f7c22a9b2f2a4751a50d00591c62f8d4ce4fca06dcd7c881ce0aae62fc.d789d64ebfe299b0e416afc4a169632f903f693095b4629a7ea271d5a0cf2c99.lock\n"
     ]
    },
    {
     "data": {
      "application/vnd.jupyter.widget-view+json": {
       "model_id": "6242f899132a4d71953a70b4944c43fe",
       "version_major": 2,
       "version_minor": 0
      },
      "text/plain": [
       "Downloading:   0%|          | 0.00/232k [00:00<?, ?B/s]"
      ]
     },
     "metadata": {},
     "output_type": "display_data"
    },
    {
     "name": "stderr",
     "output_type": "stream",
     "text": [
      "Lock 140567123820208 released on /Users/nicholaslincoln/.cache/huggingface/transformers/7afed1f7c22a9b2f2a4751a50d00591c62f8d4ce4fca06dcd7c881ce0aae62fc.d789d64ebfe299b0e416afc4a169632f903f693095b4629a7ea271d5a0cf2c99.lock\n",
      "Lock 140567123817568 acquired on /Users/nicholaslincoln/.cache/huggingface/transformers/5a5b2544837a891c31ea5e5af99f9a855590d01d7417f962eb35cf1d03ba166c.dd8bd9bfd3664b530ea4e645105f557769387b3da9f79bdb55ed556bdd80611d.lock\n"
     ]
    },
    {
     "data": {
      "application/vnd.jupyter.widget-view+json": {
       "model_id": "7d295af0c0db4932a035fe145ab2690a",
       "version_major": 2,
       "version_minor": 0
      },
      "text/plain": [
       "Downloading:   0%|          | 0.00/112 [00:00<?, ?B/s]"
      ]
     },
     "metadata": {},
     "output_type": "display_data"
    },
    {
     "name": "stderr",
     "output_type": "stream",
     "text": [
      "Lock 140567123817568 released on /Users/nicholaslincoln/.cache/huggingface/transformers/5a5b2544837a891c31ea5e5af99f9a855590d01d7417f962eb35cf1d03ba166c.dd8bd9bfd3664b530ea4e645105f557769387b3da9f79bdb55ed556bdd80611d.lock\n",
      "Lock 140567826894608 acquired on /Users/nicholaslincoln/.cache/huggingface/transformers/91b4cc2d434f81bed4fd4ad831991ff8ad4f840d7d22a5578ae0f6d2d897ea78.ddf44c24d87fa9a8d4c3d7ae53c574f2a5391a17dcef25d20f9a64d70ee350c5.lock\n"
     ]
    },
    {
     "data": {
      "application/vnd.jupyter.widget-view+json": {
       "model_id": "d38961c90f79410482caabd860b417a7",
       "version_major": 2,
       "version_minor": 0
      },
      "text/plain": [
       "Downloading:   0%|          | 0.00/334 [00:00<?, ?B/s]"
      ]
     },
     "metadata": {},
     "output_type": "display_data"
    },
    {
     "name": "stderr",
     "output_type": "stream",
     "text": [
      "Lock 140567826894608 released on /Users/nicholaslincoln/.cache/huggingface/transformers/91b4cc2d434f81bed4fd4ad831991ff8ad4f840d7d22a5578ae0f6d2d897ea78.ddf44c24d87fa9a8d4c3d7ae53c574f2a5391a17dcef25d20f9a64d70ee350c5.lock\n"
     ]
    }
   ],
   "source": [
    "# classifier for pipeline input\n",
    "question_classifier = TransformersQueryClassifier(\n",
    "    model_name_or_path=\"shahrukhx01/bert-mini-finetune-question-detection\"\n",
    ")"
   ]
  },
  {
   "cell_type": "code",
   "execution_count": 6,
   "id": "abc33076",
   "metadata": {},
   "outputs": [],
   "source": [
    "def determine_input_classification(input_text):\n",
    "  \"\"\"\n",
    "  If the question classifier classification does not match the return_type, \n",
    "  then adjust the pipeline so that the results can be obtained.  The results \n",
    "  depend solely on the classification in this scenario, meaning your \n",
    "  return_type will be ignored so that results can be returned.  If this \n",
    "  adjustment were not made, errors caused by misclassification could prevent \n",
    "  results from showing at all.\n",
    "\n",
    "  :param input_text: (str) the question or key words to search\n",
    "\n",
    "  :return: (str) classification output\n",
    "  \"\"\"\n",
    "  prediction = question_classifier.run(query=input_text)\n",
    "  if prediction[1] == \"output_1\":\n",
    "    category = \"question\"\n",
    "  else:\n",
    "    category = \"keywords\"\n",
    "  return category\n",
    "\n",
    "\n",
    "def build_pipeline(input_text, return_type=\"answer\"):\n",
    "  \"\"\"\n",
    "  Builds Haystack pipeline\n",
    "\n",
    "  :param input_text: (str) the question or key words to search\n",
    "  :param return_type: (str) either \"answer\" to return Q&A style answers and \n",
    "    their contexts, or \"document\" to return whole documents\n",
    "\n",
    "  :return: Haystack pipeline object\n",
    "  \"\"\"\n",
    "  category = determine_input_classification(input_text=input_text)\n",
    "\n",
    "  pipe = Pipeline()\n",
    "  pipe.add_node(\n",
    "      component=question_classifier, \n",
    "      name=\"QueryClassifier\", \n",
    "      inputs=[\"Query\"]\n",
    "  )\n",
    "\n",
    "  if category == \"question\":\n",
    "    query_classifier_output = \"output_1\"\n",
    "  else:\n",
    "    query_classifier_output = \"output_2\"\n",
    "\n",
    "  pipe.add_node(\n",
    "      component=retriever, \n",
    "      name=\"ESRetriever\", \n",
    "      inputs=[f\"QueryClassifier.{query_classifier_output}\"]\n",
    "  )\n",
    "\n",
    "  if return_type == \"answer\":\n",
    "    pipe.add_node(\n",
    "        component=reader, \n",
    "        name=\"QAReader\", \n",
    "        inputs=[\"ESRetriever\"]\n",
    "    )\n",
    "\n",
    "  return pipe\n",
    "\n",
    "\n",
    "def view_results(prediction):\n",
    "  \"\"\"\n",
    "  Prints result from Haystack query\n",
    "\n",
    "  :param prediction: (Haystack pipeline output) the object containing the \n",
    "    output of a pipeline\n",
    "  \"\"\"\n",
    "  # try will only work if return_type was \"answer\" and the query was \n",
    "  #   correctly classified\n",
    "  try:\n",
    "    print_answers(prediction, details=\"minimal\")\n",
    "  except:\n",
    "    for doc in prediction[\"documents\"]:\n",
    "      print(doc.content)\n"
   ]
  },
  {
   "cell_type": "code",
   "execution_count": 9,
   "id": "01acb2d6",
   "metadata": {},
   "outputs": [
    {
     "name": "stderr",
     "output_type": "stream",
     "text": [
      "Inferencing Samples: 100%|██████████| 1/1 [00:00<00:00,  1.31 Batches/s]\n",
      "Inferencing Samples: 100%|██████████| 1/1 [00:00<00:00,  1.62 Batches/s]\n",
      "Inferencing Samples: 100%|██████████| 1/1 [00:00<00:00,  1.51 Batches/s]\n",
      "Inferencing Samples: 100%|██████████| 1/1 [00:00<00:00,  1.60 Batches/s]\n",
      "Inferencing Samples: 100%|██████████| 1/1 [00:00<00:00,  1.60 Batches/s]\n",
      "Inferencing Samples: 100%|██████████| 1/1 [00:01<00:00,  1.29s/ Batches]\n",
      "Inferencing Samples: 100%|██████████| 1/1 [00:00<00:00,  1.62 Batches/s]\n",
      "Inferencing Samples: 100%|██████████| 1/1 [00:01<00:00,  1.19s/ Batches]\n",
      "Inferencing Samples: 100%|██████████| 1/1 [00:00<00:00,  1.64 Batches/s]\n",
      "Inferencing Samples: 100%|██████████| 1/1 [00:00<00:00,  1.70 Batches/s]\n",
      "print_answers received details='minimal', which was not understood. Valid values are 'minimum', 'medium', and 'all'. Using 'all'.\n"
     ]
    },
    {
     "name": "stdout",
     "output_type": "stream",
     "text": [
      "\n",
      "Query: zuckerberg position\n",
      "Answers:\n",
      "[   <Answer {'answer': 'CTO', 'type': 'extractive', 'score': 0.637283205986023, 'context': 'd. Zuckerberg echoed this in a statement on Facebook\\'s blog. \"As our next CTO, Boz will continue leading Facebook Reality Labs and overseeing our work', 'offsets_in_document': [{'start': 190, 'end': 193}], 'offsets_in_context': [{'start': 74, 'end': 77}], 'document_id': '4d05d9b41b8672163ca4408b18f99ec5', 'meta': {'publisher': 'Business Insider', 'title': 'How Andrew Bosworth, Mark Zuckerberg’s old teaching assistant at Harvard, rose to become his key lieutenant in building the metaverse', 'publish_date': '2021-11-07 10:15:00', 'mediatype': 'News', '_split_id': '6', 'vector_id': '17'}}>,\n",
      "    <Answer {'answer': 'key lieutenants', 'type': 'extractive', 'score': 0.5706248432397842, 'context': 'n at the company since 2006 and has become one of Mark Zuckerberg\\'s key lieutenants. Andrew Bosworth, also known as \"Boz\" inside the company formerly ', 'offsets_in_document': [{'start': 353, 'end': 368}], 'offsets_in_context': [{'start': 68, 'end': 83}], 'document_id': '35bbb5f8d40de5666c948c343a802890', 'meta': {'publisher': 'Business Insider', 'title': 'How Andrew Bosworth, Mark Zuckerberg’s old teaching assistant at Harvard, rose to become his key lieutenant in building the metaverse', 'publish_date': '2021-11-07 10:15:00', 'mediatype': 'News', '_split_id': '0', 'vector_id': '9'}}>,\n",
      "    <Answer {'answer': 'CEO of the newly renamed Meta', 'type': 'extractive', 'score': 0.4548617824912071, 'context': 'ty right” building block for that idea. Now Mark Zuckerberg, CEO of the newly renamed Meta (aka Facebook), claims to be building it. But it seems anti', 'offsets_in_document': [{'start': 1016, 'end': 1045}], 'offsets_in_context': [{'start': 61, 'end': 90}], 'document_id': '3f9398b849335658f27ccaf232d4918', 'meta': {'publisher': 'Yahoo Sports Canada', 'title': 'NFTs Take Over NYC', 'publish_date': '2021-11-05 19:15:24', 'mediatype': 'News', '_split_id': '3', 'vector_id': '14'}}>,\n",
      "    <Answer {'answer': 'Facebook founder Mark Zuckerberg announced Thursday that the corporate name of the social media platform will change to \"Meta,\"', 'type': 'extractive', 'score': 0.20349053293466568, 'context': 'Facebook founder Mark Zuckerberg announced Thursday that the corporate name of the social media platform will change to \"Meta,\" to emphasize its \"meta', 'offsets_in_document': [{'start': 0, 'end': 127}], 'offsets_in_context': [{'start': 0, 'end': 127}], 'document_id': 'b80c9c43f9ae7d7c2f16541c0bd040a7', 'meta': {'publisher': 'Yahoo News', 'title': 'Facebook to change corporate name to Meta', 'publish_date': '2021-10-28 11:26:00', 'mediatype': 'News', '_split_id': '0', 'vector_id': '44'}}>,\n",
      "    <Answer {'answer': 'Zuckerberg denounced Bosworth\\'s memo after BuzzFeed broke the story. \"Boz is a talented leader who says many provocative things. This was one that most people at Facebook including myself disagreed with strongly. We\\'ve never believed the ends justify the means', 'type': 'extractive', 'score': 0.0855028796941042, 'context': 'Zuckerberg denounced Bosworth\\'s memo after BuzzFeed broke the story. \"Boz is a talented leader who says many provocative things. This was one that most people at Facebook including myself disagreed with strongly. We\\'ve never believed the ends justify the means', 'offsets_in_document': [{'start': 277, 'end': 537}], 'offsets_in_context': [{'start': 0, 'end': 260}], 'document_id': '17766019720b6fbaa6ff51e1ece72303', 'meta': {'publisher': 'Business Insider', 'title': 'How Andrew Bosworth, Mark Zuckerberg’s old teaching assistant at Harvard, rose to become his key lieutenant in building the metaverse', 'publish_date': '2021-11-07 10:15:00', 'mediatype': 'News', '_split_id': '7', 'vector_id': '1'}}>,\n",
      "    <Answer {'answer': 'Bosworth', 'type': 'extractive', 'score': 0.06962156482040882, 'context': 'senior when Zuckerberg was a sophomore, and Zuckerberg was assigned to Bosworth. \"He didn\\'t attend my lessons as often as most of my students, but to ', 'offsets_in_document': [{'start': 548, 'end': 556}], 'offsets_in_context': [{'start': 71, 'end': 79}], 'document_id': '29285eba18f0dae630924cfcd375c18a', 'meta': {'publisher': 'Business Insider', 'title': 'How Andrew Bosworth, Mark Zuckerberg’s old teaching assistant at Harvard, rose to become his key lieutenant in building the metaverse', 'publish_date': '2021-11-07 10:15:00', 'mediatype': 'News', '_split_id': '1', 'vector_id': '5'}}>,\n",
      "    <Answer {'answer': 'head up engineering', 'type': 'extractive', 'score': 0.057139383628964424, 'context': \"rth was supposed to go on his sabbatical, Zuckerberg asked him to head up engineering for all Facebook's advertising products, and Bosworth accepted. \", 'offsets_in_document': [{'start': 642, 'end': 661}], 'offsets_in_context': [{'start': 66, 'end': 85}], 'document_id': 'ac0e69c9d53935b79c173cf159656e9a', 'meta': {'publisher': 'Business Insider', 'title': 'How Andrew Bosworth, Mark Zuckerberg’s old teaching assistant at Harvard, rose to become his key lieutenant in building the metaverse', 'publish_date': '2021-11-07 10:15:00', 'mediatype': 'News', '_split_id': '3', 'vector_id': '40'}}>,\n",
      "    <Answer {'answer': 'Mark Zuckerberg', 'type': 'extractive', 'score': 0.04569339379668236, 'context': 'h, which included footage of himself repeatedly throwing pillows at Mark Zuckerberg. —Boz (@boztank) September 6, 2021 In September 2021, the company ', 'offsets_in_document': [{'start': 776, 'end': 791}], 'offsets_in_context': [{'start': 68, 'end': 83}], 'document_id': '66d43371311d98f4567db3f0b24d708e', 'meta': {'publisher': 'Business Insider', 'title': 'How Andrew Bosworth, Mark Zuckerberg’s old teaching assistant at Harvard, rose to become his key lieutenant in building the metaverse', 'publish_date': '2021-11-07 10:15:00', 'mediatype': 'News', '_split_id': '5', 'vector_id': '23'}}>,\n",
      "    <Answer {'answer': \"we'll be metaverse first, not Facebook first\", 'type': 'extractive', 'score': 0.02322531770914793, 'context': '\"From now on, we\\'ll be metaverse first, not Facebook first,\" Zuckerberg said during the company\\'s announcement of its rebrand. The word metaverse is a', 'offsets_in_document': [{'start': 14, 'end': 58}], 'offsets_in_context': [{'start': 14, 'end': 58}], 'document_id': '66d43371311d98f4567db3f0b24d708e', 'meta': {'publisher': 'Business Insider', 'title': 'How Andrew Bosworth, Mark Zuckerberg’s old teaching assistant at Harvard, rose to become his key lieutenant in building the metaverse', 'publish_date': '2021-11-07 10:15:00', 'mediatype': 'News', '_split_id': '5', 'vector_id': '23'}}>,\n",
      "    <Answer {'answer': 'our brand is so tightly linked to one product that it can\\'t possibly represent everything that we\\'re doing today, let alone in the future,\" Zuckerberg said. The company is also changing its stock ticker from \"FB\" to \"MVRS,\" effective December 1. In August, Zuckerberg told CBS Mornings\\' anchor Gayle King the metaverse', 'type': 'extractive', 'score': 0.019568800926208496, 'context': 'our brand is so tightly linked to one product that it can\\'t possibly represent everything that we\\'re doing today, let alone in the future,\" Zuckerberg said. The company is also changing its stock ticker from \"FB\" to \"MVRS,\" effective December 1. In August, Zuckerberg told CBS Mornings\\' anchor Gayle King the metaverse', 'offsets_in_document': [{'start': 12, 'end': 330}], 'offsets_in_context': [{'start': 0, 'end': 318}], 'document_id': '3eeeb834e539787d63a98961e3e5ac56', 'meta': {'publisher': 'Yahoo News', 'title': 'Facebook to change corporate name to Meta', 'publish_date': '2021-10-28 11:26:00', 'mediatype': 'News', '_split_id': '1', 'vector_id': '13'}}>]\n"
     ]
    }
   ],
   "source": [
    "# Example of key word search Q&A\n",
    "query_string = \"zuckerberg position\"\n",
    "return_type = \"answer\"\n",
    "pipe = build_pipeline(input_text=query_string, return_type=return_type)\n",
    "prediction = pipe.run(query=query_string)\n",
    "view_results(prediction=prediction)"
   ]
  },
  {
   "cell_type": "code",
   "execution_count": 41,
   "id": "c6022418",
   "metadata": {},
   "outputs": [
    {
     "name": "stdout",
     "output_type": "stream",
     "text": [
      "The term “metaverse” seems to be everywhere. Facebook is hiring thousands of engineers in Europe to work on it, while video game companies are outlining their long-term visions for what some consider the next big thing online. The metaverse, which could spring up again when Facebook releases earnings Monday, is the latest buzzword to capture the tech industry’s imagination. It could be the future, or it could be the latest grandiose vision by Facebook CEO Mark Zuckerberg that doesn’t turn out as expected or isn’t widely adopted for years — if at all. Plus, many have concerns about a new online world tied to a social media giant that could get access to even more personal data and is accused of failing to stop harmful content. Here’s what this online world is all about: WHAT IS THE METAVERSE? Think of it as the internet brought to life, or at least rendered in 3D. Zuckerberg has described it as a “virtual environment” you can go inside of — instead of just looking at on a screen.\n",
      "Essentially, it’s a world of endless, interconnected virtual communities where people can meet, work and play, using virtual reality headsets, augmented reality glasses, smartphone apps or other devices. It also will incorporate other aspects of online life such as shopping and social media, according to Victoria Petrock, an analyst who follows emerging technologies. “It’s the next evolution of connectivity where all of those things start to come together in a seamless, doppelganger universe, so you’re living your virtual life the same way you’re living your physical life,” she said. But keep in mind that “it’s hard to define a label to something that hasn’t been created,” said Tuong Nguyen, an analyst who tracks immersive technologies for research firm Gartner. Facebook warned it would take 10 to 15 years to develop responsible products for the metaverse, a term coined by writer Neal Stephenson for his 1992 science fiction novel “Snow Crash.” WHAT WILL I BE ABLE TO DO IN THE METAVERSE? Things like go to a virtual concert, take a trip online, and buy and try on digital clothing. The metaverse also could be a game-changer for the work-from-home shift amid the coronavirus pandemic.\n",
      "Facebook founder Mark Zuckerberg announced Thursday that the corporate name of the social media platform will change to \"Meta,\" to emphasize its \"metaverse\" vision. The flagship social network will keep its name. \"From now on we are going to be Metaverse first, not Facebook,\" Zuckerberg said during a keynote address at the company's annual developer's conference. \"I hope that people come to know the Meta brand and the future that we stand for.\" Zuckerberg said the company's future will focus on building virtual reality products that connect users through a different medium. He predicted that one billion people will be on the Metaverse in the next decade. The company describes the metaverse as a three- dimensional virtual space where users can create avatars that represent them. Zuckerberg said the new virtual reality world will allow users to play video games, watch movies, attend concerts, collaborate with colleagues, and gather with friends without leaving their living room. Zuckerberg called Facebook, which he launched from his college dorm room in 2004, \"an iconic social media company,\" but added that the name no longer \"encompasses\" everything the company does.\n",
      "When Facebook unveiled a mock-up last week of the “metaverse” — supposedly the internet of the future — it showed people transported to a psychedelic world of flying fish and friendly robots.But while even Facebook CEO Mark Zuckerberg acknowledges these kinds of experiences could be many years away, some enthusiasts argue that a more modest version of the metaverse is already here.“We’re in the early stages of the metaverse, in some ways,” Peggy Johnson, CEO of Magic Leap, told AFP at the Web Summit in Lisbon on Tuesday.Magic Leap makes augmented reality (AR) headsets, which have already been used by surgeons preparing to separate a pair of conjoined twins, and by factory supervisors carrying out site inspections.In both cases, information popped up before the users’ eyes about what they were seeing.It might not feel quite as immersive — or as kooky — as the virtual reality (VR) experiences that Zuckerberg wants to eventually bring to people’s homes. But it nonetheless blurs the divide between the physical world and the digital one, a key idea behind the metaverse.“With VR, you put on a device, and then you’re in another world,” Johnson said.\n",
      "\"These contributions are foundational components of our broader efforts to help build the metaverse,\" Schroepfer said. Zuckerberg echoed this in a statement on Facebook's blog. \"As our next CTO, Boz will continue leading Facebook Reality Labs and overseeing our work in augmented reality, virtual reality and more, and as part of this transition, a few other groups will join Boz's team as well. This is all foundational to our broader efforts helping to build the metaverse, and I'm excited about the future of this work under Boz's leadership,\" Zuckerberg wrote. Bosworth has sometimes proved a controversial figure inside Facebook. Facebook CTO Andrew Bosworth below a large photo of Mark Zuckerberg Christian Charisius/picture alliance via Getty Images Bosworth made headlines in 2018 when BuzzFeed published an internal memo he had sent around two years previously. The memo was entitled \"The Ugly,\" and in it, Bosworth appeared to justify any number of horrible things happening on Facebook, so long as the company continued to grow. \"The ugly truth is that we believe in connecting people so deeply that anything that allows us to connect more people more often is *de facto* good.\n",
      "But when all metaverse games are stored in the cloud, with labels often only visible to the children downloading them, the ability to monitor a child’s content diet becomes even more challenging. Everything on the internet can be the metaverse, but it’s not that simple As parents attempt to guide their families into a safety-first version of the metaverse, it might be helpful to understand what games are actually in the immersive component of the metaverse. Any attempt to apply a rigid definition for what is and isn’t “metaverse” is tricky because it’s more of an abstract concept that continues to evolve rather than a finite destination. “The metaverse is the Internet, enhanced and upgraded to consistently deliver 3D content, spatially organized information and experiences, and real-time synchronous communication,” wrote 3D internet pioneer Tony Parisi in his recent essay “The Seven Rules of the Metaverse.” So, in theory, when Take-Two Interactive’s CEO Strauss Zelnick appeared on CNBC this week and referred to the company’s existing roster of non-VR, non-AR games like Grand Theft Auto as part of the metaverse, technically, he’s right.\n",
      "The worry is that this technology, supposedly a pathway to the Web 3 future, is just leading to a new version of the old, Web 2 walled garden platforms. The dominant marketplace, OpenSea, for example, is very well funded by venture capital firms such as Andreessen Horowitz, which have historically made their money investing in companies that follow Web 2 centralizing strategies. What’s needed are both protocols and standards that allow for interoperable asset transfers. The first is coming by way of protocols such as Polkadot, but there also needs to be a will to build in this way and to give up on monopoly interests. Hopefully, the evangelistic spirit and the desire to maximize network effects will drive people in that direction. The metaverse? A metaverse? Everyone in NFT land is talking about the metaverse, a term first coined by author Neal Stephenson, to describe the concept of a new digital existence. NFTs are seen as a kind of “property right” building block for that idea. Now Mark Zuckerberg, CEO of the newly renamed Meta (aka Facebook), claims to be building it. But it seems antithetical to the concept that this digital place would be controlled by proprietary interests.\n",
      "What’s unique about the 2021 iteration of the metaverse is that it includes fully immersive 3D VR and AR worlds that transcend screen viewing by putting the user inside the game spatially. This is an entirely new and more personal experience that, according to a 2019 study (pdf) conducted by Facebook, can impact how bullying, harassment, and lewd content, as well as positive content, are experienced by users in the metaverse. Previous research, conducted in 2008 by Thomas Baumgartner, a neuroscientist at the University of Zurich, found distinct differences in how adult brains process VR versus the brains of children. “Adults appear to control and regulate their [VR] presence experience by critically evaluating and monitoring the presented [virtual environment] stimuli…Children on the other hand did not, or at least to a greatly reduced extent,” Baumgartner’s research team wrote. “One consequence might be that one should be more reluctant to expose children to emotional virtual stimuli as currently practiced.” Stanford professor Jeremy Bailenson, who has conducted his own research into the effects of VR on children, also suggests the metaverse is a completely different challenge compared to monitoring the effects of console video games on children.\n",
      "Wendy H. Wong is a professor of political science, the Canada research chair in global governance and civil society and the research lead of the Schwartz Reisman Institute for Technology and Society at the University of Toronto. Jamie Duncan is a PhD student at the University of Toronto’s Centre for Criminology and Sociolegal Studies and a Junior Fellow at Massey College. Mark Zuckerberg wants Facebook to be part of your metaverse. The company may be down after the recent revelations of whistle-blower Frances Haugen, but it is certainly not out. Mr. Zuckerberg recently announced Facebook will be assuming a new corporate identity known as Meta, and investing in the “metaverse” to the tune of US$10-billion. The metaverse, according to Mr. Zuckerberg, is “an embodied internet that you’re inside of rather than just looking at.” More specifically – yet still not very specific – the metaverse is a series of 3D virtual worlds that tech companies hope we will increasingly play and work within. Think of immersive, open-world gaming experiences like Minecraft or Roblox, but more expansive.\n",
      "Put on your headset and find yourself in an immersive digital world, a fantasy land where the coronavirus pandemic never happened, and where Facebook never admitted responsibility for facilitating ethnic cleansing in Myanmar.Part of what's so uncanny about Facebook's take on the metaverse – and rebranding as \"Meta\" – is that it still feels like speculative fiction. Mark Zuckerberg envisions a world straight out of the film \"Ready Player One,\" where logging on is a form of escape.Though it was meant as an opening salvo for a new era of technological achievement, Zuckerberg's presentation was mostly just alienating. The backgrounds were fully green-screened; the speakers looked like they were being held at gunpoint and even after 80 minutes the applications for this tech remain unclear.As my colleague David Morris pointed out last week, the blockchain industry has already been toying with metaverse tech. Virtual reality programs like Decentraland use non-fungible tokens (NFT) as a form of property rights – tokens are tied to 3D plots of land, which can be bought and sold on the secondary market . It's crypto as in-game currency, a gamified spin on investing.Even this feels a little \"out there.\"\n",
      "Instead of seeing co-workers on a video call grid, employees could see them virtually. Facebook has launched meeting software for companies, called Horizon Workrooms, to use with its Oculus VR headsets, though early reviews have not been great. The headsets cost $300 or more, putting the metaverse’s most cutting-edge experiences out of reach for many. For those who can afford it, users would be able, through their avatars, to flit between virtual worlds created by different companies. “A lot of the metaverse experience is going to be around being able to teleport from one experience to another,” Zuckerberg says. Tech companies still have to figure out how to connect their online platforms to each other. Making it work will require competing technology platforms to agree on a set of standards, so there aren’t “people in the Facebook metaverse and other people in the Microsoft metaverse,” Petrock said. IS FACEBOOK GOING ALL IN ON THE METAVERSE? Indeed, Zuckerberg is going big on what he sees as the next generation of the internet because he thinks it’s going to be a big part of the digital economy.\n",
      "\"From now on, we'll be metaverse first, not Facebook first,\" Zuckerberg said during the company's announcement of its rebrand. The word metaverse is a term borrowed from science-fiction. It refers to a future version of the internet, which people access using technology such as virtual-reality and augmented-reality headsets, rather than screens on phones and laptops. Under Bosworth's stewardship Facebook launched a smart glasses product together with Ray-Ban. Facebook's Ray-Ban \"Stories\" smart glasses Facebook The $299 \"Ray-Ban Stories\" glasses launched in September 2021, and allow users to capture photo and video. Bosworth shared a video taken with his own Ray-Ban Stories ahead of the product launch, which included footage of himself repeatedly throwing pillows at Mark Zuckerberg. —Boz (@boztank) September 6, 2021 In September 2021, the company announced Bosworth will take over as chief technology officer in 2022. Andrew Bosworth at the 'Online Marketing Rockstars (OMR)' fair at the fairgrounds in Hamburg, Germany, 3 March 2017 Christian Charisius/picture alliance via Getty Images Bosworth will be replacing current CTO Mike Schroepfer, marking the biggest leadership change in the company's history. In a Facebook post announcing his departure, Schroepfer talked about Bosworth's experience at Facebook's AR/VR division.\n",
      "In the week since Facebook announced its name change to Meta, the metaverse has been thrust from science fiction obscurity into the mainstream spotlight, leading Wall Street analysts, politicians, and privacy advocates to make it a part of their vocabulary. But while many now know what the metaverse is—broadly, immersive digital experiences accessed through virtual reality (VR) and augmented reality (VR) devices—its cultural import and how it may change our behaviors is less clear. This is particularly true with regard to the most vulnerable new metaverse initiates—children. Due to the metaverse’s immersive interface and virtual interactions with other users, along with largely non-uniform user safety policies across services, the technology represents a myriad of unknowns for families with young children. Protecting children in the metaverse will need to go beyond warning labels Roblox is one of the most popular gaming environments for children with over 150 million users, half of whom are under 13 years old. It serves games on traditional gaming and VR formats, where it filters chats for inappropriate language, and vigorously moderates the site for behavior that violates its guidelines. Still, this approach hasn’t become the norm in the metaverse.\n",
      "We spend our days online, but have yet to completely detach from the real world. Decentraland's native token, MANA, recently shot up in value thanks to a wave of Facebook-fueled speculation, but how many people would opt for a virtual chat in Decentraland over a face-to-face Zoom call at this point?The reality is that some of this tech is already here, in ways that make more sense with the way we live our lives now. The metaverse as it exists today doesn't require an Oculus headset, and our devices reflect this. Apple started building a LIDAR scanner into some of its iPhones in 2020, which allows for laser-guided measurements in physical space. Face filters on Instagram and Snapchat can provide convincing digital makeup for video calls ( TikTok is still at work on its own toolset). And some fashion retailers are betting on \"virtual try-on\" mechanisms for clothing purchased online, with an assist from augmented reality.The metaverse envisioned by Facebook is a kind of all-encompassing iteration on these concepts. It wants us to be more engaged, more online, while the world around us degrades.\n",
      "Facebook's incoming CTO Andrew Bosworth. Christian Charisius/picture alliance via Getty Images Andrew Bosworth is a key executive at Meta, the company formerly known as Facebook. Bosworth will become CTO of Meta next year and will play a key role in its metaverse ambitions. He has been at the company since 2006 and has become one of Mark Zuckerberg's key lieutenants. Andrew Bosworth, also known as \"Boz\" inside the company formerly known as Facebook, is lined up to play a key role in the tech giant's future. Facebook announced in October it was rebranding as Meta, a new parent company that encompasses two major businesses. The first is Facebook's traditional business of social media, the second is Reality Labs — which Meta hopes will build out CEO Mark Zuckerberg's ambitions of turning it into a \"metaverse company.\" Not only does Bosworth head up Reality Labs, next year he is set to become the chief technology officer (CTO) of Meta. Here's what you need to know about Andrew Bosworth: Bosworth told The Los Angeles Times he resided on a horse ranch and vineyard in Santa Clara County, California.\n",
      "If the hype about the metaverse is to be believed, we will soon be able to live nearly parallel lives in virtual reality: going shopping, attending concerts and work meetings, and interacting with people from all over the world. At Facebook, we’re committed to accountability and transparency – let’s collaborate to make progress Facebook has long sought to embed itself in every aspect of our lives, from archiving family photos to selling used sofas. Last month’s Facebook blackout showed that, for many people, Facebook provides essential infrastructure for their livelihoods and connecting with family and friends. For many in the Global South, Facebook is their entire experience of the internet. However, despite its outsized power, the company has repeatedly failed to protect human rights. Well-known examples include facilitating ethnic and religious violence in Myanmar and India. Some human rights critics suggest Facebook’s whole business model is a threat to human rights. We should be wary of Mr. Zuckerberg’s vision because of what we’ve learned from the Facebook Papers. These leaked documents reveal how the company has been willing to put people in harm’s way in the interest of its own bottom line.\n",
      "To the extent that the metaverse is already here, it's an attempt to complement the systems we already use. It doesn't ask us to completely reorient how we interact with each other online.In an essay for Gawker called \"The Metaverse Is for Babies,\" the writer Hanson O'Haver suggested that \"it's almost unimaginable that any adult (who doesn't run a Silicon Valley company) could be excited about [this] technology.\" The Atlantic recently ran a piece with a similarly blunt title – \"The Metaverse Is Bad\" – which likens the tech to a \"black hole of consumption\" (a little like the propagandistic billboards from the movie \"They Live\" ).There's a history of consumers pushing back against overly ambitious ideas in tech (see: Google Glass ). Meta's success or failure will depend on whether anyone is actually willing to go all-in.–Will GottsegenSponsored ContentEpiK Protocol: Calling All AI Data Labeling Domain ExpertsIt is a truism that the quality of data you can get out of a system depends on the quality of the data you put into the system.\n",
      "No problem. As they walk towards you, it could appear above their head.“Right now we’re all looking down at our mobile phones,” Johnson said. Augmented reality, she hopes, could help us to soak up the world around us — a world with extra information layered over the top of it.If that revolution arrives, the market may be a crowded one. Facebook is working on its own AR headset, while Apple is rumored to be following suit. Snapchat’s developer, Snap, is meanwhile trialing a new pair of its “Spectacles” on AR artists.What does Johnson think the metaverse will look like in 15 years?“I think you’ll go back home to pick up your glasses because you left them at home,” she predicted. “The same way you do with your mobile phone today.”\n",
      "But when people like Mr. Zuckerberg espouse their commitment to values like autonomy and community, they seem to be specifically endorsing the narrow forms of “freedom” and “connectivity” that are profitable, rather than the broader conceptions of these terms that humanity requires to truly flourish. As evidenced by Facebook’s past behaviour, commitments to human rights among the company’s leadership are more about rhetoric than reality. Mr. Zuckerberg proclaims that “norm-setting and new types of governance” will be necessary for the metaverse. His vision to date is even further removed from state-led regulation than existing social-media platforms, relying on “crypto” and interoperable private standards. The norms he refers to are guided by market logic, rather than human rights. This is why lawmakers must commit to protecting – and, ideally, enhancing – human autonomy, dignity, equality and community in the metaverse, if it is to become a part of our reality. Companies and states need to be held accountable to the core values of human rights and extend the United Nations’ Guiding Principles on Business and Human Rights to a world that isn’t bound by territoriality. The metaverse won’t be bound by physical borders and neither should our rights.\n",
      "Glenn Chapmann/AFP via Getty Images Reality Labs has undergone many name changes, having been called simply AR/VR, then Facebook Reality Labs, and now Reality Labs. Reality Labs has been responsible for producing Facebook's hardware products, including the video-calling device Facebook Portal and the Oculus VR headset. Protocol reported in July on recall documents which indicated Facebook had sold 4 million Oculus Quest 2 headsets in the US alone since its launch in September 2020. Bosworth announced alongside the wider Meta rebrand in October that the Oculus brand will be sunsetted. From 2022, the Oculus Quest headset will be named the Meta Quest. Reality Labs is set to be an integral part of Meta's metaverse ambitions. Facebook CEO Mark Zuckerberg shows off his vision for the metaverse during Facebook's Oculus Connect conference on October 28, 2021. Facebook/Handout via REUTERS When Zuckerberg announced the formation of Meta as Facebook's new parent company in October, he said the business would be split into two strands. The first is Facebook's Family of Apps, its traditional social media business, which encompasses its Facebook app, Instagram, and WhatsApp. The second and more metaverse-centric strand will be Reality Labs.\n",
      "Maybe Facebook is building a version of the metaverse, but not the metaverse. Related to the prior point, we need an open metaverse. It’s nice to see Cyprus’ University of Nicosia, which was a trailblazer in providing blockchain courses, now leading the way on this topic with its Open Metaverse Initiative. The power of celebrity No matter how open these platforms are, we’re still going to face the reality that the real centralizing of power in the art and entertainment industry lies in the power of celebrity. That was brought home with the mania stirred up by big names turning up at NFT.NYC: Quentin Tarantino, with his “Pulp Fiction” NFT drop, a sold-out performance by Kaskade, and a Bored Ape Yacht Club-sponsored event featuring The Strokes, Lil Baby, Beck, Chris Rock, Aziz Ansari and Questlove. In sum, while this conference showcased the frenetic innovation that makes NFTs a promise for a new, more decentralized digital economy, we will continue to confront some of the Old World human challenges within competing interests as the technology develops.\n",
      "In the memo, Bosworth appeared to question whether it was futile for Facebook to try to address hate speech on its platforms. Bosworth also posted the memo to his personal blog in early 2021. \"As a society we don't have a hate speech supply problem, we have a hate speech demand problem,\" Bosworth wrote. \"Online platforms don't work on the supply side because they don't control the demand side,\" he added. Alongside writing on his personal blog, Bosworth also hosts his own podcast called \"Boz to the Future.\" Andrew Bosworth's podcast \"Boz to the Future.\" Spotify/Insider Bosworth's technology podcast began in June 2021 and has featured appearances from fellow Facebook executive Chris Cox, as well as tech journalists Ina Fried and Casey Newton. Deal icon An icon in the shape of a lightning bolt. For you Close icon Two crossed lines that form an 'X'. It indicates a way to close an interaction, or dismiss a notification.\n",
      "\"Right now, our brand is so tightly linked to one product that it can't possibly represent everything that we're doing today, let alone in the future,\" Zuckerberg said. The company is also changing its stock ticker from \"FB\" to \"MVRS,\" effective December 1. In August, Zuckerberg told CBS Mornings' anchor Gayle King the metaverse is \"the next generation of the internet.\" He explained that \"instead of being an internet that we look at, right, on our mobile phones or on our computer screens, it's an internet that we are a part of, or that we can be inside of.\" While the metaverse is years away from being fully realized, Zuckerberg said in addition to technological advances, it will also require \"new forms of governance.\" The company is currently facing criticism for the lack of protections it has provided users on its suite of social media apps. Earlier this month, former Facebook employee Frances Haugen publicly came forward after leaking thousands of documents that showed company executives knew the platform helped spread misinformation for years but did not do enough to combat the negative effects.\n",
      "“There are new technologies and trends and applications that we’ve yet to discover.” Video game companies also are taking a leading role. Epic Games, the company behind the popular Fortnite video game, has raised $1 billion from investors to help with its long-term plans for building the metaverse. Game platform Roblox is another big player, outlining its vision of the metaverse as a place where “people can come together within millions of 3D experiences to learn, work, play, create and socialize.” Consumer brands are getting in on it, too. Italian fashion house Gucci collaborated in June with Roblox to sell a collection of digital-only accessories. Coca-Cola and Clinique have sold digital tokens pitched as a stepping stone to the metaverse. Zuckerberg’s embrace of the metaverse in some ways contradicts a central tenet of its biggest enthusiasts. They envision the metaverse as online culture’s liberation from tech platforms like Facebook that assumed ownership of people’s accounts, photos, posts and playlists and traded off what they gleaned from that data.\n",
      "Bosworth added there are only five or six employees who have been at Meta longer than he has. Bosworth was responsible for building the Facebook's first News Feed. Andrew Bosworth. GLENN CHAPMAN/AFP via Getty Images \"I built all the AI, the ranking, and we built the first, as far as I know, the first ranked content feed, and I built all the rank and the AI behind it,\" Bosworth told The Verge. \"It consumed me more fully than anything in life had ever consumed me,\" Bosworth told The Los Angeles Times in 2011. Bosworth also told The Los Angeles Times that the News Feed was initially met with a backlash from users, who found it too intrusive. \"That passionate outpouring of sentiment, much of it negative, was being fueled by News Feed itself. That's when I realized how big the opportunity was at Facebook. I would have preferred a fan group to a protest group, but the fact that people felt that passionately about the product at all was very humbling and eye-opening,\" Bosworth said. As Bosworth's career at Facebook progressed he went on to lead teams that built products, including Facebook Messenger and Groups.\n",
      "“If one were then to ask about 2D or non-spatialized content in the metaverse, ‘how is this different from the web?’ one reply would be: ‘It is web content, experienced in the metaverse,’” says Parisi, outlining the distinction. Using Parisi’s framework, the metaverse has been here for some time and is just now receiving mainstream attention as it moves into new, more immersive platforms like VR and AR. Over time, many parents have become familiar with popular 3D gaming worlds, played on non-immersive flat screen-based console systems and mobile devices. Some non-immersive gaming and social experiences, like Animal Crossing: New Horizons enable users to build virtual communities and share them with friends. Increasingly, some of these 2D social and gaming apps are moving into the realms of VR and AR as immersive versions of the games. In apps like Microsoft’s AltspaceVR, Facebook’s Horizons Workrooms, and Spatial, users without a VR headset and just a desktop PC or laptop can engage with fully immersed VR headset users, offering a kind of window into the immersive metaverse.\n",
      "The company’s rebrand as “Meta” is an attempt to deepen already considerable influence over our lives. The metaverse will be filled with even more data about people. We should take a lesson from how stymied we already are in regulating social media to avoid repeating these mistakes with the metaverse. Lawmakers across the globe have been playing catch-up trying to contain the ill-effects of social media, from hate speech to election manipulation. How did this happen? We failed to have a meaningful policy conversation about social media before it became central to many of our lives. We didn’t take the potential harms seriously. We mostly assumed human rights would easily “port” from analog to digital. We need to take a different approach with the metaverse. Now is the time to centre human rights in policy making regarding online platforms. This requires a holistic approach based in foresight, rather than invoking human rights in piecemeal responses to damages that have already been done. The metaverse is poised to further change life as we know it, and a renewed commitment to human rights needs to define the guardrails.\n",
      "Our system of global human rights is a relatively recent innovation itself: It was only firmly established after the Second World War. In 1948, the signatory states of the Universal Declaration of Human Rights were staring down a brave new world of their making – one that had been permanently changed by the Holocaust, nuclear bombs and the establishment of the United Nations and Bretton Woods global financial system. These states assented to a preamble and 30 articles that became the backbone of the current human rights framework that we know today. Contemporary human rights are built on the ideals of human autonomy, dignity, equality and community. The problem is that these universal rights were created in an analog context. The authors were worried about the experiences of the material world before the idea of a privately owned parallel universe was anything but science fiction. How has the digital world changed us? For one, our lives are now governed by data-intensive technologies run by profit-hungry firms. Most of what we do these days is tracked by surveillance technologies. We have nonetheless benefitted from these technologies and stand to benefit similarly from the metaverse.\n",
      "“We want to be able to move around the internet with ease, but we also want to be able to move around the internet in a way we’re not tracked and monitored,” said venture capitalist Steve Jang, a managing partner at Kindred Ventures who focuses on cryptocurrency technology. WILL THIS BE ANOTHER WAY TO GET MORE OF MY DATA? It seems clear that Facebook wants to carry its business model, which is based on using personal data to sell targeted advertising, into the metaverse. “Ads are going to continue being an important part of the strategy across the social media parts of what we do, and it will probably be a meaningful part of the metaverse, too,” Zuckerberg said in the company’s most recent earnings call. That raises fresh privacy concerns, Nguyen said, involving “all the issues that we have today, and then some we’ve yet to discover because we’re still figuring out what the metaverse will do.” Petrock she said she’s concerned about Facebook trying to lead the way into a virtual world that could require even more personal data and offer greater potential for abuse and misinformation when it hasn’t fixed those problems in its current platforms.\n",
      "He expects people to start seeing Facebook as a metaverse company in coming years rather than a social media company. A report by tech news site The Verge said Zuckerberg is looking at using Facebook’s annual virtual reality conference this coming week to announce a corporate name change, putting legacy apps like Facebook and Instagram under a metaverse-focused parent company. Facebook hasn’t commented on the report. Critics wonder if the potential pivot could be an effort to distract from the company’s crises, including antitrust crackdowns, testimony by whistleblowing former employees and concerns about its handling of misinformation. Former employee Frances Haugen, who accused Facebook’s platforms of harming children and inciting political violence, plans to testify Monday before a United Kingdom parliamentary committee looking to pass online safety legislation. IS THE METAVERSE JUST A FACEBOOK PROJECT? No. Zuckerberg has acknowledged that “no one company” will build the metaverse by itself. Just because Facebook is making a big deal about the metaverse doesn’t mean that it or another tech giant will dominate the space, Nguyen said. “There are also a lot of startups that could be potential competitors,” he said.\n",
      "((( WRTF ) — Facebook will change its brand name with a new group name called “Metaverse”. The Verge Reported on Tuesday.The name change will be revealed by Facebook CEO Mark Zuckerberg at the company’s annual Connect meeting on October 28th.Facebook said it didn’t comment on “rumors and speculation.”With the rebranding, Facebook’s social media apps will be positioned as one of many products under the parent company that also oversees groups such as Instagram, WhatsApp and Oculus, Verge reports added.The report also reflects Facebook’s focus on building the so-called Metaverse, an online world where people can move and communicate in virtual environments using a variety of devices.Report: Facebook will change name next weekSource link Report: Facebook will change name next weekThe post Report: Facebook will change name next week appeared first on Illinois News Today .\n",
      "It’s hard to find words to describe the crypto phenomenon that New York is witnessing right now. This week’s NFT.NYC conference, which was first held in February 2019 as a quirky curiosity before an audience of a few hundred early enthusiasts, was spread across six venues, with three days of programming covering 600 speakers. Some 5,500 tickets were sold – with space limitations leaving 3,000 more on the waitlist – to attendees who traded 700,000 speaker and sponsor swag NFTs. You’re reading Money Reimagined, a weekly look at the technological, economic and social events and trends that are redefining our relationship with money and transforming the global financial system. Subscribe to get the full newsletter here. There were 15 different NFT-themed billboards in Times Square. There were parties, dinners, EDM raves and digital art galleries around town, many of which boasted NFT-promoting film and music stars. And there were countless newly created projects promoting everything from royalty solutions for musicians to whisky-backed NFTs. It was a carnival of innovation, a sprawling celebration of possibility. But what is it all pointing to?\n",
      "In testimony before a congressional committee and on \"60 Minutes,\" she accused the company of putting profits over people. Facebook has denied those accusations. Zuckerberg said Thursday that \"privacy\" and \"safety\" controls need to be built into the Metaverse from day one. \"You will get to decide when you want to be with other people, when you want to block someone from appearing in your space or when you want to take a break and teleport to a private place to be alone,\" Zuckerberg said. The keynote address also featured a brief appearance from Nick Clegg, the company's vice president of global affairs. Clegg said in the past the speed with which technology advances often leaves lawmakers and regulators playing catch up. \"On the one hand the companies get accused of charging ahead too quickly, and on the other, tech people feel that progress can't afford to wait for the slower pace of regulation,\" Clegg said. He added that this time it could be different \"because we have years until the metaverse that we envision is realized.\" Sneak peek: The Murdaugh Mysteries Biden announces framework for Build Back Better Act. Now lawmakers have to finalize the details.\n",
      "Own .ART names that resolve in all web browsers and send and receive email without plug-ins or extensions. Be certain that your valuable blockchain assets are industry compliant and 100% secure.Join the fastest growing web address for creatives!Explore crypto under the .ART umbrella.Crypto is on the rise. Crypto knowledge, however, is stuck on the runway: It turns out that 96% of U.S. adults can't pass a test on crypto basics. Throughout November, Crypto Literacy Month aims to change that. Brush up on your crypto knowledge!Putting the news in perspectiveThe TakeawayThe Metaverse Is Already HereHey, Will Gottsegen today. The big takeaway from Facebook's disturbing, somnambulant keynote last week is that the company is going all-in on the \" metaverse \" – a persistent digital layer sitting on top of the real world, accessible via virtual and augmented reality technologies.The concept itself isn't new: Sci-fi authors have been prognosticating about this sort of thing for decades.\n",
      "'Regulators are still in the process of providing a clear set of rules governing its use,' said J How about Instagram? Right. So, what is Meta going to do with the data? Will it be deleted? If so, how sure are we that the data hasn’t been sold off yet? 🙄 They already made use of the data for sure and don’t want people to know how it has been used or sold.. Only reason they are shutting it down. Facebook ends facial recognition over privacy fearsSAN FRANCISCO — Scandal-hit Facebook is shutting down its long-criticized facial recognition system and deleting scan data on a billion people, it said Tuesday (Nov 2), in a shock response to privacy concerns. Facebook whistleblower Haugen urges Zuckerberg to step downLISBON — In her first public address since she leaked a trove of damaging documents about Facebook 's inner workings, whistleblower Ms Frances Haugen urged her former boss, Mr Mark Zuckerberg, to step down and allow change rather than devoting resources to a rebrand.\n",
      "It is perhaps the only area where the metrics do tell the true story as far as we are concerned,\" Bosworth wrote in the memo. \"That isn't something we are doing for ourselves. Or for our stock price (ha!). It is literally just what we do. We connect people. Period,\" he added. Zuckerberg denounced Bosworth's memo after BuzzFeed broke the story. \"Boz is a talented leader who says many provocative things. This was one that most people at Facebook including myself disagreed with strongly. We've never believed the ends justify the means,\" Zuckerberg said. During a committee hearing in front of Irish lawmakers in 2018, head of public policy at Facebook Ireland Nimah Sweeney also said Bosworth has a \"reputation for posting provocative material to get a conversation going\" inside the company. \"I think a lot of us would like to go back and hit delete before he ever managed to send that,\" Sweeney added. Documents leaked by whistleblower Frances Haugen showed that as recently as 2020, Bosworth was still writing memos about hate on Facebook's platform. Insider first reported on the August 2020 memo entitled \"Demand Side Problems,\" which was contained in a cache of documents released by Haugen.\n",
      "In the 2011 interview, he said his family have lived on the ranch since 1891, and he has tattoos of California, a grizzly bear, and golden poppies tattooed on his right forearm. Bosworth studied computer science at Harvard, where he met Mark Zuckerberg in an artificial intelligence class in 2004. Mark Zuckerberg, Harvard dropout, pictured at the Harvard University commencement in Cambridge, MA on May 25, 2017. David L. Ryan/The Boston Globe via Getty Images Bosworth was a senior when Zuckerberg was a sophomore, and Zuckerberg was assigned to Bosworth. \"He didn't attend my lessons as often as most of my students, but to be fair he was quite literally building Facebook at the time,\" Bosworth told The Los Angeles Times. Mark Zuckerberg dropped out of Harvard during his sophomore year in 2005 to focus on Facebook full-time. Bosworth left university and briefly worked at Microsoft. He started working for Facebook in 2006. In a 2021 interview with The Verge, Bosworth said his brief time at Microsoft taught him a lot about \"professional software development and management.\" He recalled to The Verge that when he joined Facebook, there were roughly 15 engineers working at the company.\n",
      "“When compared to the non-immersive VR condition (watching…a television screen), children in VR showed a significant deficit in inhibitory control,” writes Bailenson. “How children react to media is of particular concern because their prefrontal cortex, the area that is associated with emotion and behavior regulation, is not completely developed.” That is one of the central challenges facing the metaverse—immersion to such a degree that reality and fantasy are blurred to an extent that the cultural impacts of traditional 2D console gaming may pale in comparison. “It’s Fortnite on steroids,” Michigan State University media professor Rabindra Ratan told Quartz . “It’s already hard to monitor what your kids are doing, but at least you can look over their shoulder at a screen. When they’re in VR, they’re blocked off, you can’t really see what they’re doing. Parents need to understand kids’ games, what they’re playing, why they’re playing them, who they’re playing them with.\n",
      "PLUS: Binance pauses withdrawals, Facebook meta hell and more | The biggest crypto news and ideas of the dayNov. 1, 2021If you were forwarded this newsletter and would like to receive it, sign up here .Sponsored by Welcome to The Node.Questions? Feedback? We'd love to hear from you! Simply reply to this email.–Daniel KuhnToday's must-readsTop ShelfIDENTITY THEFT: Hundreds of Salvadorans say hackers opened Chivo Wallets, the bitcoin wallet developed by El Salvador's government, with their ID numbers to claim the $30 BTC incentive that President Nayib Bukele's government offered to citizens when making the cryptocurrency legal tender in September. The identity thieves are reportedly exploiting a flaw in the wallet's setup process.SQUID SQUISHED: The developers behind a crypto project inspired by Netflix's mega popular show \"Squid Game\" say they have left the project, as the price of its affiliated token crashed to nearly zero . Separately, signs point to an inside job on a recent $139 million hack of decentralized exchange Boy X Highspeed (BXH).\n",
      "In 2012, Bosworth took what was supposed to be a six-month sabbatical from the company — but instead he took over its ads business. In a 2015 interview with Wired, Bosworth said six months ahead of the planned sabbatical in 2012 Zuckerberg asked him to figure out a way to monetize ads on mobile. \"[Zuckerberg] was like: 'There are at least four billion-dollar opportunities on mobile in the next six months. You can unlock one or two. And then you can go on your vacation.' That's an insane thing to say. But I was like: 'Why not?'\" Bosworth told Wired. Two days before Bosworth was supposed to go on his sabbatical, Zuckerberg asked him to head up engineering for all Facebook's advertising products, and Bosworth accepted. Bosworth ended up taking a two-month trip and then tacked on some extra time off at the end of the year. \" I just kept taking it by halves,\" he told Wired. Bosworth ran Facebook's ads business until 2017. He has been running the company's consumer hardware division — now called Reality Labs — for the last four years. Facebook CEO Mark Zuckerberg on stage at an Oculus developers conference in 2016.\n",
      "This is as true in a basic Excel file as it is in the most advanced artificial intelligence (AI) systems.A key element to the ongoing development of these AI systems is the labeling of vast troves of data, which must be done largely by humans. The costs of this labeling can be immense in terms of the time it takes and the large number of people needed to collaborate on these projects. But a new way is emerging that combines the decentralization of blockchain with the incentive structures of crypto that can take data labeling for AI to the next level.EpiK Protocol reduces the costs of labeling AI data via a sharing economy platform based on blockchain technology.The Chaser...The NodeA newsletter from CoinDeskSee Previous EditionsCopyright © 2021 CoinDesk, All rights reserved.250 Park Avenue South New York, NY 10003, USAManage your newsletter subscriptions | Unsubscribe from all CoinDesk email\n",
      "You have to be an informed consumer right along with them.” As families transition along with Facebook and other Big Tech companies from traditional online interactions to fully immersive metaverse experiences, having a better handle on the differences can help parents better navigate this often mysterious landscape as it evolves. Here’s how some of the most popular gaming and social platforms that offer metaverse experiences: Social Metaverse Apps App Title Company Platform VRChat VRChat VR, PC AltspaceVR Microsoft VR, PC Horizon Facebook/Meta VR, PC Bigscreen VR Bigscreen, Inc. VR Rec Room Rec Room, Inc. VR, mobile, console vTime vTime Limited VR, mobile Roblox Roblox Corporation VR, AR, PC, mobile, console Spatial Spatial Systems, Inc. VR, AR, PC, mobile Metaverse Games App Title Company Platform Resident Evil 4 Capcom VR, AR, PC, mobile, console Arizona Sunshine Vertigo Games VR Walking Dead: Saints & Sinners Skydance VR, console Beat Saber Facebook/Meta VR, console Population: One Facebook/Meta VR Half-Life Alyx Valve VR Skyrim VR Bethesda Game Studios VR, console No Man’s Sky Hello Games VR, PC, console\n",
      "“Film or television or a video watched on a tablet may convey sounds and sights captured from the ‘real world,’ but when we interact with these media we are almost always aware of their artificiality. They are coming to us from screens…or devices held in our hands,” writes Bailenson in his 2018 book on VR, Experience on Demand. “But VR engulfs us…We slide occluding goggles over our eyes and cover our ears with headphones, overriding our two primary sense systems with simulated digital signals…VR is the apotheosis of every media fear and fantasy we’ve ever had.” Parents need to be aware of what their kids and playing and who they are playing with To some degree, we’ve been here before, as lawmakers have repeatedly examined the effect of video games on children. In those cases, the 2D screen-based gaming console dynamic shielded the player from the full spectrum of the game’s 3D world. But what happens when you virtually immerse the player’s entire body into the game, giving users the spatial sense that they are actually inhabiting the fictional world around them?\n",
      "Governments and legislators waited to see what would happen with social media. We shouldn’t repeat this mistake with the metaverse. Nobody can entirely predict what will happen with new technologies, but we can do a much better job adapting to them by learning from the lessons of the recent past. Regulating emerging technologies can feel like designing a plane while flying it. This is no easy feat, but a human rights-based framework offers a set of values that a large proportion of states, and an even larger share of the world’s population, can get behind. Keep your Opinions sharp and informed. Get the Opinion newsletter. Sign up today.\n",
      "on your bitcoin, paid out daily.Now is the time to unlock the full power of your crypto.Join Nexo and start earning free BTC with your friends.Overheard on CoinDesk TV ...Sound bites\"We're going to see NFTs attached to nearly every digital content that exists and … we're going to see a lot more of the entities that have commercial rights attached to them be leveraged in a substantial way. \"–NFT42 CEO Jimmy Mcnelis, on CoinDesk TV's \"First Mover. \"What others are writing...Off-Chain SignalsAnubis DAO Descends Into the Underworld After $60M Exploit ( The Defiant ) FATF says 'stablecoin' is just a marketing gimmick in latest crypto guidance ( Protos ) Bitcoin miners score their second-highest month of revenue ever with $1.72 billion in October ( The Block ) Ethereum (Not USDC) Now The Primary Collateral for Decentralized Stablecoin DAI ( Decrypt ) If you ever see an interesting piece out there, please send it my way. (You can respond to this email or write to daniel@coindesk.com .A message from .ARTGive crypto a creative touch!Couple your .ART domain name with a crypto wallet identifier:Be able to receive multiple cryptocurrencies, tokens and NFTs.\n",
      "With Facebook the early leader in metaverse technologies, it’s likely to be the portal into the space for many parents and children. But for Oculus, Facebook’s VR app platform, the safety page simply states, “While we know that children under 13 may want to use Oculus devices, we do not permit them to create accounts or use Oculus devices.” However, no direct identification or age verification is required. Instead, the company relies on the fact that users need a Facebook account—which requires them to be at least 13 years old—to use Oculus. This minor hurdle can easily be bypassed by a child using a shared family Facebook account, or a parent gifting the device and simply giving access to the child through their own account. Given recent revelation’s about how Facebook engages with young people, parents may be understandably cautious about allowing children to enter its virtual worlds. Violent video games played on consoles like XBox and PlayStation have warning labels that give parents some sense of awareness and control. Developers of games for the metaverse have adopted the same Entertainment Software Association (ESRB) warning labels common on traditional console and mobile video, games.\n",
      "'The removal of face recognition by the world's largest social media platform comes as the tech industry has faced a reckoning over the past few years over the ethics of using the technology.Critics say facial recognition - which is popular among retailers, hospitals and other businesses for security purposes - could compromise privacy, target marginalized groups and normalize intrusive surveillance.The news also comes as Facebook has been under intense scrutiny by regulators and lawmakers over user safety and a wide range of abuses on its platforms.The company, which last week renamed itself Meta, said more than one-third of Facebook 's daily active users have opted into the face recognition setting on the social media site, and the change will now delete the 'facial recognition templates' of more than 1 billion people.A Facebook spokesperson said the removal will roll out globally and is expected to be complete by December. AdDieses japanische Samurai-Küchenmesser ist das schärfste, das Sie je gesehen habenYahoo News 360The company may want to distract from its recent scandals, but its new name also reflects its ambition to be a dominate force in the internet of the future.\n",
      "“With AR, you put on a device, you’re still in your world, but we’re augmenting it with digital content.”So far, many people’s experiences of AR have been limited to playing Pokemon Go or experimenting with image filters that transplant a comical pair of ears onto someone’s face.But it is in healthcare that the true potential of AR is starting to be realized, Johnson said.“You can call in experts who can look at the same thing as you are, from another part of the world,” she said.\n",
      "Facebook cited growing societal concerns about the use of such technology for the decision. Facebook announced on Tuesday it is shutting down its facial recognition system , which automatically identifies users in photos and videos.The company cited growing societal concerns about the use of such technology.In a blog post Facebook 's vice president of artificial intelligence wrote that while the technology had many beneficial uses, 'its long-term role in society needs to be debated in the open.\n",
      "Finally, Digital Currency Group (DCG), which owns asset manager Grayscale, crypto lender Genesis and independent news outlet CoinDesk, sold $700 million of stock in a private secondary sale led by a pair of SoftBank funds.NATIONAL STAGE: Major Chinese tech giants Ant Group, Tencent and JD.com signed a \"self-regulation\" convention on NFTs with state organizations on Sunday, according to an Ant Group WeChat post and Chinese media. China's Big Tech appears to be facing increasing pressure over the companies' involvement with NFTs. Meanwhile, South African pension funds would be banned from investing in cryptocurrencies under new draft rules.A message from NexoWhen it comes to buying, borrowing or earning on your crypto, you won't find an easier, safer way to do it than Nexo .And right now, with its Referral Program you can earn $10 worth of bitcoin for each friend you refer. And the best part – your referral gets $10 in BTC, too.You can invite up to 100 friends – so you can get as much as $1,000 in bitcoin by copy-pasting a few links. And you can further bump that amount by earning up to 8% interest p.a.\n",
      "“During surgery, you can lay down digital lines where perhaps the incision is going to occur.”Founded in 2010, Magic Leap’s initial mission to bring AR to the masses generated huge hype and nearly $2.3 billion in venture funding.Early promo material imagined it being used to bring a killer whale into a gymnasium full of schoolchildren.But when Magic Leap’s first headset was finally revealed in 2018, there was widespread disappointment; the product was too bulky and expensive to catch on among the general public.The company was forced to lay off around half its staff last year.Restaurant reviews and forgotten namesJohnson, a former Microsoft executive, took over as CEO in August 2020 and pivoted towards developing the goggles for use by professionals.The Florida-based company last month announced that it has raised another $500 million in funding, with a new headset, the Magic Leap 2, set to be released in 2022.The updated version is more lightweight, but it is still set to be used mostly by people accustomed to wearing goggles at work — like surgeons performing delicate work, or defence industry specialists.Google Glass, a pair of “smart glasses” that failed to take off when they launched in 2014, has similarly re-emerged as a product aimed at professional users.Johnson predicted it might still be “a few more years” before Magic Leap or one of its competitors creates an AR headset that could feasibly be worn by consumers everywhere.But that’s the moment when Johnson predicts that AR could really transform our everyday lives.It might, she suggested, allow us to see reviews for restaurants pinging before our eyes as we walk down a street perusing the options.Forgotten someone’s name?\n",
      "It’s little coincidence that ETH jumped to new record highs this week amid the hubbub around NFT.NYC. But the question is whether this leadership will be sustained. Gas fees – the costs of transacting – are often prohibitively high on Ethereum, because of network congestion. Newcomers in the space who landed here via the conference would have been shocked to discover that the fees often exceed the value of the NFT being traded. Newer blockchains such as Flow, Avalanche and Solana are now competing to offer lower-priced transfers and attracting more NFT action. Notably, the tokens of the latter two also soared this week. When interoperability? It’s all very well for business to migrate from Ethereum to Solana, but the risk is that in doing so we just build isolated silos that do not allow people to move their assets around. To make matters worse, even within blockchains, access to the art attached to NFTs is often contingent on terms set by the marketplaces or platforms built on top of them. So, people end up being forced to stay within those environments.\n",
      "The most striking aspect of all this is how rapidly this industry has sprung up, seemingly out of nowhere, spawning new business models and inventions built on top of those new ideas. That’s what makes the evolution of this space so difficult to predict. Yet with that caveat in mind, I do think it’s worth reflecting on a few takeaways from the event, to try to make some sense of it all: The power of evangelism On our “Money Reimagined” podcast this week, Sam Ewen, head of CoinDesk Studios, used that religious term to describe how NFT enthusiasts share introductions, ideas, concepts and NFTs themselves, all of which are helping to grow the space at a rapid clip. It’s not purely altruistic because there are real tangible network effects that come from wider adoption, which boosts the value of the assets in question. But there’s also little doubt that the NFT community is truly passionate about this industry and that passion is a driver of its growth. Ethereum is king But for how much longer? There are various blockchains now servicing the NFT industry, but the undisputed king is still Ethereum.\n",
      "Neo Wang, the project's CEO, says a hacker was likely able to break into the exchange's Binance Smart Chain address after getting hold of the administrator's private key .NOT YOUR KEYS … Binance, the world's largest crypto exchange, temporarily disabled all crypto withdrawals for a time on Monday. In a tweet, the company blamed a large backlog. Meanwhile, Amazon Web Services (AWS) is looking to move into the crypto custody business with a job posting for a specialist to foster digital asset underwriting, transaction processing and custody in the cloud.BUILDING OUT, CASHING IN: Blizzard, a venture capital and incubation fund, launched with an initial seed investment of $200 million to focus on building up the Avalanche blockchain. Polychain Capital, Three Arrows Capital, Dragonfly Capital and CMS Holdings participated in the round. Separately, Three Arrows backed a $10 million investment into Ardana, a DeFi project on the Cardano blockchain.\n",
      "Football becomes form of therapy in fire-ravaged West\n",
      "Then it became more critical, due to the sanctions from the international community and U.N. - and with the COVID outbreak the situation has become more severe. \"\"North Korea is a country seeking self-sufficiency, but they can't be self sufficient. They need to trade with other countries at some level, but as long as they are limited the situation will only get worse. \"Leader Kim Jong Un has publicly acknowledged his country is in a tense food situation and South Korean intelligence reportedly believes that Kim has issued orders calling for every grain of rice to be counted, and a huge push devoted to farming.Although, they also believe the North may have a better harvest this year -- and that bringing trade with Russia and China back to pre-pandemic levels may also help. headtopics.com Read more: Yahoo Singapore » Covid-19: Healthcare system still under pressure as hospitalised patients, ICU cases continue to rise, says MOH Facebook will shut down facial recognition system Facebook Inc announced on Tuesday it is shutting down its facial recognition system which automatically identifies users in photos and videos, citing growing societal concerns about the use of such technology.\n",
      "Boost Your Body's Immune System with Turmeric Drinks and Health SupplementsKnown for its numerous health benefits, turmeric can help boost your body’s immune system Singapore's COVID-19 death rate 'very low'; healthcare system stressed but not overwhelmed: Dr PuthuchearySINGAPORE: Singapore has managed to keep the number of COVID-19 fatalities 'very low', with a death rate of 0.2 per cent compared to 3 per cent or more in countries that experienced a surge in cases before vaccination, said Senior Minister of State for Health Janil Puthucheary on Monday (Nov 1). Build more facilities... Heard from somewhere. Booster start = old people start dying also. Awesome. Facebook working on ways to protect users in the 'metaverse' -senior exec CleggFacebook Inc's head of global affairs, Nick Clegg, said the company was working on ways to protect users in the metaverse, speaking in an interview with Reuters on Tuesday.The company last week changed its name https://www.reuters.com/technology/facebooks-zuckerberg-kicks-off-its-virtual-reality-event-wit\n",
      "4 hours agoTottenham confirm appointment of Antonio Conte as new manager on 18-month contractTottenham have completed the appointment of Antonio Conte as head coach on an 18-month contract. The former Chelsea boss finalised a return to English football on Tuesday morning following talks with Spurs chairman Daniel Levy and managing director Fabio Paratici in London on Monday. Conte is due to meet Tottenham’s players and is hoping to lead training for the first time on Tuesday. 13 hours agoNorth Korea tells citizens to eat more swansThe food shortages that have gripped North Korea for years may be underlined by a new public awareness campaign there: They're telling citizens to eat swans.Black swans, specifically. The North's state-run media has recently started promoting black swan meat as a valuable food source. One party newspaper said, quote, \"black swan meat is delicious and has medicinal value,\" and that new industrial scale breeding of the birds will improve residents' lives.Kim Hyung-seok is the president of the Korean Peninsula Peace and Prosperity Institute, a think-tank in South Korea:\"It's meaningful in terms of expanding the variety of food there. \"\"North Korea's food shortages have been ongoing since its founding.\n",
      "“I don’t think they fully thought through all the pitfalls,” she said. “I worry they’re not necessarily thinking through all the privacy implications of the metaverse.”\n"
     ]
    }
   ],
   "source": [
    "# Example of key word search document retrieval\n",
    "query_string = \"what is mark zuckerberg's vision of the metaverse\"\n",
    "return_type = \"document\"\n",
    "pipe = build_pipeline(input_text=query_string, return_type=return_type)\n",
    "prediction = pipe.run(query=query_string, params={\"ESRetriever\": {\"top_k\": 100}})\n",
    "view_results(prediction=prediction)"
   ]
  },
  {
   "cell_type": "code",
   "execution_count": 77,
   "id": "963e37c8",
   "metadata": {},
   "outputs": [],
   "source": [
    "# embed documents to show how similar they are\n",
    "documents = {idx: doc.content for idx, doc in enumerate(prediction[\"documents\"])}\n",
    "embeddings = np.array([doc.embedding for doc in prediction[\"documents\"]])\n",
    "scores = {idx: doc.score for idx, doc in enumerate(prediction[\"documents\"])}\n",
    "tsne = TSNE(n_components=2, perplexity=3.9, init='random', random_state=14, n_jobs=-1)\n",
    "embeddings_reduced = tsne.fit_transform(embeddings)\n",
    "graph_data = pd.DataFrame({\n",
    "    'x': embeddings_reduced[:,0], \n",
    "    'y': embeddings_reduced[:,1], \n",
    "    'doc': documents.values(), \n",
    "    'score': scores.values()\n",
    "})"
   ]
  },
  {
   "cell_type": "code",
   "execution_count": 78,
   "id": "2574b97a",
   "metadata": {},
   "outputs": [],
   "source": [
    "# wrap long text lines\n",
    "graph_data.doc = graph_data.doc.str.wrap(50)\n",
    "graph_data.doc = graph_data.doc.apply(lambda x: x.replace('\\n', '<br>'))"
   ]
  },
  {
   "cell_type": "code",
   "execution_count": 79,
   "id": "707f29b9",
   "metadata": {},
   "outputs": [
    {
     "data": {
      "application/vnd.plotly.v1+json": {
       "config": {
        "plotlyServerURL": "https://plot.ly"
       },
       "data": [
        {
         "customdata": [
          [
           "The term “metaverse” seems to be everywhere.<br>Facebook is hiring thousands of engineers in<br>Europe to work on it, while video game companies<br>are outlining their long-term visions for what<br>some consider the next big thing online. The<br>metaverse, which could spring up again when<br>Facebook releases earnings Monday, is the latest<br>buzzword to capture the tech industry’s<br>imagination. It could be the future, or it could<br>be the latest grandiose vision by Facebook CEO<br>Mark Zuckerberg that doesn’t turn out as expected<br>or isn’t widely adopted for years — if at all.<br>Plus, many have concerns about a new online world<br>tied to a social media giant that could get access<br>to even more personal data and is accused of<br>failing to stop harmful content. Here’s what this<br>online world is all about: WHAT IS THE METAVERSE?<br>Think of it as the internet brought to life, or at<br>least rendered in 3D. Zuckerberg has described it<br>as a “virtual environment” you can go inside of —<br>instead of just looking at on a screen."
          ],
          [
           "Essentially, it’s a world of endless,<br>interconnected virtual communities where people<br>can meet, work and play, using virtual reality<br>headsets, augmented reality glasses, smartphone<br>apps or other devices. It also will incorporate<br>other aspects of online life such as shopping and<br>social media, according to Victoria Petrock, an<br>analyst who follows emerging technologies. “It’s<br>the next evolution of connectivity where all of<br>those things start to come together in a seamless,<br>doppelganger universe, so you’re living your<br>virtual life the same way you’re living your<br>physical life,” she said. But keep in mind that<br>“it’s hard to define a label to something that<br>hasn’t been created,” said Tuong Nguyen, an<br>analyst who tracks immersive technologies for<br>research firm Gartner. Facebook warned it would<br>take 10 to 15 years to develop responsible<br>products for the metaverse, a term coined by<br>writer Neal Stephenson for his 1992 science<br>fiction novel “Snow Crash.” WHAT WILL I BE ABLE TO<br>DO IN THE METAVERSE? Things like go to a virtual<br>concert, take a trip online, and buy and try on<br>digital clothing. The metaverse also could be a<br>game-changer for the work-from-home shift amid the<br>coronavirus pandemic."
          ],
          [
           "Facebook founder Mark Zuckerberg announced<br>Thursday that the corporate name of the social<br>media platform will change to \"Meta,\" to emphasize<br>its \"metaverse\" vision. The flagship social<br>network will keep its name. \"From now on we are<br>going to be Metaverse first, not Facebook,\"<br>Zuckerberg said during a keynote address at the<br>company's annual developer's conference. \"I hope<br>that people come to know the Meta brand and the<br>future that we stand for.\" Zuckerberg said the<br>company's future will focus on building virtual<br>reality products that connect users through a<br>different medium. He predicted that one billion<br>people will be on the Metaverse in the next<br>decade. The company describes the metaverse as a<br>three- dimensional virtual space where users can<br>create avatars that represent them. Zuckerberg<br>said the new virtual reality world will allow<br>users to play video games, watch movies, attend<br>concerts, collaborate with colleagues, and gather<br>with friends without leaving their living room.<br>Zuckerberg called Facebook, which he launched from<br>his college dorm room in 2004, \"an iconic social<br>media company,\" but added that the name no longer<br>\"encompasses\" everything the company does."
          ],
          [
           "When Facebook unveiled a mock-up last week of the<br>“metaverse” — supposedly the internet of the<br>future — it showed people transported to a<br>psychedelic world of flying fish and friendly<br>robots.But while even Facebook CEO Mark Zuckerberg<br>acknowledges these kinds of experiences could be<br>many years away, some enthusiasts argue that a<br>more modest version of the metaverse is already<br>here.“We’re in the early stages of the metaverse,<br>in some ways,” Peggy Johnson, CEO of Magic Leap,<br>told AFP at the Web Summit in Lisbon on<br>Tuesday.Magic Leap makes augmented reality (AR)<br>headsets, which have already been used by surgeons<br>preparing to separate a pair of conjoined twins,<br>and by factory supervisors carrying out site<br>inspections.In both cases, information popped up<br>before the users’ eyes about what they were<br>seeing.It might not feel quite as immersive — or<br>as kooky — as the virtual reality (VR) experiences<br>that Zuckerberg wants to eventually bring to<br>people’s homes. But it nonetheless blurs the<br>divide between the physical world and the digital<br>one, a key idea behind the metaverse.“With VR, you<br>put on a device, and then you’re in another<br>world,” Johnson said."
          ],
          [
           "\"These contributions are foundational components<br>of our broader efforts to help build the<br>metaverse,\" Schroepfer said. Zuckerberg echoed<br>this in a statement on Facebook's blog. \"As our<br>next CTO, Boz will continue leading Facebook<br>Reality Labs and overseeing our work in augmented<br>reality, virtual reality and more, and as part of<br>this transition, a few other groups will join<br>Boz's team as well. This is all foundational to<br>our broader efforts helping to build the<br>metaverse, and I'm excited about the future of<br>this work under Boz's leadership,\" Zuckerberg<br>wrote. Bosworth has sometimes proved a<br>controversial figure inside Facebook. Facebook CTO<br>Andrew Bosworth below a large photo of Mark<br>Zuckerberg Christian Charisius/picture alliance<br>via Getty Images Bosworth made headlines in 2018<br>when BuzzFeed published an internal memo he had<br>sent around two years previously. The memo was<br>entitled \"The Ugly,\" and in it, Bosworth appeared<br>to justify any number of horrible things happening<br>on Facebook, so long as the company continued to<br>grow. \"The ugly truth is that we believe in<br>connecting people so deeply that anything that<br>allows us to connect more people more often is *de<br>facto* good."
          ],
          [
           "But when all metaverse games are stored in the<br>cloud, with labels often only visible to the<br>children downloading them, the ability to monitor<br>a child’s content diet becomes even more<br>challenging. Everything on the internet can be the<br>metaverse, but it’s not that simple As parents<br>attempt to guide their families into a safety-<br>first version of the metaverse, it might be<br>helpful to understand what games are actually in<br>the immersive component of the metaverse. Any<br>attempt to apply a rigid definition for what is<br>and isn’t “metaverse” is tricky because it’s more<br>of an abstract concept that continues to evolve<br>rather than a finite destination. “The metaverse<br>is the Internet, enhanced and upgraded to<br>consistently deliver 3D content, spatially<br>organized information and experiences, and real-<br>time synchronous communication,” wrote 3D internet<br>pioneer Tony Parisi in his recent essay “The Seven<br>Rules of the Metaverse.” So, in theory, when Take-<br>Two Interactive’s CEO Strauss Zelnick appeared on<br>CNBC this week and referred to the company’s<br>existing roster of non-VR, non-AR games like Grand<br>Theft Auto as part of the metaverse, technically,<br>he’s right."
          ],
          [
           "The worry is that this technology, supposedly a<br>pathway to the Web 3 future, is just leading to a<br>new version of the old, Web 2 walled garden<br>platforms. The dominant marketplace, OpenSea, for<br>example, is very well funded by venture capital<br>firms such as Andreessen Horowitz, which have<br>historically made their money investing in<br>companies that follow Web 2 centralizing<br>strategies. What’s needed are both protocols and<br>standards that allow for interoperable asset<br>transfers. The first is coming by way of protocols<br>such as Polkadot, but there also needs to be a<br>will to build in this way and to give up on<br>monopoly interests. Hopefully, the evangelistic<br>spirit and the desire to maximize network effects<br>will drive people in that direction. The<br>metaverse? A metaverse? Everyone in NFT land is<br>talking about the metaverse, a term first coined<br>by author Neal Stephenson, to describe the concept<br>of a new digital existence. NFTs are seen as a<br>kind of “property right” building block for that<br>idea. Now Mark Zuckerberg, CEO of the newly<br>renamed Meta (aka Facebook), claims to be building<br>it. But it seems antithetical to the concept that<br>this digital place would be controlled by<br>proprietary interests."
          ],
          [
           "What’s unique about the 2021 iteration of the<br>metaverse is that it includes fully immersive 3D<br>VR and AR worlds that transcend screen viewing by<br>putting the user inside the game spatially. This<br>is an entirely new and more personal experience<br>that, according to a 2019 study (pdf) conducted by<br>Facebook, can impact how bullying, harassment, and<br>lewd content, as well as positive content, are<br>experienced by users in the metaverse. Previous<br>research, conducted in 2008 by Thomas Baumgartner,<br>a neuroscientist at the University of Zurich,<br>found distinct differences in how adult brains<br>process VR versus the brains of children. “Adults<br>appear to control and regulate their [VR] presence<br>experience by critically evaluating and monitoring<br>the presented [virtual environment]<br>stimuli…Children on the other hand did not, or at<br>least to a greatly reduced extent,” Baumgartner’s<br>research team wrote. “One consequence might be<br>that one should be more reluctant to expose<br>children to emotional virtual stimuli as currently<br>practiced.” Stanford professor Jeremy Bailenson,<br>who has conducted his own research into the<br>effects of VR on children, also suggests the<br>metaverse is a completely different challenge<br>compared to monitoring the effects of console<br>video games on children."
          ],
          [
           "Wendy H. Wong is a professor of political science,<br>the Canada research chair in global governance and<br>civil society and the research lead of the<br>Schwartz Reisman Institute for Technology and<br>Society at the University of Toronto. Jamie Duncan<br>is a PhD student at the University of Toronto’s<br>Centre for Criminology and Sociolegal Studies and<br>a Junior Fellow at Massey College. Mark Zuckerberg<br>wants Facebook to be part of your metaverse. The<br>company may be down after the recent revelations<br>of whistle-blower Frances Haugen, but it is<br>certainly not out. Mr. Zuckerberg recently<br>announced Facebook will be assuming a new<br>corporate identity known as Meta, and investing in<br>the “metaverse” to the tune of US$10-billion. The<br>metaverse, according to Mr. Zuckerberg, is “an<br>embodied internet that you’re inside of rather<br>than just looking at.” More specifically – yet<br>still not very specific – the metaverse is a<br>series of 3D virtual worlds that tech companies<br>hope we will increasingly play and work within.<br>Think of immersive, open-world gaming experiences<br>like Minecraft or Roblox, but more expansive."
          ],
          [
           "Put on your headset and find yourself in an<br>immersive digital world, a fantasy land where the<br>coronavirus pandemic never happened, and where<br>Facebook never admitted responsibility for<br>facilitating ethnic cleansing in Myanmar.Part of<br>what's so uncanny about Facebook's take on the<br>metaverse – and rebranding as \"Meta\" – is that it<br>still feels like speculative fiction. Mark<br>Zuckerberg envisions a world straight out of the<br>film \"Ready Player One,\" where logging on is a<br>form of escape.Though it was meant as an opening<br>salvo for a new era of technological achievement,<br>Zuckerberg's presentation was mostly just<br>alienating. The backgrounds were fully green-<br>screened; the speakers looked like they were being<br>held at gunpoint and even after 80 minutes the<br>applications for this tech remain unclear.As my<br>colleague David Morris pointed out last week, the<br>blockchain industry has already been toying with<br>metaverse tech. Virtual reality programs like<br>Decentraland use non-fungible tokens (NFT) as a<br>form of property rights – tokens are tied to 3D<br>plots of land, which can be bought and sold on the<br>secondary market . It's crypto as in-game<br>currency, a gamified spin on investing.Even this<br>feels a little \"out there.\""
          ],
          [
           "Instead of seeing co-workers on a video call grid,<br>employees could see them virtually. Facebook has<br>launched meeting software for companies, called<br>Horizon Workrooms, to use with its Oculus VR<br>headsets, though early reviews have not been<br>great. The headsets cost $300 or more, putting the<br>metaverse’s most cutting-edge experiences out of<br>reach for many. For those who can afford it, users<br>would be able, through their avatars, to flit<br>between virtual worlds created by different<br>companies. “A lot of the metaverse experience is<br>going to be around being able to teleport from one<br>experience to another,” Zuckerberg says. Tech<br>companies still have to figure out how to connect<br>their online platforms to each other. Making it<br>work will require competing technology platforms<br>to agree on a set of standards, so there aren’t<br>“people in the Facebook metaverse and other people<br>in the Microsoft metaverse,” Petrock said. IS<br>FACEBOOK GOING ALL IN ON THE METAVERSE? Indeed,<br>Zuckerberg is going big on what he sees as the<br>next generation of the internet because he thinks<br>it’s going to be a big part of the digital<br>economy."
          ],
          [
           "\"From now on, we'll be metaverse first, not<br>Facebook first,\" Zuckerberg said during the<br>company's announcement of its rebrand. The word<br>metaverse is a term borrowed from science-fiction.<br>It refers to a future version of the internet,<br>which people access using technology such as<br>virtual-reality and augmented-reality headsets,<br>rather than screens on phones and laptops. Under<br>Bosworth's stewardship Facebook launched a smart<br>glasses product together with Ray-Ban. Facebook's<br>Ray-Ban \"Stories\" smart glasses Facebook The $299<br>\"Ray-Ban Stories\" glasses launched in September<br>2021, and allow users to capture photo and video.<br>Bosworth shared a video taken with his own Ray-Ban<br>Stories ahead of the product launch, which<br>included footage of himself repeatedly throwing<br>pillows at Mark Zuckerberg. —Boz (@boztank)<br>September 6, 2021 In September 2021, the company<br>announced Bosworth will take over as chief<br>technology officer in 2022. Andrew Bosworth at the<br>'Online Marketing Rockstars (OMR)' fair at the<br>fairgrounds in Hamburg, Germany, 3 March 2017<br>Christian Charisius/picture alliance via Getty<br>Images Bosworth will be replacing current CTO Mike<br>Schroepfer, marking the biggest leadership change<br>in the company's history. In a Facebook post<br>announcing his departure, Schroepfer talked about<br>Bosworth's experience at Facebook's AR/VR<br>division."
          ],
          [
           "In the week since Facebook announced its name<br>change to Meta, the metaverse has been thrust from<br>science fiction obscurity into the mainstream<br>spotlight, leading Wall Street analysts,<br>politicians, and privacy advocates to make it a<br>part of their vocabulary. But while many now know<br>what the metaverse is—broadly, immersive digital<br>experiences accessed through virtual reality (VR)<br>and augmented reality (VR) devices—its cultural<br>import and how it may change our behaviors is less<br>clear. This is particularly true with regard to<br>the most vulnerable new metaverse<br>initiates—children. Due to the metaverse’s<br>immersive interface and virtual interactions with<br>other users, along with largely non-uniform user<br>safety policies across services, the technology<br>represents a myriad of unknowns for families with<br>young children. Protecting children in the<br>metaverse will need to go beyond warning labels<br>Roblox is one of the most popular gaming<br>environments for children with over 150 million<br>users, half of whom are under 13 years old. It<br>serves games on traditional gaming and VR formats,<br>where it filters chats for inappropriate language,<br>and vigorously moderates the site for behavior<br>that violates its guidelines. Still, this approach<br>hasn’t become the norm in the metaverse."
          ],
          [
           "We spend our days online, but have yet to<br>completely detach from the real world.<br>Decentraland's native token, MANA, recently shot<br>up in value thanks to a wave of Facebook-fueled<br>speculation, but how many people would opt for a<br>virtual chat in Decentraland over a face-to-face<br>Zoom call at this point?The reality is that some<br>of this tech is already here, in ways that make<br>more sense with the way we live our lives now. The<br>metaverse as it exists today doesn't require an<br>Oculus headset, and our devices reflect this.<br>Apple started building a LIDAR scanner into some<br>of its iPhones in 2020, which allows for laser-<br>guided measurements in physical space. Face<br>filters on Instagram and Snapchat can provide<br>convincing digital makeup for video calls ( TikTok<br>is still at work on its own toolset). And some<br>fashion retailers are betting on \"virtual try-on\"<br>mechanisms for clothing purchased online, with an<br>assist from augmented reality.The metaverse<br>envisioned by Facebook is a kind of all-<br>encompassing iteration on these concepts. It wants<br>us to be more engaged, more online, while the<br>world around us degrades."
          ],
          [
           "Facebook's incoming CTO Andrew Bosworth. Christian<br>Charisius/picture alliance via Getty Images Andrew<br>Bosworth is a key executive at Meta, the company<br>formerly known as Facebook. Bosworth will become<br>CTO of Meta next year and will play a key role in<br>its metaverse ambitions. He has been at the<br>company since 2006 and has become one of Mark<br>Zuckerberg's key lieutenants. Andrew Bosworth,<br>also known as \"Boz\" inside the company formerly<br>known as Facebook, is lined up to play a key role<br>in the tech giant's future. Facebook announced in<br>October it was rebranding as Meta, a new parent<br>company that encompasses two major businesses. The<br>first is Facebook's traditional business of social<br>media, the second is Reality Labs — which Meta<br>hopes will build out CEO Mark Zuckerberg's<br>ambitions of turning it into a \"metaverse<br>company.\" Not only does Bosworth head up Reality<br>Labs, next year he is set to become the chief<br>technology officer (CTO) of Meta. Here's what you<br>need to know about Andrew Bosworth: Bosworth told<br>The Los Angeles Times he resided on a horse ranch<br>and vineyard in Santa Clara County, California."
          ],
          [
           "If the hype about the metaverse is to be believed,<br>we will soon be able to live nearly parallel lives<br>in virtual reality: going shopping, attending<br>concerts and work meetings, and interacting with<br>people from all over the world. At Facebook, we’re<br>committed to accountability and transparency –<br>let’s collaborate to make progress Facebook has<br>long sought to embed itself in every aspect of our<br>lives, from archiving family photos to selling<br>used sofas. Last month’s Facebook blackout showed<br>that, for many people, Facebook provides essential<br>infrastructure for their livelihoods and<br>connecting with family and friends. For many in<br>the Global South, Facebook is their entire<br>experience of the internet. However, despite its<br>outsized power, the company has repeatedly failed<br>to protect human rights. Well-known examples<br>include facilitating ethnic and religious violence<br>in Myanmar and India. Some human rights critics<br>suggest Facebook’s whole business model is a<br>threat to human rights. We should be wary of Mr.<br>Zuckerberg’s vision because of what we’ve learned<br>from the Facebook Papers. These leaked documents<br>reveal how the company has been willing to put<br>people in harm’s way in the interest of its own<br>bottom line."
          ],
          [
           "To the extent that the metaverse is already here,<br>it's an attempt to complement the systems we<br>already use. It doesn't ask us to completely<br>reorient how we interact with each other online.In<br>an essay for Gawker called \"The Metaverse Is for<br>Babies,\" the writer Hanson O'Haver suggested that<br>\"it's almost unimaginable that any adult (who<br>doesn't run a Silicon Valley company) could be<br>excited about [this] technology.\" The Atlantic<br>recently ran a piece with a similarly blunt title<br>– \"The Metaverse Is Bad\" – which likens the tech<br>to a \"black hole of consumption\" (a little like<br>the propagandistic billboards from the movie \"They<br>Live\" ).There's a history of consumers pushing<br>back against overly ambitious ideas in tech (see:<br>Google Glass ). Meta's success or failure will<br>depend on whether anyone is actually willing to go<br>all-in.–Will GottsegenSponsored ContentEpiK<br>Protocol: Calling All AI Data Labeling Domain<br>ExpertsIt is a truism that the quality of data you<br>can get out of a system depends on the quality of<br>the data you put into the system."
          ],
          [
           "No problem. As they walk towards you, it could<br>appear above their head.“Right now we’re all<br>looking down at our mobile phones,” Johnson said.<br>Augmented reality, she hopes, could help us to<br>soak up the world around us — a world with extra<br>information layered over the top of it.If that<br>revolution arrives, the market may be a crowded<br>one. Facebook is working on its own AR headset,<br>while Apple is rumored to be following suit.<br>Snapchat’s developer, Snap, is meanwhile trialing<br>a new pair of its “Spectacles” on AR artists.What<br>does Johnson think the metaverse will look like in<br>15 years?“I think you’ll go back home to pick up<br>your glasses because you left them at home,” she<br>predicted. “The same way you do with your mobile<br>phone today.”"
          ],
          [
           "But when people like Mr. Zuckerberg espouse their<br>commitment to values like autonomy and community,<br>they seem to be specifically endorsing the narrow<br>forms of “freedom” and “connectivity” that are<br>profitable, rather than the broader conceptions of<br>these terms that humanity requires to truly<br>flourish. As evidenced by Facebook’s past<br>behaviour, commitments to human rights among the<br>company’s leadership are more about rhetoric than<br>reality. Mr. Zuckerberg proclaims that “norm-<br>setting and new types of governance” will be<br>necessary for the metaverse. His vision to date is<br>even further removed from state-led regulation<br>than existing social-media platforms, relying on<br>“crypto” and interoperable private standards. The<br>norms he refers to are guided by market logic,<br>rather than human rights. This is why lawmakers<br>must commit to protecting – and, ideally,<br>enhancing – human autonomy, dignity, equality and<br>community in the metaverse, if it is to become a<br>part of our reality. Companies and states need to<br>be held accountable to the core values of human<br>rights and extend the United Nations’ Guiding<br>Principles on Business and Human Rights to a world<br>that isn’t bound by territoriality. The metaverse<br>won’t be bound by physical borders and neither<br>should our rights."
          ],
          [
           "Glenn Chapmann/AFP via Getty Images Reality Labs<br>has undergone many name changes, having been<br>called simply AR/VR, then Facebook Reality Labs,<br>and now Reality Labs. Reality Labs has been<br>responsible for producing Facebook's hardware<br>products, including the video-calling device<br>Facebook Portal and the Oculus VR headset.<br>Protocol reported in July on recall documents<br>which indicated Facebook had sold 4 million Oculus<br>Quest 2 headsets in the US alone since its launch<br>in September 2020. Bosworth announced alongside<br>the wider Meta rebrand in October that the Oculus<br>brand will be sunsetted. From 2022, the Oculus<br>Quest headset will be named the Meta Quest.<br>Reality Labs is set to be an integral part of<br>Meta's metaverse ambitions. Facebook CEO Mark<br>Zuckerberg shows off his vision for the metaverse<br>during Facebook's Oculus Connect conference on<br>October 28, 2021. Facebook/Handout via REUTERS<br>When Zuckerberg announced the formation of Meta as<br>Facebook's new parent company in October, he said<br>the business would be split into two strands. The<br>first is Facebook's Family of Apps, its<br>traditional social media business, which<br>encompasses its Facebook app, Instagram, and<br>WhatsApp. The second and more metaverse-centric<br>strand will be Reality Labs."
          ],
          [
           "Maybe Facebook is building a version of the<br>metaverse, but not the metaverse. Related to the<br>prior point, we need an open metaverse. It’s nice<br>to see Cyprus’ University of Nicosia, which was a<br>trailblazer in providing blockchain courses, now<br>leading the way on this topic with its Open<br>Metaverse Initiative. The power of celebrity No<br>matter how open these platforms are, we’re still<br>going to face the reality that the real<br>centralizing of power in the art and entertainment<br>industry lies in the power of celebrity. That was<br>brought home with the mania stirred up by big<br>names turning up at NFT.NYC: Quentin Tarantino,<br>with his “Pulp Fiction” NFT drop, a sold-out<br>performance by Kaskade, and a Bored Ape Yacht<br>Club-sponsored event featuring The Strokes, Lil<br>Baby, Beck, Chris Rock, Aziz Ansari and Questlove.<br>In sum, while this conference showcased the<br>frenetic innovation that makes NFTs a promise for<br>a new, more decentralized digital economy, we will<br>continue to confront some of the Old World human<br>challenges within competing interests as the<br>technology develops."
          ],
          [
           "In the memo, Bosworth appeared to question whether<br>it was futile for Facebook to try to address hate<br>speech on its platforms. Bosworth also posted the<br>memo to his personal blog in early 2021. \"As a<br>society we don't have a hate speech supply<br>problem, we have a hate speech demand problem,\"<br>Bosworth wrote. \"Online platforms don't work on<br>the supply side because they don't control the<br>demand side,\" he added. Alongside writing on his<br>personal blog, Bosworth also hosts his own podcast<br>called \"Boz to the Future.\" Andrew Bosworth's<br>podcast \"Boz to the Future.\" Spotify/Insider<br>Bosworth's technology podcast began in June 2021<br>and has featured appearances from fellow Facebook<br>executive Chris Cox, as well as tech journalists<br>Ina Fried and Casey Newton. Deal icon An icon in<br>the shape of a lightning bolt. For you Close icon<br>Two crossed lines that form an 'X'. It indicates a<br>way to close an interaction, or dismiss a<br>notification."
          ],
          [
           "\"Right now, our brand is so tightly linked to one<br>product that it can't possibly represent<br>everything that we're doing today, let alone in<br>the future,\" Zuckerberg said. The company is also<br>changing its stock ticker from \"FB\" to \"MVRS,\"<br>effective December 1. In August, Zuckerberg told<br>CBS Mornings' anchor Gayle King the metaverse is<br>\"the next generation of the internet.\" He<br>explained that \"instead of being an internet that<br>we look at, right, on our mobile phones or on our<br>computer screens, it's an internet that we are a<br>part of, or that we can be inside of.\" While the<br>metaverse is years away from being fully realized,<br>Zuckerberg said in addition to technological<br>advances, it will also require \"new forms of<br>governance.\" The company is currently facing<br>criticism for the lack of protections it has<br>provided users on its suite of social media apps.<br>Earlier this month, former Facebook employee<br>Frances Haugen publicly came forward after leaking<br>thousands of documents that showed company<br>executives knew the platform helped spread<br>misinformation for years but did not do enough to<br>combat the negative effects."
          ],
          [
           "“There are new technologies and trends and<br>applications that we’ve yet to discover.” Video<br>game companies also are taking a leading role.<br>Epic Games, the company behind the popular<br>Fortnite video game, has raised $1 billion from<br>investors to help with its long-term plans for<br>building the metaverse. Game platform Roblox is<br>another big player, outlining its vision of the<br>metaverse as a place where “people can come<br>together within millions of 3D experiences to<br>learn, work, play, create and socialize.” Consumer<br>brands are getting in on it, too. Italian fashion<br>house Gucci collaborated in June with Roblox to<br>sell a collection of digital-only accessories.<br>Coca-Cola and Clinique have sold digital tokens<br>pitched as a stepping stone to the metaverse.<br>Zuckerberg’s embrace of the metaverse in some ways<br>contradicts a central tenet of its biggest<br>enthusiasts. They envision the metaverse as online<br>culture’s liberation from tech platforms like<br>Facebook that assumed ownership of people’s<br>accounts, photos, posts and playlists and traded<br>off what they gleaned from that data."
          ],
          [
           "Bosworth added there are only five or six<br>employees who have been at Meta longer than he<br>has. Bosworth was responsible for building the<br>Facebook's first News Feed. Andrew Bosworth. GLENN<br>CHAPMAN/AFP via Getty Images \"I built all the AI,<br>the ranking, and we built the first, as far as I<br>know, the first ranked content feed, and I built<br>all the rank and the AI behind it,\" Bosworth told<br>The Verge. \"It consumed me more fully than<br>anything in life had ever consumed me,\" Bosworth<br>told The Los Angeles Times in 2011. Bosworth also<br>told The Los Angeles Times that the News Feed was<br>initially met with a backlash from users, who<br>found it too intrusive. \"That passionate<br>outpouring of sentiment, much of it negative, was<br>being fueled by News Feed itself. That's when I<br>realized how big the opportunity was at Facebook.<br>I would have preferred a fan group to a protest<br>group, but the fact that people felt that<br>passionately about the product at all was very<br>humbling and eye-opening,\" Bosworth said. As<br>Bosworth's career at Facebook progressed he went<br>on to lead teams that built products, including<br>Facebook Messenger and Groups."
          ],
          [
           "“If one were then to ask about 2D or non-<br>spatialized content in the metaverse, ‘how is this<br>different from the web?’ one reply would be: ‘It<br>is web content, experienced in the metaverse,’”<br>says Parisi, outlining the distinction. Using<br>Parisi’s framework, the metaverse has been here<br>for some time and is just now receiving mainstream<br>attention as it moves into new, more immersive<br>platforms like VR and AR. Over time, many parents<br>have become familiar with popular 3D gaming<br>worlds, played on non-immersive flat screen-based<br>console systems and mobile devices. Some non-<br>immersive gaming and social experiences, like<br>Animal Crossing: New Horizons enable users to<br>build virtual communities and share them with<br>friends. Increasingly, some of these 2D social and<br>gaming apps are moving into the realms of VR and<br>AR as immersive versions of the games. In apps<br>like Microsoft’s AltspaceVR, Facebook’s Horizons<br>Workrooms, and Spatial, users without a VR headset<br>and just a desktop PC or laptop can engage with<br>fully immersed VR headset users, offering a kind<br>of window into the immersive metaverse."
          ],
          [
           "The company’s rebrand as “Meta” is an attempt to<br>deepen already considerable influence over our<br>lives. The metaverse will be filled with even more<br>data about people. We should take a lesson from<br>how stymied we already are in regulating social<br>media to avoid repeating these mistakes with the<br>metaverse. Lawmakers across the globe have been<br>playing catch-up trying to contain the ill-effects<br>of social media, from hate speech to election<br>manipulation. How did this happen? We failed to<br>have a meaningful policy conversation about social<br>media before it became central to many of our<br>lives. We didn’t take the potential harms<br>seriously. We mostly assumed human rights would<br>easily “port” from analog to digital. We need to<br>take a different approach with the metaverse. Now<br>is the time to centre human rights in policy<br>making regarding online platforms. This requires a<br>holistic approach based in foresight, rather than<br>invoking human rights in piecemeal responses to<br>damages that have already been done. The metaverse<br>is poised to further change life as we know it,<br>and a renewed commitment to human rights needs to<br>define the guardrails."
          ],
          [
           "Our system of global human rights is a relatively<br>recent innovation itself: It was only firmly<br>established after the Second World War. In 1948,<br>the signatory states of the Universal Declaration<br>of Human Rights were staring down a brave new<br>world of their making – one that had been<br>permanently changed by the Holocaust, nuclear<br>bombs and the establishment of the United Nations<br>and Bretton Woods global financial system. These<br>states assented to a preamble and 30 articles that<br>became the backbone of the current human rights<br>framework that we know today. Contemporary human<br>rights are built on the ideals of human autonomy,<br>dignity, equality and community. The problem is<br>that these universal rights were created in an<br>analog context. The authors were worried about the<br>experiences of the material world before the idea<br>of a privately owned parallel universe was<br>anything but science fiction. How has the digital<br>world changed us? For one, our lives are now<br>governed by data-intensive technologies run by<br>profit-hungry firms. Most of what we do these days<br>is tracked by surveillance technologies. We have<br>nonetheless benefitted from these technologies and<br>stand to benefit similarly from the metaverse."
          ],
          [
           "“We want to be able to move around the internet<br>with ease, but we also want to be able to move<br>around the internet in a way we’re not tracked and<br>monitored,” said venture capitalist Steve Jang, a<br>managing partner at Kindred Ventures who focuses<br>on cryptocurrency technology. WILL THIS BE ANOTHER<br>WAY TO GET MORE OF MY DATA? It seems clear that<br>Facebook wants to carry its business model, which<br>is based on using personal data to sell targeted<br>advertising, into the metaverse. “Ads are going to<br>continue being an important part of the strategy<br>across the social media parts of what we do, and<br>it will probably be a meaningful part of the<br>metaverse, too,” Zuckerberg said in the company’s<br>most recent earnings call. That raises fresh<br>privacy concerns, Nguyen said, involving “all the<br>issues that we have today, and then some we’ve yet<br>to discover because we’re still figuring out what<br>the metaverse will do.” Petrock she said she’s<br>concerned about Facebook trying to lead the way<br>into a virtual world that could require even more<br>personal data and offer greater potential for<br>abuse and misinformation when it hasn’t fixed<br>those problems in its current platforms."
          ],
          [
           "He expects people to start seeing Facebook as a<br>metaverse company in coming years rather than a<br>social media company. A report by tech news site<br>The Verge said Zuckerberg is looking at using<br>Facebook’s annual virtual reality conference this<br>coming week to announce a corporate name change,<br>putting legacy apps like Facebook and Instagram<br>under a metaverse-focused parent company. Facebook<br>hasn’t commented on the report. Critics wonder if<br>the potential pivot could be an effort to distract<br>from the company’s crises, including antitrust<br>crackdowns, testimony by whistleblowing former<br>employees and concerns about its handling of<br>misinformation. Former employee Frances Haugen,<br>who accused Facebook’s platforms of harming<br>children and inciting political violence, plans to<br>testify Monday before a United Kingdom<br>parliamentary committee looking to pass online<br>safety legislation. IS THE METAVERSE JUST A<br>FACEBOOK PROJECT? No. Zuckerberg has acknowledged<br>that “no one company” will build the metaverse by<br>itself. Just because Facebook is making a big deal<br>about the metaverse doesn’t mean that it or<br>another tech giant will dominate the space, Nguyen<br>said. “There are also a lot of startups that could<br>be potential competitors,” he said."
          ],
          [
           "((( WRTF ) — Facebook will change its brand name<br>with a new group name called “Metaverse”. The<br>Verge Reported on Tuesday.The name change will be<br>revealed by Facebook CEO Mark Zuckerberg at the<br>company’s annual Connect meeting on October<br>28th.Facebook said it didn’t comment on “rumors<br>and speculation.”With the rebranding, Facebook’s<br>social media apps will be positioned as one of<br>many products under the parent company that also<br>oversees groups such as Instagram, WhatsApp and<br>Oculus, Verge reports added.The report also<br>reflects Facebook’s focus on building the so-<br>called Metaverse, an online world where people can<br>move and communicate in virtual environments using<br>a variety of devices.Report: Facebook will change<br>name next weekSource link Report: Facebook will<br>change name next weekThe post Report: Facebook<br>will change name next week appeared first on<br>Illinois News Today ."
          ],
          [
           "It’s hard to find words to describe the crypto<br>phenomenon that New York is witnessing right now.<br>This week’s NFT.NYC conference, which was first<br>held in February 2019 as a quirky curiosity before<br>an audience of a few hundred early enthusiasts,<br>was spread across six venues, with three days of<br>programming covering 600 speakers. Some 5,500<br>tickets were sold – with space limitations leaving<br>3,000 more on the waitlist – to attendees who<br>traded 700,000 speaker and sponsor swag NFTs.<br>You’re reading Money Reimagined, a weekly look at<br>the technological, economic and social events and<br>trends that are redefining our relationship with<br>money and transforming the global financial<br>system. Subscribe to get the full newsletter here.<br>There were 15 different NFT-themed billboards in<br>Times Square. There were parties, dinners, EDM<br>raves and digital art galleries around town, many<br>of which boasted NFT-promoting film and music<br>stars. And there were countless newly created<br>projects promoting everything from royalty<br>solutions for musicians to whisky-backed NFTs. It<br>was a carnival of innovation, a sprawling<br>celebration of possibility. But what is it all<br>pointing to?"
          ],
          [
           "In testimony before a congressional committee and<br>on \"60 Minutes,\" she accused the company of<br>putting profits over people. Facebook has denied<br>those accusations. Zuckerberg said Thursday that<br>\"privacy\" and \"safety\" controls need to be built<br>into the Metaverse from day one. \"You will get to<br>decide when you want to be with other people, when<br>you want to block someone from appearing in your<br>space or when you want to take a break and<br>teleport to a private place to be alone,\"<br>Zuckerberg said. The keynote address also featured<br>a brief appearance from Nick Clegg, the company's<br>vice president of global affairs. Clegg said in<br>the past the speed with which technology advances<br>often leaves lawmakers and regulators playing<br>catch up. \"On the one hand the companies get<br>accused of charging ahead too quickly, and on the<br>other, tech people feel that progress can't afford<br>to wait for the slower pace of regulation,\" Clegg<br>said. He added that this time it could be<br>different \"because we have years until the<br>metaverse that we envision is realized.\" Sneak<br>peek: The Murdaugh Mysteries Biden announces<br>framework for Build Back Better Act. Now lawmakers<br>have to finalize the details."
          ],
          [
           "Own .ART names that resolve in all web browsers<br>and send and receive email without plug-ins or<br>extensions. Be certain that your valuable<br>blockchain assets are industry compliant and 100%<br>secure.Join the fastest growing web address for<br>creatives!Explore crypto under the .ART<br>umbrella.Crypto is on the rise. Crypto knowledge,<br>however, is stuck on the runway: It turns out that<br>96% of U.S. adults can't pass a test on crypto<br>basics. Throughout November, Crypto Literacy Month<br>aims to change that. Brush up on your crypto<br>knowledge!Putting the news in perspectiveThe<br>TakeawayThe Metaverse Is Already HereHey, Will<br>Gottsegen today. The big takeaway from Facebook's<br>disturbing, somnambulant keynote last week is that<br>the company is going all-in on the \" metaverse \" –<br>a persistent digital layer sitting on top of the<br>real world, accessible via virtual and augmented<br>reality technologies.The concept itself isn't new:<br>Sci-fi authors have been prognosticating about<br>this sort of thing for decades."
          ],
          [
           "'Regulators are still in the process of providing<br>a clear set of rules governing its use,' said J<br>How about Instagram? Right. So, what is Meta going<br>to do with the data? Will it be deleted? If so,<br>how sure are we that the data hasn’t been sold off<br>yet? 🙄 They already made use of the data for sure<br>and don’t want people to know how it has been used<br>or sold.. Only reason they are shutting it down.<br>Facebook ends facial recognition over privacy<br>fearsSAN FRANCISCO — Scandal-hit Facebook is<br>shutting down its long-criticized facial<br>recognition system and deleting scan data on a<br>billion people, it said Tuesday (Nov 2), in a<br>shock response to privacy concerns. Facebook<br>whistleblower Haugen urges Zuckerberg to step<br>downLISBON — In her first public address since she<br>leaked a trove of damaging documents about<br>Facebook 's inner workings, whistleblower Ms<br>Frances Haugen urged her former boss, Mr Mark<br>Zuckerberg, to step down and allow change rather<br>than devoting resources to a rebrand."
          ],
          [
           "It is perhaps the only area where the metrics do<br>tell the true story as far as we are concerned,\"<br>Bosworth wrote in the memo. \"That isn't something<br>we are doing for ourselves. Or for our stock price<br>(ha!). It is literally just what we do. We connect<br>people. Period,\" he added. Zuckerberg denounced<br>Bosworth's memo after BuzzFeed broke the story.<br>\"Boz is a talented leader who says many<br>provocative things. This was one that most people<br>at Facebook including myself disagreed with<br>strongly. We've never believed the ends justify<br>the means,\" Zuckerberg said. During a committee<br>hearing in front of Irish lawmakers in 2018, head<br>of public policy at Facebook Ireland Nimah Sweeney<br>also said Bosworth has a \"reputation for posting<br>provocative material to get a conversation going\"<br>inside the company. \"I think a lot of us would<br>like to go back and hit delete before he ever<br>managed to send that,\" Sweeney added. Documents<br>leaked by whistleblower Frances Haugen showed that<br>as recently as 2020, Bosworth was still writing<br>memos about hate on Facebook's platform. Insider<br>first reported on the August 2020 memo entitled<br>\"Demand Side Problems,\" which was contained in a<br>cache of documents released by Haugen."
          ],
          [
           "In the 2011 interview, he said his family have<br>lived on the ranch since 1891, and he has tattoos<br>of California, a grizzly bear, and golden poppies<br>tattooed on his right forearm. Bosworth studied<br>computer science at Harvard, where he met Mark<br>Zuckerberg in an artificial intelligence class in<br>2004. Mark Zuckerberg, Harvard dropout, pictured<br>at the Harvard University commencement in<br>Cambridge, MA on May 25, 2017. David L. Ryan/The<br>Boston Globe via Getty Images Bosworth was a<br>senior when Zuckerberg was a sophomore, and<br>Zuckerberg was assigned to Bosworth. \"He didn't<br>attend my lessons as often as most of my students,<br>but to be fair he was quite literally building<br>Facebook at the time,\" Bosworth told The Los<br>Angeles Times. Mark Zuckerberg dropped out of<br>Harvard during his sophomore year in 2005 to focus<br>on Facebook full-time. Bosworth left university<br>and briefly worked at Microsoft. He started<br>working for Facebook in 2006. In a 2021 interview<br>with The Verge, Bosworth said his brief time at<br>Microsoft taught him a lot about \"professional<br>software development and management.\" He recalled<br>to The Verge that when he joined Facebook, there<br>were roughly 15 engineers working at the company."
          ],
          [
           "“When compared to the non-immersive VR condition<br>(watching…a television screen), children in VR<br>showed a significant deficit in inhibitory<br>control,” writes Bailenson. “How children react to<br>media is of particular concern because their<br>prefrontal cortex, the area that is associated<br>with emotion and behavior regulation, is not<br>completely developed.” That is one of the central<br>challenges facing the metaverse—immersion to such<br>a degree that reality and fantasy are blurred to<br>an extent that the cultural impacts of traditional<br>2D console gaming may pale in comparison. “It’s<br>Fortnite on steroids,” Michigan State University<br>media professor Rabindra Ratan told Quartz . “It’s<br>already hard to monitor what your kids are doing,<br>but at least you can look over their shoulder at a<br>screen. When they’re in VR, they’re blocked off,<br>you can’t really see what they’re doing. Parents<br>need to understand kids’ games, what they’re<br>playing, why they’re playing them, who they’re<br>playing them with."
          ],
          [
           "PLUS: Binance pauses withdrawals, Facebook meta<br>hell and more | The biggest crypto news and ideas<br>of the dayNov. 1, 2021If you were forwarded this<br>newsletter and would like to receive it, sign up<br>here .Sponsored by Welcome to The Node.Questions?<br>Feedback? We'd love to hear from you! Simply reply<br>to this email.–Daniel KuhnToday's must-readsTop<br>ShelfIDENTITY THEFT: Hundreds of Salvadorans say<br>hackers opened Chivo Wallets, the bitcoin wallet<br>developed by El Salvador's government, with their<br>ID numbers to claim the $30 BTC incentive that<br>President Nayib Bukele's government offered to<br>citizens when making the cryptocurrency legal<br>tender in September. The identity thieves are<br>reportedly exploiting a flaw in the wallet's setup<br>process.SQUID SQUISHED: The developers behind a<br>crypto project inspired by Netflix's mega popular<br>show \"Squid Game\" say they have left the project,<br>as the price of its affiliated token crashed to<br>nearly zero . Separately, signs point to an inside<br>job on a recent $139 million hack of decentralized<br>exchange Boy X Highspeed (BXH)."
          ],
          [
           "In 2012, Bosworth took what was supposed to be a<br>six-month sabbatical from the company — but<br>instead he took over its ads business. In a 2015<br>interview with Wired, Bosworth said six months<br>ahead of the planned sabbatical in 2012 Zuckerberg<br>asked him to figure out a way to monetize ads on<br>mobile. \"[Zuckerberg] was like: 'There are at<br>least four billion-dollar opportunities on mobile<br>in the next six months. You can unlock one or two.<br>And then you can go on your vacation.' That's an<br>insane thing to say. But I was like: 'Why not?'\"<br>Bosworth told Wired. Two days before Bosworth was<br>supposed to go on his sabbatical, Zuckerberg asked<br>him to head up engineering for all Facebook's<br>advertising products, and Bosworth accepted.<br>Bosworth ended up taking a two-month trip and then<br>tacked on some extra time off at the end of the<br>year. \" I just kept taking it by halves,\" he told<br>Wired. Bosworth ran Facebook's ads business until<br>2017. He has been running the company's consumer<br>hardware division — now called Reality Labs — for<br>the last four years. Facebook CEO Mark Zuckerberg<br>on stage at an Oculus developers conference in<br>2016."
          ],
          [
           "This is as true in a basic Excel file as it is in<br>the most advanced artificial intelligence (AI)<br>systems.A key element to the ongoing development<br>of these AI systems is the labeling of vast troves<br>of data, which must be done largely by humans. The<br>costs of this labeling can be immense in terms of<br>the time it takes and the large number of people<br>needed to collaborate on these projects. But a new<br>way is emerging that combines the decentralization<br>of blockchain with the incentive structures of<br>crypto that can take data labeling for AI to the<br>next level.EpiK Protocol reduces the costs of<br>labeling AI data via a sharing economy platform<br>based on blockchain technology.The Chaser...The<br>NodeA newsletter from CoinDeskSee Previous<br>EditionsCopyright © 2021 CoinDesk, All rights<br>reserved.250 Park Avenue South New York, NY 10003,<br>USAManage your newsletter subscriptions |<br>Unsubscribe from all CoinDesk email"
          ],
          [
           "You have to be an informed consumer right along<br>with them.” As families transition along with<br>Facebook and other Big Tech companies from<br>traditional online interactions to fully immersive<br>metaverse experiences, having a better handle on<br>the differences can help parents better navigate<br>this often mysterious landscape as it evolves.<br>Here’s how some of the most popular gaming and<br>social platforms that offer metaverse experiences:<br>Social Metaverse Apps App Title Company Platform<br>VRChat VRChat VR, PC AltspaceVR Microsoft VR, PC<br>Horizon Facebook/Meta VR, PC Bigscreen VR<br>Bigscreen, Inc. VR Rec Room Rec Room, Inc. VR,<br>mobile, console vTime vTime Limited VR, mobile<br>Roblox Roblox Corporation VR, AR, PC, mobile,<br>console Spatial Spatial Systems, Inc. VR, AR, PC,<br>mobile Metaverse Games App Title Company Platform<br>Resident Evil 4 Capcom VR, AR, PC, mobile, console<br>Arizona Sunshine Vertigo Games VR Walking Dead:<br>Saints & Sinners Skydance VR, console Beat Saber<br>Facebook/Meta VR, console Population: One<br>Facebook/Meta VR Half-Life Alyx Valve VR Skyrim VR<br>Bethesda Game Studios VR, console No Man’s Sky<br>Hello Games VR, PC, console"
          ],
          [
           "“Film or television or a video watched on a tablet<br>may convey sounds and sights captured from the<br>‘real world,’ but when we interact with these<br>media we are almost always aware of their<br>artificiality. They are coming to us from<br>screens…or devices held in our hands,” writes<br>Bailenson in his 2018 book on VR, Experience on<br>Demand. “But VR engulfs us…We slide occluding<br>goggles over our eyes and cover our ears with<br>headphones, overriding our two primary sense<br>systems with simulated digital signals…VR is the<br>apotheosis of every media fear and fantasy we’ve<br>ever had.” Parents need to be aware of what their<br>kids and playing and who they are playing with To<br>some degree, we’ve been here before, as lawmakers<br>have repeatedly examined the effect of video games<br>on children. In those cases, the 2D screen-based<br>gaming console dynamic shielded the player from<br>the full spectrum of the game’s 3D world. But what<br>happens when you virtually immerse the player’s<br>entire body into the game, giving users the<br>spatial sense that they are actually inhabiting<br>the fictional world around them?"
          ],
          [
           "Governments and legislators waited to see what<br>would happen with social media. We shouldn’t<br>repeat this mistake with the metaverse. Nobody can<br>entirely predict what will happen with new<br>technologies, but we can do a much better job<br>adapting to them by learning from the lessons of<br>the recent past. Regulating emerging technologies<br>can feel like designing a plane while flying it.<br>This is no easy feat, but a human rights-based<br>framework offers a set of values that a large<br>proportion of states, and an even larger share of<br>the world’s population, can get behind. Keep your<br>Opinions sharp and informed. Get the Opinion<br>newsletter. Sign up today."
          ],
          [
           "on your bitcoin, paid out daily.Now is the time to<br>unlock the full power of your crypto.Join Nexo and<br>start earning free BTC with your friends.Overheard<br>on CoinDesk TV ...Sound bites\"We're going to see<br>NFTs attached to nearly every digital content that<br>exists and … we're going to see a lot more of the<br>entities that have commercial rights attached to<br>them be leveraged in a substantial way. \"–NFT42<br>CEO Jimmy Mcnelis, on CoinDesk TV's \"First Mover.<br>\"What others are writing...Off-Chain SignalsAnubis<br>DAO Descends Into the Underworld After $60M<br>Exploit ( The Defiant ) FATF says 'stablecoin' is<br>just a marketing gimmick in latest crypto guidance<br>( Protos ) Bitcoin miners score their second-<br>highest month of revenue ever with $1.72 billion<br>in October ( The Block ) Ethereum (Not USDC) Now<br>The Primary Collateral for Decentralized<br>Stablecoin DAI ( Decrypt ) If you ever see an<br>interesting piece out there, please send it my<br>way. (You can respond to this email or write to<br>daniel@coindesk.com .A message from .ARTGive<br>crypto a creative touch!Couple your .ART domain<br>name with a crypto wallet identifier:Be able to<br>receive multiple cryptocurrencies, tokens and<br>NFTs."
          ],
          [
           "With Facebook the early leader in metaverse<br>technologies, it’s likely to be the portal into<br>the space for many parents and children. But for<br>Oculus, Facebook’s VR app platform, the safety<br>page simply states, “While we know that children<br>under 13 may want to use Oculus devices, we do not<br>permit them to create accounts or use Oculus<br>devices.” However, no direct identification or age<br>verification is required. Instead, the company<br>relies on the fact that users need a Facebook<br>account—which requires them to be at least 13<br>years old—to use Oculus. This minor hurdle can<br>easily be bypassed by a child using a shared<br>family Facebook account, or a parent gifting the<br>device and simply giving access to the child<br>through their own account. Given recent<br>revelation’s about how Facebook engages with young<br>people, parents may be understandably cautious<br>about allowing children to enter its virtual<br>worlds. Violent video games played on consoles<br>like XBox and PlayStation have warning labels that<br>give parents some sense of awareness and control.<br>Developers of games for the metaverse have adopted<br>the same Entertainment Software Association (ESRB)<br>warning labels common on traditional console and<br>mobile video, games."
          ],
          [
           "'The removal of face recognition by the world's<br>largest social media platform comes as the tech<br>industry has faced a reckoning over the past few<br>years over the ethics of using the<br>technology.Critics say facial recognition - which<br>is popular among retailers, hospitals and other<br>businesses for security purposes - could<br>compromise privacy, target marginalized groups and<br>normalize intrusive surveillance.The news also<br>comes as Facebook has been under intense scrutiny<br>by regulators and lawmakers over user safety and a<br>wide range of abuses on its platforms.The company,<br>which last week renamed itself Meta, said more<br>than one-third of Facebook 's daily active users<br>have opted into the face recognition setting on<br>the social media site, and the change will now<br>delete the 'facial recognition templates' of more<br>than 1 billion people.A Facebook spokesperson said<br>the removal will roll out globally and is expected<br>to be complete by December. AdDieses japanische<br>Samurai-Küchenmesser ist das schärfste, das Sie je<br>gesehen habenYahoo News 360The company may want to<br>distract from its recent scandals, but its new<br>name also reflects its ambition to be a dominate<br>force in the internet of the future."
          ],
          [
           "“With AR, you put on a device, you’re still in<br>your world, but we’re augmenting it with digital<br>content.”So far, many people’s experiences of AR<br>have been limited to playing Pokemon Go or<br>experimenting with image filters that transplant a<br>comical pair of ears onto someone’s face.But it is<br>in healthcare that the true potential of AR is<br>starting to be realized, Johnson said.“You can<br>call in experts who can look at the same thing as<br>you are, from another part of the world,” she<br>said."
          ],
          [
           "Facebook cited growing societal concerns about the<br>use of such technology for the decision. Facebook<br>announced on Tuesday it is shutting down its<br>facial recognition system , which automatically<br>identifies users in photos and videos.The company<br>cited growing societal concerns about the use of<br>such technology.In a blog post Facebook 's vice<br>president of artificial intelligence wrote that<br>while the technology had many beneficial uses,<br>'its long-term role in society needs to be debated<br>in the open."
          ],
          [
           "Finally, Digital Currency Group (DCG), which owns<br>asset manager Grayscale, crypto lender Genesis and<br>independent news outlet CoinDesk, sold $700<br>million of stock in a private secondary sale led<br>by a pair of SoftBank funds.NATIONAL STAGE: Major<br>Chinese tech giants Ant Group, Tencent and JD.com<br>signed a \"self-regulation\" convention on NFTs with<br>state organizations on Sunday, according to an Ant<br>Group WeChat post and Chinese media. China's Big<br>Tech appears to be facing increasing pressure over<br>the companies' involvement with NFTs. Meanwhile,<br>South African pension funds would be banned from<br>investing in cryptocurrencies under new draft<br>rules.A message from NexoWhen it comes to buying,<br>borrowing or earning on your crypto, you won't<br>find an easier, safer way to do it than Nexo .And<br>right now, with its Referral Program you can earn<br>$10 worth of bitcoin for each friend you refer.<br>And the best part – your referral gets $10 in BTC,<br>too.You can invite up to 100 friends – so you can<br>get as much as $1,000 in bitcoin by copy-pasting a<br>few links. And you can further bump that amount by<br>earning up to 8% interest p.a."
          ],
          [
           "“During surgery, you can lay down digital lines<br>where perhaps the incision is going to<br>occur.”Founded in 2010, Magic Leap’s initial<br>mission to bring AR to the masses generated huge<br>hype and nearly $2.3 billion in venture<br>funding.Early promo material imagined it being<br>used to bring a killer whale into a gymnasium full<br>of schoolchildren.But when Magic Leap’s first<br>headset was finally revealed in 2018, there was<br>widespread disappointment; the product was too<br>bulky and expensive to catch on among the general<br>public.The company was forced to lay off around<br>half its staff last year.Restaurant reviews and<br>forgotten namesJohnson, a former Microsoft<br>executive, took over as CEO in August 2020 and<br>pivoted towards developing the goggles for use by<br>professionals.The Florida-based company last month<br>announced that it has raised another $500 million<br>in funding, with a new headset, the Magic Leap 2,<br>set to be released in 2022.The updated version is<br>more lightweight, but it is still set to be used<br>mostly by people accustomed to wearing goggles at<br>work — like surgeons performing delicate work, or<br>defence industry specialists.Google Glass, a pair<br>of “smart glasses” that failed to take off when<br>they launched in 2014, has similarly re-emerged as<br>a product aimed at professional users.Johnson<br>predicted it might still be “a few more years”<br>before Magic Leap or one of its competitors<br>creates an AR headset that could feasibly be worn<br>by consumers everywhere.But that’s the moment when<br>Johnson predicts that AR could really transform<br>our everyday lives.It might, she suggested, allow<br>us to see reviews for restaurants pinging before<br>our eyes as we walk down a street perusing the<br>options.Forgotten someone’s name?"
          ],
          [
           "It’s little coincidence that ETH jumped to new<br>record highs this week amid the hubbub around<br>NFT.NYC. But the question is whether this<br>leadership will be sustained. Gas fees – the costs<br>of transacting – are often prohibitively high on<br>Ethereum, because of network congestion. Newcomers<br>in the space who landed here via the conference<br>would have been shocked to discover that the fees<br>often exceed the value of the NFT being traded.<br>Newer blockchains such as Flow, Avalanche and<br>Solana are now competing to offer lower-priced<br>transfers and attracting more NFT action. Notably,<br>the tokens of the latter two also soared this<br>week. When interoperability? It’s all very well<br>for business to migrate from Ethereum to Solana,<br>but the risk is that in doing so we just build<br>isolated silos that do not allow people to move<br>their assets around. To make matters worse, even<br>within blockchains, access to the art attached to<br>NFTs is often contingent on terms set by the<br>marketplaces or platforms built on top of them.<br>So, people end up being forced to stay within<br>those environments."
          ],
          [
           "The most striking aspect of all this is how<br>rapidly this industry has sprung up, seemingly out<br>of nowhere, spawning new business models and<br>inventions built on top of those new ideas. That’s<br>what makes the evolution of this space so<br>difficult to predict. Yet with that caveat in<br>mind, I do think it’s worth reflecting on a few<br>takeaways from the event, to try to make some<br>sense of it all: The power of evangelism On our<br>“Money Reimagined” podcast this week, Sam Ewen,<br>head of CoinDesk Studios, used that religious term<br>to describe how NFT enthusiasts share<br>introductions, ideas, concepts and NFTs<br>themselves, all of which are helping to grow the<br>space at a rapid clip. It’s not purely altruistic<br>because there are real tangible network effects<br>that come from wider adoption, which boosts the<br>value of the assets in question. But there’s also<br>little doubt that the NFT community is truly<br>passionate about this industry and that passion is<br>a driver of its growth. Ethereum is king But for<br>how much longer? There are various blockchains now<br>servicing the NFT industry, but the undisputed<br>king is still Ethereum."
          ],
          [
           "Neo Wang, the project's CEO, says a hacker was<br>likely able to break into the exchange's Binance<br>Smart Chain address after getting hold of the<br>administrator's private key .NOT YOUR KEYS …<br>Binance, the world's largest crypto exchange,<br>temporarily disabled all crypto withdrawals for a<br>time on Monday. In a tweet, the company blamed a<br>large backlog. Meanwhile, Amazon Web Services<br>(AWS) is looking to move into the crypto custody<br>business with a job posting for a specialist to<br>foster digital asset underwriting, transaction<br>processing and custody in the cloud.BUILDING OUT,<br>CASHING IN: Blizzard, a venture capital and<br>incubation fund, launched with an initial seed<br>investment of $200 million to focus on building up<br>the Avalanche blockchain. Polychain Capital, Three<br>Arrows Capital, Dragonfly Capital and CMS Holdings<br>participated in the round. Separately, Three<br>Arrows backed a $10 million investment into<br>Ardana, a DeFi project on the Cardano blockchain."
          ],
          [
           "Football becomes form of therapy in fire-ravaged<br>West"
          ],
          [
           "Then it became more critical, due to the sanctions<br>from the international community and U.N. - and<br>with the COVID outbreak the situation has become<br>more severe. \"\"North Korea is a country seeking<br>self-sufficiency, but they can't be self<br>sufficient. They need to trade with other<br>countries at some level, but as long as they are<br>limited the situation will only get worse. \"Leader<br>Kim Jong Un has publicly acknowledged his country<br>is in a tense food situation and South Korean<br>intelligence reportedly believes that Kim has<br>issued orders calling for every grain of rice to<br>be counted, and a huge push devoted to<br>farming.Although, they also believe the North may<br>have a better harvest this year -- and that<br>bringing trade with Russia and China back to pre-<br>pandemic levels may also help. headtopics.com Read<br>more: Yahoo Singapore » Covid-19: Healthcare<br>system still under pressure as hospitalised<br>patients, ICU cases continue to rise, says MOH<br>Facebook will shut down facial recognition system<br>Facebook Inc announced on Tuesday it is shutting<br>down its facial recognition system which<br>automatically identifies users in photos and<br>videos, citing growing societal concerns about the<br>use of such technology."
          ],
          [
           "Boost Your Body's Immune System with Turmeric<br>Drinks and Health SupplementsKnown for its<br>numerous health benefits, turmeric can help boost<br>your body’s immune system Singapore's COVID-19<br>death rate 'very low'; healthcare system stressed<br>but not overwhelmed: Dr PuthuchearySINGAPORE:<br>Singapore has managed to keep the number of<br>COVID-19 fatalities 'very low', with a death rate<br>of 0.2 per cent compared to 3 per cent or more in<br>countries that experienced a surge in cases before<br>vaccination, said Senior Minister of State for<br>Health Janil Puthucheary on Monday (Nov 1). Build<br>more facilities... Heard from somewhere. Booster<br>start = old people start dying also. Awesome.<br>Facebook working on ways to protect users in the<br>'metaverse' -senior exec CleggFacebook Inc's head<br>of global affairs, Nick Clegg, said the company<br>was working on ways to protect users in the<br>metaverse, speaking in an interview with Reuters<br>on Tuesday.The company last week changed its name<br>https://www.reuters.com/technology/facebooks-<br>zuckerberg-kicks-off-its-virtual-reality-event-wit"
          ],
          [
           "4 hours agoTottenham confirm appointment of<br>Antonio Conte as new manager on 18-month<br>contractTottenham have completed the appointment<br>of Antonio Conte as head coach on an 18-month<br>contract. The former Chelsea boss finalised a<br>return to English football on Tuesday morning<br>following talks with Spurs chairman Daniel Levy<br>and managing director Fabio Paratici in London on<br>Monday. Conte is due to meet Tottenham’s players<br>and is hoping to lead training for the first time<br>on Tuesday. 13 hours agoNorth Korea tells citizens<br>to eat more swansThe food shortages that have<br>gripped North Korea for years may be underlined by<br>a new public awareness campaign there: They're<br>telling citizens to eat swans.Black swans,<br>specifically. The North's state-run media has<br>recently started promoting black swan meat as a<br>valuable food source. One party newspaper said,<br>quote, \"black swan meat is delicious and has<br>medicinal value,\" and that new industrial scale<br>breeding of the birds will improve residents'<br>lives.Kim Hyung-seok is the president of the<br>Korean Peninsula Peace and Prosperity Institute, a<br>think-tank in South Korea:\"It's meaningful in<br>terms of expanding the variety of food there.<br>\"\"North Korea's food shortages have been ongoing<br>since its founding."
          ],
          [
           "“I don’t think they fully thought through all the<br>pitfalls,” she said. “I worry they’re not<br>necessarily thinking through all the privacy<br>implications of the metaverse.”"
          ]
         ],
         "hovertemplate": "x=%{x}<br>y=%{y}<br>doc=%{customdata[0]}<br>score=%{marker.color}<extra></extra>",
         "legendgroup": "",
         "marker": {
          "color": [
           0.6799651561658859,
           0.6762001146818393,
           0.673872829297136,
           0.6719090310282682,
           0.6709014856310548,
           0.6700363307049607,
           0.6691913378464452,
           0.668224342139886,
           0.667648425826468,
           0.6674993646417601,
           0.6662790024588335,
           0.6658609623809351,
           0.6638744993415263,
           0.6637278674987922,
           0.6636989869093796,
           0.6629832914517154,
           0.6629164475019678,
           0.6620222172739512,
           0.6616055159203941,
           0.6610364521905249,
           0.6603896714462798,
           0.6601455770099859,
           0.6601342113588721,
           0.6599249408943956,
           0.6576995570407519,
           0.6567506172874861,
           0.6564765008282761,
           0.6560630561569556,
           0.6549829734454726,
           0.6538624377550398,
           0.6532307957551264,
           0.6529013336629523,
           0.6528329924827463,
           0.6522679014736016,
           0.6521049178426618,
           0.6518039513849782,
           0.6513795447512152,
           0.6492731942586126,
           0.6490171619646675,
           0.6480093782325332,
           0.6470725321630016,
           0.6467341692080569,
           0.6453459849760131,
           0.6446984386484955,
           0.643058944438334,
           0.6422519952054125,
           0.6412801655778103,
           0.6412718465259372,
           0.6412533126363916,
           0.6397352850329772,
           0.6392090196549579,
           0.6382430306781017,
           0.6380629023760809,
           0.636172412392325,
           0.633356716678351,
           0.6282448004708416,
           0.6271893505901782,
           0.6150627025414015,
           0.5841093473761297
          ],
          "coloraxis": "coloraxis",
          "symbol": "circle"
         },
         "mode": "markers",
         "name": "",
         "orientation": "v",
         "showlegend": false,
         "type": "scatter",
         "x": [
          -54.990055084228516,
          -27.725662231445312,
          -217.88844299316406,
          84.35018920898438,
          152.28370666503906,
          -41.64972686767578,
          -72.97488403320312,
          1.3164780139923096,
          2.198939800262451,
          12.825822830200195,
          -27.329740524291992,
          -222.71817016601562,
          -374.4573059082031,
          26.93625259399414,
          -245.39108276367188,
          0.06642082333564758,
          -94.59528350830078,
          112.60285186767578,
          -14.092466354370117,
          -202.2985382080078,
          -41.89005661010742,
          123.52748107910156,
          -145.4148406982422,
          -125.51695251464844,
          -259.81591796875,
          -22.139589309692383,
          -125.72366333007812,
          -31.420425415039062,
          45.51581954956055,
          48.38764572143555,
          -165.1875762939453,
          19.06516456604004,
          68.9225082397461,
          -132.73292541503906,
          189.60903930664062,
          123.14667510986328,
          186.90786743164062,
          52.91753387451172,
          -21.629323959350586,
          -282.0817565917969,
          -153.19142150878906,
          -61.11906814575195,
          34.54718017578125,
          -40.388282775878906,
          -34.70036697387695,
          113.0182876586914,
          138.18887329101562,
          101.02471923828125,
          160.20022583007812,
          -55.11682891845703,
          140.48866271972656,
          -163.40000915527344,
          -108.65064239501953,
          -75.81558990478516,
          48.22708511352539,
          244.81954956054688,
          97.28900909423828,
          256.78253173828125,
          108.65192413330078
         ],
         "xaxis": "x",
         "y": [
          -73.57152557373047,
          -109.53722381591797,
          124.17235565185547,
          -128.52740478515625,
          154.275390625,
          -171.5576934814453,
          -44.52376937866211,
          -214.4860382080078,
          70.90972900390625,
          -69.09927368164062,
          -75.31179809570312,
          217.94129943847656,
          -164.09437561035156,
          -102.91586303710938,
          105.13416290283203,
          139.55654907226562,
          -107.55609893798828,
          -118.06019592285156,
          166.69683837890625,
          208.20828247070312,
          -22.93076515197754,
          198.76992797851562,
          117.07482147216797,
          37.70792007446289,
          131.91793823242188,
          -223.0578155517578,
          83.6858139038086,
          195.98074340820312,
          104.55567932128906,
          126.46971893310547,
          130.8899383544922,
          -0.6269820928573608,
          158.98760986328125,
          -104.68450927734375,
          329.7475280761719,
          167.9388885498047,
          42.95542526245117,
          -231.7996368408203,
          361.0339050292969,
          103.8309097290039,
          -135.31405639648438,
          -226.3105010986328,
          -256.3902587890625,
          138.0637664794922,
          336.8602294921875,
          -328.2628173828125,
          327.65765380859375,
          -167.68539428710938,
          324.5682373046875,
          316.6586608886719,
          -97.4677734375,
          -79.66285705566406,
          -31.082494735717773,
          304.7964172363281,
          -287.8927001953125,
          275.6865539550781,
          96.64836120605469,
          255.97994995117188,
          -207.50765991210938
         ],
         "yaxis": "y"
        }
       ],
       "layout": {
        "coloraxis": {
         "colorbar": {
          "title": {
           "text": "score"
          }
         },
         "colorscale": [
          [
           0,
           "#0d0887"
          ],
          [
           0.1111111111111111,
           "#46039f"
          ],
          [
           0.2222222222222222,
           "#7201a8"
          ],
          [
           0.3333333333333333,
           "#9c179e"
          ],
          [
           0.4444444444444444,
           "#bd3786"
          ],
          [
           0.5555555555555556,
           "#d8576b"
          ],
          [
           0.6666666666666666,
           "#ed7953"
          ],
          [
           0.7777777777777778,
           "#fb9f3a"
          ],
          [
           0.8888888888888888,
           "#fdca26"
          ],
          [
           1,
           "#f0f921"
          ]
         ]
        },
        "legend": {
         "tracegroupgap": 0
        },
        "template": {
         "data": {
          "bar": [
           {
            "error_x": {
             "color": "#2a3f5f"
            },
            "error_y": {
             "color": "#2a3f5f"
            },
            "marker": {
             "line": {
              "color": "#E5ECF6",
              "width": 0.5
             },
             "pattern": {
              "fillmode": "overlay",
              "size": 10,
              "solidity": 0.2
             }
            },
            "type": "bar"
           }
          ],
          "barpolar": [
           {
            "marker": {
             "line": {
              "color": "#E5ECF6",
              "width": 0.5
             },
             "pattern": {
              "fillmode": "overlay",
              "size": 10,
              "solidity": 0.2
             }
            },
            "type": "barpolar"
           }
          ],
          "carpet": [
           {
            "aaxis": {
             "endlinecolor": "#2a3f5f",
             "gridcolor": "white",
             "linecolor": "white",
             "minorgridcolor": "white",
             "startlinecolor": "#2a3f5f"
            },
            "baxis": {
             "endlinecolor": "#2a3f5f",
             "gridcolor": "white",
             "linecolor": "white",
             "minorgridcolor": "white",
             "startlinecolor": "#2a3f5f"
            },
            "type": "carpet"
           }
          ],
          "choropleth": [
           {
            "colorbar": {
             "outlinewidth": 0,
             "ticks": ""
            },
            "type": "choropleth"
           }
          ],
          "contour": [
           {
            "colorbar": {
             "outlinewidth": 0,
             "ticks": ""
            },
            "colorscale": [
             [
              0,
              "#0d0887"
             ],
             [
              0.1111111111111111,
              "#46039f"
             ],
             [
              0.2222222222222222,
              "#7201a8"
             ],
             [
              0.3333333333333333,
              "#9c179e"
             ],
             [
              0.4444444444444444,
              "#bd3786"
             ],
             [
              0.5555555555555556,
              "#d8576b"
             ],
             [
              0.6666666666666666,
              "#ed7953"
             ],
             [
              0.7777777777777778,
              "#fb9f3a"
             ],
             [
              0.8888888888888888,
              "#fdca26"
             ],
             [
              1,
              "#f0f921"
             ]
            ],
            "type": "contour"
           }
          ],
          "contourcarpet": [
           {
            "colorbar": {
             "outlinewidth": 0,
             "ticks": ""
            },
            "type": "contourcarpet"
           }
          ],
          "heatmap": [
           {
            "colorbar": {
             "outlinewidth": 0,
             "ticks": ""
            },
            "colorscale": [
             [
              0,
              "#0d0887"
             ],
             [
              0.1111111111111111,
              "#46039f"
             ],
             [
              0.2222222222222222,
              "#7201a8"
             ],
             [
              0.3333333333333333,
              "#9c179e"
             ],
             [
              0.4444444444444444,
              "#bd3786"
             ],
             [
              0.5555555555555556,
              "#d8576b"
             ],
             [
              0.6666666666666666,
              "#ed7953"
             ],
             [
              0.7777777777777778,
              "#fb9f3a"
             ],
             [
              0.8888888888888888,
              "#fdca26"
             ],
             [
              1,
              "#f0f921"
             ]
            ],
            "type": "heatmap"
           }
          ],
          "heatmapgl": [
           {
            "colorbar": {
             "outlinewidth": 0,
             "ticks": ""
            },
            "colorscale": [
             [
              0,
              "#0d0887"
             ],
             [
              0.1111111111111111,
              "#46039f"
             ],
             [
              0.2222222222222222,
              "#7201a8"
             ],
             [
              0.3333333333333333,
              "#9c179e"
             ],
             [
              0.4444444444444444,
              "#bd3786"
             ],
             [
              0.5555555555555556,
              "#d8576b"
             ],
             [
              0.6666666666666666,
              "#ed7953"
             ],
             [
              0.7777777777777778,
              "#fb9f3a"
             ],
             [
              0.8888888888888888,
              "#fdca26"
             ],
             [
              1,
              "#f0f921"
             ]
            ],
            "type": "heatmapgl"
           }
          ],
          "histogram": [
           {
            "marker": {
             "pattern": {
              "fillmode": "overlay",
              "size": 10,
              "solidity": 0.2
             }
            },
            "type": "histogram"
           }
          ],
          "histogram2d": [
           {
            "colorbar": {
             "outlinewidth": 0,
             "ticks": ""
            },
            "colorscale": [
             [
              0,
              "#0d0887"
             ],
             [
              0.1111111111111111,
              "#46039f"
             ],
             [
              0.2222222222222222,
              "#7201a8"
             ],
             [
              0.3333333333333333,
              "#9c179e"
             ],
             [
              0.4444444444444444,
              "#bd3786"
             ],
             [
              0.5555555555555556,
              "#d8576b"
             ],
             [
              0.6666666666666666,
              "#ed7953"
             ],
             [
              0.7777777777777778,
              "#fb9f3a"
             ],
             [
              0.8888888888888888,
              "#fdca26"
             ],
             [
              1,
              "#f0f921"
             ]
            ],
            "type": "histogram2d"
           }
          ],
          "histogram2dcontour": [
           {
            "colorbar": {
             "outlinewidth": 0,
             "ticks": ""
            },
            "colorscale": [
             [
              0,
              "#0d0887"
             ],
             [
              0.1111111111111111,
              "#46039f"
             ],
             [
              0.2222222222222222,
              "#7201a8"
             ],
             [
              0.3333333333333333,
              "#9c179e"
             ],
             [
              0.4444444444444444,
              "#bd3786"
             ],
             [
              0.5555555555555556,
              "#d8576b"
             ],
             [
              0.6666666666666666,
              "#ed7953"
             ],
             [
              0.7777777777777778,
              "#fb9f3a"
             ],
             [
              0.8888888888888888,
              "#fdca26"
             ],
             [
              1,
              "#f0f921"
             ]
            ],
            "type": "histogram2dcontour"
           }
          ],
          "mesh3d": [
           {
            "colorbar": {
             "outlinewidth": 0,
             "ticks": ""
            },
            "type": "mesh3d"
           }
          ],
          "parcoords": [
           {
            "line": {
             "colorbar": {
              "outlinewidth": 0,
              "ticks": ""
             }
            },
            "type": "parcoords"
           }
          ],
          "pie": [
           {
            "automargin": true,
            "type": "pie"
           }
          ],
          "scatter": [
           {
            "marker": {
             "colorbar": {
              "outlinewidth": 0,
              "ticks": ""
             }
            },
            "type": "scatter"
           }
          ],
          "scatter3d": [
           {
            "line": {
             "colorbar": {
              "outlinewidth": 0,
              "ticks": ""
             }
            },
            "marker": {
             "colorbar": {
              "outlinewidth": 0,
              "ticks": ""
             }
            },
            "type": "scatter3d"
           }
          ],
          "scattercarpet": [
           {
            "marker": {
             "colorbar": {
              "outlinewidth": 0,
              "ticks": ""
             }
            },
            "type": "scattercarpet"
           }
          ],
          "scattergeo": [
           {
            "marker": {
             "colorbar": {
              "outlinewidth": 0,
              "ticks": ""
             }
            },
            "type": "scattergeo"
           }
          ],
          "scattergl": [
           {
            "marker": {
             "colorbar": {
              "outlinewidth": 0,
              "ticks": ""
             }
            },
            "type": "scattergl"
           }
          ],
          "scattermapbox": [
           {
            "marker": {
             "colorbar": {
              "outlinewidth": 0,
              "ticks": ""
             }
            },
            "type": "scattermapbox"
           }
          ],
          "scatterpolar": [
           {
            "marker": {
             "colorbar": {
              "outlinewidth": 0,
              "ticks": ""
             }
            },
            "type": "scatterpolar"
           }
          ],
          "scatterpolargl": [
           {
            "marker": {
             "colorbar": {
              "outlinewidth": 0,
              "ticks": ""
             }
            },
            "type": "scatterpolargl"
           }
          ],
          "scatterternary": [
           {
            "marker": {
             "colorbar": {
              "outlinewidth": 0,
              "ticks": ""
             }
            },
            "type": "scatterternary"
           }
          ],
          "surface": [
           {
            "colorbar": {
             "outlinewidth": 0,
             "ticks": ""
            },
            "colorscale": [
             [
              0,
              "#0d0887"
             ],
             [
              0.1111111111111111,
              "#46039f"
             ],
             [
              0.2222222222222222,
              "#7201a8"
             ],
             [
              0.3333333333333333,
              "#9c179e"
             ],
             [
              0.4444444444444444,
              "#bd3786"
             ],
             [
              0.5555555555555556,
              "#d8576b"
             ],
             [
              0.6666666666666666,
              "#ed7953"
             ],
             [
              0.7777777777777778,
              "#fb9f3a"
             ],
             [
              0.8888888888888888,
              "#fdca26"
             ],
             [
              1,
              "#f0f921"
             ]
            ],
            "type": "surface"
           }
          ],
          "table": [
           {
            "cells": {
             "fill": {
              "color": "#EBF0F8"
             },
             "line": {
              "color": "white"
             }
            },
            "header": {
             "fill": {
              "color": "#C8D4E3"
             },
             "line": {
              "color": "white"
             }
            },
            "type": "table"
           }
          ]
         },
         "layout": {
          "annotationdefaults": {
           "arrowcolor": "#2a3f5f",
           "arrowhead": 0,
           "arrowwidth": 1
          },
          "autotypenumbers": "strict",
          "coloraxis": {
           "colorbar": {
            "outlinewidth": 0,
            "ticks": ""
           }
          },
          "colorscale": {
           "diverging": [
            [
             0,
             "#8e0152"
            ],
            [
             0.1,
             "#c51b7d"
            ],
            [
             0.2,
             "#de77ae"
            ],
            [
             0.3,
             "#f1b6da"
            ],
            [
             0.4,
             "#fde0ef"
            ],
            [
             0.5,
             "#f7f7f7"
            ],
            [
             0.6,
             "#e6f5d0"
            ],
            [
             0.7,
             "#b8e186"
            ],
            [
             0.8,
             "#7fbc41"
            ],
            [
             0.9,
             "#4d9221"
            ],
            [
             1,
             "#276419"
            ]
           ],
           "sequential": [
            [
             0,
             "#0d0887"
            ],
            [
             0.1111111111111111,
             "#46039f"
            ],
            [
             0.2222222222222222,
             "#7201a8"
            ],
            [
             0.3333333333333333,
             "#9c179e"
            ],
            [
             0.4444444444444444,
             "#bd3786"
            ],
            [
             0.5555555555555556,
             "#d8576b"
            ],
            [
             0.6666666666666666,
             "#ed7953"
            ],
            [
             0.7777777777777778,
             "#fb9f3a"
            ],
            [
             0.8888888888888888,
             "#fdca26"
            ],
            [
             1,
             "#f0f921"
            ]
           ],
           "sequentialminus": [
            [
             0,
             "#0d0887"
            ],
            [
             0.1111111111111111,
             "#46039f"
            ],
            [
             0.2222222222222222,
             "#7201a8"
            ],
            [
             0.3333333333333333,
             "#9c179e"
            ],
            [
             0.4444444444444444,
             "#bd3786"
            ],
            [
             0.5555555555555556,
             "#d8576b"
            ],
            [
             0.6666666666666666,
             "#ed7953"
            ],
            [
             0.7777777777777778,
             "#fb9f3a"
            ],
            [
             0.8888888888888888,
             "#fdca26"
            ],
            [
             1,
             "#f0f921"
            ]
           ]
          },
          "colorway": [
           "#636efa",
           "#EF553B",
           "#00cc96",
           "#ab63fa",
           "#FFA15A",
           "#19d3f3",
           "#FF6692",
           "#B6E880",
           "#FF97FF",
           "#FECB52"
          ],
          "font": {
           "color": "#2a3f5f"
          },
          "geo": {
           "bgcolor": "white",
           "lakecolor": "white",
           "landcolor": "#E5ECF6",
           "showlakes": true,
           "showland": true,
           "subunitcolor": "white"
          },
          "hoverlabel": {
           "align": "left"
          },
          "hovermode": "closest",
          "mapbox": {
           "style": "light"
          },
          "paper_bgcolor": "white",
          "plot_bgcolor": "#E5ECF6",
          "polar": {
           "angularaxis": {
            "gridcolor": "white",
            "linecolor": "white",
            "ticks": ""
           },
           "bgcolor": "#E5ECF6",
           "radialaxis": {
            "gridcolor": "white",
            "linecolor": "white",
            "ticks": ""
           }
          },
          "scene": {
           "xaxis": {
            "backgroundcolor": "#E5ECF6",
            "gridcolor": "white",
            "gridwidth": 2,
            "linecolor": "white",
            "showbackground": true,
            "ticks": "",
            "zerolinecolor": "white"
           },
           "yaxis": {
            "backgroundcolor": "#E5ECF6",
            "gridcolor": "white",
            "gridwidth": 2,
            "linecolor": "white",
            "showbackground": true,
            "ticks": "",
            "zerolinecolor": "white"
           },
           "zaxis": {
            "backgroundcolor": "#E5ECF6",
            "gridcolor": "white",
            "gridwidth": 2,
            "linecolor": "white",
            "showbackground": true,
            "ticks": "",
            "zerolinecolor": "white"
           }
          },
          "shapedefaults": {
           "line": {
            "color": "#2a3f5f"
           }
          },
          "ternary": {
           "aaxis": {
            "gridcolor": "white",
            "linecolor": "white",
            "ticks": ""
           },
           "baxis": {
            "gridcolor": "white",
            "linecolor": "white",
            "ticks": ""
           },
           "bgcolor": "#E5ECF6",
           "caxis": {
            "gridcolor": "white",
            "linecolor": "white",
            "ticks": ""
           }
          },
          "title": {
           "x": 0.05
          },
          "xaxis": {
           "automargin": true,
           "gridcolor": "white",
           "linecolor": "white",
           "ticks": "",
           "title": {
            "standoff": 15
           },
           "zerolinecolor": "white",
           "zerolinewidth": 2
          },
          "yaxis": {
           "automargin": true,
           "gridcolor": "white",
           "linecolor": "white",
           "ticks": "",
           "title": {
            "standoff": 15
           },
           "zerolinecolor": "white",
           "zerolinewidth": 2
          }
         }
        },
        "title": {
         "text": "TSNE Plot of Retrieved Documents Colored by Relevancy Score"
        },
        "xaxis": {
         "anchor": "y",
         "domain": [
          0,
          1
         ],
         "title": {
          "text": "x"
         }
        },
        "yaxis": {
         "anchor": "x",
         "domain": [
          0,
          1
         ],
         "title": {
          "text": "y"
         }
        }
       }
      },
      "text/html": [
       "<div>                            <div id=\"ba201916-687d-440c-96de-9b32130acd58\" class=\"plotly-graph-div\" style=\"height:525px; width:100%;\"></div>            <script type=\"text/javascript\">                require([\"plotly\"], function(Plotly) {                    window.PLOTLYENV=window.PLOTLYENV || {};                                    if (document.getElementById(\"ba201916-687d-440c-96de-9b32130acd58\")) {                    Plotly.newPlot(                        \"ba201916-687d-440c-96de-9b32130acd58\",                        [{\"customdata\":[[\"The term \\u201cmetaverse\\u201d seems to be everywhere.<br>Facebook is hiring thousands of engineers in<br>Europe to work on it, while video game companies<br>are outlining their long-term visions for what<br>some consider the next big thing online. The<br>metaverse, which could spring up again when<br>Facebook releases earnings Monday, is the latest<br>buzzword to capture the tech industry\\u2019s<br>imagination. It could be the future, or it could<br>be the latest grandiose vision by Facebook CEO<br>Mark Zuckerberg that doesn\\u2019t turn out as expected<br>or isn\\u2019t widely adopted for years \\u2014 if at all.<br>Plus, many have concerns about a new online world<br>tied to a social media giant that could get access<br>to even more personal data and is accused of<br>failing to stop harmful content. Here\\u2019s what this<br>online world is all about: WHAT IS THE METAVERSE?<br>Think of it as the internet brought to life, or at<br>least rendered in 3D. Zuckerberg has described it<br>as a \\u201cvirtual environment\\u201d you can go inside of \\u2014<br>instead of just looking at on a screen.\"],[\"Essentially, it\\u2019s a world of endless,<br>interconnected virtual communities where people<br>can meet, work and play, using virtual reality<br>headsets, augmented reality glasses, smartphone<br>apps or other devices. It also will incorporate<br>other aspects of online life such as shopping and<br>social media, according to Victoria Petrock, an<br>analyst who follows emerging technologies. \\u201cIt\\u2019s<br>the next evolution of connectivity where all of<br>those things start to come together in a seamless,<br>doppelganger universe, so you\\u2019re living your<br>virtual life the same way you\\u2019re living your<br>physical life,\\u201d she said. But keep in mind that<br>\\u201cit\\u2019s hard to define a label to something that<br>hasn\\u2019t been created,\\u201d said Tuong Nguyen, an<br>analyst who tracks immersive technologies for<br>research firm Gartner. Facebook warned it would<br>take 10 to 15 years to develop responsible<br>products for the metaverse, a term coined by<br>writer Neal Stephenson for his 1992 science<br>fiction novel \\u201cSnow Crash.\\u201d WHAT WILL I BE ABLE TO<br>DO IN THE METAVERSE? Things like go to a virtual<br>concert, take a trip online, and buy and try on<br>digital clothing. The metaverse also could be a<br>game-changer for the work-from-home shift amid the<br>coronavirus pandemic.\"],[\"Facebook founder Mark Zuckerberg announced<br>Thursday that the corporate name of the social<br>media platform will change to \\\"Meta,\\\" to emphasize<br>its \\\"metaverse\\\" vision. The flagship social<br>network will keep its name. \\\"From now on we are<br>going to be Metaverse first, not Facebook,\\\"<br>Zuckerberg said during a keynote address at the<br>company's annual developer's conference. \\\"I hope<br>that people come to know the Meta brand and the<br>future that we stand for.\\\" Zuckerberg said the<br>company's future will focus on building virtual<br>reality products that connect users through a<br>different medium. He predicted that one billion<br>people will be on the Metaverse in the next<br>decade. The company describes the metaverse as a<br>three- dimensional virtual space where users can<br>create avatars that represent them. Zuckerberg<br>said the new virtual reality world will allow<br>users to play video games, watch movies, attend<br>concerts, collaborate with colleagues, and gather<br>with friends without leaving their living room.<br>Zuckerberg called Facebook, which he launched from<br>his college dorm room in 2004, \\\"an iconic social<br>media company,\\\" but added that the name no longer<br>\\\"encompasses\\\" everything the company does.\"],[\"When Facebook unveiled a mock-up last week of the<br>\\u201cmetaverse\\u201d \\u2014 supposedly the internet of the<br>future \\u2014 it showed people transported to a<br>psychedelic world of flying fish and friendly<br>robots.But while even Facebook CEO Mark Zuckerberg<br>acknowledges these kinds of experiences could be<br>many years away, some enthusiasts argue that a<br>more modest version of the metaverse is already<br>here.\\u201cWe\\u2019re in the early stages of the metaverse,<br>in some ways,\\u201d Peggy Johnson, CEO of Magic Leap,<br>told AFP at the Web Summit in Lisbon on<br>Tuesday.Magic Leap makes augmented reality (AR)<br>headsets, which have already been used by surgeons<br>preparing to separate a pair of conjoined twins,<br>and by factory supervisors carrying out site<br>inspections.In both cases, information popped up<br>before the users\\u2019 eyes about what they were<br>seeing.It might not feel quite as immersive \\u2014 or<br>as kooky \\u2014 as the virtual reality (VR) experiences<br>that Zuckerberg wants to eventually bring to<br>people\\u2019s homes. But it nonetheless blurs the<br>divide between the physical world and the digital<br>one, a key idea behind the metaverse.\\u201cWith VR, you<br>put on a device, and then you\\u2019re in another<br>world,\\u201d Johnson said.\"],[\"\\\"These contributions are foundational components<br>of our broader efforts to help build the<br>metaverse,\\\" Schroepfer said. Zuckerberg echoed<br>this in a statement on Facebook's blog. \\\"As our<br>next CTO, Boz will continue leading Facebook<br>Reality Labs and overseeing our work in augmented<br>reality, virtual reality and more, and as part of<br>this transition, a few other groups will join<br>Boz's team as well. This is all foundational to<br>our broader efforts helping to build the<br>metaverse, and I'm excited about the future of<br>this work under Boz's leadership,\\\" Zuckerberg<br>wrote. Bosworth has sometimes proved a<br>controversial figure inside Facebook. Facebook CTO<br>Andrew Bosworth below a large photo of Mark<br>Zuckerberg Christian Charisius/picture alliance<br>via Getty Images Bosworth made headlines in 2018<br>when BuzzFeed published an internal memo he had<br>sent around two years previously. The memo was<br>entitled \\\"The Ugly,\\\" and in it, Bosworth appeared<br>to justify any number of horrible things happening<br>on Facebook, so long as the company continued to<br>grow. \\\"The ugly truth is that we believe in<br>connecting people so deeply that anything that<br>allows us to connect more people more often is *de<br>facto* good.\"],[\"But when all metaverse games are stored in the<br>cloud, with labels often only visible to the<br>children downloading them, the ability to monitor<br>a child\\u2019s content diet becomes even more<br>challenging. Everything on the internet can be the<br>metaverse, but it\\u2019s not that simple As parents<br>attempt to guide their families into a safety-<br>first version of the metaverse, it might be<br>helpful to understand what games are actually in<br>the immersive component of the metaverse. Any<br>attempt to apply a rigid definition for what is<br>and isn\\u2019t \\u201cmetaverse\\u201d is tricky because it\\u2019s more<br>of an abstract concept that continues to evolve<br>rather than a finite destination. \\u201cThe metaverse<br>is the Internet, enhanced and upgraded to<br>consistently deliver 3D content, spatially<br>organized information and experiences, and real-<br>time synchronous communication,\\u201d wrote 3D internet<br>pioneer Tony Parisi in his recent essay \\u201cThe Seven<br>Rules of the Metaverse.\\u201d So, in theory, when Take-<br>Two Interactive\\u2019s CEO Strauss Zelnick appeared on<br>CNBC this week and referred to the company\\u2019s<br>existing roster of non-VR, non-AR games like Grand<br>Theft Auto as part of the metaverse, technically,<br>he\\u2019s right.\"],[\"The worry is that this technology, supposedly a<br>pathway to the Web 3 future, is just leading to a<br>new version of the old, Web 2 walled garden<br>platforms. The dominant marketplace, OpenSea, for<br>example, is very well funded by venture capital<br>firms such as Andreessen Horowitz, which have<br>historically made their money investing in<br>companies that follow Web 2 centralizing<br>strategies. What\\u2019s needed are both protocols and<br>standards that allow for interoperable asset<br>transfers. The first is coming by way of protocols<br>such as Polkadot, but there also needs to be a<br>will to build in this way and to give up on<br>monopoly interests. Hopefully, the evangelistic<br>spirit and the desire to maximize network effects<br>will drive people in that direction. The<br>metaverse? A metaverse? Everyone in NFT land is<br>talking about the metaverse, a term first coined<br>by author Neal Stephenson, to describe the concept<br>of a new digital existence. NFTs are seen as a<br>kind of \\u201cproperty right\\u201d building block for that<br>idea. Now Mark Zuckerberg, CEO of the newly<br>renamed Meta (aka Facebook), claims to be building<br>it. But it seems antithetical to the concept that<br>this digital place would be controlled by<br>proprietary interests.\"],[\"What\\u2019s unique about the 2021 iteration of the<br>metaverse is that it includes fully immersive 3D<br>VR and AR worlds that transcend screen viewing by<br>putting the user inside the game spatially. This<br>is an entirely new and more personal experience<br>that, according to a 2019 study (pdf) conducted by<br>Facebook, can impact how bullying, harassment, and<br>lewd content, as well as positive content, are<br>experienced by users in the metaverse. Previous<br>research, conducted in 2008 by Thomas Baumgartner,<br>a neuroscientist at the University of Zurich,<br>found distinct differences in how adult brains<br>process VR versus the brains of children. \\u201cAdults<br>appear to control and regulate their [VR] presence<br>experience by critically evaluating and monitoring<br>the presented [virtual environment]<br>stimuli\\u2026Children on the other hand did not, or at<br>least to a greatly reduced extent,\\u201d Baumgartner\\u2019s<br>research team wrote. \\u201cOne consequence might be<br>that one should be more reluctant to expose<br>children to emotional virtual stimuli as currently<br>practiced.\\u201d Stanford professor Jeremy Bailenson,<br>who has conducted his own research into the<br>effects of VR on children, also suggests the<br>metaverse is a completely different challenge<br>compared to monitoring the effects of console<br>video games on children.\"],[\"Wendy H. Wong is a professor of political science,<br>the Canada research chair in global governance and<br>civil society and the research lead of the<br>Schwartz Reisman Institute for Technology and<br>Society at the University of Toronto. Jamie Duncan<br>is a PhD student at the University of Toronto\\u2019s<br>Centre for Criminology and Sociolegal Studies and<br>a Junior Fellow at Massey College. Mark Zuckerberg<br>wants Facebook to be part of your metaverse. The<br>company may be down after the recent revelations<br>of whistle-blower Frances Haugen, but it is<br>certainly not out. Mr. Zuckerberg recently<br>announced Facebook will be assuming a new<br>corporate identity known as Meta, and investing in<br>the \\u201cmetaverse\\u201d to the tune of US$10-billion. The<br>metaverse, according to Mr. Zuckerberg, is \\u201can<br>embodied internet that you\\u2019re inside of rather<br>than just looking at.\\u201d More specifically \\u2013 yet<br>still not very specific \\u2013 the metaverse is a<br>series of 3D virtual worlds that tech companies<br>hope we will increasingly play and work within.<br>Think of immersive, open-world gaming experiences<br>like Minecraft or Roblox, but more expansive.\"],[\"Put on your headset and find yourself in an<br>immersive digital world, a fantasy land where the<br>coronavirus pandemic never happened, and where<br>Facebook never admitted responsibility for<br>facilitating ethnic cleansing in Myanmar.Part of<br>what's so uncanny about Facebook's take on the<br>metaverse \\u2013 and rebranding as \\\"Meta\\\" \\u2013 is that it<br>still feels like speculative fiction. Mark<br>Zuckerberg envisions a world straight out of the<br>film \\\"Ready Player One,\\\" where logging on is a<br>form of escape.Though it was meant as an opening<br>salvo for a new era of technological achievement,<br>Zuckerberg's presentation was mostly just<br>alienating. The backgrounds were fully green-<br>screened; the speakers looked like they were being<br>held at gunpoint and even after 80 minutes the<br>applications for this tech remain unclear.As my<br>colleague David Morris pointed out last week, the<br>blockchain industry has already been toying with<br>metaverse tech. Virtual reality programs like<br>Decentraland use non-fungible tokens (NFT) as a<br>form of property rights \\u2013 tokens are tied to 3D<br>plots of land, which can be bought and sold on the<br>secondary market . It's crypto as in-game<br>currency, a gamified spin on investing.Even this<br>feels a little \\\"out there.\\\"\"],[\"Instead of seeing co-workers on a video call grid,<br>employees could see them virtually. Facebook has<br>launched meeting software for companies, called<br>Horizon Workrooms, to use with its Oculus VR<br>headsets, though early reviews have not been<br>great. The headsets cost $300 or more, putting the<br>metaverse\\u2019s most cutting-edge experiences out of<br>reach for many. For those who can afford it, users<br>would be able, through their avatars, to flit<br>between virtual worlds created by different<br>companies. \\u201cA lot of the metaverse experience is<br>going to be around being able to teleport from one<br>experience to another,\\u201d Zuckerberg says. Tech<br>companies still have to figure out how to connect<br>their online platforms to each other. Making it<br>work will require competing technology platforms<br>to agree on a set of standards, so there aren\\u2019t<br>\\u201cpeople in the Facebook metaverse and other people<br>in the Microsoft metaverse,\\u201d Petrock said. IS<br>FACEBOOK GOING ALL IN ON THE METAVERSE? Indeed,<br>Zuckerberg is going big on what he sees as the<br>next generation of the internet because he thinks<br>it\\u2019s going to be a big part of the digital<br>economy.\"],[\"\\\"From now on, we'll be metaverse first, not<br>Facebook first,\\\" Zuckerberg said during the<br>company's announcement of its rebrand. The word<br>metaverse is a term borrowed from science-fiction.<br>It refers to a future version of the internet,<br>which people access using technology such as<br>virtual-reality and augmented-reality headsets,<br>rather than screens on phones and laptops. Under<br>Bosworth's stewardship Facebook launched a smart<br>glasses product together with Ray-Ban. Facebook's<br>Ray-Ban \\\"Stories\\\" smart glasses Facebook The $299<br>\\\"Ray-Ban Stories\\\" glasses launched in September<br>2021, and allow users to capture photo and video.<br>Bosworth shared a video taken with his own Ray-Ban<br>Stories ahead of the product launch, which<br>included footage of himself repeatedly throwing<br>pillows at Mark Zuckerberg. \\u2014Boz (@boztank)<br>September 6, 2021 In September 2021, the company<br>announced Bosworth will take over as chief<br>technology officer in 2022. Andrew Bosworth at the<br>'Online Marketing Rockstars (OMR)' fair at the<br>fairgrounds in Hamburg, Germany, 3 March 2017<br>Christian Charisius/picture alliance via Getty<br>Images Bosworth will be replacing current CTO Mike<br>Schroepfer, marking the biggest leadership change<br>in the company's history. In a Facebook post<br>announcing his departure, Schroepfer talked about<br>Bosworth's experience at Facebook's AR/VR<br>division.\"],[\"In the week since Facebook announced its name<br>change to Meta, the metaverse has been thrust from<br>science fiction obscurity into the mainstream<br>spotlight, leading Wall Street analysts,<br>politicians, and privacy advocates to make it a<br>part of their vocabulary. But while many now know<br>what the metaverse is\\u2014broadly, immersive digital<br>experiences accessed through virtual reality (VR)<br>and augmented reality (VR) devices\\u2014its cultural<br>import and how it may change our behaviors is less<br>clear. This is particularly true with regard to<br>the most vulnerable new metaverse<br>initiates\\u2014children. Due to the metaverse\\u2019s<br>immersive interface and virtual interactions with<br>other users, along with largely non-uniform user<br>safety policies across services, the technology<br>represents a myriad of unknowns for families with<br>young children. Protecting children in the<br>metaverse will need to go beyond warning labels<br>Roblox is one of the most popular gaming<br>environments for children with over 150 million<br>users, half of whom are under 13 years old. It<br>serves games on traditional gaming and VR formats,<br>where it filters chats for inappropriate language,<br>and vigorously moderates the site for behavior<br>that violates its guidelines. Still, this approach<br>hasn\\u2019t become the norm in the metaverse.\"],[\"We spend our days online, but have yet to<br>completely detach from the real world.<br>Decentraland's native token, MANA, recently shot<br>up in value thanks to a wave of Facebook-fueled<br>speculation, but how many people would opt for a<br>virtual chat in Decentraland over a face-to-face<br>Zoom call at this point?The reality is that some<br>of this tech is already here, in ways that make<br>more sense with the way we live our lives now. The<br>metaverse as it exists today doesn't require an<br>Oculus headset, and our devices reflect this.<br>Apple started building a LIDAR scanner into some<br>of its iPhones in 2020, which allows for laser-<br>guided measurements in physical space. Face<br>filters on Instagram and Snapchat can provide<br>convincing digital makeup for video calls ( TikTok<br>is still at work on its own toolset). And some<br>fashion retailers are betting on \\\"virtual try-on\\\"<br>mechanisms for clothing purchased online, with an<br>assist from augmented reality.The metaverse<br>envisioned by Facebook is a kind of all-<br>encompassing iteration on these concepts. It wants<br>us to be more engaged, more online, while the<br>world around us degrades.\"],[\"Facebook's incoming CTO Andrew Bosworth. Christian<br>Charisius/picture alliance via Getty Images Andrew<br>Bosworth is a key executive at Meta, the company<br>formerly known as Facebook. Bosworth will become<br>CTO of Meta next year and will play a key role in<br>its metaverse ambitions. He has been at the<br>company since 2006 and has become one of Mark<br>Zuckerberg's key lieutenants. Andrew Bosworth,<br>also known as \\\"Boz\\\" inside the company formerly<br>known as Facebook, is lined up to play a key role<br>in the tech giant's future. Facebook announced in<br>October it was rebranding as Meta, a new parent<br>company that encompasses two major businesses. The<br>first is Facebook's traditional business of social<br>media, the second is Reality Labs \\u2014 which Meta<br>hopes will build out CEO Mark Zuckerberg's<br>ambitions of turning it into a \\\"metaverse<br>company.\\\" Not only does Bosworth head up Reality<br>Labs, next year he is set to become the chief<br>technology officer (CTO) of Meta. Here's what you<br>need to know about Andrew Bosworth: Bosworth told<br>The Los Angeles Times he resided on a horse ranch<br>and vineyard in Santa Clara County, California.\"],[\"If the hype about the metaverse is to be believed,<br>we will soon be able to live nearly parallel lives<br>in virtual reality: going shopping, attending<br>concerts and work meetings, and interacting with<br>people from all over the world. At Facebook, we\\u2019re<br>committed to accountability and transparency \\u2013<br>let\\u2019s collaborate to make progress Facebook has<br>long sought to embed itself in every aspect of our<br>lives, from archiving family photos to selling<br>used sofas. Last month\\u2019s Facebook blackout showed<br>that, for many people, Facebook provides essential<br>infrastructure for their livelihoods and<br>connecting with family and friends. For many in<br>the Global South, Facebook is their entire<br>experience of the internet. However, despite its<br>outsized power, the company has repeatedly failed<br>to protect human rights. Well-known examples<br>include facilitating ethnic and religious violence<br>in Myanmar and India. Some human rights critics<br>suggest Facebook\\u2019s whole business model is a<br>threat to human rights. We should be wary of Mr.<br>Zuckerberg\\u2019s vision because of what we\\u2019ve learned<br>from the Facebook Papers. These leaked documents<br>reveal how the company has been willing to put<br>people in harm\\u2019s way in the interest of its own<br>bottom line.\"],[\"To the extent that the metaverse is already here,<br>it's an attempt to complement the systems we<br>already use. It doesn't ask us to completely<br>reorient how we interact with each other online.In<br>an essay for Gawker called \\\"The Metaverse Is for<br>Babies,\\\" the writer Hanson O'Haver suggested that<br>\\\"it's almost unimaginable that any adult (who<br>doesn't run a Silicon Valley company) could be<br>excited about [this] technology.\\\" The Atlantic<br>recently ran a piece with a similarly blunt title<br>\\u2013 \\\"The Metaverse Is Bad\\\" \\u2013 which likens the tech<br>to a \\\"black hole of consumption\\\" (a little like<br>the propagandistic billboards from the movie \\\"They<br>Live\\\" ).There's a history of consumers pushing<br>back against overly ambitious ideas in tech (see:<br>Google Glass ). Meta's success or failure will<br>depend on whether anyone is actually willing to go<br>all-in.\\u2013Will GottsegenSponsored ContentEpiK<br>Protocol: Calling All AI Data Labeling Domain<br>ExpertsIt is a truism that the quality of data you<br>can get out of a system depends on the quality of<br>the data you put into the system.\"],[\"No problem. As they walk towards you, it could<br>appear above their head.\\u201cRight now we\\u2019re all<br>looking down at our mobile phones,\\u201d Johnson said.<br>Augmented reality, she hopes, could help us to<br>soak up the world around us \\u2014 a world with extra<br>information layered over the top of it.If that<br>revolution arrives, the market may be a crowded<br>one. Facebook is working on its own AR headset,<br>while Apple is rumored to be following suit.<br>Snapchat\\u2019s developer, Snap, is meanwhile trialing<br>a new pair of its \\u201cSpectacles\\u201d on AR artists.What<br>does Johnson think the metaverse will look like in<br>15 years?\\u201cI think you\\u2019ll go back home to pick up<br>your glasses because you left them at home,\\u201d she<br>predicted. \\u201cThe same way you do with your mobile<br>phone today.\\u201d\"],[\"But when people like Mr. Zuckerberg espouse their<br>commitment to values like autonomy and community,<br>they seem to be specifically endorsing the narrow<br>forms of \\u201cfreedom\\u201d and \\u201cconnectivity\\u201d that are<br>profitable, rather than the broader conceptions of<br>these terms that humanity requires to truly<br>flourish. As evidenced by Facebook\\u2019s past<br>behaviour, commitments to human rights among the<br>company\\u2019s leadership are more about rhetoric than<br>reality. Mr. Zuckerberg proclaims that \\u201cnorm-<br>setting and new types of governance\\u201d will be<br>necessary for the metaverse. His vision to date is<br>even further removed from state-led regulation<br>than existing social-media platforms, relying on<br>\\u201ccrypto\\u201d and interoperable private standards. The<br>norms he refers to are guided by market logic,<br>rather than human rights. This is why lawmakers<br>must commit to protecting \\u2013 and, ideally,<br>enhancing \\u2013 human autonomy, dignity, equality and<br>community in the metaverse, if it is to become a<br>part of our reality. Companies and states need to<br>be held accountable to the core values of human<br>rights and extend the United Nations\\u2019 Guiding<br>Principles on Business and Human Rights to a world<br>that isn\\u2019t bound by territoriality. The metaverse<br>won\\u2019t be bound by physical borders and neither<br>should our rights.\"],[\"Glenn Chapmann/AFP via Getty Images Reality Labs<br>has undergone many name changes, having been<br>called simply AR/VR, then Facebook Reality Labs,<br>and now Reality Labs. Reality Labs has been<br>responsible for producing Facebook's hardware<br>products, including the video-calling device<br>Facebook Portal and the Oculus VR headset.<br>Protocol reported in July on recall documents<br>which indicated Facebook had sold 4 million Oculus<br>Quest 2 headsets in the US alone since its launch<br>in September 2020. Bosworth announced alongside<br>the wider Meta rebrand in October that the Oculus<br>brand will be sunsetted. From 2022, the Oculus<br>Quest headset will be named the Meta Quest.<br>Reality Labs is set to be an integral part of<br>Meta's metaverse ambitions. Facebook CEO Mark<br>Zuckerberg shows off his vision for the metaverse<br>during Facebook's Oculus Connect conference on<br>October 28, 2021. Facebook/Handout via REUTERS<br>When Zuckerberg announced the formation of Meta as<br>Facebook's new parent company in October, he said<br>the business would be split into two strands. The<br>first is Facebook's Family of Apps, its<br>traditional social media business, which<br>encompasses its Facebook app, Instagram, and<br>WhatsApp. The second and more metaverse-centric<br>strand will be Reality Labs.\"],[\"Maybe Facebook is building a version of the<br>metaverse, but not the metaverse. Related to the<br>prior point, we need an open metaverse. It\\u2019s nice<br>to see Cyprus\\u2019 University of Nicosia, which was a<br>trailblazer in providing blockchain courses, now<br>leading the way on this topic with its Open<br>Metaverse Initiative. The power of celebrity No<br>matter how open these platforms are, we\\u2019re still<br>going to face the reality that the real<br>centralizing of power in the art and entertainment<br>industry lies in the power of celebrity. That was<br>brought home with the mania stirred up by big<br>names turning up at NFT.NYC: Quentin Tarantino,<br>with his \\u201cPulp Fiction\\u201d NFT drop, a sold-out<br>performance by Kaskade, and a Bored Ape Yacht<br>Club-sponsored event featuring The Strokes, Lil<br>Baby, Beck, Chris Rock, Aziz Ansari and Questlove.<br>In sum, while this conference showcased the<br>frenetic innovation that makes NFTs a promise for<br>a new, more decentralized digital economy, we will<br>continue to confront some of the Old World human<br>challenges within competing interests as the<br>technology develops.\"],[\"In the memo, Bosworth appeared to question whether<br>it was futile for Facebook to try to address hate<br>speech on its platforms. Bosworth also posted the<br>memo to his personal blog in early 2021. \\\"As a<br>society we don't have a hate speech supply<br>problem, we have a hate speech demand problem,\\\"<br>Bosworth wrote. \\\"Online platforms don't work on<br>the supply side because they don't control the<br>demand side,\\\" he added. Alongside writing on his<br>personal blog, Bosworth also hosts his own podcast<br>called \\\"Boz to the Future.\\\" Andrew Bosworth's<br>podcast \\\"Boz to the Future.\\\" Spotify/Insider<br>Bosworth's technology podcast began in June 2021<br>and has featured appearances from fellow Facebook<br>executive Chris Cox, as well as tech journalists<br>Ina Fried and Casey Newton. Deal icon An icon in<br>the shape of a lightning bolt. For you Close icon<br>Two crossed lines that form an 'X'. It indicates a<br>way to close an interaction, or dismiss a<br>notification.\"],[\"\\\"Right now, our brand is so tightly linked to one<br>product that it can't possibly represent<br>everything that we're doing today, let alone in<br>the future,\\\" Zuckerberg said. The company is also<br>changing its stock ticker from \\\"FB\\\" to \\\"MVRS,\\\"<br>effective December 1. In August, Zuckerberg told<br>CBS Mornings' anchor Gayle King the metaverse is<br>\\\"the next generation of the internet.\\\" He<br>explained that \\\"instead of being an internet that<br>we look at, right, on our mobile phones or on our<br>computer screens, it's an internet that we are a<br>part of, or that we can be inside of.\\\" While the<br>metaverse is years away from being fully realized,<br>Zuckerberg said in addition to technological<br>advances, it will also require \\\"new forms of<br>governance.\\\" The company is currently facing<br>criticism for the lack of protections it has<br>provided users on its suite of social media apps.<br>Earlier this month, former Facebook employee<br>Frances Haugen publicly came forward after leaking<br>thousands of documents that showed company<br>executives knew the platform helped spread<br>misinformation for years but did not do enough to<br>combat the negative effects.\"],[\"\\u201cThere are new technologies and trends and<br>applications that we\\u2019ve yet to discover.\\u201d Video<br>game companies also are taking a leading role.<br>Epic Games, the company behind the popular<br>Fortnite video game, has raised $1 billion from<br>investors to help with its long-term plans for<br>building the metaverse. Game platform Roblox is<br>another big player, outlining its vision of the<br>metaverse as a place where \\u201cpeople can come<br>together within millions of 3D experiences to<br>learn, work, play, create and socialize.\\u201d Consumer<br>brands are getting in on it, too. Italian fashion<br>house Gucci collaborated in June with Roblox to<br>sell a collection of digital-only accessories.<br>Coca-Cola and Clinique have sold digital tokens<br>pitched as a stepping stone to the metaverse.<br>Zuckerberg\\u2019s embrace of the metaverse in some ways<br>contradicts a central tenet of its biggest<br>enthusiasts. They envision the metaverse as online<br>culture\\u2019s liberation from tech platforms like<br>Facebook that assumed ownership of people\\u2019s<br>accounts, photos, posts and playlists and traded<br>off what they gleaned from that data.\"],[\"Bosworth added there are only five or six<br>employees who have been at Meta longer than he<br>has. Bosworth was responsible for building the<br>Facebook's first News Feed. Andrew Bosworth. GLENN<br>CHAPMAN/AFP via Getty Images \\\"I built all the AI,<br>the ranking, and we built the first, as far as I<br>know, the first ranked content feed, and I built<br>all the rank and the AI behind it,\\\" Bosworth told<br>The Verge. \\\"It consumed me more fully than<br>anything in life had ever consumed me,\\\" Bosworth<br>told The Los Angeles Times in 2011. Bosworth also<br>told The Los Angeles Times that the News Feed was<br>initially met with a backlash from users, who<br>found it too intrusive. \\\"That passionate<br>outpouring of sentiment, much of it negative, was<br>being fueled by News Feed itself. That's when I<br>realized how big the opportunity was at Facebook.<br>I would have preferred a fan group to a protest<br>group, but the fact that people felt that<br>passionately about the product at all was very<br>humbling and eye-opening,\\\" Bosworth said. As<br>Bosworth's career at Facebook progressed he went<br>on to lead teams that built products, including<br>Facebook Messenger and Groups.\"],[\"\\u201cIf one were then to ask about 2D or non-<br>spatialized content in the metaverse, \\u2018how is this<br>different from the web?\\u2019 one reply would be: \\u2018It<br>is web content, experienced in the metaverse,\\u2019\\u201d<br>says Parisi, outlining the distinction. Using<br>Parisi\\u2019s framework, the metaverse has been here<br>for some time and is just now receiving mainstream<br>attention as it moves into new, more immersive<br>platforms like VR and AR. Over time, many parents<br>have become familiar with popular 3D gaming<br>worlds, played on non-immersive flat screen-based<br>console systems and mobile devices. Some non-<br>immersive gaming and social experiences, like<br>Animal Crossing: New Horizons enable users to<br>build virtual communities and share them with<br>friends. Increasingly, some of these 2D social and<br>gaming apps are moving into the realms of VR and<br>AR as immersive versions of the games. In apps<br>like Microsoft\\u2019s AltspaceVR, Facebook\\u2019s Horizons<br>Workrooms, and Spatial, users without a VR headset<br>and just a desktop PC or laptop can engage with<br>fully immersed VR headset users, offering a kind<br>of window into the immersive metaverse.\"],[\"The company\\u2019s rebrand as \\u201cMeta\\u201d is an attempt to<br>deepen already considerable influence over our<br>lives. The metaverse will be filled with even more<br>data about people. We should take a lesson from<br>how stymied we already are in regulating social<br>media to avoid repeating these mistakes with the<br>metaverse. Lawmakers across the globe have been<br>playing catch-up trying to contain the ill-effects<br>of social media, from hate speech to election<br>manipulation. How did this happen? We failed to<br>have a meaningful policy conversation about social<br>media before it became central to many of our<br>lives. We didn\\u2019t take the potential harms<br>seriously. We mostly assumed human rights would<br>easily \\u201cport\\u201d from analog to digital. We need to<br>take a different approach with the metaverse. Now<br>is the time to centre human rights in policy<br>making regarding online platforms. This requires a<br>holistic approach based in foresight, rather than<br>invoking human rights in piecemeal responses to<br>damages that have already been done. The metaverse<br>is poised to further change life as we know it,<br>and a renewed commitment to human rights needs to<br>define the guardrails.\"],[\"Our system of global human rights is a relatively<br>recent innovation itself: It was only firmly<br>established after the Second World War. In 1948,<br>the signatory states of the Universal Declaration<br>of Human Rights were staring down a brave new<br>world of their making \\u2013 one that had been<br>permanently changed by the Holocaust, nuclear<br>bombs and the establishment of the United Nations<br>and Bretton Woods global financial system. These<br>states assented to a preamble and 30 articles that<br>became the backbone of the current human rights<br>framework that we know today. Contemporary human<br>rights are built on the ideals of human autonomy,<br>dignity, equality and community. The problem is<br>that these universal rights were created in an<br>analog context. The authors were worried about the<br>experiences of the material world before the idea<br>of a privately owned parallel universe was<br>anything but science fiction. How has the digital<br>world changed us? For one, our lives are now<br>governed by data-intensive technologies run by<br>profit-hungry firms. Most of what we do these days<br>is tracked by surveillance technologies. We have<br>nonetheless benefitted from these technologies and<br>stand to benefit similarly from the metaverse.\"],[\"\\u201cWe want to be able to move around the internet<br>with ease, but we also want to be able to move<br>around the internet in a way we\\u2019re not tracked and<br>monitored,\\u201d said venture capitalist Steve Jang, a<br>managing partner at Kindred Ventures who focuses<br>on cryptocurrency technology. WILL THIS BE ANOTHER<br>WAY TO GET MORE OF MY DATA? It seems clear that<br>Facebook wants to carry its business model, which<br>is based on using personal data to sell targeted<br>advertising, into the metaverse. \\u201cAds are going to<br>continue being an important part of the strategy<br>across the social media parts of what we do, and<br>it will probably be a meaningful part of the<br>metaverse, too,\\u201d Zuckerberg said in the company\\u2019s<br>most recent earnings call. That raises fresh<br>privacy concerns, Nguyen said, involving \\u201call the<br>issues that we have today, and then some we\\u2019ve yet<br>to discover because we\\u2019re still figuring out what<br>the metaverse will do.\\u201d Petrock she said she\\u2019s<br>concerned about Facebook trying to lead the way<br>into a virtual world that could require even more<br>personal data and offer greater potential for<br>abuse and misinformation when it hasn\\u2019t fixed<br>those problems in its current platforms.\"],[\"He expects people to start seeing Facebook as a<br>metaverse company in coming years rather than a<br>social media company. A report by tech news site<br>The Verge said Zuckerberg is looking at using<br>Facebook\\u2019s annual virtual reality conference this<br>coming week to announce a corporate name change,<br>putting legacy apps like Facebook and Instagram<br>under a metaverse-focused parent company. Facebook<br>hasn\\u2019t commented on the report. Critics wonder if<br>the potential pivot could be an effort to distract<br>from the company\\u2019s crises, including antitrust<br>crackdowns, testimony by whistleblowing former<br>employees and concerns about its handling of<br>misinformation. Former employee Frances Haugen,<br>who accused Facebook\\u2019s platforms of harming<br>children and inciting political violence, plans to<br>testify Monday before a United Kingdom<br>parliamentary committee looking to pass online<br>safety legislation. IS THE METAVERSE JUST A<br>FACEBOOK PROJECT? No. Zuckerberg has acknowledged<br>that \\u201cno one company\\u201d will build the metaverse by<br>itself. Just because Facebook is making a big deal<br>about the metaverse doesn\\u2019t mean that it or<br>another tech giant will dominate the space, Nguyen<br>said. \\u201cThere are also a lot of startups that could<br>be potential competitors,\\u201d he said.\"],[\"((( WRTF ) \\u2014 Facebook will change its brand name<br>with a new group name called \\u201cMetaverse\\u201d. The<br>Verge Reported on Tuesday.The name change will be<br>revealed by Facebook CEO Mark Zuckerberg at the<br>company\\u2019s annual Connect meeting on October<br>28th.Facebook said it didn\\u2019t comment on \\u201crumors<br>and speculation.\\u201dWith the rebranding, Facebook\\u2019s<br>social media apps will be positioned as one of<br>many products under the parent company that also<br>oversees groups such as Instagram, WhatsApp and<br>Oculus, Verge reports added.The report also<br>reflects Facebook\\u2019s focus on building the so-<br>called Metaverse, an online world where people can<br>move and communicate in virtual environments using<br>a variety of devices.Report: Facebook will change<br>name next weekSource link Report: Facebook will<br>change name next weekThe post Report: Facebook<br>will change name next week appeared first on<br>Illinois News Today .\"],[\"It\\u2019s hard to find words to describe the crypto<br>phenomenon that New York is witnessing right now.<br>This week\\u2019s NFT.NYC conference, which was first<br>held in February 2019 as a quirky curiosity before<br>an audience of a few hundred early enthusiasts,<br>was spread across six venues, with three days of<br>programming covering 600 speakers. Some 5,500<br>tickets were sold \\u2013 with space limitations leaving<br>3,000 more on the waitlist \\u2013 to attendees who<br>traded 700,000 speaker and sponsor swag NFTs.<br>You\\u2019re reading Money Reimagined, a weekly look at<br>the technological, economic and social events and<br>trends that are redefining our relationship with<br>money and transforming the global financial<br>system. Subscribe to get the full newsletter\\u00a0here.<br>There were 15 different NFT-themed billboards in<br>Times Square. There were parties, dinners, EDM<br>raves and digital art galleries around town, many<br>of which boasted NFT-promoting film and music<br>stars. And there were countless newly created<br>projects promoting everything from royalty<br>solutions for musicians to whisky-backed NFTs. It<br>was a carnival of innovation, a sprawling<br>celebration of possibility. But what is it all<br>pointing to?\"],[\"In testimony before a congressional committee and<br>on \\\"60 Minutes,\\\" she accused the company of<br>putting profits over people. Facebook has denied<br>those accusations. Zuckerberg said Thursday that<br>\\\"privacy\\\" and \\\"safety\\\" controls need to be built<br>into the Metaverse from day one. \\\"You will get to<br>decide when you want to be with other people, when<br>you want to block someone from appearing in your<br>space or when you want to take a break and<br>teleport to a private place to be alone,\\\"<br>Zuckerberg said. The keynote address also featured<br>a brief appearance from Nick Clegg, the company's<br>vice president of global affairs. Clegg said in<br>the past the speed with which technology advances<br>often leaves lawmakers and regulators playing<br>catch up. \\\"On the one hand the companies get<br>accused of charging ahead too quickly, and on the<br>other, tech people feel that progress can't afford<br>to wait for the slower pace of regulation,\\\" Clegg<br>said. He added that this time it could be<br>different \\\"because we have years until the<br>metaverse that we envision is realized.\\\" Sneak<br>peek: The Murdaugh Mysteries Biden announces<br>framework for Build Back Better Act. Now lawmakers<br>have to finalize the details.\"],[\"Own .ART names that resolve in all web browsers<br>and send and receive email without plug-ins or<br>extensions. Be certain that your valuable<br>blockchain assets are industry compliant and 100%<br>secure.Join the fastest growing web address for<br>creatives!Explore crypto under the .ART<br>umbrella.Crypto is on the rise. Crypto knowledge,<br>however, is stuck on the runway: It turns out that<br>96% of U.S. adults can't pass a test on crypto<br>basics. Throughout November, Crypto Literacy Month<br>aims to change that. Brush up on your crypto<br>knowledge!Putting the news in perspectiveThe<br>TakeawayThe Metaverse Is Already HereHey, Will<br>Gottsegen today. The big takeaway from Facebook's<br>disturbing, somnambulant keynote last week is that<br>the company is going all-in on the \\\" metaverse \\\" \\u2013<br>a persistent digital layer sitting on top of the<br>real world, accessible via virtual and augmented<br>reality technologies.The concept itself isn't new:<br>Sci-fi authors have been prognosticating about<br>this sort of thing for decades.\"],[\"'Regulators are still in the process of providing<br>a clear set of rules governing its use,' said J<br>How about Instagram? Right. So, what is Meta going<br>to do with the data? Will it be deleted? If so,<br>how sure are we that the data hasn\\u2019t been sold off<br>yet? \\ud83d\\ude44 They already made use of the data for sure<br>and don\\u2019t want people to know how it has been used<br>or sold.. Only reason they are shutting it down.<br>Facebook ends facial recognition over privacy<br>fearsSAN FRANCISCO \\u2014 Scandal-hit Facebook is<br>shutting down its long-criticized facial<br>recognition system and deleting scan data on a<br>billion people, it said Tuesday (Nov 2), in a<br>shock response to privacy concerns. Facebook<br>whistleblower Haugen urges Zuckerberg to step<br>downLISBON \\u2014 In her first public address since she<br>leaked a trove of damaging documents about<br>Facebook 's inner workings, whistleblower Ms<br>Frances Haugen urged her former boss, Mr Mark<br>Zuckerberg, to step down and allow change rather<br>than devoting resources to a rebrand.\"],[\"It is perhaps the only area where the metrics do<br>tell the true story as far as we are concerned,\\\"<br>Bosworth wrote in the memo. \\\"That isn't something<br>we are doing for ourselves. Or for our stock price<br>(ha!). It is literally just what we do. We connect<br>people. Period,\\\" he added. Zuckerberg denounced<br>Bosworth's memo after BuzzFeed broke the story.<br>\\\"Boz is a talented leader who says many<br>provocative things. This was one that most people<br>at Facebook including myself disagreed with<br>strongly. We've never believed the ends justify<br>the means,\\\" Zuckerberg said. During a committee<br>hearing in front of Irish lawmakers in 2018, head<br>of public policy at Facebook Ireland Nimah Sweeney<br>also said Bosworth has a \\\"reputation for posting<br>provocative material to get a conversation going\\\"<br>inside the company. \\\"I think a lot of us would<br>like to go back and hit delete before he ever<br>managed to send that,\\\" Sweeney added. Documents<br>leaked by whistleblower Frances Haugen showed that<br>as recently as 2020, Bosworth was still writing<br>memos about hate on Facebook's platform. Insider<br>first reported on the August 2020 memo entitled<br>\\\"Demand Side Problems,\\\" which was contained in a<br>cache of documents released by Haugen.\"],[\"In the 2011 interview, he said his family have<br>lived on the ranch since 1891, and he has tattoos<br>of California, a grizzly bear, and golden poppies<br>tattooed on his right forearm. Bosworth studied<br>computer science at Harvard, where he met Mark<br>Zuckerberg in an artificial intelligence class in<br>2004. Mark Zuckerberg, Harvard dropout, pictured<br>at the Harvard University commencement in<br>Cambridge, MA on May 25, 2017. David L. Ryan/The<br>Boston Globe via Getty Images Bosworth was a<br>senior when Zuckerberg was a sophomore, and<br>Zuckerberg was assigned to Bosworth. \\\"He didn't<br>attend my lessons as often as most of my students,<br>but to be fair he was quite literally building<br>Facebook at the time,\\\" Bosworth told The Los<br>Angeles Times. Mark Zuckerberg dropped out of<br>Harvard during his sophomore year in 2005 to focus<br>on Facebook full-time. Bosworth left university<br>and briefly worked at Microsoft. He started<br>working for Facebook in 2006. In a 2021 interview<br>with The Verge, Bosworth said his brief time at<br>Microsoft taught him a lot about \\\"professional<br>software development and management.\\\" He recalled<br>to The Verge that when he joined Facebook, there<br>were roughly 15 engineers working at the company.\"],[\"\\u201cWhen compared to the non-immersive VR condition<br>(watching\\u2026a television screen), children in VR<br>showed a significant deficit in inhibitory<br>control,\\u201d writes Bailenson. \\u201cHow children react to<br>media is of particular concern because their<br>prefrontal cortex, the area that is associated<br>with emotion and behavior regulation, is not<br>completely developed.\\u201d That is one of the central<br>challenges facing the metaverse\\u2014immersion to such<br>a degree that reality and fantasy are blurred to<br>an extent that the cultural impacts of traditional<br>2D console gaming may pale in comparison. \\u201cIt\\u2019s<br>Fortnite on steroids,\\u201d Michigan State University<br>media professor Rabindra Ratan told Quartz . \\u201cIt\\u2019s<br>already hard to monitor what your kids are doing,<br>but at least you can look over their shoulder at a<br>screen. When they\\u2019re in VR, they\\u2019re blocked off,<br>you can\\u2019t really see what they\\u2019re doing. Parents<br>need to understand kids\\u2019 games, what they\\u2019re<br>playing, why they\\u2019re playing them, who they\\u2019re<br>playing them with.\"],[\"PLUS: Binance pauses withdrawals, Facebook meta<br>hell and more | The biggest crypto news and ideas<br>of the dayNov. 1, 2021If you were forwarded this<br>newsletter and would like to receive it, sign up<br>here .Sponsored by Welcome to The Node.Questions?<br>Feedback? We'd love to hear from you! Simply reply<br>to this email.\\u2013Daniel KuhnToday's must-readsTop<br>ShelfIDENTITY THEFT: Hundreds of Salvadorans say<br>hackers opened Chivo Wallets, the bitcoin wallet<br>developed by El Salvador's government, with their<br>ID numbers to claim the $30 BTC incentive that<br>President Nayib Bukele's government offered to<br>citizens when making the cryptocurrency legal<br>tender in September. The identity thieves are<br>reportedly exploiting a flaw in the wallet's setup<br>process.SQUID SQUISHED: The developers behind a<br>crypto project inspired by Netflix's mega popular<br>show \\\"Squid Game\\\" say they have left the project,<br>as the price of its affiliated token crashed to<br>nearly zero . Separately, signs point to an inside<br>job on a recent $139 million hack of decentralized<br>exchange Boy X Highspeed (BXH).\"],[\"In 2012, Bosworth took what was supposed to be a<br>six-month sabbatical from the company \\u2014 but<br>instead he took over its ads business. In a 2015<br>interview with Wired, Bosworth said six months<br>ahead of the planned sabbatical in 2012 Zuckerberg<br>asked him to figure out a way to monetize ads on<br>mobile. \\\"[Zuckerberg] was like: 'There are at<br>least four billion-dollar opportunities on mobile<br>in the next six months. You can unlock one or two.<br>And then you can go on your vacation.' That's an<br>insane thing to say. But I was like: 'Why not?'\\\"<br>Bosworth told Wired. Two days before Bosworth was<br>supposed to go on his sabbatical, Zuckerberg asked<br>him to head up engineering for all Facebook's<br>advertising products, and Bosworth accepted.<br>Bosworth ended up taking a two-month trip and then<br>tacked on some extra time off at the end of the<br>year. \\\" I just kept taking it by halves,\\\" he told<br>Wired. Bosworth ran Facebook's ads business until<br>2017. He has been running the company's consumer<br>hardware division \\u2014 now called Reality Labs \\u2014 for<br>the last four years. Facebook CEO Mark Zuckerberg<br>on stage at an Oculus developers conference in<br>2016.\"],[\"This is as true in a basic Excel file as it is in<br>the most advanced artificial intelligence (AI)<br>systems.A key element to the ongoing development<br>of these AI systems is the labeling of vast troves<br>of data, which must be done largely by humans. The<br>costs of this labeling can be immense in terms of<br>the time it takes and the large number of people<br>needed to collaborate on these projects. But a new<br>way is emerging that combines the decentralization<br>of blockchain with the incentive structures of<br>crypto that can take data labeling for AI to the<br>next level.EpiK Protocol reduces the costs of<br>labeling AI data via a sharing economy platform<br>based on blockchain technology.The Chaser...The<br>NodeA newsletter from CoinDeskSee Previous<br>EditionsCopyright \\u00a9 2021 CoinDesk, All rights<br>reserved.250 Park Avenue South New York, NY 10003,<br>USAManage your newsletter subscriptions |<br>Unsubscribe from all CoinDesk email\"],[\"You have to be an informed consumer right along<br>with them.\\u201d As families transition along with<br>Facebook and other Big Tech companies from<br>traditional online interactions to fully immersive<br>metaverse experiences, having a better handle on<br>the differences can help parents better navigate<br>this often mysterious landscape as it evolves.<br>Here\\u2019s how some of the most popular gaming and<br>social platforms that offer metaverse experiences:<br>Social Metaverse Apps App Title Company Platform<br>VRChat VRChat VR, PC AltspaceVR Microsoft VR, PC<br>Horizon Facebook/Meta VR, PC Bigscreen VR<br>Bigscreen, Inc. VR Rec Room Rec Room, Inc. VR,<br>mobile, console vTime vTime Limited VR, mobile<br>Roblox Roblox Corporation VR, AR, PC, mobile,<br>console Spatial Spatial Systems, Inc. VR, AR, PC,<br>mobile Metaverse Games App Title Company Platform<br>Resident Evil 4 Capcom VR, AR, PC, mobile, console<br>Arizona Sunshine Vertigo Games VR Walking Dead:<br>Saints & Sinners Skydance VR, console Beat Saber<br>Facebook/Meta VR, console Population: One<br>Facebook/Meta VR Half-Life Alyx Valve VR Skyrim VR<br>Bethesda Game Studios VR, console No Man\\u2019s Sky<br>Hello Games VR, PC, console\"],[\"\\u201cFilm or television or a video watched on a tablet<br>may convey sounds and sights captured from the<br>\\u2018real world,\\u2019 but when we interact with these<br>media we are almost always aware of their<br>artificiality. They are coming to us from<br>screens\\u2026or devices held in our hands,\\u201d writes<br>Bailenson in his 2018 book on VR, Experience on<br>Demand. \\u201cBut VR engulfs us\\u2026We slide occluding<br>goggles over our eyes and cover our ears with<br>headphones, overriding our two primary sense<br>systems with simulated digital signals\\u2026VR is the<br>apotheosis of every media fear and fantasy we\\u2019ve<br>ever had.\\u201d Parents need to be aware of what their<br>kids and playing and who they are playing with To<br>some degree, we\\u2019ve been here before, as lawmakers<br>have repeatedly examined the effect of video games<br>on children. In those cases, the 2D screen-based<br>gaming console dynamic shielded the player from<br>the full spectrum of the game\\u2019s 3D world. But what<br>happens when you virtually immerse the player\\u2019s<br>entire body into the game, giving users the<br>spatial sense that they are actually inhabiting<br>the fictional world around them?\"],[\"Governments and legislators waited to see what<br>would happen with social media. We shouldn\\u2019t<br>repeat this mistake with the metaverse. Nobody can<br>entirely predict what will happen with new<br>technologies, but we can do a much better job<br>adapting to them by learning from the lessons of<br>the recent past. Regulating emerging technologies<br>can feel like designing a plane while flying it.<br>This is no easy feat, but a human rights-based<br>framework offers a set of values that a large<br>proportion of states, and an even larger share of<br>the world\\u2019s population, can get behind. Keep your<br>Opinions sharp and informed. Get the Opinion<br>newsletter. Sign up today.\"],[\"on your bitcoin, paid out daily.Now is the time to<br>unlock the full power of your crypto.Join Nexo and<br>start earning free BTC with your friends.Overheard<br>on CoinDesk TV ...Sound bites\\\"We're going to see<br>NFTs attached to nearly every digital content that<br>exists and \\u2026 we're going to see a lot more of the<br>entities that have commercial rights attached to<br>them be leveraged in a substantial way. \\\"\\u2013NFT42<br>CEO Jimmy Mcnelis, on CoinDesk TV's \\\"First Mover.<br>\\\"What others are writing...Off-Chain SignalsAnubis<br>DAO Descends Into the Underworld After $60M<br>Exploit ( The Defiant ) FATF says 'stablecoin' is<br>just a marketing gimmick in latest crypto guidance<br>( Protos ) Bitcoin miners score their second-<br>highest month of revenue ever with $1.72 billion<br>in October ( The Block ) Ethereum (Not USDC) Now<br>The Primary Collateral for Decentralized<br>Stablecoin DAI ( Decrypt ) If you ever see an<br>interesting piece out there, please send it my<br>way. (You can respond to this email or write to<br>daniel@coindesk.com .A message from .ARTGive<br>crypto a creative touch!Couple your .ART domain<br>name with a crypto wallet identifier:Be able to<br>receive multiple cryptocurrencies, tokens and<br>NFTs.\"],[\"With Facebook the early leader in metaverse<br>technologies, it\\u2019s likely to be the portal into<br>the space for many parents and children. But for<br>Oculus, Facebook\\u2019s VR app platform, the safety<br>page simply states, \\u201cWhile we know that children<br>under 13 may want to use Oculus devices, we do not<br>permit them to create accounts or use Oculus<br>devices.\\u201d However, no direct identification or age<br>verification is required. Instead, the company<br>relies on the fact that users need a Facebook<br>account\\u2014which requires them to be at least 13<br>years old\\u2014to use Oculus. This minor hurdle can<br>easily be bypassed by a child using a shared<br>family Facebook account, or a parent gifting the<br>device and simply giving access to the child<br>through their own account. Given recent<br>revelation\\u2019s about how Facebook engages with young<br>people, parents may be understandably cautious<br>about allowing children to enter its virtual<br>worlds. Violent video games played on consoles<br>like XBox and PlayStation have warning labels that<br>give parents some sense of awareness and control.<br>Developers of games for the metaverse have adopted<br>the same Entertainment Software Association (ESRB)<br>warning labels common on traditional console and<br>mobile video, games.\"],[\"'The removal of face recognition by the world's<br>largest social media platform comes as the tech<br>industry has faced a reckoning over the past few<br>years over the ethics of using the<br>technology.Critics say facial recognition - which<br>is popular among retailers, hospitals and other<br>businesses for security purposes - could<br>compromise privacy, target marginalized groups and<br>normalize intrusive surveillance.The news also<br>comes as Facebook has been under intense scrutiny<br>by regulators and lawmakers over user safety and a<br>wide range of abuses on its platforms.The company,<br>which last week renamed itself Meta, said more<br>than one-third of Facebook 's daily active users<br>have opted into the face recognition setting on<br>the social media site, and the change will now<br>delete the 'facial recognition templates' of more<br>than 1 billion people.A Facebook spokesperson said<br>the removal will roll out globally and is expected<br>to be complete by December. AdDieses japanische<br>Samurai-K\\u00fcchenmesser ist das sch\\u00e4rfste, das Sie je<br>gesehen habenYahoo News 360The company may want to<br>distract from its recent scandals, but its new<br>name also reflects its ambition to be a dominate<br>force in the internet of the future.\"],[\"\\u201cWith AR, you put on a device, you\\u2019re still in<br>your world, but we\\u2019re augmenting it with digital<br>content.\\u201dSo far, many people\\u2019s experiences of AR<br>have been limited to playing Pokemon Go or<br>experimenting with image filters that transplant a<br>comical pair of ears onto someone\\u2019s face.But it is<br>in healthcare that the true potential of AR is<br>starting to be realized, Johnson said.\\u201cYou can<br>call in experts who can look at the same thing as<br>you are, from another part of the world,\\u201d she<br>said.\"],[\"Facebook cited growing societal concerns about the<br>use of such technology for the decision. Facebook<br>announced on Tuesday it is shutting down its<br>facial recognition system , which automatically<br>identifies users in photos and videos.The company<br>cited growing societal concerns about the use of<br>such technology.In a blog post Facebook 's vice<br>president of artificial intelligence wrote that<br>while the technology had many beneficial uses,<br>'its long-term role in society needs to be debated<br>in the open.\"],[\"Finally, Digital Currency Group (DCG), which owns<br>asset manager Grayscale, crypto lender Genesis and<br>independent news outlet CoinDesk, sold $700<br>million of stock in a private secondary sale led<br>by a pair of SoftBank funds.NATIONAL STAGE: Major<br>Chinese tech giants Ant Group, Tencent and JD.com<br>signed a \\\"self-regulation\\\" convention on NFTs with<br>state organizations on Sunday, according to an Ant<br>Group WeChat post and Chinese media. China's Big<br>Tech appears to be facing increasing pressure over<br>the companies' involvement with NFTs. Meanwhile,<br>South African pension funds would be banned from<br>investing in cryptocurrencies under new draft<br>rules.A message from NexoWhen it comes to buying,<br>borrowing or earning on your crypto, you won't<br>find an easier, safer way to do it than Nexo .And<br>right now, with its Referral Program you can earn<br>$10 worth of bitcoin for each friend you refer.<br>And the best part \\u2013 your referral gets $10 in BTC,<br>too.You can invite up to 100 friends \\u2013 so you can<br>get as much as $1,000 in bitcoin by copy-pasting a<br>few links. And you can further bump that amount by<br>earning up to 8% interest p.a.\"],[\"\\u201cDuring surgery, you can lay down digital lines<br>where perhaps the incision is going to<br>occur.\\u201dFounded in 2010, Magic Leap\\u2019s initial<br>mission to bring AR to the masses generated huge<br>hype and nearly $2.3 billion in venture<br>funding.Early promo material imagined it being<br>used to bring a killer whale into a gymnasium full<br>of schoolchildren.But when Magic Leap\\u2019s first<br>headset was finally revealed in 2018, there was<br>widespread disappointment; the product was too<br>bulky and expensive to catch on among the general<br>public.The company was forced to lay off around<br>half its staff last year.Restaurant reviews and<br>forgotten namesJohnson, a former Microsoft<br>executive, took over as CEO in August 2020 and<br>pivoted towards developing the goggles for use by<br>professionals.The Florida-based company last month<br>announced that it has raised another $500 million<br>in funding, with a new headset, the Magic Leap 2,<br>set to be released in 2022.The updated version is<br>more lightweight, but it is still set to be used<br>mostly by people accustomed to wearing goggles at<br>work \\u2014 like surgeons performing delicate work, or<br>defence industry specialists.Google Glass, a pair<br>of \\u201csmart glasses\\u201d that failed to take off when<br>they launched in 2014, has similarly re-emerged as<br>a product aimed at professional users.Johnson<br>predicted it might still be \\u201ca few more years\\u201d<br>before Magic Leap or one of its competitors<br>creates an AR headset that could feasibly be worn<br>by consumers everywhere.But that\\u2019s the moment when<br>Johnson predicts that AR could really transform<br>our everyday lives.It might, she suggested, allow<br>us to see reviews for restaurants pinging before<br>our eyes as we walk down a street perusing the<br>options.Forgotten someone\\u2019s name?\"],[\"It\\u2019s little coincidence that ETH jumped to new<br>record highs this week amid the hubbub around<br>NFT.NYC. But the question is whether this<br>leadership will be sustained. Gas fees \\u2013 the costs<br>of transacting \\u2013 are often prohibitively high on<br>Ethereum, because of network congestion. Newcomers<br>in the space who landed here via the conference<br>would have been shocked to discover that the fees<br>often exceed the value of the NFT being traded.<br>Newer blockchains such as Flow, Avalanche and<br>Solana are now competing to offer lower-priced<br>transfers and attracting more NFT action. Notably,<br>the tokens of the latter two also soared this<br>week. When interoperability? It\\u2019s all very well<br>for business to migrate from Ethereum to Solana,<br>but the risk is that in doing so we just build<br>isolated silos that do not allow people to move<br>their assets around. To make matters worse, even<br>within blockchains, access to the art attached to<br>NFTs is often contingent on terms set by the<br>marketplaces or platforms built on top of them.<br>So, people end up being forced to stay within<br>those environments.\"],[\"The most striking aspect of all this is how<br>rapidly this industry has sprung up, seemingly out<br>of nowhere, spawning new business models and<br>inventions built on top of those new ideas. That\\u2019s<br>what makes the evolution of this space so<br>difficult to predict. Yet with that caveat in<br>mind, I do think it\\u2019s worth reflecting on a few<br>takeaways from the event, to try to make some<br>sense of it all: The power of evangelism On our<br>\\u201cMoney Reimagined\\u201d podcast this week, Sam Ewen,<br>head of CoinDesk Studios, used that religious term<br>to describe how NFT enthusiasts share<br>introductions, ideas, concepts and NFTs<br>themselves, all of which are helping to grow the<br>space at a rapid clip. It\\u2019s not purely altruistic<br>because there are real tangible network effects<br>that come from wider adoption, which boosts the<br>value of the assets in question. But there\\u2019s also<br>little doubt that the NFT community is truly<br>passionate about this industry and that passion is<br>a driver of its growth. Ethereum is king But for<br>how much longer? There are various blockchains now<br>servicing the NFT industry, but the undisputed<br>king is still Ethereum.\"],[\"Neo Wang, the project's CEO, says a hacker was<br>likely able to break into the exchange's Binance<br>Smart Chain address after getting hold of the<br>administrator's private key .NOT YOUR KEYS \\u2026<br>Binance, the world's largest crypto exchange,<br>temporarily disabled all crypto withdrawals for a<br>time on Monday. In a tweet, the company blamed a<br>large backlog. Meanwhile, Amazon Web Services<br>(AWS) is looking to move into the crypto custody<br>business with a job posting for a specialist to<br>foster digital asset underwriting, transaction<br>processing and custody in the cloud.BUILDING OUT,<br>CASHING IN: Blizzard, a venture capital and<br>incubation fund, launched with an initial seed<br>investment of $200 million to focus on building up<br>the Avalanche blockchain. Polychain Capital, Three<br>Arrows Capital, Dragonfly Capital and CMS Holdings<br>participated in the round. Separately, Three<br>Arrows backed a $10 million investment into<br>Ardana, a DeFi project on the Cardano blockchain.\"],[\"Football becomes form of therapy in fire-ravaged<br>West\"],[\"Then it became more critical, due to the sanctions<br>from the international community and U.N. - and<br>with the COVID outbreak the situation has become<br>more severe. \\\"\\\"North Korea is a country seeking<br>self-sufficiency, but they can't be self<br>sufficient. They need to trade with other<br>countries at some level, but as long as they are<br>limited the situation will only get worse. \\\"Leader<br>Kim Jong Un has publicly acknowledged his country<br>is in a tense food situation and South Korean<br>intelligence reportedly believes that Kim has<br>issued orders calling for every grain of rice to<br>be counted, and a huge push devoted to<br>farming.Although, they also believe the North may<br>have a better harvest this year -- and that<br>bringing trade with Russia and China back to pre-<br>pandemic levels may also help. headtopics.com Read<br>more: Yahoo Singapore \\u00bb Covid-19: Healthcare<br>system still under pressure as hospitalised<br>patients, ICU cases continue to rise, says MOH<br>Facebook will shut down facial recognition system<br>Facebook Inc announced on Tuesday it is shutting<br>down its facial recognition system which<br>automatically identifies users in photos and<br>videos, citing growing societal concerns about the<br>use of such technology.\"],[\"Boost Your Body's Immune System with Turmeric<br>Drinks and Health SupplementsKnown for its<br>numerous health benefits, turmeric can help boost<br>your body\\u2019s immune system Singapore's COVID-19<br>death rate 'very low'; healthcare system stressed<br>but not overwhelmed: Dr PuthuchearySINGAPORE:<br>Singapore has managed to keep the number of<br>COVID-19 fatalities 'very low', with a death rate<br>of 0.2 per cent compared to 3 per cent or more in<br>countries that experienced a surge in cases before<br>vaccination, said Senior Minister of State for<br>Health Janil Puthucheary on Monday (Nov 1). Build<br>more facilities... Heard from somewhere. Booster<br>start = old people start dying also. Awesome.<br>Facebook working on ways to protect users in the<br>'metaverse' -senior exec CleggFacebook Inc's head<br>of global affairs, Nick Clegg, said the company<br>was working on ways to protect users in the<br>metaverse, speaking in an interview with Reuters<br>on Tuesday.The company last week changed its name<br>https://www.reuters.com/technology/facebooks-<br>zuckerberg-kicks-off-its-virtual-reality-event-wit\"],[\"4 hours agoTottenham confirm appointment of<br>Antonio Conte as new manager on 18-month<br>contractTottenham have completed the appointment<br>of Antonio Conte as head coach on an 18-month<br>contract. The former Chelsea boss finalised a<br>return to English football on Tuesday morning<br>following talks with Spurs chairman Daniel Levy<br>and managing director Fabio Paratici in London on<br>Monday. Conte is due to meet Tottenham\\u2019s players<br>and is hoping to lead training for the first time<br>on Tuesday. 13 hours agoNorth Korea tells citizens<br>to eat more swansThe food shortages that have<br>gripped North Korea for years may be underlined by<br>a new public awareness campaign there: They're<br>telling citizens to eat swans.Black swans,<br>specifically. The North's state-run media has<br>recently started promoting black swan meat as a<br>valuable food source. One party newspaper said,<br>quote, \\\"black swan meat is delicious and has<br>medicinal value,\\\" and that new industrial scale<br>breeding of the birds will improve residents'<br>lives.Kim Hyung-seok is the president of the<br>Korean Peninsula Peace and Prosperity Institute, a<br>think-tank in South Korea:\\\"It's meaningful in<br>terms of expanding the variety of food there.<br>\\\"\\\"North Korea's food shortages have been ongoing<br>since its founding.\"],[\"\\u201cI don\\u2019t think they fully thought through all the<br>pitfalls,\\u201d she said. \\u201cI worry they\\u2019re not<br>necessarily thinking through all the privacy<br>implications of the metaverse.\\u201d\"]],\"hovertemplate\":\"x=%{x}<br>y=%{y}<br>doc=%{customdata[0]}<br>score=%{marker.color}<extra></extra>\",\"legendgroup\":\"\",\"marker\":{\"color\":[0.6799651561658859,0.6762001146818393,0.673872829297136,0.6719090310282682,0.6709014856310548,0.6700363307049607,0.6691913378464452,0.668224342139886,0.667648425826468,0.6674993646417601,0.6662790024588335,0.6658609623809351,0.6638744993415263,0.6637278674987922,0.6636989869093796,0.6629832914517154,0.6629164475019678,0.6620222172739512,0.6616055159203941,0.6610364521905249,0.6603896714462798,0.6601455770099859,0.6601342113588721,0.6599249408943956,0.6576995570407519,0.6567506172874861,0.6564765008282761,0.6560630561569556,0.6549829734454726,0.6538624377550398,0.6532307957551264,0.6529013336629523,0.6528329924827463,0.6522679014736016,0.6521049178426618,0.6518039513849782,0.6513795447512152,0.6492731942586126,0.6490171619646675,0.6480093782325332,0.6470725321630016,0.6467341692080569,0.6453459849760131,0.6446984386484955,0.643058944438334,0.6422519952054125,0.6412801655778103,0.6412718465259372,0.6412533126363916,0.6397352850329772,0.6392090196549579,0.6382430306781017,0.6380629023760809,0.636172412392325,0.633356716678351,0.6282448004708416,0.6271893505901782,0.6150627025414015,0.5841093473761297],\"coloraxis\":\"coloraxis\",\"symbol\":\"circle\"},\"mode\":\"markers\",\"name\":\"\",\"orientation\":\"v\",\"showlegend\":false,\"type\":\"scatter\",\"x\":[-54.990055084228516,-27.725662231445312,-217.88844299316406,84.35018920898438,152.28370666503906,-41.64972686767578,-72.97488403320312,1.3164780139923096,2.198939800262451,12.825822830200195,-27.329740524291992,-222.71817016601562,-374.4573059082031,26.93625259399414,-245.39108276367188,0.06642082333564758,-94.59528350830078,112.60285186767578,-14.092466354370117,-202.2985382080078,-41.89005661010742,123.52748107910156,-145.4148406982422,-125.51695251464844,-259.81591796875,-22.139589309692383,-125.72366333007812,-31.420425415039062,45.51581954956055,48.38764572143555,-165.1875762939453,19.06516456604004,68.9225082397461,-132.73292541503906,189.60903930664062,123.14667510986328,186.90786743164062,52.91753387451172,-21.629323959350586,-282.0817565917969,-153.19142150878906,-61.11906814575195,34.54718017578125,-40.388282775878906,-34.70036697387695,113.0182876586914,138.18887329101562,101.02471923828125,160.20022583007812,-55.11682891845703,140.48866271972656,-163.40000915527344,-108.65064239501953,-75.81558990478516,48.22708511352539,244.81954956054688,97.28900909423828,256.78253173828125,108.65192413330078],\"xaxis\":\"x\",\"y\":[-73.57152557373047,-109.53722381591797,124.17235565185547,-128.52740478515625,154.275390625,-171.5576934814453,-44.52376937866211,-214.4860382080078,70.90972900390625,-69.09927368164062,-75.31179809570312,217.94129943847656,-164.09437561035156,-102.91586303710938,105.13416290283203,139.55654907226562,-107.55609893798828,-118.06019592285156,166.69683837890625,208.20828247070312,-22.93076515197754,198.76992797851562,117.07482147216797,37.70792007446289,131.91793823242188,-223.0578155517578,83.6858139038086,195.98074340820312,104.55567932128906,126.46971893310547,130.8899383544922,-0.6269820928573608,158.98760986328125,-104.68450927734375,329.7475280761719,167.9388885498047,42.95542526245117,-231.7996368408203,361.0339050292969,103.8309097290039,-135.31405639648438,-226.3105010986328,-256.3902587890625,138.0637664794922,336.8602294921875,-328.2628173828125,327.65765380859375,-167.68539428710938,324.5682373046875,316.6586608886719,-97.4677734375,-79.66285705566406,-31.082494735717773,304.7964172363281,-287.8927001953125,275.6865539550781,96.64836120605469,255.97994995117188,-207.50765991210938],\"yaxis\":\"y\"}],                        {\"coloraxis\":{\"colorbar\":{\"title\":{\"text\":\"score\"}},\"colorscale\":[[0.0,\"#0d0887\"],[0.1111111111111111,\"#46039f\"],[0.2222222222222222,\"#7201a8\"],[0.3333333333333333,\"#9c179e\"],[0.4444444444444444,\"#bd3786\"],[0.5555555555555556,\"#d8576b\"],[0.6666666666666666,\"#ed7953\"],[0.7777777777777778,\"#fb9f3a\"],[0.8888888888888888,\"#fdca26\"],[1.0,\"#f0f921\"]]},\"legend\":{\"tracegroupgap\":0},\"template\":{\"data\":{\"bar\":[{\"error_x\":{\"color\":\"#2a3f5f\"},\"error_y\":{\"color\":\"#2a3f5f\"},\"marker\":{\"line\":{\"color\":\"#E5ECF6\",\"width\":0.5},\"pattern\":{\"fillmode\":\"overlay\",\"size\":10,\"solidity\":0.2}},\"type\":\"bar\"}],\"barpolar\":[{\"marker\":{\"line\":{\"color\":\"#E5ECF6\",\"width\":0.5},\"pattern\":{\"fillmode\":\"overlay\",\"size\":10,\"solidity\":0.2}},\"type\":\"barpolar\"}],\"carpet\":[{\"aaxis\":{\"endlinecolor\":\"#2a3f5f\",\"gridcolor\":\"white\",\"linecolor\":\"white\",\"minorgridcolor\":\"white\",\"startlinecolor\":\"#2a3f5f\"},\"baxis\":{\"endlinecolor\":\"#2a3f5f\",\"gridcolor\":\"white\",\"linecolor\":\"white\",\"minorgridcolor\":\"white\",\"startlinecolor\":\"#2a3f5f\"},\"type\":\"carpet\"}],\"choropleth\":[{\"colorbar\":{\"outlinewidth\":0,\"ticks\":\"\"},\"type\":\"choropleth\"}],\"contour\":[{\"colorbar\":{\"outlinewidth\":0,\"ticks\":\"\"},\"colorscale\":[[0.0,\"#0d0887\"],[0.1111111111111111,\"#46039f\"],[0.2222222222222222,\"#7201a8\"],[0.3333333333333333,\"#9c179e\"],[0.4444444444444444,\"#bd3786\"],[0.5555555555555556,\"#d8576b\"],[0.6666666666666666,\"#ed7953\"],[0.7777777777777778,\"#fb9f3a\"],[0.8888888888888888,\"#fdca26\"],[1.0,\"#f0f921\"]],\"type\":\"contour\"}],\"contourcarpet\":[{\"colorbar\":{\"outlinewidth\":0,\"ticks\":\"\"},\"type\":\"contourcarpet\"}],\"heatmap\":[{\"colorbar\":{\"outlinewidth\":0,\"ticks\":\"\"},\"colorscale\":[[0.0,\"#0d0887\"],[0.1111111111111111,\"#46039f\"],[0.2222222222222222,\"#7201a8\"],[0.3333333333333333,\"#9c179e\"],[0.4444444444444444,\"#bd3786\"],[0.5555555555555556,\"#d8576b\"],[0.6666666666666666,\"#ed7953\"],[0.7777777777777778,\"#fb9f3a\"],[0.8888888888888888,\"#fdca26\"],[1.0,\"#f0f921\"]],\"type\":\"heatmap\"}],\"heatmapgl\":[{\"colorbar\":{\"outlinewidth\":0,\"ticks\":\"\"},\"colorscale\":[[0.0,\"#0d0887\"],[0.1111111111111111,\"#46039f\"],[0.2222222222222222,\"#7201a8\"],[0.3333333333333333,\"#9c179e\"],[0.4444444444444444,\"#bd3786\"],[0.5555555555555556,\"#d8576b\"],[0.6666666666666666,\"#ed7953\"],[0.7777777777777778,\"#fb9f3a\"],[0.8888888888888888,\"#fdca26\"],[1.0,\"#f0f921\"]],\"type\":\"heatmapgl\"}],\"histogram\":[{\"marker\":{\"pattern\":{\"fillmode\":\"overlay\",\"size\":10,\"solidity\":0.2}},\"type\":\"histogram\"}],\"histogram2d\":[{\"colorbar\":{\"outlinewidth\":0,\"ticks\":\"\"},\"colorscale\":[[0.0,\"#0d0887\"],[0.1111111111111111,\"#46039f\"],[0.2222222222222222,\"#7201a8\"],[0.3333333333333333,\"#9c179e\"],[0.4444444444444444,\"#bd3786\"],[0.5555555555555556,\"#d8576b\"],[0.6666666666666666,\"#ed7953\"],[0.7777777777777778,\"#fb9f3a\"],[0.8888888888888888,\"#fdca26\"],[1.0,\"#f0f921\"]],\"type\":\"histogram2d\"}],\"histogram2dcontour\":[{\"colorbar\":{\"outlinewidth\":0,\"ticks\":\"\"},\"colorscale\":[[0.0,\"#0d0887\"],[0.1111111111111111,\"#46039f\"],[0.2222222222222222,\"#7201a8\"],[0.3333333333333333,\"#9c179e\"],[0.4444444444444444,\"#bd3786\"],[0.5555555555555556,\"#d8576b\"],[0.6666666666666666,\"#ed7953\"],[0.7777777777777778,\"#fb9f3a\"],[0.8888888888888888,\"#fdca26\"],[1.0,\"#f0f921\"]],\"type\":\"histogram2dcontour\"}],\"mesh3d\":[{\"colorbar\":{\"outlinewidth\":0,\"ticks\":\"\"},\"type\":\"mesh3d\"}],\"parcoords\":[{\"line\":{\"colorbar\":{\"outlinewidth\":0,\"ticks\":\"\"}},\"type\":\"parcoords\"}],\"pie\":[{\"automargin\":true,\"type\":\"pie\"}],\"scatter\":[{\"marker\":{\"colorbar\":{\"outlinewidth\":0,\"ticks\":\"\"}},\"type\":\"scatter\"}],\"scatter3d\":[{\"line\":{\"colorbar\":{\"outlinewidth\":0,\"ticks\":\"\"}},\"marker\":{\"colorbar\":{\"outlinewidth\":0,\"ticks\":\"\"}},\"type\":\"scatter3d\"}],\"scattercarpet\":[{\"marker\":{\"colorbar\":{\"outlinewidth\":0,\"ticks\":\"\"}},\"type\":\"scattercarpet\"}],\"scattergeo\":[{\"marker\":{\"colorbar\":{\"outlinewidth\":0,\"ticks\":\"\"}},\"type\":\"scattergeo\"}],\"scattergl\":[{\"marker\":{\"colorbar\":{\"outlinewidth\":0,\"ticks\":\"\"}},\"type\":\"scattergl\"}],\"scattermapbox\":[{\"marker\":{\"colorbar\":{\"outlinewidth\":0,\"ticks\":\"\"}},\"type\":\"scattermapbox\"}],\"scatterpolar\":[{\"marker\":{\"colorbar\":{\"outlinewidth\":0,\"ticks\":\"\"}},\"type\":\"scatterpolar\"}],\"scatterpolargl\":[{\"marker\":{\"colorbar\":{\"outlinewidth\":0,\"ticks\":\"\"}},\"type\":\"scatterpolargl\"}],\"scatterternary\":[{\"marker\":{\"colorbar\":{\"outlinewidth\":0,\"ticks\":\"\"}},\"type\":\"scatterternary\"}],\"surface\":[{\"colorbar\":{\"outlinewidth\":0,\"ticks\":\"\"},\"colorscale\":[[0.0,\"#0d0887\"],[0.1111111111111111,\"#46039f\"],[0.2222222222222222,\"#7201a8\"],[0.3333333333333333,\"#9c179e\"],[0.4444444444444444,\"#bd3786\"],[0.5555555555555556,\"#d8576b\"],[0.6666666666666666,\"#ed7953\"],[0.7777777777777778,\"#fb9f3a\"],[0.8888888888888888,\"#fdca26\"],[1.0,\"#f0f921\"]],\"type\":\"surface\"}],\"table\":[{\"cells\":{\"fill\":{\"color\":\"#EBF0F8\"},\"line\":{\"color\":\"white\"}},\"header\":{\"fill\":{\"color\":\"#C8D4E3\"},\"line\":{\"color\":\"white\"}},\"type\":\"table\"}]},\"layout\":{\"annotationdefaults\":{\"arrowcolor\":\"#2a3f5f\",\"arrowhead\":0,\"arrowwidth\":1},\"autotypenumbers\":\"strict\",\"coloraxis\":{\"colorbar\":{\"outlinewidth\":0,\"ticks\":\"\"}},\"colorscale\":{\"diverging\":[[0,\"#8e0152\"],[0.1,\"#c51b7d\"],[0.2,\"#de77ae\"],[0.3,\"#f1b6da\"],[0.4,\"#fde0ef\"],[0.5,\"#f7f7f7\"],[0.6,\"#e6f5d0\"],[0.7,\"#b8e186\"],[0.8,\"#7fbc41\"],[0.9,\"#4d9221\"],[1,\"#276419\"]],\"sequential\":[[0.0,\"#0d0887\"],[0.1111111111111111,\"#46039f\"],[0.2222222222222222,\"#7201a8\"],[0.3333333333333333,\"#9c179e\"],[0.4444444444444444,\"#bd3786\"],[0.5555555555555556,\"#d8576b\"],[0.6666666666666666,\"#ed7953\"],[0.7777777777777778,\"#fb9f3a\"],[0.8888888888888888,\"#fdca26\"],[1.0,\"#f0f921\"]],\"sequentialminus\":[[0.0,\"#0d0887\"],[0.1111111111111111,\"#46039f\"],[0.2222222222222222,\"#7201a8\"],[0.3333333333333333,\"#9c179e\"],[0.4444444444444444,\"#bd3786\"],[0.5555555555555556,\"#d8576b\"],[0.6666666666666666,\"#ed7953\"],[0.7777777777777778,\"#fb9f3a\"],[0.8888888888888888,\"#fdca26\"],[1.0,\"#f0f921\"]]},\"colorway\":[\"#636efa\",\"#EF553B\",\"#00cc96\",\"#ab63fa\",\"#FFA15A\",\"#19d3f3\",\"#FF6692\",\"#B6E880\",\"#FF97FF\",\"#FECB52\"],\"font\":{\"color\":\"#2a3f5f\"},\"geo\":{\"bgcolor\":\"white\",\"lakecolor\":\"white\",\"landcolor\":\"#E5ECF6\",\"showlakes\":true,\"showland\":true,\"subunitcolor\":\"white\"},\"hoverlabel\":{\"align\":\"left\"},\"hovermode\":\"closest\",\"mapbox\":{\"style\":\"light\"},\"paper_bgcolor\":\"white\",\"plot_bgcolor\":\"#E5ECF6\",\"polar\":{\"angularaxis\":{\"gridcolor\":\"white\",\"linecolor\":\"white\",\"ticks\":\"\"},\"bgcolor\":\"#E5ECF6\",\"radialaxis\":{\"gridcolor\":\"white\",\"linecolor\":\"white\",\"ticks\":\"\"}},\"scene\":{\"xaxis\":{\"backgroundcolor\":\"#E5ECF6\",\"gridcolor\":\"white\",\"gridwidth\":2,\"linecolor\":\"white\",\"showbackground\":true,\"ticks\":\"\",\"zerolinecolor\":\"white\"},\"yaxis\":{\"backgroundcolor\":\"#E5ECF6\",\"gridcolor\":\"white\",\"gridwidth\":2,\"linecolor\":\"white\",\"showbackground\":true,\"ticks\":\"\",\"zerolinecolor\":\"white\"},\"zaxis\":{\"backgroundcolor\":\"#E5ECF6\",\"gridcolor\":\"white\",\"gridwidth\":2,\"linecolor\":\"white\",\"showbackground\":true,\"ticks\":\"\",\"zerolinecolor\":\"white\"}},\"shapedefaults\":{\"line\":{\"color\":\"#2a3f5f\"}},\"ternary\":{\"aaxis\":{\"gridcolor\":\"white\",\"linecolor\":\"white\",\"ticks\":\"\"},\"baxis\":{\"gridcolor\":\"white\",\"linecolor\":\"white\",\"ticks\":\"\"},\"bgcolor\":\"#E5ECF6\",\"caxis\":{\"gridcolor\":\"white\",\"linecolor\":\"white\",\"ticks\":\"\"}},\"title\":{\"x\":0.05},\"xaxis\":{\"automargin\":true,\"gridcolor\":\"white\",\"linecolor\":\"white\",\"ticks\":\"\",\"title\":{\"standoff\":15},\"zerolinecolor\":\"white\",\"zerolinewidth\":2},\"yaxis\":{\"automargin\":true,\"gridcolor\":\"white\",\"linecolor\":\"white\",\"ticks\":\"\",\"title\":{\"standoff\":15},\"zerolinecolor\":\"white\",\"zerolinewidth\":2}}},\"title\":{\"text\":\"TSNE Plot of Retrieved Documents Colored by Relevancy Score\"},\"xaxis\":{\"anchor\":\"y\",\"domain\":[0.0,1.0],\"title\":{\"text\":\"x\"}},\"yaxis\":{\"anchor\":\"x\",\"domain\":[0.0,1.0],\"title\":{\"text\":\"y\"}}},                        {\"responsive\": true}                    ).then(function(){\n",
       "                            \n",
       "var gd = document.getElementById('ba201916-687d-440c-96de-9b32130acd58');\n",
       "var x = new MutationObserver(function (mutations, observer) {{\n",
       "        var display = window.getComputedStyle(gd).display;\n",
       "        if (!display || display === 'none') {{\n",
       "            console.log([gd, 'removed!']);\n",
       "            Plotly.purge(gd);\n",
       "            observer.disconnect();\n",
       "        }}\n",
       "}});\n",
       "\n",
       "// Listen for the removal of the full notebook cells\n",
       "var notebookContainer = gd.closest('#notebook-container');\n",
       "if (notebookContainer) {{\n",
       "    x.observe(notebookContainer, {childList: true});\n",
       "}}\n",
       "\n",
       "// Listen for the clearing of the current output cell\n",
       "var outputEl = gd.closest('.output');\n",
       "if (outputEl) {{\n",
       "    x.observe(outputEl, {childList: true});\n",
       "}}\n",
       "\n",
       "                        })                };                });            </script>        </div>"
      ]
     },
     "metadata": {},
     "output_type": "display_data"
    }
   ],
   "source": [
    "fig = px.scatter(\n",
    "    graph_data, \n",
    "    x='x', y='y', \n",
    "    color=\"score\", \n",
    "    hover_data=['doc'], \n",
    "    title=\"TSNE Plot of Retrieved Documents Colored by Relevancy Score\"\n",
    ")\n",
    "fig.show()"
   ]
  },
  {
   "cell_type": "code",
   "execution_count": null,
   "id": "a83c5dbc",
   "metadata": {},
   "outputs": [],
   "source": []
  }
 ],
 "metadata": {
  "kernelspec": {
   "display_name": "Python 3",
   "language": "python",
   "name": "python3"
  },
  "language_info": {
   "codemirror_mode": {
    "name": "ipython",
    "version": 3
   },
   "file_extension": ".py",
   "mimetype": "text/x-python",
   "name": "python",
   "nbconvert_exporter": "python",
   "pygments_lexer": "ipython3",
   "version": "3.8.8"
  }
 },
 "nbformat": 4,
 "nbformat_minor": 5
}
