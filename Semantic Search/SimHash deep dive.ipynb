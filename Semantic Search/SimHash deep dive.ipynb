{
 "cells": [
  {
   "cell_type": "code",
   "execution_count": 1,
   "id": "eaf4a86a",
   "metadata": {},
   "outputs": [],
   "source": [
    "import re\n",
    "from simhash import Simhash, SimhashIndex\n",
    "\n",
    "def get_features(s):\n",
    "    width = 3\n",
    "    s = s.lower()\n",
    "    s = re.sub(r'[^\\w]+', '', s)\n",
    "    return [s[i:i + width] for i in range(max(len(s) - width + 1, 1))]\n",
    "\n",
    "\n",
    "data = {\n",
    "    1: 'How are you? I am fine. blar blar. Thanks.',\n",
    "    2: 'How are you i am fine. blar blar. thank',\n",
    "    3: 'this is simhash test.',\n",
    "}\n",
    "\n",
    "objs = [(str(k), Simhash(get_features(v))) for k, v in data.items()]\n",
    "index = SimhashIndex(objs, k=3)"
   ]
  },
  {
   "cell_type": "code",
   "execution_count": 7,
   "id": "a1720bfb",
   "metadata": {},
   "outputs": [
    {
     "name": "stdout",
     "output_type": "stream",
     "text": [
      "Number of bits in fingerprint: 64 \n",
      " Hamming distance threshold: 3 \n",
      " Distance values up to threshold: [0, 1, 2, 3] \n",
      " Indices of the first bits in each bin, such that enough bins are created to meet k criteria: [0, 16, 32, 48]\n"
     ]
    }
   ],
   "source": [
    "print(\n",
    "    \"Number of bits in fingerprint:\", index.f, \"\\n\",\n",
    "    \"Hamming distance threshold:\", index.k, \"\\n\",\n",
    "    \"Distance values up to threshold:\", [i for i in range(index.k + 1)], \"\\n\",\n",
    "    \"Indices of the first bits in each bin, such that enough bins are created to meet k criteria:\", index.offsets\n",
    ")"
   ]
  },
  {
   "cell_type": "markdown",
   "id": "f28e9823",
   "metadata": {},
   "source": [
    "Cell above shows how Google optimized the bit search by creating bins of bits.  Instead of sorting the raw hashes (and shifting the raw hashes 1 bit at a time), they used the distance threshold, k, to determine how many bins should be used.  This is what they mean by \"precomputing F' such that some existing fingerprint, F, is at most Hamming distance k away from F'\".  They create the permutations using bit bins instead of the full table of bit permutations.  "
   ]
  },
  {
   "cell_type": "code",
   "execution_count": 27,
   "id": "efb73a4e",
   "metadata": {},
   "outputs": [
    {
     "name": "stdout",
     "output_type": "stream",
     "text": [
      "SimHash value: 7604582634754244165 \n",
      " Offsets tuple: [(0, 0), (1, 16), (2, 32), (3, 48)] \n",
      " Len offsets -1 (the if condition in get_keys): 3 \n",
      " All values of m calculated by get_offsets if contition True: [18446744073709551615, 281474976710655, 4294967295, 65535] \n",
      " All values of m calculated by get_offsets if condition False: [65535, 65535, 65535] \n",
      " Shifted simhash for first offset: 7604582634754244165 \n",
      " Shifted simhash for first offset: 0 \n",
      " Shifted simhash for first offset with m: 32325 \n",
      " ['7e45:0', '91a1:1', 'e79d:2', '6988:3']\n"
     ]
    }
   ],
   "source": [
    "offsets = [(i, offset) for i, offset in enumerate(index.offsets)]\n",
    "ms_if_true = [2**(index.f - o[1]) - 1 for o in offsets]\n",
    "ms_if_false = [2**(offsets[o[0]+1][1] - o[1]) - 1 for o in offsets if o[0] != 3]\n",
    "print(\n",
    "    \"SimHash value:\", objs[0][1].value, \"\\n\",\n",
    "    \"Offsets tuple:\", offsets, \"\\n\",\n",
    "    \"Len offsets -1 (the if condition in get_keys):\", len(index.offsets) - 1, \"\\n\",\n",
    "    \"All values of m calculated by get_offsets if contition True:\", ms_if_true, \"\\n\",\n",
    "    \"All values of m calculated by get_offsets if condition False:\", ms_if_false, \"\\n\",\n",
    "    \"Shifted simhash for first offset:\", objs[0][1].value >> offsets[0][1], \"\\n\",\n",
    "    \"Shifted simhash for first offset:\", offsets[0][1] & ms_if_false[0], \"\\n\",\n",
    "    \"Shifted simhash for first offset with m:\", objs[0][1].value >> offsets[0][1] & ms_if_false[0], \"\\n\",\n",
    "    [k for k in index.get_keys(objs[0][1])]\n",
    ")"
   ]
  },
  {
   "cell_type": "markdown",
   "id": "f5de31b2",
   "metadata": {},
   "source": [
    "So get_keys gets the permuted fingerprint keys, and index.bucket holds the permuted fingerprints table.  This table is a dict of {fingerprint: (hash, obj_id)}.  \n",
    "\n",
    "Given fingerprint F (and integer k defined in index.k), identify all permuted fingerprints in T (index.bucket) whose top bit position match the top bit positions of pi(F), the permutated F.  "
   ]
  },
  {
   "cell_type": "code",
   "execution_count": 37,
   "id": "872a5f57",
   "metadata": {},
   "outputs": [
    {
     "name": "stdout",
     "output_type": "stream",
     "text": [
      "Fingerprint F' key: 7e45:0 \n",
      " Nbr Items: 2 \n",
      " Hash Values: ['6988e79d91a17e45', '69cae79d91e37e45'] \n",
      " Doc Ids: [1, 2] \n",
      "\n",
      "Fingerprint F' key: 91a1:1 \n",
      " Nbr Items: 1 \n",
      " Hash Values: ['6988e79d91a17e45'] \n",
      " Doc Ids: [1] \n",
      "\n",
      "Fingerprint F' key: e79d:2 \n",
      " Nbr Items: 2 \n",
      " Hash Values: ['6988e79d91a17e45', '69cae79d91e37e45'] \n",
      " Doc Ids: [1, 2] \n",
      "\n",
      "Fingerprint F' key: 6988:3 \n",
      " Nbr Items: 1 \n",
      " Hash Values: ['6988e79d91a17e45'] \n",
      " Doc Ids: [1] \n",
      "\n",
      ".......New Bucket....... \n",
      "\n",
      "Fingerprint F' key: 91e3:1 \n",
      " Nbr Items: 1 \n",
      " Hash Values: ['69cae79d91e37e45'] \n",
      " Doc Ids: [2] \n",
      "\n",
      "Fingerprint F' key: 69ca:3 \n",
      " Nbr Items: 1 \n",
      " Hash Values: ['69cae79d91e37e45'] \n",
      " Doc Ids: [2] \n",
      "\n",
      ".......New Bucket....... \n",
      "\n",
      "Fingerprint F' key: b1b0:0 \n",
      " Nbr Items: 1 \n",
      " Hash Values: ['25961fbb1e26b1b0'] \n",
      " Doc Ids: [3] \n",
      "\n",
      "Fingerprint F' key: 1e26:1 \n",
      " Nbr Items: 1 \n",
      " Hash Values: ['25961fbb1e26b1b0'] \n",
      " Doc Ids: [3] \n",
      "\n",
      "Fingerprint F' key: 1fbb:2 \n",
      " Nbr Items: 1 \n",
      " Hash Values: ['25961fbb1e26b1b0'] \n",
      " Doc Ids: [3] \n",
      "\n",
      "Fingerprint F' key: 2596:3 \n",
      " Nbr Items: 1 \n",
      " Hash Values: ['25961fbb1e26b1b0'] \n",
      " Doc Ids: [3] \n",
      "\n",
      ".......New Bucket....... \n",
      "\n"
     ]
    }
   ],
   "source": [
    "for simhash_key, hashes in index.bucket.items():\n",
    "    print(\n",
    "        \"Fingerprint F' key:\", simhash_key, \"\\n\",\n",
    "        \"Nbr Items:\", len(hashes), \"\\n\",\n",
    "        \"Hash Values:\", [hash_details.split(\",\")[0] for hash_details in hashes], \"\\n\",\n",
    "        \"Doc Ids:\", [int(hash_details.split(\",\")[1]) for hash_details in hashes], \"\\n\",\n",
    "    )\n",
    "    if simhash_key[-1:] == \"3\":\n",
    "        print(\".......New Bucket....... \\n\")"
   ]
  },
  {
   "cell_type": "markdown",
   "id": "b2b33015",
   "metadata": {},
   "source": [
    "get_near_dups takes the candidates identified from get_keys, and determines which of them are closer than k.  These are the near duplicates.  "
   ]
  },
  {
   "cell_type": "code",
   "execution_count": 42,
   "id": "1326e525",
   "metadata": {},
   "outputs": [
    {
     "name": "stdout",
     "output_type": "stream",
     "text": [
      "4 36 36 4\n"
     ]
    }
   ],
   "source": [
    "print(objs[0][1].distance(objs[1][1]), objs[0][1].distance(objs[2][1]), objs[1][1].distance(objs[2][1]), objs[1][1].distance(objs[0][1]))"
   ]
  },
  {
   "cell_type": "code",
   "execution_count": null,
   "id": "3106cfa7",
   "metadata": {},
   "outputs": [],
   "source": []
  }
 ],
 "metadata": {
  "kernelspec": {
   "display_name": "Python 3 (ipykernel)",
   "language": "python",
   "name": "python3"
  },
  "language_info": {
   "codemirror_mode": {
    "name": "ipython",
    "version": 3
   },
   "file_extension": ".py",
   "mimetype": "text/x-python",
   "name": "python",
   "nbconvert_exporter": "python",
   "pygments_lexer": "ipython3",
   "version": "3.8.12"
  }
 },
 "nbformat": 4,
 "nbformat_minor": 5
}
