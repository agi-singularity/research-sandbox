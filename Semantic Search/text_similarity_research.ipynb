{
 "cells": [
  {
   "cell_type": "code",
   "execution_count": 10,
   "id": "5095c395",
   "metadata": {},
   "outputs": [
    {
     "name": "stdout",
     "output_type": "stream",
     "text": [
      "2.7.1\n"
     ]
    }
   ],
   "source": [
    "import re\n",
    "import pandas as pd\n",
    "import numpy as np\n",
    "import plotly.graph_objects as go\n",
    "import networkx as nx\n",
    "print(nx.__version__)\n",
    "from simhash import Simhash, SimhashIndex\n",
    "from itertools import combinations_with_replacement\n",
    "from collections import defaultdict\n",
    "from scipy.sparse import coo_matrix\n",
    "from scipy.sparse.csgraph import connected_components"
   ]
  },
  {
   "cell_type": "code",
   "execution_count": 2,
   "id": "662de9b1",
   "metadata": {},
   "outputs": [],
   "source": [
    "def get_features(s: str, width: int=3) -> list:\n",
    "    \"\"\"\n",
    "    Returns list of substrings of a given width.  Example: 'how are' -> ['how', 'owa', 'war', 'are']\n",
    "    \n",
    "    :param s: String to parse\n",
    "    :param width: Length of the sliding window.  The default, 3, results in 1 character on each side of \n",
    "        each characters position.  \n",
    "    \"\"\"\n",
    "    s = s.lower()\n",
    "    s = re.sub(r'[^\\w]+', '', s)\n",
    "    return [s[i:i + width] for i in range(max(len(s) - width + 1, 1))]\n",
    "\n",
    "\n",
    "def hash_and_index_documents(docs: pd.DataFrame, text_col: str, distance_threshold: int=1):\n",
    "    \"\"\"\n",
    "    Use SimHash to hash the documents and index them for efficient searching and distance calculation.\n",
    "    \n",
    "    :param docs: Dataframe of documents\n",
    "    :param text_col: Name of the dataframe column with the document text\n",
    "    :param distance_threshold: Hash distances > than this value will not be considered similar.  \n",
    "        This value must be an integer.  The default, 1, limits similarity to exact matches.\n",
    "    \"\"\"\n",
    "    docs_dict = docs[text_col].to_dict()\n",
    "    hashes = [(str(k), Simhash(get_features(v))) for k, v in docs_dict.items()]\n",
    "    index = SimhashIndex(hashes, k=distance_threshold)\n",
    "    return (hashes, index)\n",
    "\n",
    "\n",
    "def determine_clusters(index) -> dict:\n",
    "    \"\"\"\n",
    "    The SimHash library does not have a way to determine clusters, so this function serves that \n",
    "    purpose.  The SimHash index.bucket is a dictionary whose keys are the hash keys and whose \n",
    "    values are lists of [hash, doc_id].  So by splitting these on commas and taking the second \n",
    "    element, it is possible to get a list of document Ids in the same bucket (cluster).\n",
    "    \n",
    "    The bucket keys are determined by index.get_keys().  They are in the form c:i, where c is \n",
    "    the result of some bitwise operation on the hash, and i is the offset determined by the \n",
    "    tolerance (distance) threshold k.  For example, if k=1, then there will be a bucket key for \n",
    "    i=0 and i=1.  If k=2, then there will be 3 bucket keys, etc.  An example of a bucket key is: \n",
    "    554607d1:0.  All of the documents per bucket key need to be considered for similarity, and there \n",
    "    could be multiple documents per bucket key.  Though every document for each bucket key needs \n",
    "    to be checked, not all of them will ultimately be similar.  That depends on the tolerance \n",
    "    threshold, k.  \n",
    "    \n",
    "    :param index: SimHash index object\n",
    "    \"\"\"\n",
    "    clusters = {}\n",
    "    cluster_id = 0\n",
    "    for simhash_key, hashes in index.bucket.items():\n",
    "        similar_doc_ids = [int(hash_details.split(\",\")[1]) for hash_details in hashes]\n",
    "        clusters[cluster_id] = set(similar_doc_ids)\n",
    "        cluster_id += 1\n",
    "    return clusters\n",
    "\n",
    "\n",
    "def build_adjacency_matrix_from_clusters(clusters: dict, nbr_documents: int):\n",
    "    \"\"\"\n",
    "    Given the clusters, build a square, sparse adjanceny matrix that shows which documents \n",
    "    are connected (documents are connected if they are in the same cluster).  \n",
    "    \n",
    "    :param clusters: The cluster dictionary from determine_clusters()\n",
    "    :param nbr_documents: The total number of documents.  The matrix will have this many rows and columns.\n",
    "    \"\"\"\n",
    "    # create a list of tuples representing the edges in a graph\n",
    "    edges = set([(x, y) for c in clusters.values() for x, y in combinations_with_replacement(c, 2)])\n",
    "    # create a square adjency matrix from the edge list\n",
    "    matrix_shape = (nbr_documents, nbr_documents)\n",
    "    rows, cols = zip(*edges)\n",
    "    sparse_mat = coo_matrix((np.ones(len(edges)), (rows, cols)), shape=matrix_shape)\n",
    "    return sparse_mat\n",
    "\n",
    "\n",
    "def get_one_sample_text_per_cluster(df: pd.DataFrame, text_col) -> dict:\n",
    "    \"\"\"\n",
    "    Clusters have similar texts, so take the first one per cluster to reduce the number of documents \n",
    "    that the similarity search has to run through.  Haystack expects the input to be a list of dictionaries \n",
    "    in the following format, which is what this function creates:\n",
    "        [{'doc_id': 0, 'content': 'this is a document'}, {'doc_id': 1, 'content': 'this is another document'}]\n",
    "    \n",
    "    :param df: Dataframe with the texts\n",
    "    :param text_col: Name of the column with the document text\n",
    "    \"\"\"\n",
    "    grouped = df.groupby('cluster').first().rename(columns={text_col: 'content'})\n",
    "    return grouped[['doc_id', 'content']].to_dict(orient='records')"
   ]
  },
  {
   "cell_type": "code",
   "execution_count": 3,
   "id": "5eadb4d6",
   "metadata": {},
   "outputs": [
    {
     "data": {
      "text/html": [
       "<div>\n",
       "<style scoped>\n",
       "    .dataframe tbody tr th:only-of-type {\n",
       "        vertical-align: middle;\n",
       "    }\n",
       "\n",
       "    .dataframe tbody tr th {\n",
       "        vertical-align: top;\n",
       "    }\n",
       "\n",
       "    .dataframe thead th {\n",
       "        text-align: right;\n",
       "    }\n",
       "</style>\n",
       "<table border=\"1\" class=\"dataframe\">\n",
       "  <thead>\n",
       "    <tr style=\"text-align: right;\">\n",
       "      <th></th>\n",
       "      <th>pair_id</th>\n",
       "      <th>doc_id_a</th>\n",
       "      <th>text_a</th>\n",
       "      <th>doc_id_b</th>\n",
       "      <th>text_b</th>\n",
       "      <th>label</th>\n",
       "      <th>expected_cluster_a</th>\n",
       "      <th>expected_cluster_b</th>\n",
       "    </tr>\n",
       "  </thead>\n",
       "  <tbody>\n",
       "    <tr>\n",
       "      <th>0</th>\n",
       "      <td>0</td>\n",
       "      <td>0</td>\n",
       "      <td>I lived at West Egg, the--well, the less fashi...</td>\n",
       "      <td>0</td>\n",
       "      <td>I lived at West Egg, the--well, the less fashi...</td>\n",
       "      <td>0</td>\n",
       "      <td>0</td>\n",
       "      <td>0</td>\n",
       "    </tr>\n",
       "    <tr>\n",
       "      <th>1</th>\n",
       "      <td>1</td>\n",
       "      <td>0</td>\n",
       "      <td>I lived at West Egg, the--well, the less fashi...</td>\n",
       "      <td>1</td>\n",
       "      <td>I lived at West Egg, the less fashionable of t...</td>\n",
       "      <td>1</td>\n",
       "      <td>0</td>\n",
       "      <td>0</td>\n",
       "    </tr>\n",
       "    <tr>\n",
       "      <th>2</th>\n",
       "      <td>2</td>\n",
       "      <td>0</td>\n",
       "      <td>I lived at West Egg, the--well, the less fashi...</td>\n",
       "      <td>2</td>\n",
       "      <td>I lived at the very tip of West Egg, fifty yar...</td>\n",
       "      <td>2</td>\n",
       "      <td>0</td>\n",
       "      <td>0</td>\n",
       "    </tr>\n",
       "    <tr>\n",
       "      <th>3</th>\n",
       "      <td>3</td>\n",
       "      <td>0</td>\n",
       "      <td>I lived at West Egg, the--well, the less fashi...</td>\n",
       "      <td>3</td>\n",
       "      <td>The Normandy American Cemetery and Memorial in...</td>\n",
       "      <td>3</td>\n",
       "      <td>0</td>\n",
       "      <td>2</td>\n",
       "    </tr>\n",
       "    <tr>\n",
       "      <th>4</th>\n",
       "      <td>4</td>\n",
       "      <td>0</td>\n",
       "      <td>I lived at West Egg, the--well, the less fashi...</td>\n",
       "      <td>4</td>\n",
       "      <td>The other girl, Daisy, made an attempt to rise...</td>\n",
       "      <td>4</td>\n",
       "      <td>0</td>\n",
       "      <td>3</td>\n",
       "    </tr>\n",
       "  </tbody>\n",
       "</table>\n",
       "</div>"
      ],
      "text/plain": [
       "   pair_id  doc_id_a                                             text_a  \\\n",
       "0        0         0  I lived at West Egg, the--well, the less fashi...   \n",
       "1        1         0  I lived at West Egg, the--well, the less fashi...   \n",
       "2        2         0  I lived at West Egg, the--well, the less fashi...   \n",
       "3        3         0  I lived at West Egg, the--well, the less fashi...   \n",
       "4        4         0  I lived at West Egg, the--well, the less fashi...   \n",
       "\n",
       "   doc_id_b                                             text_b  label  \\\n",
       "0         0  I lived at West Egg, the--well, the less fashi...      0   \n",
       "1         1  I lived at West Egg, the less fashionable of t...      1   \n",
       "2         2  I lived at the very tip of West Egg, fifty yar...      2   \n",
       "3         3  The Normandy American Cemetery and Memorial in...      3   \n",
       "4         4  The other girl, Daisy, made an attempt to rise...      4   \n",
       "\n",
       "   expected_cluster_a  expected_cluster_b  \n",
       "0                   0                   0  \n",
       "1                   0                   0  \n",
       "2                   0                   0  \n",
       "3                   0                   2  \n",
       "4                   0                   3  "
      ]
     },
     "execution_count": 3,
     "metadata": {},
     "output_type": "execute_result"
    }
   ],
   "source": [
    "d = pd.read_csv(\"mock_similarity_data.csv\")\n",
    "d.head()"
   ]
  },
  {
   "cell_type": "markdown",
   "id": "ba1ff55b",
   "metadata": {},
   "source": [
    "## SimHash"
   ]
  },
  {
   "cell_type": "code",
   "execution_count": 126,
   "id": "216412b9",
   "metadata": {},
   "outputs": [],
   "source": [
    "# threshold must be an integer\n",
    "hash_distance_limit = int(6)"
   ]
  },
  {
   "cell_type": "code",
   "execution_count": 127,
   "id": "07d363af",
   "metadata": {},
   "outputs": [
    {
     "name": "stdout",
     "output_type": "stream",
     "text": [
      "30 documents hashed\n"
     ]
    }
   ],
   "source": [
    "# ingest and hash documents\n",
    "hashable_df = pd.DataFrame({\n",
    "    \"text\": d['text_a'].tolist() + d['text_b'].tolist(),\n",
    "    \"expected_cluster\": d['expected_cluster_a'].tolist() + d['expected_cluster_b'].tolist(),\n",
    "})\n",
    "df_objs, index = hash_and_index_documents(\n",
    "    docs=hashable_df,\n",
    "    text_col='text',\n",
    "    distance_threshold=hash_distance_limit\n",
    ")\n",
    "print(f\"{len(hashable_df)} documents hashed\")"
   ]
  },
  {
   "cell_type": "code",
   "execution_count": 128,
   "id": "8e6f55b8",
   "metadata": {},
   "outputs": [
    {
     "name": "stdout",
     "output_type": "stream",
     "text": [
      "8 clusters found\n"
     ]
    }
   ],
   "source": [
    "# get the cluster for each document\n",
    "clusters = determine_clusters(index)\n",
    "sparse_mat = build_adjacency_matrix_from_clusters(clusters=clusters, nbr_documents=len(hashable_df))\n",
    "nbr_clusters, cluster = connected_components(sparse_mat)\n",
    "hashable_df['cluster'] = cluster\n",
    "hashable_df = hashable_df.reset_index(drop=False).rename(columns={'index':'doc_id'})\n",
    "doc_id_to_cluster_map = dict(zip(hashable_df['doc_id'], hashable_df['cluster']))\n",
    "print(f\"{nbr_clusters} clusters found\")"
   ]
  },
  {
   "cell_type": "code",
   "execution_count": 129,
   "id": "21d98c72",
   "metadata": {},
   "outputs": [
    {
     "data": {
      "text/plain": [
       "{0: {0, 1, 2, 3, 4, 15},\n",
       " 1: {0, 1, 2, 3, 4, 15},\n",
       " 2: {0, 1, 2, 3, 4, 10, 11, 12, 13, 14, 15, 25},\n",
       " 3: {0, 1, 2, 3, 4, 15, 16},\n",
       " 4: {0, 1, 2, 3, 4, 15, 18},\n",
       " 5: {0, 1, 2, 3, 4, 15, 16},\n",
       " 6: {0, 1, 2, 3, 4, 15},\n",
       " 7: {5, 6, 7, 8, 9, 20},\n",
       " 8: {5, 6, 7, 8, 9, 20},\n",
       " 9: {5, 6, 7, 8, 9, 20},\n",
       " 10: {5, 6, 7, 8, 9, 10, 11, 12, 13, 14, 20, 25},\n",
       " 11: {5, 6, 7, 8, 9, 20},\n",
       " 12: {5, 6, 7, 8, 9, 20},\n",
       " 13: {5, 6, 7, 8, 9, 20},\n",
       " 14: {10, 11, 12, 13, 14, 24, 25},\n",
       " 15: {10, 11, 12, 13, 14, 25},\n",
       " 16: {10, 11, 12, 13, 14, 25},\n",
       " 17: {10, 11, 12, 13, 14, 25},\n",
       " 18: {10, 11, 12, 13, 14, 25},\n",
       " 19: {16},\n",
       " 20: {16},\n",
       " 21: {16, 26},\n",
       " 22: {16},\n",
       " 23: {16},\n",
       " 24: {17},\n",
       " 25: {17},\n",
       " 26: {17},\n",
       " 27: {17},\n",
       " 28: {17},\n",
       " 29: {17},\n",
       " 30: {17},\n",
       " 31: {18},\n",
       " 32: {18},\n",
       " 33: {18},\n",
       " 34: {18},\n",
       " 35: {18},\n",
       " 36: {18},\n",
       " 37: {19},\n",
       " 38: {19},\n",
       " 39: {19},\n",
       " 40: {19},\n",
       " 41: {19},\n",
       " 42: {19},\n",
       " 43: {19},\n",
       " 44: {21, 26},\n",
       " 45: {21},\n",
       " 46: {21},\n",
       " 47: {21},\n",
       " 48: {21},\n",
       " 49: {21},\n",
       " 50: {21},\n",
       " 51: {22},\n",
       " 52: {22},\n",
       " 53: {22},\n",
       " 54: {22},\n",
       " 55: {22},\n",
       " 56: {22},\n",
       " 57: {22},\n",
       " 58: {23},\n",
       " 59: {23},\n",
       " 60: {23},\n",
       " 61: {23},\n",
       " 62: {23},\n",
       " 63: {23},\n",
       " 64: {23},\n",
       " 65: {24},\n",
       " 66: {24},\n",
       " 67: {24},\n",
       " 68: {24},\n",
       " 69: {24},\n",
       " 70: {24},\n",
       " 71: {26},\n",
       " 72: {26},\n",
       " 73: {26},\n",
       " 74: {26},\n",
       " 75: {26},\n",
       " 76: {27},\n",
       " 77: {27},\n",
       " 78: {27},\n",
       " 79: {27},\n",
       " 80: {27},\n",
       " 81: {27},\n",
       " 82: {27},\n",
       " 83: {28},\n",
       " 84: {28},\n",
       " 85: {28},\n",
       " 86: {28},\n",
       " 87: {28},\n",
       " 88: {28},\n",
       " 89: {28},\n",
       " 90: {29},\n",
       " 91: {29},\n",
       " 92: {29},\n",
       " 93: {29},\n",
       " 94: {29},\n",
       " 95: {29},\n",
       " 96: {29}}"
      ]
     },
     "execution_count": 129,
     "metadata": {},
     "output_type": "execute_result"
    }
   ],
   "source": [
    "clusters"
   ]
  },
  {
   "cell_type": "code",
   "execution_count": 130,
   "id": "ef4cc784",
   "metadata": {},
   "outputs": [
    {
     "name": "stdout",
     "output_type": "stream",
     "text": [
      "1d1:0\n",
      "103:1\n",
      "151:2\n",
      "a:3\n",
      "85:4\n",
      "1:5\n",
      "2ac:6\n"
     ]
    }
   ],
   "source": [
    "for k in index.get_keys(df_objs[0][1]):\n",
    "    print(k)"
   ]
  },
  {
   "cell_type": "code",
   "execution_count": 137,
   "id": "348cbcb4",
   "metadata": {},
   "outputs": [
    {
     "name": "stdout",
     "output_type": "stream",
     "text": [
      "1d1:0 - 6 - [4, 1, 15, 0, 3, 2]\n",
      "103:1 - 6 - [4, 1, 15, 0, 3, 2]\n",
      "151:2 - 12 - [25, 4, 1, 10, 14, 15, 12, 0, 3, 2, 11, 13]\n",
      "a:3 - 7 - [4, 1, 15, 0, 3, 2, 16]\n",
      "85:4 - 7 - [4, 1, 15, 0, 18, 3, 2]\n",
      "1:5 - 7 - [4, 1, 15, 0, 3, 2, 16]\n",
      "2ac:6 - 6 - [4, 1, 15, 0, 3, 2]\n",
      "117:0 - 6 - [8, 9, 5, 6, 20, 7]\n",
      "1be:1 - 6 - [8, 9, 5, 6, 20, 7]\n",
      "78:2 - 6 - [8, 9, 5, 6, 20, 7]\n",
      "6b:3 - 12 - [25, 10, 8, 14, 9, 20, 5, 12, 6, 11, 13, 7]\n",
      "1ec:4 - 6 - [8, 9, 5, 6, 20, 7]\n",
      "28:5 - 6 - [8, 9, 5, 6, 20, 7]\n",
      "8e:6 - 6 - [8, 9, 5, 6, 20, 7]\n",
      "152:0 - 7 - [25, 10, 14, 12, 24, 11, 13]\n",
      "bb:1 - 6 - [25, 10, 14, 12, 11, 13]\n",
      "c4:4 - 6 - [25, 10, 14, 12, 11, 13]\n",
      "6a:5 - 6 - [25, 10, 14, 12, 11, 13]\n",
      "46:6 - 6 - [25, 10, 14, 12, 11, 13]\n",
      "1d3:0 - 1 - [16]\n",
      "123:1 - 1 - [16]\n",
      "153:2 - 2 - [26, 16]\n",
      "87:4 - 1 - [16]\n",
      "2a6:6 - 1 - [16]\n",
      "159:0 - 1 - [17]\n",
      "151:1 - 1 - [17]\n",
      "171:2 - 1 - [17]\n",
      "ca:3 - 1 - [17]\n",
      "1a:4 - 1 - [17]\n",
      "3:5 - 1 - [17]\n",
      "2e4:6 - 1 - [17]\n",
      "137:0 - 1 - [18]\n",
      "1ab:1 - 1 - [18]\n",
      "175:2 - 1 - [18]\n",
      "8a:3 - 1 - [18]\n",
      "2a:5 - 1 - [18]\n",
      "2ed:6 - 1 - [18]\n",
      "143:0 - 1 - [19]\n",
      "a2:1 - 1 - [19]\n",
      "150:2 - 1 - [19]\n",
      "4b:3 - 1 - [19]\n",
      "b7:4 - 1 - [19]\n",
      "108:5 - 1 - [19]\n",
      "14a:6 - 1 - [19]\n",
      "153:0 - 2 - [26, 21]\n",
      "19f:1 - 1 - [21]\n",
      "68:2 - 1 - [21]\n",
      "2f:3 - 1 - [21]\n",
      "14c:4 - 1 - [21]\n",
      "69:5 - 1 - [21]\n",
      "86:6 - 1 - [21]\n",
      "14b:0 - 1 - [22]\n",
      "6a:1 - 1 - [22]\n",
      "1e5:2 - 1 - [22]\n",
      "13f:3 - 1 - [22]\n",
      "cf:4 - 1 - [22]\n",
      "14c:5 - 1 - [22]\n",
      "2c6:6 - 1 - [22]\n",
      "1df:0 - 1 - [23]\n",
      "1b5:1 - 1 - [23]\n",
      "174:2 - 1 - [23]\n",
      "ec:3 - 1 - [23]\n",
      "cc:4 - 1 - [23]\n",
      "5c:5 - 1 - [23]\n",
      "1ee:6 - 1 - [23]\n",
      "1a5:1 - 1 - [24]\n",
      "1d5:2 - 1 - [24]\n",
      "2a:3 - 1 - [24]\n",
      "8d:4 - 1 - [24]\n",
      "48:5 - 1 - [24]\n",
      "296:6 - 1 - [24]\n",
      "f7:1 - 1 - [26]\n",
      "6a:3 - 1 - [26]\n",
      "e4:4 - 1 - [26]\n",
      "4a:5 - 1 - [26]\n",
      "42:6 - 1 - [26]\n",
      "113:0 - 1 - [27]\n",
      "a7:1 - 1 - [27]\n",
      "52:2 - 1 - [27]\n",
      "6f:3 - 1 - [27]\n",
      "26:4 - 1 - [27]\n",
      "46:5 - 1 - [27]\n",
      "c0:6 - 1 - [27]\n",
      "163:0 - 1 - [28]\n",
      "129:1 - 1 - [28]\n",
      "40:2 - 1 - [28]\n",
      "af:3 - 1 - [28]\n",
      "d8:4 - 1 - [28]\n",
      "14a:5 - 1 - [28]\n",
      "28a:6 - 1 - [28]\n",
      "10:0 - 1 - [29]\n",
      "2b:1 - 1 - [29]\n",
      "1a5:2 - 1 - [29]\n",
      "2e:3 - 1 - [29]\n",
      "f5:4 - 1 - [29]\n",
      "0:5 - 1 - [29]\n",
      "22b:6 - 1 - [29]\n"
     ]
    }
   ],
   "source": [
    "df_objs[0][1].value\n",
    "alt_clusters = {}\n",
    "cluster_id = 0\n",
    "for simhash_key, hashes in index.bucket.items():\n",
    "    print(simhash_key, \"-\", len(hashes), \"-\", [int(hash_details.split(\",\")[1]) for hash_details in hashes])\n",
    "    similar_doc_ids = [int(hash_details.split(\",\")[1]) for hash_details in hashes]\n",
    "    alt_clusters[cluster_id] = set(similar_doc_ids)\n",
    "    cluster_id += 1"
   ]
  },
  {
   "cell_type": "code",
   "execution_count": 133,
   "id": "dc29d3f1",
   "metadata": {},
   "outputs": [
    {
     "data": {
      "text/plain": [
       "{'0': {'0', '1', '15', '16', '2', '3', '4'},\n",
       " '1': {'0', '1', '15', '16', '2', '3', '4'},\n",
       " '2': {'0', '1', '15', '16', '2', '3', '4'},\n",
       " '3': {'0', '1', '15', '16', '2', '3', '4'},\n",
       " '4': {'0', '1', '15', '16', '2', '3', '4'},\n",
       " '5': {'20', '5', '6', '7', '8', '9'},\n",
       " '6': {'20', '5', '6', '7', '8', '9'},\n",
       " '7': {'20', '5', '6', '7', '8', '9'},\n",
       " '8': {'20', '5', '6', '7', '8', '9'},\n",
       " '9': {'20', '5', '6', '7', '8', '9'},\n",
       " '10': {'10', '11', '12', '13', '14', '25'},\n",
       " '11': {'10', '11', '12', '13', '14', '25'},\n",
       " '12': {'10', '11', '12', '13', '14', '25'},\n",
       " '13': {'10', '11', '12', '13', '14', '25'},\n",
       " '14': {'10', '11', '12', '13', '14', '25'},\n",
       " '15': {'0', '1', '15', '16', '2', '3', '4'},\n",
       " '16': {'0', '1', '15', '16', '2', '3', '4'},\n",
       " '17': {'17'},\n",
       " '18': {'18'},\n",
       " '19': {'19'},\n",
       " '20': {'20', '5', '6', '7', '8', '9'},\n",
       " '21': {'21'},\n",
       " '22': {'22'},\n",
       " '23': {'23'},\n",
       " '24': {'24'},\n",
       " '25': {'10', '11', '12', '13', '14', '25'},\n",
       " '26': {'26'},\n",
       " '27': {'27'},\n",
       " '28': {'28'},\n",
       " '29': {'29'}}"
      ]
     },
     "execution_count": 133,
     "metadata": {},
     "output_type": "execute_result"
    }
   ],
   "source": [
    "# sense check: these should align with the clusters\n",
    "simhash_clusters = {doc[0]: set(index.get_near_dups(doc[1])) for doc in df_objs}\n",
    "simhash_clusters"
   ]
  },
  {
   "cell_type": "code",
   "execution_count": 138,
   "id": "4f5fc438",
   "metadata": {},
   "outputs": [],
   "source": [
    "G = nx.from_scipy_sparse_array(sparse_mat)\n",
    "\n",
    "# determine node position from a given layout (use the spring layout)\n",
    "pos = nx.spring_layout(G)\n",
    "\n",
    "# assign node data attributes, such as position\n",
    "for n in G.nodes:\n",
    "    G.nodes[n]['pos'] = pos[n]\n",
    "    G.nodes[n]['doc_id'] = hashable_df.loc[n, 'doc_id']\n",
    "    G.nodes[n]['text'] = hashable_df.loc[n, 'text']\n",
    "    G.nodes[n]['expected_cluster'] = hashable_df.loc[n, 'expected_cluster']\n",
    "    G.nodes[n]['cluster'] = hashable_df.loc[n, 'cluster']"
   ]
  },
  {
   "cell_type": "code",
   "execution_count": 139,
   "id": "1831fb7f",
   "metadata": {},
   "outputs": [],
   "source": [
    "def plot_graph(G):\n",
    "    \"\"\"\n",
    "    Plots a NetworkX graph object with Plotly\n",
    "    \"\"\"\n",
    "    # get edge positions for graph\n",
    "    edge_x = []\n",
    "    edge_y = []\n",
    "    for edge in G.edges():\n",
    "        x0, y0 = G.nodes[edge[0]]['pos']\n",
    "        x1, y1 = G.nodes[edge[1]]['pos']\n",
    "        edge_x.append(x0)\n",
    "        edge_x.append(x1)\n",
    "        edge_x.append(None)\n",
    "        edge_y.append(y0)\n",
    "        edge_y.append(y1)\n",
    "        edge_y.append(None)\n",
    "\n",
    "    # plot edges\n",
    "    edge_trace = go.Scatter(\n",
    "        x=edge_x, y=edge_y,\n",
    "        line=dict(width=0.5, color='#888'),\n",
    "        hoverinfo='none',\n",
    "        mode='lines')\n",
    "\n",
    "    # get node positions for graph\n",
    "    node_x = []\n",
    "    node_y = []\n",
    "    for node in G.nodes:\n",
    "        x, y = G.nodes[node]['pos']\n",
    "        node_x.append(x)\n",
    "        node_y.append(y)\n",
    "\n",
    "    # plot nodes\n",
    "    node_trace = go.Scatter(\n",
    "        x=node_x, y=node_y,\n",
    "        mode='markers',\n",
    "        hoverinfo='text',\n",
    "        marker=dict(\n",
    "            showscale=True,\n",
    "            # colorscale options\n",
    "            #'Greys' | 'YlGnBu' | 'Greens' | 'YlOrRd' | 'Bluered' | 'RdBu' |\n",
    "            #'Reds' | 'Blues' | 'Picnic' | 'Rainbow' | 'Portland' | 'Jet' |\n",
    "            #'Hot' | 'Blackbody' | 'Earth' | 'Electric' | 'Viridis' |\n",
    "            colorscale='YlGnBu',\n",
    "            reversescale=True,\n",
    "            color=[],\n",
    "            size=14,\n",
    "            colorbar=dict(\n",
    "                thickness=15,\n",
    "                title='Node Connections',\n",
    "                xanchor='left',\n",
    "                titleside='right'\n",
    "            ),\n",
    "            line_width=2))\n",
    "    \n",
    "    # color nodes by the number of connections\n",
    "    node_adjacencies = []\n",
    "    node_text = []\n",
    "    for node, adjacencies in enumerate(G.adjacency()):\n",
    "        node_adjacencies.append(len(adjacencies[1]))\n",
    "        node_text.append((\n",
    "            f\"Doc ID: {G.nodes[node]['doc_id']} <br>\"\n",
    "            f\"Text: {G.nodes[node]['text'][:75]} <br>\"\n",
    "            f\"Expected Cluster: {G.nodes[node]['expected_cluster']} <br>\"\n",
    "            f\"Cluster: {G.nodes[node]['cluster']}\"\n",
    "        ))\n",
    "\n",
    "    node_trace.marker.color = node_adjacencies\n",
    "    node_trace.text = node_text\n",
    "    \n",
    "    # create the plot\n",
    "    fig = go.Figure(\n",
    "        data=[edge_trace, node_trace],\n",
    "        layout=go.Layout(\n",
    "            title=f'Network Graph from SimHash Sparse Matrix, Distance Thresh: {hash_distance_limit}',\n",
    "            titlefont_size=16,\n",
    "            showlegend=False,\n",
    "            hovermode='closest',\n",
    "            margin=dict(b=20,l=5,r=5,t=40),\n",
    "            annotations=[ \n",
    "                dict(\n",
    "                    text=\"Python code: <a href='https://plotly.com/ipython-notebooks/network-graphs/'> https://plotly.com/ipython-notebooks/network-graphs/</a>\",\n",
    "                    showarrow=False,\n",
    "                    xref=\"paper\", \n",
    "                    yref=\"paper\",\n",
    "                    x=0.005, \n",
    "                    y=-0.002 \n",
    "                ) \n",
    "            ],\n",
    "            xaxis=dict(showgrid=False, zeroline=False, showticklabels=False),\n",
    "            yaxis=dict(showgrid=False, zeroline=False, showticklabels=False)\n",
    "        )\n",
    "    )\n",
    "    \n",
    "    return fig"
   ]
  },
  {
   "cell_type": "code",
   "execution_count": 140,
   "id": "2e6cbb66",
   "metadata": {},
   "outputs": [
    {
     "data": {
      "application/vnd.plotly.v1+json": {
       "config": {
        "plotlyServerURL": "https://plot.ly"
       },
       "data": [
        {
         "hoverinfo": "none",
         "line": {
          "color": "#888",
          "width": 0.5
         },
         "mode": "lines",
         "type": "scatter",
         "x": [
          0.06380315901140284,
          -0.006204891042023882,
          null,
          0.06380315901140284,
          0.136689025935237,
          null,
          0.06380315901140284,
          0.06380315901140284,
          null,
          0.06380315901140284,
          0.03540884868323941,
          null,
          0.06380315901140284,
          -0.01222201135160913,
          null,
          0.06380315901140284,
          0.0855572522453652,
          null,
          0.06380315901140284,
          -0.03177099745313489,
          null,
          0.06380315901140284,
          0.05194639356993582,
          null,
          0.06380315901140284,
          -0.02842108942161875,
          null,
          0.06380315901140284,
          0.05556491298271121,
          null,
          0.06380315901140284,
          0.03867275527515568,
          null,
          0.06380315901140284,
          0.0004979805736159146,
          null,
          0.06380315901140284,
          0.016637952210897942,
          null,
          0.06380315901140284,
          -0.02184763145075418,
          null,
          0.03867275527515568,
          0.05556491298271121,
          null,
          0.03867275527515568,
          0.0004979805736159146,
          null,
          0.03867275527515568,
          0.016637952210897942,
          null,
          0.03867275527515568,
          -0.02184763145075418,
          null,
          0.03867275527515568,
          -0.006204891042023882,
          null,
          0.03867275527515568,
          0.136689025935237,
          null,
          0.03867275527515568,
          -0.01222201135160913,
          null,
          0.03867275527515568,
          0.0855572522453652,
          null,
          0.03867275527515568,
          0.03540884868323941,
          null,
          0.03867275527515568,
          -0.03177099745313489,
          null,
          0.03867275527515568,
          0.05194639356993582,
          null,
          0.03867275527515568,
          -0.02842108942161875,
          null,
          0.03867275527515568,
          0.03867275527515568,
          null,
          0.03540884868323941,
          0.03540884868323941,
          null,
          0.03540884868323941,
          -0.03177099745313489,
          null,
          0.03540884868323941,
          0.05194639356993582,
          null,
          0.03540884868323941,
          -0.01222201135160913,
          null,
          0.03540884868323941,
          -0.02842108942161875,
          null,
          0.03540884868323941,
          0.05556491298271121,
          null,
          0.03540884868323941,
          0.0004979805736159146,
          null,
          0.03540884868323941,
          0.016637952210897942,
          null,
          0.03540884868323941,
          -0.02184763145075418,
          null,
          0.03540884868323941,
          -0.006204891042023882,
          null,
          0.03540884868323941,
          0.136689025935237,
          null,
          0.03540884868323941,
          0.0855572522453652,
          null,
          0.016637952210897942,
          -0.02842108942161875,
          null,
          0.016637952210897942,
          0.05556491298271121,
          null,
          0.016637952210897942,
          0.0004979805736159146,
          null,
          0.016637952210897942,
          0.016637952210897942,
          null,
          0.016637952210897942,
          -0.02184763145075418,
          null,
          0.016637952210897942,
          -0.006204891042023882,
          null,
          0.016637952210897942,
          0.136689025935237,
          null,
          0.016637952210897942,
          -0.01222201135160913,
          null,
          0.016637952210897942,
          0.0855572522453652,
          null,
          0.016637952210897942,
          -0.03177099745313489,
          null,
          0.016637952210897942,
          0.05194639356993582,
          null,
          0.05194639356993582,
          -0.01222201135160913,
          null,
          0.05194639356993582,
          0.0855572522453652,
          null,
          0.05194639356993582,
          -0.03177099745313489,
          null,
          0.05194639356993582,
          0.05194639356993582,
          null,
          0.05194639356993582,
          -0.02842108942161875,
          null,
          0.05194639356993582,
          0.05556491298271121,
          null,
          0.05194639356993582,
          0.0004979805736159146,
          null,
          0.05194639356993582,
          -0.02184763145075418,
          null,
          0.05194639356993582,
          -0.006204891042023882,
          null,
          0.05194639356993582,
          0.136689025935237,
          null,
          -0.05063492478063457,
          0.0004979805736159146,
          null,
          -0.05063492478063457,
          -0.02184763145075418,
          null,
          -0.05063492478063457,
          -0.05063492478063457,
          null,
          -0.05063492478063457,
          -0.006204891042023882,
          null,
          -0.05063492478063457,
          -0.06871243522106489,
          null,
          -0.05063492478063457,
          -0.01222201135160913,
          null,
          -0.05063492478063457,
          -0.09651184083697616,
          null,
          -0.05063492478063457,
          -0.03177099745313489,
          null,
          -0.05063492478063457,
          -0.02842108942161875,
          null,
          -0.05063492478063457,
          -0.09028496219962363,
          null,
          -0.05063492478063457,
          -0.09001491625909622,
          null,
          -0.05063492478063457,
          -0.0766849489756065,
          null,
          -0.09028496219962363,
          -0.03177099745313489,
          null,
          -0.09028496219962363,
          -0.09001491625909622,
          null,
          -0.09028496219962363,
          -0.02842108942161875,
          null,
          -0.09028496219962363,
          -0.09028496219962363,
          null,
          -0.09028496219962363,
          -0.0766849489756065,
          null,
          -0.09028496219962363,
          0.0004979805736159146,
          null,
          -0.09028496219962363,
          -0.02184763145075418,
          null,
          -0.09028496219962363,
          -0.006204891042023882,
          null,
          -0.09028496219962363,
          -0.06871243522106489,
          null,
          -0.09028496219962363,
          -0.01222201135160913,
          null,
          -0.09028496219962363,
          -0.09651184083697616,
          null,
          -0.06871243522106489,
          0.0004979805736159146,
          null,
          -0.06871243522106489,
          -0.02184763145075418,
          null,
          -0.06871243522106489,
          -0.006204891042023882,
          null,
          -0.06871243522106489,
          -0.06871243522106489,
          null,
          -0.06871243522106489,
          -0.09651184083697616,
          null,
          -0.06871243522106489,
          -0.03177099745313489,
          null,
          -0.06871243522106489,
          -0.01222201135160913,
          null,
          -0.06871243522106489,
          -0.09001491625909622,
          null,
          -0.06871243522106489,
          -0.02842108942161875,
          null,
          -0.06871243522106489,
          -0.0766849489756065,
          null,
          -0.0766849489756065,
          -0.09651184083697616,
          null,
          -0.0766849489756065,
          -0.03177099745313489,
          null,
          -0.0766849489756065,
          -0.01222201135160913,
          null,
          -0.0766849489756065,
          -0.09001491625909622,
          null,
          -0.0766849489756065,
          -0.02842108942161875,
          null,
          -0.0766849489756065,
          -0.0766849489756065,
          null,
          -0.0766849489756065,
          0.0004979805736159146,
          null,
          -0.0766849489756065,
          -0.02184763145075418,
          null,
          -0.0766849489756065,
          -0.006204891042023882,
          null,
          -0.09651184083697616,
          0.0004979805736159146,
          null,
          -0.09651184083697616,
          -0.02184763145075418,
          null,
          -0.09651184083697616,
          -0.006204891042023882,
          null,
          -0.09651184083697616,
          -0.09651184083697616,
          null,
          -0.09651184083697616,
          -0.01222201135160913,
          null,
          -0.09651184083697616,
          -0.03177099745313489,
          null,
          -0.09651184083697616,
          -0.09001491625909622,
          null,
          -0.09651184083697616,
          -0.02842108942161875,
          null,
          0.0004979805736159146,
          -0.09001491625909622,
          null,
          0.0004979805736159146,
          0.05556491298271121,
          null,
          0.0004979805736159146,
          0.006876070107421609,
          null,
          0.0004979805736159146,
          0.0004979805736159146,
          null,
          0.0004979805736159146,
          -0.02184763145075418,
          null,
          0.0004979805736159146,
          -0.006204891042023882,
          null,
          0.0004979805736159146,
          -0.01222201135160913,
          null,
          0.0004979805736159146,
          -0.03177099745313489,
          null,
          0.0004979805736159146,
          -0.02842108942161875,
          null,
          -0.03177099745313489,
          -0.006204891042023882,
          null,
          -0.03177099745313489,
          -0.01222201135160913,
          null,
          -0.03177099745313489,
          -0.03177099745313489,
          null,
          -0.03177099745313489,
          -0.09001491625909622,
          null,
          -0.03177099745313489,
          -0.02842108942161875,
          null,
          -0.03177099745313489,
          0.05556491298271121,
          null,
          -0.03177099745313489,
          0.006876070107421609,
          null,
          -0.03177099745313489,
          -0.02184763145075418,
          null,
          -0.02184763145075418,
          -0.01222201135160913,
          null,
          -0.02184763145075418,
          -0.09001491625909622,
          null,
          -0.02184763145075418,
          -0.02842108942161875,
          null,
          -0.02184763145075418,
          0.05556491298271121,
          null,
          -0.02184763145075418,
          0.006876070107421609,
          null,
          -0.02184763145075418,
          -0.02184763145075418,
          null,
          -0.02184763145075418,
          -0.006204891042023882,
          null,
          -0.02842108942161875,
          -0.006204891042023882,
          null,
          -0.02842108942161875,
          -0.01222201135160913,
          null,
          -0.02842108942161875,
          -0.09001491625909622,
          null,
          -0.02842108942161875,
          -0.02842108942161875,
          null,
          -0.02842108942161875,
          0.05556491298271121,
          null,
          -0.02842108942161875,
          0.006876070107421609,
          null,
          -0.006204891042023882,
          0.05556491298271121,
          null,
          -0.006204891042023882,
          0.006876070107421609,
          null,
          -0.006204891042023882,
          -0.006204891042023882,
          null,
          -0.006204891042023882,
          -0.01222201135160913,
          null,
          -0.006204891042023882,
          -0.09001491625909622,
          null,
          0.05556491298271121,
          0.136689025935237,
          null,
          0.05556491298271121,
          -0.01222201135160913,
          null,
          0.05556491298271121,
          0.0855572522453652,
          null,
          0.05556491298271121,
          0.05556491298271121,
          null,
          0.136689025935237,
          0.3000247417087752,
          null,
          0.136689025935237,
          0.136689025935237,
          null,
          -0.7466345928773536,
          -0.7466345928773536,
          null,
          0.0855572522453652,
          0.0855572522453652,
          null,
          -1,
          -1,
          null,
          -0.09001491625909622,
          -0.09001491625909622,
          null,
          -0.09001491625909622,
          -0.01222201135160913,
          null,
          0.4146486071740513,
          0.3000247417087752,
          null,
          0.4146486071740513,
          0.4146486071740513,
          null,
          0.872884025401906,
          0.872884025401906,
          null,
          -0.6797610681951511,
          -0.6797610681951511,
          null,
          0.006876070107421609,
          0.006876070107421609,
          null,
          0.006876070107421609,
          -0.01222201135160913,
          null,
          -0.01222201135160913,
          -0.01222201135160913,
          null,
          0.3000247417087752,
          0.3000247417087752,
          null,
          0.2753091438961411,
          0.2753091438961411,
          null,
          -0.24801259337087575,
          -0.24801259337087575,
          null,
          0.8931980346596666,
          0.8931980346596666,
          null
         ],
         "y": [
          -0.009538302216269444,
          0.040605572205547245,
          null,
          -0.009538302216269444,
          -0.032740772028352384,
          null,
          -0.009538302216269444,
          -0.009538302216269444,
          null,
          -0.009538302216269444,
          -0.049293541402909,
          null,
          -0.009538302216269444,
          0.0027419649134780657,
          null,
          -0.009538302216269444,
          -0.08402784911106326,
          null,
          -0.009538302216269444,
          0.006758770180401469,
          null,
          -0.009538302216269444,
          -0.03369708359375476,
          null,
          -0.009538302216269444,
          -0.01296453568051257,
          null,
          -0.009538302216269444,
          0.012090089489382023,
          null,
          -0.009538302216269444,
          -0.013401087745706721,
          null,
          -0.009538302216269444,
          0.02375647150929436,
          null,
          -0.009538302216269444,
          -0.04520755906069034,
          null,
          -0.009538302216269444,
          0.025978861933791664,
          null,
          -0.013401087745706721,
          0.012090089489382023,
          null,
          -0.013401087745706721,
          0.02375647150929436,
          null,
          -0.013401087745706721,
          -0.04520755906069034,
          null,
          -0.013401087745706721,
          0.025978861933791664,
          null,
          -0.013401087745706721,
          0.040605572205547245,
          null,
          -0.013401087745706721,
          -0.032740772028352384,
          null,
          -0.013401087745706721,
          0.0027419649134780657,
          null,
          -0.013401087745706721,
          -0.08402784911106326,
          null,
          -0.013401087745706721,
          -0.049293541402909,
          null,
          -0.013401087745706721,
          0.006758770180401469,
          null,
          -0.013401087745706721,
          -0.03369708359375476,
          null,
          -0.013401087745706721,
          -0.01296453568051257,
          null,
          -0.013401087745706721,
          -0.013401087745706721,
          null,
          -0.049293541402909,
          -0.049293541402909,
          null,
          -0.049293541402909,
          0.006758770180401469,
          null,
          -0.049293541402909,
          -0.03369708359375476,
          null,
          -0.049293541402909,
          0.0027419649134780657,
          null,
          -0.049293541402909,
          -0.01296453568051257,
          null,
          -0.049293541402909,
          0.012090089489382023,
          null,
          -0.049293541402909,
          0.02375647150929436,
          null,
          -0.049293541402909,
          -0.04520755906069034,
          null,
          -0.049293541402909,
          0.025978861933791664,
          null,
          -0.049293541402909,
          0.040605572205547245,
          null,
          -0.049293541402909,
          -0.032740772028352384,
          null,
          -0.049293541402909,
          -0.08402784911106326,
          null,
          -0.04520755906069034,
          -0.01296453568051257,
          null,
          -0.04520755906069034,
          0.012090089489382023,
          null,
          -0.04520755906069034,
          0.02375647150929436,
          null,
          -0.04520755906069034,
          -0.04520755906069034,
          null,
          -0.04520755906069034,
          0.025978861933791664,
          null,
          -0.04520755906069034,
          0.040605572205547245,
          null,
          -0.04520755906069034,
          -0.032740772028352384,
          null,
          -0.04520755906069034,
          0.0027419649134780657,
          null,
          -0.04520755906069034,
          -0.08402784911106326,
          null,
          -0.04520755906069034,
          0.006758770180401469,
          null,
          -0.04520755906069034,
          -0.03369708359375476,
          null,
          -0.03369708359375476,
          0.0027419649134780657,
          null,
          -0.03369708359375476,
          -0.08402784911106326,
          null,
          -0.03369708359375476,
          0.006758770180401469,
          null,
          -0.03369708359375476,
          -0.03369708359375476,
          null,
          -0.03369708359375476,
          -0.01296453568051257,
          null,
          -0.03369708359375476,
          0.012090089489382023,
          null,
          -0.03369708359375476,
          0.02375647150929436,
          null,
          -0.03369708359375476,
          0.025978861933791664,
          null,
          -0.03369708359375476,
          0.040605572205547245,
          null,
          -0.03369708359375476,
          -0.032740772028352384,
          null,
          0.0742057751910138,
          0.02375647150929436,
          null,
          0.0742057751910138,
          0.025978861933791664,
          null,
          0.0742057751910138,
          0.0742057751910138,
          null,
          0.0742057751910138,
          0.040605572205547245,
          null,
          0.0742057751910138,
          0.05999299075835136,
          null,
          0.0742057751910138,
          0.0027419649134780657,
          null,
          0.0742057751910138,
          0.031098608419703796,
          null,
          0.0742057751910138,
          0.006758770180401469,
          null,
          0.0742057751910138,
          -0.01296453568051257,
          null,
          0.0742057751910138,
          0.05703046858029191,
          null,
          0.0742057751910138,
          -0.003673085429220147,
          null,
          0.0742057751910138,
          0.016826704886710054,
          null,
          0.05703046858029191,
          0.006758770180401469,
          null,
          0.05703046858029191,
          -0.003673085429220147,
          null,
          0.05703046858029191,
          -0.01296453568051257,
          null,
          0.05703046858029191,
          0.05703046858029191,
          null,
          0.05703046858029191,
          0.016826704886710054,
          null,
          0.05703046858029191,
          0.02375647150929436,
          null,
          0.05703046858029191,
          0.025978861933791664,
          null,
          0.05703046858029191,
          0.040605572205547245,
          null,
          0.05703046858029191,
          0.05999299075835136,
          null,
          0.05703046858029191,
          0.0027419649134780657,
          null,
          0.05703046858029191,
          0.031098608419703796,
          null,
          0.05999299075835136,
          0.02375647150929436,
          null,
          0.05999299075835136,
          0.025978861933791664,
          null,
          0.05999299075835136,
          0.040605572205547245,
          null,
          0.05999299075835136,
          0.05999299075835136,
          null,
          0.05999299075835136,
          0.031098608419703796,
          null,
          0.05999299075835136,
          0.006758770180401469,
          null,
          0.05999299075835136,
          0.0027419649134780657,
          null,
          0.05999299075835136,
          -0.003673085429220147,
          null,
          0.05999299075835136,
          -0.01296453568051257,
          null,
          0.05999299075835136,
          0.016826704886710054,
          null,
          0.016826704886710054,
          0.031098608419703796,
          null,
          0.016826704886710054,
          0.006758770180401469,
          null,
          0.016826704886710054,
          0.0027419649134780657,
          null,
          0.016826704886710054,
          -0.003673085429220147,
          null,
          0.016826704886710054,
          -0.01296453568051257,
          null,
          0.016826704886710054,
          0.016826704886710054,
          null,
          0.016826704886710054,
          0.02375647150929436,
          null,
          0.016826704886710054,
          0.025978861933791664,
          null,
          0.016826704886710054,
          0.040605572205547245,
          null,
          0.031098608419703796,
          0.02375647150929436,
          null,
          0.031098608419703796,
          0.025978861933791664,
          null,
          0.031098608419703796,
          0.040605572205547245,
          null,
          0.031098608419703796,
          0.031098608419703796,
          null,
          0.031098608419703796,
          0.0027419649134780657,
          null,
          0.031098608419703796,
          0.006758770180401469,
          null,
          0.031098608419703796,
          -0.003673085429220147,
          null,
          0.031098608419703796,
          -0.01296453568051257,
          null,
          0.02375647150929436,
          -0.003673085429220147,
          null,
          0.02375647150929436,
          0.012090089489382023,
          null,
          0.02375647150929436,
          0.08955955206668434,
          null,
          0.02375647150929436,
          0.02375647150929436,
          null,
          0.02375647150929436,
          0.025978861933791664,
          null,
          0.02375647150929436,
          0.040605572205547245,
          null,
          0.02375647150929436,
          0.0027419649134780657,
          null,
          0.02375647150929436,
          0.006758770180401469,
          null,
          0.02375647150929436,
          -0.01296453568051257,
          null,
          0.006758770180401469,
          0.040605572205547245,
          null,
          0.006758770180401469,
          0.0027419649134780657,
          null,
          0.006758770180401469,
          0.006758770180401469,
          null,
          0.006758770180401469,
          -0.003673085429220147,
          null,
          0.006758770180401469,
          -0.01296453568051257,
          null,
          0.006758770180401469,
          0.012090089489382023,
          null,
          0.006758770180401469,
          0.08955955206668434,
          null,
          0.006758770180401469,
          0.025978861933791664,
          null,
          0.025978861933791664,
          0.0027419649134780657,
          null,
          0.025978861933791664,
          -0.003673085429220147,
          null,
          0.025978861933791664,
          -0.01296453568051257,
          null,
          0.025978861933791664,
          0.012090089489382023,
          null,
          0.025978861933791664,
          0.08955955206668434,
          null,
          0.025978861933791664,
          0.025978861933791664,
          null,
          0.025978861933791664,
          0.040605572205547245,
          null,
          -0.01296453568051257,
          0.040605572205547245,
          null,
          -0.01296453568051257,
          0.0027419649134780657,
          null,
          -0.01296453568051257,
          -0.003673085429220147,
          null,
          -0.01296453568051257,
          -0.01296453568051257,
          null,
          -0.01296453568051257,
          0.012090089489382023,
          null,
          -0.01296453568051257,
          0.08955955206668434,
          null,
          0.040605572205547245,
          0.012090089489382023,
          null,
          0.040605572205547245,
          0.08955955206668434,
          null,
          0.040605572205547245,
          0.040605572205547245,
          null,
          0.040605572205547245,
          0.0027419649134780657,
          null,
          0.040605572205547245,
          -0.003673085429220147,
          null,
          0.012090089489382023,
          -0.032740772028352384,
          null,
          0.012090089489382023,
          0.0027419649134780657,
          null,
          0.012090089489382023,
          -0.08402784911106326,
          null,
          0.012090089489382023,
          0.012090089489382023,
          null,
          -0.032740772028352384,
          -0.0287214604657734,
          null,
          -0.032740772028352384,
          -0.032740772028352384,
          null,
          0.7020624671619203,
          0.7020624671619203,
          null,
          -0.08402784911106326,
          -0.08402784911106326,
          null,
          0.3632795942568759,
          0.3632795942568759,
          null,
          -0.003673085429220147,
          -0.003673085429220147,
          null,
          -0.003673085429220147,
          0.0027419649134780657,
          null,
          -0.01593301053013162,
          -0.0287214604657734,
          null,
          -0.01593301053013162,
          -0.01593301053013162,
          null,
          -0.07505773549475586,
          -0.07505773549475586,
          null,
          -0.7930542440153624,
          -0.7930542440153624,
          null,
          0.08955955206668434,
          0.08955955206668434,
          null,
          0.08955955206668434,
          0.0027419649134780657,
          null,
          0.0027419649134780657,
          0.0027419649134780657,
          null,
          -0.0287214604657734,
          -0.0287214604657734,
          null,
          -0.8068117021252493,
          -0.8068117021252493,
          null,
          0.939433559660069,
          0.939433559660069,
          null,
          -0.4412994823137636,
          -0.4412994823137636,
          null
         ]
        },
        {
         "hoverinfo": "text",
         "marker": {
          "color": [
           14,
           14,
           14,
           14,
           14,
           12,
           12,
           12,
           12,
           12,
           19,
           19,
           19,
           19,
           19,
           14,
           8,
           1,
           7,
           1,
           12,
           2,
           1,
           1,
           7,
           19,
           3,
           1,
           1,
           1
          ],
          "colorbar": {
           "thickness": 15,
           "title": {
            "side": "right",
            "text": "Node Connections"
           },
           "xanchor": "left"
          },
          "colorscale": [
           [
            0,
            "rgb(255,255,217)"
           ],
           [
            0.125,
            "rgb(237,248,177)"
           ],
           [
            0.25,
            "rgb(199,233,180)"
           ],
           [
            0.375,
            "rgb(127,205,187)"
           ],
           [
            0.5,
            "rgb(65,182,196)"
           ],
           [
            0.625,
            "rgb(29,145,192)"
           ],
           [
            0.75,
            "rgb(34,94,168)"
           ],
           [
            0.875,
            "rgb(37,52,148)"
           ],
           [
            1,
            "rgb(8,29,88)"
           ]
          ],
          "line": {
           "width": 2
          },
          "reversescale": true,
          "showscale": true,
          "size": 14
         },
         "mode": "markers",
         "text": [
          "Doc ID: 0 <br>Text: I lived at West Egg, the--well, the less fashionable of the two, though thi <br>Expected Cluster: 0 <br>Cluster: 0",
          "Doc ID: 1 <br>Text: I lived at West Egg, the--well, the less fashionable of the two, though thi <br>Expected Cluster: 0 <br>Cluster: 0",
          "Doc ID: 2 <br>Text: I lived at West Egg, the--well, the less fashionable of the two, though thi <br>Expected Cluster: 0 <br>Cluster: 0",
          "Doc ID: 3 <br>Text: I lived at West Egg, the--well, the less fashionable of the two, though thi <br>Expected Cluster: 0 <br>Cluster: 0",
          "Doc ID: 4 <br>Text: I lived at West Egg, the--well, the less fashionable of the two, though thi <br>Expected Cluster: 0 <br>Cluster: 0",
          "Doc ID: 5 <br>Text: Daisy put her arm through his abruptly, but he seemed absorbed in what he h <br>Expected Cluster: 1 <br>Cluster: 0",
          "Doc ID: 6 <br>Text: Daisy put her arm through his abruptly, but he seemed absorbed in what he h <br>Expected Cluster: 1 <br>Cluster: 0",
          "Doc ID: 7 <br>Text: Daisy put her arm through his abruptly, but he seemed absorbed in what he h <br>Expected Cluster: 1 <br>Cluster: 0",
          "Doc ID: 8 <br>Text: Daisy put her arm through his abruptly, but he seemed absorbed in what he h <br>Expected Cluster: 1 <br>Cluster: 0",
          "Doc ID: 9 <br>Text: Daisy put her arm through his abruptly, but he seemed absorbed in what he h <br>Expected Cluster: 1 <br>Cluster: 0",
          "Doc ID: 10 <br>Text: And so it happened that on a warm windy evening I drove over to East Egg to <br>Expected Cluster: 0 <br>Cluster: 0",
          "Doc ID: 11 <br>Text: And so it happened that on a warm windy evening I drove over to East Egg to <br>Expected Cluster: 0 <br>Cluster: 0",
          "Doc ID: 12 <br>Text: And so it happened that on a warm windy evening I drove over to East Egg to <br>Expected Cluster: 0 <br>Cluster: 0",
          "Doc ID: 13 <br>Text: And so it happened that on a warm windy evening I drove over to East Egg to <br>Expected Cluster: 0 <br>Cluster: 0",
          "Doc ID: 14 <br>Text: And so it happened that on a warm windy evening I drove over to East Egg to <br>Expected Cluster: 0 <br>Cluster: 0",
          "Doc ID: 15 <br>Text: I lived at West Egg, the--well, the less fashionable of the two, though thi <br>Expected Cluster: 0 <br>Cluster: 0",
          "Doc ID: 16 <br>Text: I lived at West Egg, the less fashionable of the two, though this is a most <br>Expected Cluster: 0 <br>Cluster: 0",
          "Doc ID: 17 <br>Text: I lived at the very tip of West Egg, fifty yards from the sound, and betwee <br>Expected Cluster: 0 <br>Cluster: 1",
          "Doc ID: 18 <br>Text: The Normandy American Cemetery and Memorial in France is located in Collevi <br>Expected Cluster: 2 <br>Cluster: 0",
          "Doc ID: 19 <br>Text: The other girl, Daisy, made an attempt to rise—she leaned slightly forward  <br>Expected Cluster: 3 <br>Cluster: 2",
          "Doc ID: 20 <br>Text: Daisy put her arm through his abruptly, but he seemed absorbed in what he h <br>Expected Cluster: 1 <br>Cluster: 0",
          "Doc ID: 21 <br>Text: Daisy eloped his arm quickly, but he seemed to be thinking about what he ha <br>Expected Cluster: 1 <br>Cluster: 0",
          "Doc ID: 22 <br>Text: Although Daisy quickly eloped his arm, he seemed to be thinking about what  <br>Expected Cluster: 1 <br>Cluster: 3",
          "Doc ID: 23 <br>Text: The bright stars that can lie close to the Moon all lie in constellations o <br>Expected Cluster: 4 <br>Cluster: 4",
          "Doc ID: 24 <br>Text: Then came the war, old sport. It was a great relief, and I tried very hard  <br>Expected Cluster: 5 <br>Cluster: 0",
          "Doc ID: 25 <br>Text: And so it happened that on a warm windy evening I drove over to East Egg to <br>Expected Cluster: 0 <br>Cluster: 0",
          "Doc ID: 26 <br>Text: On a warm windy evening I drove over to East Egg to see 2 old friends. Thei <br>Expected Cluster: 0 <br>Cluster: 0",
          "Doc ID: 27 <br>Text: One evening I drove to East Egg to see 2 old acquaintences. Their house was <br>Expected Cluster: 0 <br>Cluster: 5",
          "Doc ID: 28 <br>Text: Examine what the vines are growing on before you start. They can creep betw <br>Expected Cluster: 6 <br>Cluster: 6",
          "Doc ID: 29 <br>Text: I just got here a minute ago, from New York. I was bringing you that coupe  <br>Expected Cluster: 7 <br>Cluster: 7"
         ],
         "type": "scatter",
         "x": [
          0.06380315901140284,
          0.03867275527515568,
          0.03540884868323941,
          0.016637952210897942,
          0.05194639356993582,
          -0.05063492478063457,
          -0.09028496219962363,
          -0.06871243522106489,
          -0.0766849489756065,
          -0.09651184083697616,
          0.0004979805736159146,
          -0.03177099745313489,
          -0.02184763145075418,
          -0.02842108942161875,
          -0.006204891042023882,
          0.05556491298271121,
          0.136689025935237,
          -0.7466345928773536,
          0.0855572522453652,
          -1,
          -0.09001491625909622,
          0.4146486071740513,
          0.872884025401906,
          -0.6797610681951511,
          0.006876070107421609,
          -0.01222201135160913,
          0.3000247417087752,
          0.2753091438961411,
          -0.24801259337087575,
          0.8931980346596666
         ],
         "y": [
          -0.009538302216269444,
          -0.013401087745706721,
          -0.049293541402909,
          -0.04520755906069034,
          -0.03369708359375476,
          0.0742057751910138,
          0.05703046858029191,
          0.05999299075835136,
          0.016826704886710054,
          0.031098608419703796,
          0.02375647150929436,
          0.006758770180401469,
          0.025978861933791664,
          -0.01296453568051257,
          0.040605572205547245,
          0.012090089489382023,
          -0.032740772028352384,
          0.7020624671619203,
          -0.08402784911106326,
          0.3632795942568759,
          -0.003673085429220147,
          -0.01593301053013162,
          -0.07505773549475586,
          -0.7930542440153624,
          0.08955955206668434,
          0.0027419649134780657,
          -0.0287214604657734,
          -0.8068117021252493,
          0.939433559660069,
          -0.4412994823137636
         ]
        }
       ],
       "layout": {
        "annotations": [
         {
          "showarrow": false,
          "text": "Python code: <a href='https://plotly.com/ipython-notebooks/network-graphs/'> https://plotly.com/ipython-notebooks/network-graphs/</a>",
          "x": 0.005,
          "xref": "paper",
          "y": -0.002,
          "yref": "paper"
         }
        ],
        "hovermode": "closest",
        "margin": {
         "b": 20,
         "l": 5,
         "r": 5,
         "t": 40
        },
        "showlegend": false,
        "template": {
         "data": {
          "bar": [
           {
            "error_x": {
             "color": "#2a3f5f"
            },
            "error_y": {
             "color": "#2a3f5f"
            },
            "marker": {
             "line": {
              "color": "#E5ECF6",
              "width": 0.5
             },
             "pattern": {
              "fillmode": "overlay",
              "size": 10,
              "solidity": 0.2
             }
            },
            "type": "bar"
           }
          ],
          "barpolar": [
           {
            "marker": {
             "line": {
              "color": "#E5ECF6",
              "width": 0.5
             },
             "pattern": {
              "fillmode": "overlay",
              "size": 10,
              "solidity": 0.2
             }
            },
            "type": "barpolar"
           }
          ],
          "carpet": [
           {
            "aaxis": {
             "endlinecolor": "#2a3f5f",
             "gridcolor": "white",
             "linecolor": "white",
             "minorgridcolor": "white",
             "startlinecolor": "#2a3f5f"
            },
            "baxis": {
             "endlinecolor": "#2a3f5f",
             "gridcolor": "white",
             "linecolor": "white",
             "minorgridcolor": "white",
             "startlinecolor": "#2a3f5f"
            },
            "type": "carpet"
           }
          ],
          "choropleth": [
           {
            "colorbar": {
             "outlinewidth": 0,
             "ticks": ""
            },
            "type": "choropleth"
           }
          ],
          "contour": [
           {
            "colorbar": {
             "outlinewidth": 0,
             "ticks": ""
            },
            "colorscale": [
             [
              0,
              "#0d0887"
             ],
             [
              0.1111111111111111,
              "#46039f"
             ],
             [
              0.2222222222222222,
              "#7201a8"
             ],
             [
              0.3333333333333333,
              "#9c179e"
             ],
             [
              0.4444444444444444,
              "#bd3786"
             ],
             [
              0.5555555555555556,
              "#d8576b"
             ],
             [
              0.6666666666666666,
              "#ed7953"
             ],
             [
              0.7777777777777778,
              "#fb9f3a"
             ],
             [
              0.8888888888888888,
              "#fdca26"
             ],
             [
              1,
              "#f0f921"
             ]
            ],
            "type": "contour"
           }
          ],
          "contourcarpet": [
           {
            "colorbar": {
             "outlinewidth": 0,
             "ticks": ""
            },
            "type": "contourcarpet"
           }
          ],
          "heatmap": [
           {
            "colorbar": {
             "outlinewidth": 0,
             "ticks": ""
            },
            "colorscale": [
             [
              0,
              "#0d0887"
             ],
             [
              0.1111111111111111,
              "#46039f"
             ],
             [
              0.2222222222222222,
              "#7201a8"
             ],
             [
              0.3333333333333333,
              "#9c179e"
             ],
             [
              0.4444444444444444,
              "#bd3786"
             ],
             [
              0.5555555555555556,
              "#d8576b"
             ],
             [
              0.6666666666666666,
              "#ed7953"
             ],
             [
              0.7777777777777778,
              "#fb9f3a"
             ],
             [
              0.8888888888888888,
              "#fdca26"
             ],
             [
              1,
              "#f0f921"
             ]
            ],
            "type": "heatmap"
           }
          ],
          "heatmapgl": [
           {
            "colorbar": {
             "outlinewidth": 0,
             "ticks": ""
            },
            "colorscale": [
             [
              0,
              "#0d0887"
             ],
             [
              0.1111111111111111,
              "#46039f"
             ],
             [
              0.2222222222222222,
              "#7201a8"
             ],
             [
              0.3333333333333333,
              "#9c179e"
             ],
             [
              0.4444444444444444,
              "#bd3786"
             ],
             [
              0.5555555555555556,
              "#d8576b"
             ],
             [
              0.6666666666666666,
              "#ed7953"
             ],
             [
              0.7777777777777778,
              "#fb9f3a"
             ],
             [
              0.8888888888888888,
              "#fdca26"
             ],
             [
              1,
              "#f0f921"
             ]
            ],
            "type": "heatmapgl"
           }
          ],
          "histogram": [
           {
            "marker": {
             "pattern": {
              "fillmode": "overlay",
              "size": 10,
              "solidity": 0.2
             }
            },
            "type": "histogram"
           }
          ],
          "histogram2d": [
           {
            "colorbar": {
             "outlinewidth": 0,
             "ticks": ""
            },
            "colorscale": [
             [
              0,
              "#0d0887"
             ],
             [
              0.1111111111111111,
              "#46039f"
             ],
             [
              0.2222222222222222,
              "#7201a8"
             ],
             [
              0.3333333333333333,
              "#9c179e"
             ],
             [
              0.4444444444444444,
              "#bd3786"
             ],
             [
              0.5555555555555556,
              "#d8576b"
             ],
             [
              0.6666666666666666,
              "#ed7953"
             ],
             [
              0.7777777777777778,
              "#fb9f3a"
             ],
             [
              0.8888888888888888,
              "#fdca26"
             ],
             [
              1,
              "#f0f921"
             ]
            ],
            "type": "histogram2d"
           }
          ],
          "histogram2dcontour": [
           {
            "colorbar": {
             "outlinewidth": 0,
             "ticks": ""
            },
            "colorscale": [
             [
              0,
              "#0d0887"
             ],
             [
              0.1111111111111111,
              "#46039f"
             ],
             [
              0.2222222222222222,
              "#7201a8"
             ],
             [
              0.3333333333333333,
              "#9c179e"
             ],
             [
              0.4444444444444444,
              "#bd3786"
             ],
             [
              0.5555555555555556,
              "#d8576b"
             ],
             [
              0.6666666666666666,
              "#ed7953"
             ],
             [
              0.7777777777777778,
              "#fb9f3a"
             ],
             [
              0.8888888888888888,
              "#fdca26"
             ],
             [
              1,
              "#f0f921"
             ]
            ],
            "type": "histogram2dcontour"
           }
          ],
          "mesh3d": [
           {
            "colorbar": {
             "outlinewidth": 0,
             "ticks": ""
            },
            "type": "mesh3d"
           }
          ],
          "parcoords": [
           {
            "line": {
             "colorbar": {
              "outlinewidth": 0,
              "ticks": ""
             }
            },
            "type": "parcoords"
           }
          ],
          "pie": [
           {
            "automargin": true,
            "type": "pie"
           }
          ],
          "scatter": [
           {
            "marker": {
             "colorbar": {
              "outlinewidth": 0,
              "ticks": ""
             }
            },
            "type": "scatter"
           }
          ],
          "scatter3d": [
           {
            "line": {
             "colorbar": {
              "outlinewidth": 0,
              "ticks": ""
             }
            },
            "marker": {
             "colorbar": {
              "outlinewidth": 0,
              "ticks": ""
             }
            },
            "type": "scatter3d"
           }
          ],
          "scattercarpet": [
           {
            "marker": {
             "colorbar": {
              "outlinewidth": 0,
              "ticks": ""
             }
            },
            "type": "scattercarpet"
           }
          ],
          "scattergeo": [
           {
            "marker": {
             "colorbar": {
              "outlinewidth": 0,
              "ticks": ""
             }
            },
            "type": "scattergeo"
           }
          ],
          "scattergl": [
           {
            "marker": {
             "colorbar": {
              "outlinewidth": 0,
              "ticks": ""
             }
            },
            "type": "scattergl"
           }
          ],
          "scattermapbox": [
           {
            "marker": {
             "colorbar": {
              "outlinewidth": 0,
              "ticks": ""
             }
            },
            "type": "scattermapbox"
           }
          ],
          "scatterpolar": [
           {
            "marker": {
             "colorbar": {
              "outlinewidth": 0,
              "ticks": ""
             }
            },
            "type": "scatterpolar"
           }
          ],
          "scatterpolargl": [
           {
            "marker": {
             "colorbar": {
              "outlinewidth": 0,
              "ticks": ""
             }
            },
            "type": "scatterpolargl"
           }
          ],
          "scatterternary": [
           {
            "marker": {
             "colorbar": {
              "outlinewidth": 0,
              "ticks": ""
             }
            },
            "type": "scatterternary"
           }
          ],
          "surface": [
           {
            "colorbar": {
             "outlinewidth": 0,
             "ticks": ""
            },
            "colorscale": [
             [
              0,
              "#0d0887"
             ],
             [
              0.1111111111111111,
              "#46039f"
             ],
             [
              0.2222222222222222,
              "#7201a8"
             ],
             [
              0.3333333333333333,
              "#9c179e"
             ],
             [
              0.4444444444444444,
              "#bd3786"
             ],
             [
              0.5555555555555556,
              "#d8576b"
             ],
             [
              0.6666666666666666,
              "#ed7953"
             ],
             [
              0.7777777777777778,
              "#fb9f3a"
             ],
             [
              0.8888888888888888,
              "#fdca26"
             ],
             [
              1,
              "#f0f921"
             ]
            ],
            "type": "surface"
           }
          ],
          "table": [
           {
            "cells": {
             "fill": {
              "color": "#EBF0F8"
             },
             "line": {
              "color": "white"
             }
            },
            "header": {
             "fill": {
              "color": "#C8D4E3"
             },
             "line": {
              "color": "white"
             }
            },
            "type": "table"
           }
          ]
         },
         "layout": {
          "annotationdefaults": {
           "arrowcolor": "#2a3f5f",
           "arrowhead": 0,
           "arrowwidth": 1
          },
          "autotypenumbers": "strict",
          "coloraxis": {
           "colorbar": {
            "outlinewidth": 0,
            "ticks": ""
           }
          },
          "colorscale": {
           "diverging": [
            [
             0,
             "#8e0152"
            ],
            [
             0.1,
             "#c51b7d"
            ],
            [
             0.2,
             "#de77ae"
            ],
            [
             0.3,
             "#f1b6da"
            ],
            [
             0.4,
             "#fde0ef"
            ],
            [
             0.5,
             "#f7f7f7"
            ],
            [
             0.6,
             "#e6f5d0"
            ],
            [
             0.7,
             "#b8e186"
            ],
            [
             0.8,
             "#7fbc41"
            ],
            [
             0.9,
             "#4d9221"
            ],
            [
             1,
             "#276419"
            ]
           ],
           "sequential": [
            [
             0,
             "#0d0887"
            ],
            [
             0.1111111111111111,
             "#46039f"
            ],
            [
             0.2222222222222222,
             "#7201a8"
            ],
            [
             0.3333333333333333,
             "#9c179e"
            ],
            [
             0.4444444444444444,
             "#bd3786"
            ],
            [
             0.5555555555555556,
             "#d8576b"
            ],
            [
             0.6666666666666666,
             "#ed7953"
            ],
            [
             0.7777777777777778,
             "#fb9f3a"
            ],
            [
             0.8888888888888888,
             "#fdca26"
            ],
            [
             1,
             "#f0f921"
            ]
           ],
           "sequentialminus": [
            [
             0,
             "#0d0887"
            ],
            [
             0.1111111111111111,
             "#46039f"
            ],
            [
             0.2222222222222222,
             "#7201a8"
            ],
            [
             0.3333333333333333,
             "#9c179e"
            ],
            [
             0.4444444444444444,
             "#bd3786"
            ],
            [
             0.5555555555555556,
             "#d8576b"
            ],
            [
             0.6666666666666666,
             "#ed7953"
            ],
            [
             0.7777777777777778,
             "#fb9f3a"
            ],
            [
             0.8888888888888888,
             "#fdca26"
            ],
            [
             1,
             "#f0f921"
            ]
           ]
          },
          "colorway": [
           "#636efa",
           "#EF553B",
           "#00cc96",
           "#ab63fa",
           "#FFA15A",
           "#19d3f3",
           "#FF6692",
           "#B6E880",
           "#FF97FF",
           "#FECB52"
          ],
          "font": {
           "color": "#2a3f5f"
          },
          "geo": {
           "bgcolor": "white",
           "lakecolor": "white",
           "landcolor": "#E5ECF6",
           "showlakes": true,
           "showland": true,
           "subunitcolor": "white"
          },
          "hoverlabel": {
           "align": "left"
          },
          "hovermode": "closest",
          "mapbox": {
           "style": "light"
          },
          "paper_bgcolor": "white",
          "plot_bgcolor": "#E5ECF6",
          "polar": {
           "angularaxis": {
            "gridcolor": "white",
            "linecolor": "white",
            "ticks": ""
           },
           "bgcolor": "#E5ECF6",
           "radialaxis": {
            "gridcolor": "white",
            "linecolor": "white",
            "ticks": ""
           }
          },
          "scene": {
           "xaxis": {
            "backgroundcolor": "#E5ECF6",
            "gridcolor": "white",
            "gridwidth": 2,
            "linecolor": "white",
            "showbackground": true,
            "ticks": "",
            "zerolinecolor": "white"
           },
           "yaxis": {
            "backgroundcolor": "#E5ECF6",
            "gridcolor": "white",
            "gridwidth": 2,
            "linecolor": "white",
            "showbackground": true,
            "ticks": "",
            "zerolinecolor": "white"
           },
           "zaxis": {
            "backgroundcolor": "#E5ECF6",
            "gridcolor": "white",
            "gridwidth": 2,
            "linecolor": "white",
            "showbackground": true,
            "ticks": "",
            "zerolinecolor": "white"
           }
          },
          "shapedefaults": {
           "line": {
            "color": "#2a3f5f"
           }
          },
          "ternary": {
           "aaxis": {
            "gridcolor": "white",
            "linecolor": "white",
            "ticks": ""
           },
           "baxis": {
            "gridcolor": "white",
            "linecolor": "white",
            "ticks": ""
           },
           "bgcolor": "#E5ECF6",
           "caxis": {
            "gridcolor": "white",
            "linecolor": "white",
            "ticks": ""
           }
          },
          "title": {
           "x": 0.05
          },
          "xaxis": {
           "automargin": true,
           "gridcolor": "white",
           "linecolor": "white",
           "ticks": "",
           "title": {
            "standoff": 15
           },
           "zerolinecolor": "white",
           "zerolinewidth": 2
          },
          "yaxis": {
           "automargin": true,
           "gridcolor": "white",
           "linecolor": "white",
           "ticks": "",
           "title": {
            "standoff": 15
           },
           "zerolinecolor": "white",
           "zerolinewidth": 2
          }
         }
        },
        "title": {
         "font": {
          "size": 16
         },
         "text": "Network Graph from SimHash Sparse Matrix, Distance Thresh: 6"
        },
        "xaxis": {
         "showgrid": false,
         "showticklabels": false,
         "zeroline": false
        },
        "yaxis": {
         "showgrid": false,
         "showticklabels": false,
         "zeroline": false
        }
       }
      },
      "text/html": [
       "<div>                            <div id=\"a6916f7b-6309-44d1-83d9-808763638f3f\" class=\"plotly-graph-div\" style=\"height:525px; width:100%;\"></div>            <script type=\"text/javascript\">                require([\"plotly\"], function(Plotly) {                    window.PLOTLYENV=window.PLOTLYENV || {};                                    if (document.getElementById(\"a6916f7b-6309-44d1-83d9-808763638f3f\")) {                    Plotly.newPlot(                        \"a6916f7b-6309-44d1-83d9-808763638f3f\",                        [{\"hoverinfo\":\"none\",\"line\":{\"color\":\"#888\",\"width\":0.5},\"mode\":\"lines\",\"x\":[0.06380315901140284,-0.006204891042023882,null,0.06380315901140284,0.136689025935237,null,0.06380315901140284,0.06380315901140284,null,0.06380315901140284,0.03540884868323941,null,0.06380315901140284,-0.01222201135160913,null,0.06380315901140284,0.0855572522453652,null,0.06380315901140284,-0.03177099745313489,null,0.06380315901140284,0.05194639356993582,null,0.06380315901140284,-0.02842108942161875,null,0.06380315901140284,0.05556491298271121,null,0.06380315901140284,0.03867275527515568,null,0.06380315901140284,0.0004979805736159146,null,0.06380315901140284,0.016637952210897942,null,0.06380315901140284,-0.02184763145075418,null,0.03867275527515568,0.05556491298271121,null,0.03867275527515568,0.0004979805736159146,null,0.03867275527515568,0.016637952210897942,null,0.03867275527515568,-0.02184763145075418,null,0.03867275527515568,-0.006204891042023882,null,0.03867275527515568,0.136689025935237,null,0.03867275527515568,-0.01222201135160913,null,0.03867275527515568,0.0855572522453652,null,0.03867275527515568,0.03540884868323941,null,0.03867275527515568,-0.03177099745313489,null,0.03867275527515568,0.05194639356993582,null,0.03867275527515568,-0.02842108942161875,null,0.03867275527515568,0.03867275527515568,null,0.03540884868323941,0.03540884868323941,null,0.03540884868323941,-0.03177099745313489,null,0.03540884868323941,0.05194639356993582,null,0.03540884868323941,-0.01222201135160913,null,0.03540884868323941,-0.02842108942161875,null,0.03540884868323941,0.05556491298271121,null,0.03540884868323941,0.0004979805736159146,null,0.03540884868323941,0.016637952210897942,null,0.03540884868323941,-0.02184763145075418,null,0.03540884868323941,-0.006204891042023882,null,0.03540884868323941,0.136689025935237,null,0.03540884868323941,0.0855572522453652,null,0.016637952210897942,-0.02842108942161875,null,0.016637952210897942,0.05556491298271121,null,0.016637952210897942,0.0004979805736159146,null,0.016637952210897942,0.016637952210897942,null,0.016637952210897942,-0.02184763145075418,null,0.016637952210897942,-0.006204891042023882,null,0.016637952210897942,0.136689025935237,null,0.016637952210897942,-0.01222201135160913,null,0.016637952210897942,0.0855572522453652,null,0.016637952210897942,-0.03177099745313489,null,0.016637952210897942,0.05194639356993582,null,0.05194639356993582,-0.01222201135160913,null,0.05194639356993582,0.0855572522453652,null,0.05194639356993582,-0.03177099745313489,null,0.05194639356993582,0.05194639356993582,null,0.05194639356993582,-0.02842108942161875,null,0.05194639356993582,0.05556491298271121,null,0.05194639356993582,0.0004979805736159146,null,0.05194639356993582,-0.02184763145075418,null,0.05194639356993582,-0.006204891042023882,null,0.05194639356993582,0.136689025935237,null,-0.05063492478063457,0.0004979805736159146,null,-0.05063492478063457,-0.02184763145075418,null,-0.05063492478063457,-0.05063492478063457,null,-0.05063492478063457,-0.006204891042023882,null,-0.05063492478063457,-0.06871243522106489,null,-0.05063492478063457,-0.01222201135160913,null,-0.05063492478063457,-0.09651184083697616,null,-0.05063492478063457,-0.03177099745313489,null,-0.05063492478063457,-0.02842108942161875,null,-0.05063492478063457,-0.09028496219962363,null,-0.05063492478063457,-0.09001491625909622,null,-0.05063492478063457,-0.0766849489756065,null,-0.09028496219962363,-0.03177099745313489,null,-0.09028496219962363,-0.09001491625909622,null,-0.09028496219962363,-0.02842108942161875,null,-0.09028496219962363,-0.09028496219962363,null,-0.09028496219962363,-0.0766849489756065,null,-0.09028496219962363,0.0004979805736159146,null,-0.09028496219962363,-0.02184763145075418,null,-0.09028496219962363,-0.006204891042023882,null,-0.09028496219962363,-0.06871243522106489,null,-0.09028496219962363,-0.01222201135160913,null,-0.09028496219962363,-0.09651184083697616,null,-0.06871243522106489,0.0004979805736159146,null,-0.06871243522106489,-0.02184763145075418,null,-0.06871243522106489,-0.006204891042023882,null,-0.06871243522106489,-0.06871243522106489,null,-0.06871243522106489,-0.09651184083697616,null,-0.06871243522106489,-0.03177099745313489,null,-0.06871243522106489,-0.01222201135160913,null,-0.06871243522106489,-0.09001491625909622,null,-0.06871243522106489,-0.02842108942161875,null,-0.06871243522106489,-0.0766849489756065,null,-0.0766849489756065,-0.09651184083697616,null,-0.0766849489756065,-0.03177099745313489,null,-0.0766849489756065,-0.01222201135160913,null,-0.0766849489756065,-0.09001491625909622,null,-0.0766849489756065,-0.02842108942161875,null,-0.0766849489756065,-0.0766849489756065,null,-0.0766849489756065,0.0004979805736159146,null,-0.0766849489756065,-0.02184763145075418,null,-0.0766849489756065,-0.006204891042023882,null,-0.09651184083697616,0.0004979805736159146,null,-0.09651184083697616,-0.02184763145075418,null,-0.09651184083697616,-0.006204891042023882,null,-0.09651184083697616,-0.09651184083697616,null,-0.09651184083697616,-0.01222201135160913,null,-0.09651184083697616,-0.03177099745313489,null,-0.09651184083697616,-0.09001491625909622,null,-0.09651184083697616,-0.02842108942161875,null,0.0004979805736159146,-0.09001491625909622,null,0.0004979805736159146,0.05556491298271121,null,0.0004979805736159146,0.006876070107421609,null,0.0004979805736159146,0.0004979805736159146,null,0.0004979805736159146,-0.02184763145075418,null,0.0004979805736159146,-0.006204891042023882,null,0.0004979805736159146,-0.01222201135160913,null,0.0004979805736159146,-0.03177099745313489,null,0.0004979805736159146,-0.02842108942161875,null,-0.03177099745313489,-0.006204891042023882,null,-0.03177099745313489,-0.01222201135160913,null,-0.03177099745313489,-0.03177099745313489,null,-0.03177099745313489,-0.09001491625909622,null,-0.03177099745313489,-0.02842108942161875,null,-0.03177099745313489,0.05556491298271121,null,-0.03177099745313489,0.006876070107421609,null,-0.03177099745313489,-0.02184763145075418,null,-0.02184763145075418,-0.01222201135160913,null,-0.02184763145075418,-0.09001491625909622,null,-0.02184763145075418,-0.02842108942161875,null,-0.02184763145075418,0.05556491298271121,null,-0.02184763145075418,0.006876070107421609,null,-0.02184763145075418,-0.02184763145075418,null,-0.02184763145075418,-0.006204891042023882,null,-0.02842108942161875,-0.006204891042023882,null,-0.02842108942161875,-0.01222201135160913,null,-0.02842108942161875,-0.09001491625909622,null,-0.02842108942161875,-0.02842108942161875,null,-0.02842108942161875,0.05556491298271121,null,-0.02842108942161875,0.006876070107421609,null,-0.006204891042023882,0.05556491298271121,null,-0.006204891042023882,0.006876070107421609,null,-0.006204891042023882,-0.006204891042023882,null,-0.006204891042023882,-0.01222201135160913,null,-0.006204891042023882,-0.09001491625909622,null,0.05556491298271121,0.136689025935237,null,0.05556491298271121,-0.01222201135160913,null,0.05556491298271121,0.0855572522453652,null,0.05556491298271121,0.05556491298271121,null,0.136689025935237,0.3000247417087752,null,0.136689025935237,0.136689025935237,null,-0.7466345928773536,-0.7466345928773536,null,0.0855572522453652,0.0855572522453652,null,-1.0,-1.0,null,-0.09001491625909622,-0.09001491625909622,null,-0.09001491625909622,-0.01222201135160913,null,0.4146486071740513,0.3000247417087752,null,0.4146486071740513,0.4146486071740513,null,0.872884025401906,0.872884025401906,null,-0.6797610681951511,-0.6797610681951511,null,0.006876070107421609,0.006876070107421609,null,0.006876070107421609,-0.01222201135160913,null,-0.01222201135160913,-0.01222201135160913,null,0.3000247417087752,0.3000247417087752,null,0.2753091438961411,0.2753091438961411,null,-0.24801259337087575,-0.24801259337087575,null,0.8931980346596666,0.8931980346596666,null],\"y\":[-0.009538302216269444,0.040605572205547245,null,-0.009538302216269444,-0.032740772028352384,null,-0.009538302216269444,-0.009538302216269444,null,-0.009538302216269444,-0.049293541402909,null,-0.009538302216269444,0.0027419649134780657,null,-0.009538302216269444,-0.08402784911106326,null,-0.009538302216269444,0.006758770180401469,null,-0.009538302216269444,-0.03369708359375476,null,-0.009538302216269444,-0.01296453568051257,null,-0.009538302216269444,0.012090089489382023,null,-0.009538302216269444,-0.013401087745706721,null,-0.009538302216269444,0.02375647150929436,null,-0.009538302216269444,-0.04520755906069034,null,-0.009538302216269444,0.025978861933791664,null,-0.013401087745706721,0.012090089489382023,null,-0.013401087745706721,0.02375647150929436,null,-0.013401087745706721,-0.04520755906069034,null,-0.013401087745706721,0.025978861933791664,null,-0.013401087745706721,0.040605572205547245,null,-0.013401087745706721,-0.032740772028352384,null,-0.013401087745706721,0.0027419649134780657,null,-0.013401087745706721,-0.08402784911106326,null,-0.013401087745706721,-0.049293541402909,null,-0.013401087745706721,0.006758770180401469,null,-0.013401087745706721,-0.03369708359375476,null,-0.013401087745706721,-0.01296453568051257,null,-0.013401087745706721,-0.013401087745706721,null,-0.049293541402909,-0.049293541402909,null,-0.049293541402909,0.006758770180401469,null,-0.049293541402909,-0.03369708359375476,null,-0.049293541402909,0.0027419649134780657,null,-0.049293541402909,-0.01296453568051257,null,-0.049293541402909,0.012090089489382023,null,-0.049293541402909,0.02375647150929436,null,-0.049293541402909,-0.04520755906069034,null,-0.049293541402909,0.025978861933791664,null,-0.049293541402909,0.040605572205547245,null,-0.049293541402909,-0.032740772028352384,null,-0.049293541402909,-0.08402784911106326,null,-0.04520755906069034,-0.01296453568051257,null,-0.04520755906069034,0.012090089489382023,null,-0.04520755906069034,0.02375647150929436,null,-0.04520755906069034,-0.04520755906069034,null,-0.04520755906069034,0.025978861933791664,null,-0.04520755906069034,0.040605572205547245,null,-0.04520755906069034,-0.032740772028352384,null,-0.04520755906069034,0.0027419649134780657,null,-0.04520755906069034,-0.08402784911106326,null,-0.04520755906069034,0.006758770180401469,null,-0.04520755906069034,-0.03369708359375476,null,-0.03369708359375476,0.0027419649134780657,null,-0.03369708359375476,-0.08402784911106326,null,-0.03369708359375476,0.006758770180401469,null,-0.03369708359375476,-0.03369708359375476,null,-0.03369708359375476,-0.01296453568051257,null,-0.03369708359375476,0.012090089489382023,null,-0.03369708359375476,0.02375647150929436,null,-0.03369708359375476,0.025978861933791664,null,-0.03369708359375476,0.040605572205547245,null,-0.03369708359375476,-0.032740772028352384,null,0.0742057751910138,0.02375647150929436,null,0.0742057751910138,0.025978861933791664,null,0.0742057751910138,0.0742057751910138,null,0.0742057751910138,0.040605572205547245,null,0.0742057751910138,0.05999299075835136,null,0.0742057751910138,0.0027419649134780657,null,0.0742057751910138,0.031098608419703796,null,0.0742057751910138,0.006758770180401469,null,0.0742057751910138,-0.01296453568051257,null,0.0742057751910138,0.05703046858029191,null,0.0742057751910138,-0.003673085429220147,null,0.0742057751910138,0.016826704886710054,null,0.05703046858029191,0.006758770180401469,null,0.05703046858029191,-0.003673085429220147,null,0.05703046858029191,-0.01296453568051257,null,0.05703046858029191,0.05703046858029191,null,0.05703046858029191,0.016826704886710054,null,0.05703046858029191,0.02375647150929436,null,0.05703046858029191,0.025978861933791664,null,0.05703046858029191,0.040605572205547245,null,0.05703046858029191,0.05999299075835136,null,0.05703046858029191,0.0027419649134780657,null,0.05703046858029191,0.031098608419703796,null,0.05999299075835136,0.02375647150929436,null,0.05999299075835136,0.025978861933791664,null,0.05999299075835136,0.040605572205547245,null,0.05999299075835136,0.05999299075835136,null,0.05999299075835136,0.031098608419703796,null,0.05999299075835136,0.006758770180401469,null,0.05999299075835136,0.0027419649134780657,null,0.05999299075835136,-0.003673085429220147,null,0.05999299075835136,-0.01296453568051257,null,0.05999299075835136,0.016826704886710054,null,0.016826704886710054,0.031098608419703796,null,0.016826704886710054,0.006758770180401469,null,0.016826704886710054,0.0027419649134780657,null,0.016826704886710054,-0.003673085429220147,null,0.016826704886710054,-0.01296453568051257,null,0.016826704886710054,0.016826704886710054,null,0.016826704886710054,0.02375647150929436,null,0.016826704886710054,0.025978861933791664,null,0.016826704886710054,0.040605572205547245,null,0.031098608419703796,0.02375647150929436,null,0.031098608419703796,0.025978861933791664,null,0.031098608419703796,0.040605572205547245,null,0.031098608419703796,0.031098608419703796,null,0.031098608419703796,0.0027419649134780657,null,0.031098608419703796,0.006758770180401469,null,0.031098608419703796,-0.003673085429220147,null,0.031098608419703796,-0.01296453568051257,null,0.02375647150929436,-0.003673085429220147,null,0.02375647150929436,0.012090089489382023,null,0.02375647150929436,0.08955955206668434,null,0.02375647150929436,0.02375647150929436,null,0.02375647150929436,0.025978861933791664,null,0.02375647150929436,0.040605572205547245,null,0.02375647150929436,0.0027419649134780657,null,0.02375647150929436,0.006758770180401469,null,0.02375647150929436,-0.01296453568051257,null,0.006758770180401469,0.040605572205547245,null,0.006758770180401469,0.0027419649134780657,null,0.006758770180401469,0.006758770180401469,null,0.006758770180401469,-0.003673085429220147,null,0.006758770180401469,-0.01296453568051257,null,0.006758770180401469,0.012090089489382023,null,0.006758770180401469,0.08955955206668434,null,0.006758770180401469,0.025978861933791664,null,0.025978861933791664,0.0027419649134780657,null,0.025978861933791664,-0.003673085429220147,null,0.025978861933791664,-0.01296453568051257,null,0.025978861933791664,0.012090089489382023,null,0.025978861933791664,0.08955955206668434,null,0.025978861933791664,0.025978861933791664,null,0.025978861933791664,0.040605572205547245,null,-0.01296453568051257,0.040605572205547245,null,-0.01296453568051257,0.0027419649134780657,null,-0.01296453568051257,-0.003673085429220147,null,-0.01296453568051257,-0.01296453568051257,null,-0.01296453568051257,0.012090089489382023,null,-0.01296453568051257,0.08955955206668434,null,0.040605572205547245,0.012090089489382023,null,0.040605572205547245,0.08955955206668434,null,0.040605572205547245,0.040605572205547245,null,0.040605572205547245,0.0027419649134780657,null,0.040605572205547245,-0.003673085429220147,null,0.012090089489382023,-0.032740772028352384,null,0.012090089489382023,0.0027419649134780657,null,0.012090089489382023,-0.08402784911106326,null,0.012090089489382023,0.012090089489382023,null,-0.032740772028352384,-0.0287214604657734,null,-0.032740772028352384,-0.032740772028352384,null,0.7020624671619203,0.7020624671619203,null,-0.08402784911106326,-0.08402784911106326,null,0.3632795942568759,0.3632795942568759,null,-0.003673085429220147,-0.003673085429220147,null,-0.003673085429220147,0.0027419649134780657,null,-0.01593301053013162,-0.0287214604657734,null,-0.01593301053013162,-0.01593301053013162,null,-0.07505773549475586,-0.07505773549475586,null,-0.7930542440153624,-0.7930542440153624,null,0.08955955206668434,0.08955955206668434,null,0.08955955206668434,0.0027419649134780657,null,0.0027419649134780657,0.0027419649134780657,null,-0.0287214604657734,-0.0287214604657734,null,-0.8068117021252493,-0.8068117021252493,null,0.939433559660069,0.939433559660069,null,-0.4412994823137636,-0.4412994823137636,null],\"type\":\"scatter\"},{\"hoverinfo\":\"text\",\"marker\":{\"color\":[14,14,14,14,14,12,12,12,12,12,19,19,19,19,19,14,8,1,7,1,12,2,1,1,7,19,3,1,1,1],\"colorbar\":{\"thickness\":15,\"title\":{\"side\":\"right\",\"text\":\"Node Connections\"},\"xanchor\":\"left\"},\"colorscale\":[[0.0,\"rgb(255,255,217)\"],[0.125,\"rgb(237,248,177)\"],[0.25,\"rgb(199,233,180)\"],[0.375,\"rgb(127,205,187)\"],[0.5,\"rgb(65,182,196)\"],[0.625,\"rgb(29,145,192)\"],[0.75,\"rgb(34,94,168)\"],[0.875,\"rgb(37,52,148)\"],[1.0,\"rgb(8,29,88)\"]],\"line\":{\"width\":2},\"reversescale\":true,\"showscale\":true,\"size\":14},\"mode\":\"markers\",\"text\":[\"Doc ID: 0 <br>Text: I lived at West Egg, the--well, the less fashionable of the two, though thi <br>Expected Cluster: 0 <br>Cluster: 0\",\"Doc ID: 1 <br>Text: I lived at West Egg, the--well, the less fashionable of the two, though thi <br>Expected Cluster: 0 <br>Cluster: 0\",\"Doc ID: 2 <br>Text: I lived at West Egg, the--well, the less fashionable of the two, though thi <br>Expected Cluster: 0 <br>Cluster: 0\",\"Doc ID: 3 <br>Text: I lived at West Egg, the--well, the less fashionable of the two, though thi <br>Expected Cluster: 0 <br>Cluster: 0\",\"Doc ID: 4 <br>Text: I lived at West Egg, the--well, the less fashionable of the two, though thi <br>Expected Cluster: 0 <br>Cluster: 0\",\"Doc ID: 5 <br>Text: Daisy put her arm through his abruptly, but he seemed absorbed in what he h <br>Expected Cluster: 1 <br>Cluster: 0\",\"Doc ID: 6 <br>Text: Daisy put her arm through his abruptly, but he seemed absorbed in what he h <br>Expected Cluster: 1 <br>Cluster: 0\",\"Doc ID: 7 <br>Text: Daisy put her arm through his abruptly, but he seemed absorbed in what he h <br>Expected Cluster: 1 <br>Cluster: 0\",\"Doc ID: 8 <br>Text: Daisy put her arm through his abruptly, but he seemed absorbed in what he h <br>Expected Cluster: 1 <br>Cluster: 0\",\"Doc ID: 9 <br>Text: Daisy put her arm through his abruptly, but he seemed absorbed in what he h <br>Expected Cluster: 1 <br>Cluster: 0\",\"Doc ID: 10 <br>Text: And so it happened that on a warm windy evening I drove over to East Egg to <br>Expected Cluster: 0 <br>Cluster: 0\",\"Doc ID: 11 <br>Text: And so it happened that on a warm windy evening I drove over to East Egg to <br>Expected Cluster: 0 <br>Cluster: 0\",\"Doc ID: 12 <br>Text: And so it happened that on a warm windy evening I drove over to East Egg to <br>Expected Cluster: 0 <br>Cluster: 0\",\"Doc ID: 13 <br>Text: And so it happened that on a warm windy evening I drove over to East Egg to <br>Expected Cluster: 0 <br>Cluster: 0\",\"Doc ID: 14 <br>Text: And so it happened that on a warm windy evening I drove over to East Egg to <br>Expected Cluster: 0 <br>Cluster: 0\",\"Doc ID: 15 <br>Text: I lived at West Egg, the--well, the less fashionable of the two, though thi <br>Expected Cluster: 0 <br>Cluster: 0\",\"Doc ID: 16 <br>Text: I lived at West Egg, the less fashionable of the two, though this is a most <br>Expected Cluster: 0 <br>Cluster: 0\",\"Doc ID: 17 <br>Text: I lived at the very tip of West Egg, fifty yards from the sound, and betwee <br>Expected Cluster: 0 <br>Cluster: 1\",\"Doc ID: 18 <br>Text: The Normandy American Cemetery and Memorial in France is located in Collevi <br>Expected Cluster: 2 <br>Cluster: 0\",\"Doc ID: 19 <br>Text: The other girl, Daisy, made an attempt to rise\\u2014she leaned slightly forward  <br>Expected Cluster: 3 <br>Cluster: 2\",\"Doc ID: 20 <br>Text: Daisy put her arm through his abruptly, but he seemed absorbed in what he h <br>Expected Cluster: 1 <br>Cluster: 0\",\"Doc ID: 21 <br>Text: Daisy eloped his arm quickly, but he seemed to be thinking about what he ha <br>Expected Cluster: 1 <br>Cluster: 0\",\"Doc ID: 22 <br>Text: Although Daisy quickly eloped his arm, he seemed to be thinking about what  <br>Expected Cluster: 1 <br>Cluster: 3\",\"Doc ID: 23 <br>Text: The bright stars that can lie close to the Moon all lie in constellations o <br>Expected Cluster: 4 <br>Cluster: 4\",\"Doc ID: 24 <br>Text: Then came the war, old sport. It was a great relief, and I tried very hard  <br>Expected Cluster: 5 <br>Cluster: 0\",\"Doc ID: 25 <br>Text: And so it happened that on a warm windy evening I drove over to East Egg to <br>Expected Cluster: 0 <br>Cluster: 0\",\"Doc ID: 26 <br>Text: On a warm windy evening I drove over to East Egg to see 2 old friends. Thei <br>Expected Cluster: 0 <br>Cluster: 0\",\"Doc ID: 27 <br>Text: One evening I drove to East Egg to see 2 old acquaintences. Their house was <br>Expected Cluster: 0 <br>Cluster: 5\",\"Doc ID: 28 <br>Text: Examine what the vines are growing on before you start. They can creep betw <br>Expected Cluster: 6 <br>Cluster: 6\",\"Doc ID: 29 <br>Text: I just got here a minute ago, from New York. I was bringing you that coupe  <br>Expected Cluster: 7 <br>Cluster: 7\"],\"x\":[0.06380315901140284,0.03867275527515568,0.03540884868323941,0.016637952210897942,0.05194639356993582,-0.05063492478063457,-0.09028496219962363,-0.06871243522106489,-0.0766849489756065,-0.09651184083697616,0.0004979805736159146,-0.03177099745313489,-0.02184763145075418,-0.02842108942161875,-0.006204891042023882,0.05556491298271121,0.136689025935237,-0.7466345928773536,0.0855572522453652,-1.0,-0.09001491625909622,0.4146486071740513,0.872884025401906,-0.6797610681951511,0.006876070107421609,-0.01222201135160913,0.3000247417087752,0.2753091438961411,-0.24801259337087575,0.8931980346596666],\"y\":[-0.009538302216269444,-0.013401087745706721,-0.049293541402909,-0.04520755906069034,-0.03369708359375476,0.0742057751910138,0.05703046858029191,0.05999299075835136,0.016826704886710054,0.031098608419703796,0.02375647150929436,0.006758770180401469,0.025978861933791664,-0.01296453568051257,0.040605572205547245,0.012090089489382023,-0.032740772028352384,0.7020624671619203,-0.08402784911106326,0.3632795942568759,-0.003673085429220147,-0.01593301053013162,-0.07505773549475586,-0.7930542440153624,0.08955955206668434,0.0027419649134780657,-0.0287214604657734,-0.8068117021252493,0.939433559660069,-0.4412994823137636],\"type\":\"scatter\"}],                        {\"annotations\":[{\"showarrow\":false,\"text\":\"Python code: <a href='https://plotly.com/ipython-notebooks/network-graphs/'> https://plotly.com/ipython-notebooks/network-graphs/</a>\",\"x\":0.005,\"xref\":\"paper\",\"y\":-0.002,\"yref\":\"paper\"}],\"hovermode\":\"closest\",\"margin\":{\"b\":20,\"l\":5,\"r\":5,\"t\":40},\"showlegend\":false,\"title\":{\"font\":{\"size\":16},\"text\":\"Network Graph from SimHash Sparse Matrix, Distance Thresh: 6\"},\"xaxis\":{\"showgrid\":false,\"showticklabels\":false,\"zeroline\":false},\"yaxis\":{\"showgrid\":false,\"showticklabels\":false,\"zeroline\":false},\"template\":{\"data\":{\"bar\":[{\"error_x\":{\"color\":\"#2a3f5f\"},\"error_y\":{\"color\":\"#2a3f5f\"},\"marker\":{\"line\":{\"color\":\"#E5ECF6\",\"width\":0.5},\"pattern\":{\"fillmode\":\"overlay\",\"size\":10,\"solidity\":0.2}},\"type\":\"bar\"}],\"barpolar\":[{\"marker\":{\"line\":{\"color\":\"#E5ECF6\",\"width\":0.5},\"pattern\":{\"fillmode\":\"overlay\",\"size\":10,\"solidity\":0.2}},\"type\":\"barpolar\"}],\"carpet\":[{\"aaxis\":{\"endlinecolor\":\"#2a3f5f\",\"gridcolor\":\"white\",\"linecolor\":\"white\",\"minorgridcolor\":\"white\",\"startlinecolor\":\"#2a3f5f\"},\"baxis\":{\"endlinecolor\":\"#2a3f5f\",\"gridcolor\":\"white\",\"linecolor\":\"white\",\"minorgridcolor\":\"white\",\"startlinecolor\":\"#2a3f5f\"},\"type\":\"carpet\"}],\"choropleth\":[{\"colorbar\":{\"outlinewidth\":0,\"ticks\":\"\"},\"type\":\"choropleth\"}],\"contour\":[{\"colorbar\":{\"outlinewidth\":0,\"ticks\":\"\"},\"colorscale\":[[0.0,\"#0d0887\"],[0.1111111111111111,\"#46039f\"],[0.2222222222222222,\"#7201a8\"],[0.3333333333333333,\"#9c179e\"],[0.4444444444444444,\"#bd3786\"],[0.5555555555555556,\"#d8576b\"],[0.6666666666666666,\"#ed7953\"],[0.7777777777777778,\"#fb9f3a\"],[0.8888888888888888,\"#fdca26\"],[1.0,\"#f0f921\"]],\"type\":\"contour\"}],\"contourcarpet\":[{\"colorbar\":{\"outlinewidth\":0,\"ticks\":\"\"},\"type\":\"contourcarpet\"}],\"heatmap\":[{\"colorbar\":{\"outlinewidth\":0,\"ticks\":\"\"},\"colorscale\":[[0.0,\"#0d0887\"],[0.1111111111111111,\"#46039f\"],[0.2222222222222222,\"#7201a8\"],[0.3333333333333333,\"#9c179e\"],[0.4444444444444444,\"#bd3786\"],[0.5555555555555556,\"#d8576b\"],[0.6666666666666666,\"#ed7953\"],[0.7777777777777778,\"#fb9f3a\"],[0.8888888888888888,\"#fdca26\"],[1.0,\"#f0f921\"]],\"type\":\"heatmap\"}],\"heatmapgl\":[{\"colorbar\":{\"outlinewidth\":0,\"ticks\":\"\"},\"colorscale\":[[0.0,\"#0d0887\"],[0.1111111111111111,\"#46039f\"],[0.2222222222222222,\"#7201a8\"],[0.3333333333333333,\"#9c179e\"],[0.4444444444444444,\"#bd3786\"],[0.5555555555555556,\"#d8576b\"],[0.6666666666666666,\"#ed7953\"],[0.7777777777777778,\"#fb9f3a\"],[0.8888888888888888,\"#fdca26\"],[1.0,\"#f0f921\"]],\"type\":\"heatmapgl\"}],\"histogram\":[{\"marker\":{\"pattern\":{\"fillmode\":\"overlay\",\"size\":10,\"solidity\":0.2}},\"type\":\"histogram\"}],\"histogram2d\":[{\"colorbar\":{\"outlinewidth\":0,\"ticks\":\"\"},\"colorscale\":[[0.0,\"#0d0887\"],[0.1111111111111111,\"#46039f\"],[0.2222222222222222,\"#7201a8\"],[0.3333333333333333,\"#9c179e\"],[0.4444444444444444,\"#bd3786\"],[0.5555555555555556,\"#d8576b\"],[0.6666666666666666,\"#ed7953\"],[0.7777777777777778,\"#fb9f3a\"],[0.8888888888888888,\"#fdca26\"],[1.0,\"#f0f921\"]],\"type\":\"histogram2d\"}],\"histogram2dcontour\":[{\"colorbar\":{\"outlinewidth\":0,\"ticks\":\"\"},\"colorscale\":[[0.0,\"#0d0887\"],[0.1111111111111111,\"#46039f\"],[0.2222222222222222,\"#7201a8\"],[0.3333333333333333,\"#9c179e\"],[0.4444444444444444,\"#bd3786\"],[0.5555555555555556,\"#d8576b\"],[0.6666666666666666,\"#ed7953\"],[0.7777777777777778,\"#fb9f3a\"],[0.8888888888888888,\"#fdca26\"],[1.0,\"#f0f921\"]],\"type\":\"histogram2dcontour\"}],\"mesh3d\":[{\"colorbar\":{\"outlinewidth\":0,\"ticks\":\"\"},\"type\":\"mesh3d\"}],\"parcoords\":[{\"line\":{\"colorbar\":{\"outlinewidth\":0,\"ticks\":\"\"}},\"type\":\"parcoords\"}],\"pie\":[{\"automargin\":true,\"type\":\"pie\"}],\"scatter\":[{\"marker\":{\"colorbar\":{\"outlinewidth\":0,\"ticks\":\"\"}},\"type\":\"scatter\"}],\"scatter3d\":[{\"line\":{\"colorbar\":{\"outlinewidth\":0,\"ticks\":\"\"}},\"marker\":{\"colorbar\":{\"outlinewidth\":0,\"ticks\":\"\"}},\"type\":\"scatter3d\"}],\"scattercarpet\":[{\"marker\":{\"colorbar\":{\"outlinewidth\":0,\"ticks\":\"\"}},\"type\":\"scattercarpet\"}],\"scattergeo\":[{\"marker\":{\"colorbar\":{\"outlinewidth\":0,\"ticks\":\"\"}},\"type\":\"scattergeo\"}],\"scattergl\":[{\"marker\":{\"colorbar\":{\"outlinewidth\":0,\"ticks\":\"\"}},\"type\":\"scattergl\"}],\"scattermapbox\":[{\"marker\":{\"colorbar\":{\"outlinewidth\":0,\"ticks\":\"\"}},\"type\":\"scattermapbox\"}],\"scatterpolar\":[{\"marker\":{\"colorbar\":{\"outlinewidth\":0,\"ticks\":\"\"}},\"type\":\"scatterpolar\"}],\"scatterpolargl\":[{\"marker\":{\"colorbar\":{\"outlinewidth\":0,\"ticks\":\"\"}},\"type\":\"scatterpolargl\"}],\"scatterternary\":[{\"marker\":{\"colorbar\":{\"outlinewidth\":0,\"ticks\":\"\"}},\"type\":\"scatterternary\"}],\"surface\":[{\"colorbar\":{\"outlinewidth\":0,\"ticks\":\"\"},\"colorscale\":[[0.0,\"#0d0887\"],[0.1111111111111111,\"#46039f\"],[0.2222222222222222,\"#7201a8\"],[0.3333333333333333,\"#9c179e\"],[0.4444444444444444,\"#bd3786\"],[0.5555555555555556,\"#d8576b\"],[0.6666666666666666,\"#ed7953\"],[0.7777777777777778,\"#fb9f3a\"],[0.8888888888888888,\"#fdca26\"],[1.0,\"#f0f921\"]],\"type\":\"surface\"}],\"table\":[{\"cells\":{\"fill\":{\"color\":\"#EBF0F8\"},\"line\":{\"color\":\"white\"}},\"header\":{\"fill\":{\"color\":\"#C8D4E3\"},\"line\":{\"color\":\"white\"}},\"type\":\"table\"}]},\"layout\":{\"annotationdefaults\":{\"arrowcolor\":\"#2a3f5f\",\"arrowhead\":0,\"arrowwidth\":1},\"autotypenumbers\":\"strict\",\"coloraxis\":{\"colorbar\":{\"outlinewidth\":0,\"ticks\":\"\"}},\"colorscale\":{\"diverging\":[[0,\"#8e0152\"],[0.1,\"#c51b7d\"],[0.2,\"#de77ae\"],[0.3,\"#f1b6da\"],[0.4,\"#fde0ef\"],[0.5,\"#f7f7f7\"],[0.6,\"#e6f5d0\"],[0.7,\"#b8e186\"],[0.8,\"#7fbc41\"],[0.9,\"#4d9221\"],[1,\"#276419\"]],\"sequential\":[[0.0,\"#0d0887\"],[0.1111111111111111,\"#46039f\"],[0.2222222222222222,\"#7201a8\"],[0.3333333333333333,\"#9c179e\"],[0.4444444444444444,\"#bd3786\"],[0.5555555555555556,\"#d8576b\"],[0.6666666666666666,\"#ed7953\"],[0.7777777777777778,\"#fb9f3a\"],[0.8888888888888888,\"#fdca26\"],[1.0,\"#f0f921\"]],\"sequentialminus\":[[0.0,\"#0d0887\"],[0.1111111111111111,\"#46039f\"],[0.2222222222222222,\"#7201a8\"],[0.3333333333333333,\"#9c179e\"],[0.4444444444444444,\"#bd3786\"],[0.5555555555555556,\"#d8576b\"],[0.6666666666666666,\"#ed7953\"],[0.7777777777777778,\"#fb9f3a\"],[0.8888888888888888,\"#fdca26\"],[1.0,\"#f0f921\"]]},\"colorway\":[\"#636efa\",\"#EF553B\",\"#00cc96\",\"#ab63fa\",\"#FFA15A\",\"#19d3f3\",\"#FF6692\",\"#B6E880\",\"#FF97FF\",\"#FECB52\"],\"font\":{\"color\":\"#2a3f5f\"},\"geo\":{\"bgcolor\":\"white\",\"lakecolor\":\"white\",\"landcolor\":\"#E5ECF6\",\"showlakes\":true,\"showland\":true,\"subunitcolor\":\"white\"},\"hoverlabel\":{\"align\":\"left\"},\"hovermode\":\"closest\",\"mapbox\":{\"style\":\"light\"},\"paper_bgcolor\":\"white\",\"plot_bgcolor\":\"#E5ECF6\",\"polar\":{\"angularaxis\":{\"gridcolor\":\"white\",\"linecolor\":\"white\",\"ticks\":\"\"},\"bgcolor\":\"#E5ECF6\",\"radialaxis\":{\"gridcolor\":\"white\",\"linecolor\":\"white\",\"ticks\":\"\"}},\"scene\":{\"xaxis\":{\"backgroundcolor\":\"#E5ECF6\",\"gridcolor\":\"white\",\"gridwidth\":2,\"linecolor\":\"white\",\"showbackground\":true,\"ticks\":\"\",\"zerolinecolor\":\"white\"},\"yaxis\":{\"backgroundcolor\":\"#E5ECF6\",\"gridcolor\":\"white\",\"gridwidth\":2,\"linecolor\":\"white\",\"showbackground\":true,\"ticks\":\"\",\"zerolinecolor\":\"white\"},\"zaxis\":{\"backgroundcolor\":\"#E5ECF6\",\"gridcolor\":\"white\",\"gridwidth\":2,\"linecolor\":\"white\",\"showbackground\":true,\"ticks\":\"\",\"zerolinecolor\":\"white\"}},\"shapedefaults\":{\"line\":{\"color\":\"#2a3f5f\"}},\"ternary\":{\"aaxis\":{\"gridcolor\":\"white\",\"linecolor\":\"white\",\"ticks\":\"\"},\"baxis\":{\"gridcolor\":\"white\",\"linecolor\":\"white\",\"ticks\":\"\"},\"bgcolor\":\"#E5ECF6\",\"caxis\":{\"gridcolor\":\"white\",\"linecolor\":\"white\",\"ticks\":\"\"}},\"title\":{\"x\":0.05},\"xaxis\":{\"automargin\":true,\"gridcolor\":\"white\",\"linecolor\":\"white\",\"ticks\":\"\",\"title\":{\"standoff\":15},\"zerolinecolor\":\"white\",\"zerolinewidth\":2},\"yaxis\":{\"automargin\":true,\"gridcolor\":\"white\",\"linecolor\":\"white\",\"ticks\":\"\",\"title\":{\"standoff\":15},\"zerolinecolor\":\"white\",\"zerolinewidth\":2}}}},                        {\"responsive\": true}                    ).then(function(){\n",
       "                            \n",
       "var gd = document.getElementById('a6916f7b-6309-44d1-83d9-808763638f3f');\n",
       "var x = new MutationObserver(function (mutations, observer) {{\n",
       "        var display = window.getComputedStyle(gd).display;\n",
       "        if (!display || display === 'none') {{\n",
       "            console.log([gd, 'removed!']);\n",
       "            Plotly.purge(gd);\n",
       "            observer.disconnect();\n",
       "        }}\n",
       "}});\n",
       "\n",
       "// Listen for the removal of the full notebook cells\n",
       "var notebookContainer = gd.closest('#notebook-container');\n",
       "if (notebookContainer) {{\n",
       "    x.observe(notebookContainer, {childList: true});\n",
       "}}\n",
       "\n",
       "// Listen for the clearing of the current output cell\n",
       "var outputEl = gd.closest('.output');\n",
       "if (outputEl) {{\n",
       "    x.observe(outputEl, {childList: true});\n",
       "}}\n",
       "\n",
       "                        })                };                });            </script>        </div>"
      ]
     },
     "metadata": {},
     "output_type": "display_data"
    }
   ],
   "source": [
    "fig = plot_graph(G)\n",
    "fig.show()"
   ]
  },
  {
   "cell_type": "markdown",
   "id": "8e043df2",
   "metadata": {},
   "source": [
    "### Analysis\n",
    "\n",
    "SimHash with a distance threshold of 1 only groups texts that are exactly the same.  The semantically similar texts are not included in the same cluster.  \n",
    "\n",
    "Increasing the threshold reaches a cliff, beyond which all texts are considered similar.  Unfortunately, SimHash's limitation of requiring the threshold to be an integer makes it hard to determine where the threshold should be set to capture less exact matches."
   ]
  },
  {
   "cell_type": "code",
   "execution_count": null,
   "id": "f905437b",
   "metadata": {},
   "outputs": [],
   "source": []
  }
 ],
 "metadata": {
  "kernelspec": {
   "display_name": "Python 3 (ipykernel)",
   "language": "python",
   "name": "python3"
  },
  "language_info": {
   "codemirror_mode": {
    "name": "ipython",
    "version": 3
   },
   "file_extension": ".py",
   "mimetype": "text/x-python",
   "name": "python",
   "nbconvert_exporter": "python",
   "pygments_lexer": "ipython3",
   "version": "3.8.12"
  }
 },
 "nbformat": 4,
 "nbformat_minor": 5
}
