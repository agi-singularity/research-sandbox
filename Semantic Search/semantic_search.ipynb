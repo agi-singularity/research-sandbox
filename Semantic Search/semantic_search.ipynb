{
 "cells": [
  {
   "cell_type": "code",
   "execution_count": 17,
   "id": "7accc121",
   "metadata": {},
   "outputs": [],
   "source": [
    "from haystack import Pipeline\n",
    "from haystack.pipelines import DocumentSearchPipeline\n",
    "from haystack.utils import (\n",
    "    clean_wiki_text,\n",
    "    convert_files_to_dicts,\n",
    "    fetch_archive_from_http,\n",
    "    print_documents,\n",
    ")\n",
    "from haystack.nodes import (\n",
    "    PreProcessor,\n",
    "    DensePassageRetriever,\n",
    "    SentenceTransformersRanker,\n",
    ")\n",
    "from haystack.document_stores import FAISSDocumentStore"
   ]
  },
  {
   "cell_type": "markdown",
   "id": "2fb3e961",
   "metadata": {},
   "source": [
    "# Create a Document Store"
   ]
  },
  {
   "cell_type": "code",
   "execution_count": 18,
   "id": "9ae1cd7f",
   "metadata": {},
   "outputs": [
    {
     "name": "stderr",
     "output_type": "stream",
     "text": [
      "Found data stored in `data/article_txt_got`. Delete this first if you really want to fetch new data.\n",
      "Converting data/article_txt_got/145_Elio_M._García_Jr._and_Linda_Antonsson.txt\n",
      "Converting data/article_txt_got/368_Jaime_Lannister.txt\n",
      "Converting data/article_txt_got/133_Game_of_Thrones__Season_5__soundtrack_.txt\n",
      "Converting data/article_txt_got/515_The_Door__Game_of_Thrones_.txt\n",
      "Converting data/article_txt_got/119_Walk_of_Punishment.txt\n",
      "Converting data/article_txt_got/369_Samwell_Tarly.txt\n",
      "Converting data/article_txt_got/356_Tales_of_Dunk_and_Egg.txt\n",
      "Converting data/article_txt_got/195_World_of_A_Song_of_Ice_and_Fire.txt\n",
      "Converting data/article_txt_got/25_Game_of_Thrones__Season_2__soundtrack_.txt\n",
      "Converting data/article_txt_got/460_Battle_of_the_Bastards.txt\n",
      "Converting data/article_txt_got/511_After_the_Thrones.txt\n",
      "Converting data/article_txt_got/69_The_Red_Woman.txt\n",
      "Converting data/article_txt_got/407_The_Long_Night__Game_of_Thrones_.txt\n",
      "Converting data/article_txt_got/201_A_Game_of_Thrones__card_game_.txt\n",
      "Converting data/article_txt_got/97_Tyrion_Lannister.txt\n",
      "Converting data/article_txt_got/401_Power_Is_Power.txt\n",
      "Converting data/article_txt_got/51_Iron_Throne__A_Song_of_Ice_and_Fire_.txt\n",
      "Converting data/article_txt_got/20_Light_of_the_Seven.txt\n",
      "Converting data/article_txt_got/359_Kill_the_Boy.txt\n",
      "Converting data/article_txt_got/224_The_Night_Lands.txt\n",
      "Converting data/article_txt_got/8_Eastwatch.txt\n",
      "Converting data/article_txt_got/469_Outline_of_A_Song_of_Ice_and_Fire_franchise.txt\n",
      "Converting data/article_txt_got/402_A_Knight_of_the_Seven_Kingdoms__Game_of_Thrones_.txt\n",
      "Converting data/article_txt_got/11_The_Dragon_and_the_Wolf.txt\n",
      "Converting data/article_txt_got/53_The_Lion_and_the_Rose.txt\n",
      "Converting data/article_txt_got/136_Game_of_Thrones__Season_8__soundtrack_.txt\n",
      "Converting data/article_txt_got/439_Melisandre.txt\n",
      "Converting data/article_txt_got/485_Oathkeeper.txt\n",
      "Converting data/article_txt_got/26_Game_of_Thrones__Season_3__soundtrack_.txt\n",
      "Converting data/article_txt_got/329_Robert_Baratheon.txt\n",
      "Converting data/article_txt_got/443_The_Kingsroad.txt\n",
      "Converting data/article_txt_got/198_A_Clash_of_Kings.txt\n",
      "Converting data/article_txt_got/146_The_Sons_of_the_Dragon.txt\n",
      "Converting data/article_txt_got/68_The_Gift__Game_of_Thrones_.txt\n",
      "Converting data/article_txt_got/311_Game_of_Thrones__season_7_.txt\n",
      "Converting data/article_txt_got/482_Petyr_Baelish.txt\n",
      "Converting data/article_txt_got/7_The_Spoils_of_War__Game_of_Thrones_.txt\n",
      "Converting data/article_txt_got/332_Sansa_Stark.txt\n",
      "Converting data/article_txt_got/30_List_of_A_Song_of_Ice_and_Fire_characters.txt\n",
      "Converting data/article_txt_got/55_Breaker_of_Chains.txt\n",
      "Converting data/article_txt_got/342_Theon_Greyjoy.txt\n",
      "Converting data/article_txt_got/197_A_Game_of_Thrones.txt\n",
      "Converting data/article_txt_got/52_Catch_the_Throne.txt\n",
      "Converting data/article_txt_got/194_A_Song_of_Ice_and_Fire.txt\n",
      "Converting data/article_txt_got/273_High_Sparrow.txt\n",
      "Converting data/article_txt_got/454_Music_of_Game_of_Thrones.txt\n",
      "Converting data/article_txt_got/475_A_Game_of_Thrones__role-playing_game_.txt\n",
      "Converting data/article_txt_got/446_A_Golden_Crown.txt\n",
      "Converting data/article_txt_got/360_List_of_Game_of_Thrones_episodes.txt\n",
      "Converting data/article_txt_got/207_Jon_Snow__character_.txt\n",
      "Converting data/article_txt_got/44_Daenerys_Targaryen.txt\n",
      "Converting data/article_txt_got/160_Viserys_Targaryen.txt\n",
      "Converting data/article_txt_got/395_Game_of_Thrones__season_5_.txt\n",
      "Converting data/article_txt_got/78_The_Rains_of_Castamere.txt\n",
      "Converting data/article_txt_got/99_A_Song_of_Ass_and_Fire.txt\n",
      "Converting data/article_txt_got/411_The_Iron_Throne__Game_of_Thrones_.txt\n",
      "Converting data/article_txt_got/74_The_Prince_of_Winterfell.txt\n",
      "Converting data/article_txt_got/233_Myrcella_Baratheon.txt\n",
      "Converting data/article_txt_got/445_The_Wolf_and_the_Lion.txt\n",
      "Converting data/article_txt_got/77_Game_of_Thrones_Ascent.txt\n",
      "Converting data/article_txt_got/420_Blood_of_My_Blood.txt\n",
      "Converting data/article_txt_got/148_Game_of_Thrones__Winter_Is_Coming.txt\n",
      "Converting data/article_txt_got/39_Renly_Baratheon.txt\n",
      "Converting data/article_txt_got/22_The_Rains_of_Castamere__song_.txt\n",
      "Converting data/article_txt_got/9_Game_of_Thrones_Tapestry.txt\n",
      "Converting data/article_txt_got/345_A_Game_of_Thrones__comics_.txt\n",
      "Converting data/article_txt_got/424_Night_King.txt\n",
      "Converting data/article_txt_got/435_White_Walker.txt\n",
      "Converting data/article_txt_got/304_Hardhome.txt\n",
      "Converting data/article_txt_got/12_Fire.txt\n",
      "Converting data/article_txt_got/102_The_Princess_and_the_Queen.txt\n",
      "Converting data/article_txt_got/444_Cripples__Bastards__and_Broken_Things.txt\n",
      "Converting data/article_txt_got/121_The_Bear_and_the_Maiden_Fair.txt\n",
      "Converting data/article_txt_got/461_The_Winds_of_Winter__Game_of_Thrones_.txt\n",
      "Converting data/article_txt_got/362_Winter_Is_Coming.txt\n",
      "Converting data/article_txt_got/504_List_of_A_Song_of_Ice_and_Fire_video_games.txt\n",
      "Converting data/article_txt_got/101_Titties_and_Dragons.txt\n",
      "Converting data/article_txt_got/379_Davos_Seaworth.txt\n",
      "Converting data/article_txt_got/98_Black_Friday__South_Park_.txt\n",
      "Converting data/article_txt_got/86_Game_of_Thrones__season_4_.txt\n",
      "Converting data/article_txt_got/10_Beyond_the_Wall__Game_of_Thrones_.txt\n",
      "Converting data/article_txt_got/508_A_Game_of_Thrones__Second_Edition__card_game_.txt\n",
      "Converting data/article_txt_got/340_Roose_Bolton.txt\n",
      "Converting data/article_txt_got/28_Jorah_Mormont.txt\n",
      "Converting data/article_txt_got/396_Game_of_Thrones__season_6_.txt\n",
      "Converting data/article_txt_got/209_Mockingbird__Game_of_Thrones_.txt\n",
      "Converting data/article_txt_got/341_Ned_Stark.txt\n",
      "Converting data/article_txt_got/57_The_Laws_of_Gods_and_Men.txt\n",
      "Converting data/article_txt_got/37_Joffrey_Baratheon.txt\n",
      "Converting data/article_txt_got/371_Cersei_Lannister.txt\n",
      "Converting data/article_txt_got/67_Unbowed__Unbent__Unbroken.txt\n",
      "Converting data/article_txt_got/481_Sandor_Clegane.txt\n",
      "Converting data/article_txt_got/135_Game_of_Thrones__Season_7__soundtrack_.txt\n",
      "Converting data/article_txt_got/425_No_One__Game_of_Thrones_.txt\n",
      "Converting data/article_txt_got/501_Khal_Drogo.txt\n",
      "Converting data/article_txt_got/447_You_Win_or_You_Die.txt\n",
      "Converting data/article_txt_got/228_Souad_Faress.txt\n",
      "Converting data/article_txt_got/54_Two_Swords__Game_of_Thrones_.txt\n",
      "Converting data/article_txt_got/76_Valar_Morghulis.txt\n",
      "Converting data/article_txt_got/134_Game_of_Thrones__Season_6__soundtrack_.txt\n",
      "Converting data/article_txt_got/306_The_Dance_of_Dragons.txt\n",
      "Converting data/article_txt_got/27_Game_of_Thrones__Season_4__soundtrack_.txt\n",
      "Converting data/article_txt_got/24_Game_of_Thrones__Season_1__soundtrack_.txt\n",
      "Converting data/article_txt_got/199_A_Storm_of_Swords.txt\n",
      "Converting data/article_txt_got/310_Mother_s_Mercy.txt\n",
      "Converting data/article_txt_got/452_Fire_and_Blood__Game_of_Thrones_.txt\n",
      "Converting data/article_txt_got/262_Gilly__character_.txt\n",
      "Converting data/article_txt_got/202_A_Feast_for_Crows.txt\n",
      "Converting data/article_txt_got/449_The_Pointy_End.txt\n",
      "Converting data/article_txt_got/85_Game_of_Thrones__Seven_Kingdoms.txt\n",
      "Converting data/article_txt_got/347_Game_of_Thrones__season_2_.txt\n",
      "Converting data/article_txt_got/120_And_Now_His_Watch_Is_Ended.txt\n",
      "Converting data/article_txt_got/217_The_Rogue_Prince.txt\n",
      "Converting data/article_txt_got/33_David_Benioff.txt\n",
      "Converting data/article_txt_got/218_Olenna_Tyrell.txt\n",
      "Converting data/article_txt_got/0_Game_of_Thrones__season_8_.txt\n",
      "Converting data/article_txt_got/474_Bronn__character_.txt\n",
      "Converting data/article_txt_got/456_Works_based_on_A_Song_of_Ice_and_Fire.txt\n",
      "Converting data/article_txt_got/154_Margaery_Tyrell.txt\n",
      "Converting data/article_txt_got/331_Bran_Stark.txt\n",
      "Converting data/article_txt_got/480_Varys.txt\n",
      "Converting data/article_txt_got/330_Oberyn_Martell.txt\n",
      "Converting data/article_txt_got/408_The_Last_of_the_Starks.txt\n",
      "Converting data/article_txt_got/394_Game_of_Thrones__2014_video_game_.txt\n",
      "Converting data/article_txt_got/346_Ygritte.txt\n",
      "Converting data/article_txt_got/348_The_Winds_of_Winter.txt\n",
      "Converting data/article_txt_got/131_Mhysa.txt\n",
      "Converting data/article_txt_got/87_Valar_Dohaeris.txt\n",
      "Converting data/article_txt_got/1_Dragonstone__Game_of_Thrones_episode_.txt\n"
     ]
    },
    {
     "name": "stderr",
     "output_type": "stream",
     "text": [
      "Converting data/article_txt_got/400_Winterfell__Game_of_Thrones_episode_.txt\n",
      "Converting data/article_txt_got/373_Tywin_Lannister.txt\n",
      "Converting data/article_txt_got/75_Blackwater__Game_of_Thrones_.txt\n",
      "Converting data/article_txt_got/378_A_Game_of_Thrones__board_game_.txt\n",
      "Converting data/article_txt_got/512_Home__Game_of_Thrones_.txt\n",
      "Converting data/article_txt_got/80_A_Song_of_Ice_and_Fire_fandom.txt\n",
      "Converting data/article_txt_got/229_Game_of_Thrones.txt\n",
      "Converting data/article_txt_got/56_First_of_His_Name.txt\n",
      "Converting data/article_txt_got/263_Tormund_Giantsbane.txt\n",
      "Converting data/article_txt_got/513_Oathbreaker__Game_of_Thrones_.txt\n",
      "Converting data/article_txt_got/487_Ramsay_Bolton.txt\n",
      "Converting data/article_txt_got/365_A_Song_of_Ice_and_Fire_Roleplaying.txt\n",
      "Converting data/article_txt_got/73_A_Man_Without_Honor.txt\n",
      "Converting data/article_txt_got/208_Robb_Stark.txt\n",
      "Converting data/article_txt_got/343_Catelyn_Stark.txt\n",
      "Converting data/article_txt_got/232_Tommen_Baratheon.txt\n",
      "Converting data/article_txt_got/43_Arya_Stark.txt\n",
      "Converting data/article_txt_got/84_List_of_awards_and_nominations_received_by_Game_of_Thrones.txt\n",
      "Converting data/article_txt_got/450_Baelor.txt\n",
      "Converting data/article_txt_got/399_For_the_Throne__Music_Inspired_by_the_HBO_Series_Game_of_Thrones.txt\n",
      "Converting data/article_txt_got/40_Stannis_Baratheon.txt\n",
      "Converting data/article_txt_got/495_Hodor.txt\n",
      "Converting data/article_txt_got/23_Game_of_Thrones_Live_Concert_Experience.txt\n",
      "Converting data/article_txt_got/130_Game_of_Thrones_title_sequence.txt\n",
      "Converting data/article_txt_got/317_The_Broken_Man.txt\n",
      "Converting data/article_txt_got/488_Brienne_of_Tarth.txt\n",
      "Converting data/article_txt_got/21_The_Bear_and_the_Maiden_Fair__song_.txt\n",
      "Converting data/article_txt_got/211_The_Watchers_on_the_Wall.txt\n",
      "Converting data/article_txt_got/453_Game_of_Thrones__2012_video_game_.txt\n",
      "Converting data/article_txt_got/442_Game_of_Thrones__season_1_.txt\n",
      "Converting data/article_txt_got/410_The_Bells__Game_of_Thrones_.txt\n",
      "Converting data/article_txt_got/213_Valyrian_languages.txt\n",
      "Converting data/article_txt_got/126_Kissed_by_Fire.txt\n",
      "Converting data/article_txt_got/212_The_Children__Game_of_Thrones_.txt\n",
      "Converting data/article_txt_got/299_Rani_Mahal__TV_series_.txt\n",
      "Converting data/article_txt_got/214_Dothraki_language.txt\n",
      "Converting data/article_txt_got/506_Game_of_Thrones_Theme.txt\n",
      "Converting data/article_txt_got/367_Gregor_Clegane.txt\n",
      "Converting data/article_txt_got/151_Ellaria_Sand.txt\n",
      "Converting data/article_txt_got/191_Gendry.txt\n",
      "Converting data/article_txt_got/79_Thronecast.txt\n",
      "Converting data/article_txt_got/477_A_Dance_with_Dragons.txt\n",
      "Converting data/article_txt_got/193_Lord_Snow.txt\n",
      "Converting data/article_txt_got/514_Book_of_the_Stranger.txt\n",
      "Converting data/article_txt_got/334_Rickon_Stark.txt\n",
      "Converting data/article_txt_got/210_The_Mountain_and_the_Viper.txt\n",
      "Converting data/article_txt_got/127_The_Climb__Game_of_Thrones_.txt\n",
      "Converting data/article_txt_got/3_The_Queen_s_Justice.txt\n",
      "Converting data/article_txt_got/403_Jenny_of_Oldstones.txt\n",
      "Converting data/article_txt_got/129_Second_Sons.txt\n",
      "Converting data/article_txt_got/349_List_of_Game_of_Thrones_characters.txt\n",
      "Converting data/article_txt_got/118_Dark_Wings__Dark_Words.txt\n",
      "Converting data/article_txt_got/358_A_Game_of_Thrones__Genesis.txt\n",
      "Converting data/article_txt_got/2_Stormborn.txt\n",
      "  0%|          | 0/2497 [00:00<?, ?docs/s]One or more sentence found with word count higher than the split length.\n",
      "100%|██████████| 2497/2497 [00:00<00:00, 2754.03docs/s]\n"
     ]
    }
   ],
   "source": [
    "# get the data\n",
    "doc_dir = \"data/article_txt_got\"\n",
    "s3_url = \"https://s3.eu-central-1.amazonaws.com/deepset.ai-farm-qa/datasets/documents/wiki_gameofthrones_txt.zip\"\n",
    "fetch_archive_from_http(url=s3_url, output_dir=doc_dir)\n",
    "docs = convert_files_to_dicts(dir_path=doc_dir, clean_func=clean_wiki_text, split_paragraphs=True)\n",
    "# docs = []\n",
    "\n",
    "# load and clean documents with processor\n",
    "processor = PreProcessor(\n",
    "    clean_empty_lines=True,\n",
    "    clean_whitespace=True,\n",
    "    clean_header_footer=True,\n",
    "    split_by=\"word\",\n",
    "    split_length=200,\n",
    "    split_respect_sentence_boundary=True,\n",
    "    split_overlap=0\n",
    ")\n",
    "documents = processor.process(docs)"
   ]
  },
  {
   "cell_type": "markdown",
   "id": "9559ef04",
   "metadata": {},
   "source": [
    "### Semantic Search with FAISS"
   ]
  },
  {
   "cell_type": "code",
   "execution_count": 19,
   "id": "b7ec7407",
   "metadata": {},
   "outputs": [],
   "source": [
    "document_store = FAISSDocumentStore(\n",
    "    similarity='dot_product',\n",
    "    return_embedding=True,\n",
    "    faiss_index_factory_str=\"Flat\"\n",
    ")\n",
    "document_store.write_documents(documents, duplicate_documents='overwrite')\n",
    "\n",
    "# don't save yet - this type of doc_store will need to be updated for a retriever"
   ]
  },
  {
   "cell_type": "markdown",
   "id": "72ac4f83",
   "metadata": {},
   "source": [
    "# Create a Document Retriever\n",
    "\n",
    "This will take a search term as input and return relevant documents from the document store."
   ]
  },
  {
   "cell_type": "code",
   "execution_count": 20,
   "id": "7867410a",
   "metadata": {},
   "outputs": [
    {
     "name": "stderr",
     "output_type": "stream",
     "text": [
      "Using devices: CPU\n",
      "Number of GPUs: 0\n"
     ]
    }
   ],
   "source": [
    "retriever = DensePassageRetriever(\n",
    "    document_store=document_store,\n",
    "    query_embedding_model=\"facebook/dpr-question_encoder-single-nq-base\",\n",
    "    passage_embedding_model=\"facebook/dpr-ctx_encoder-single-nq-base\",\n",
    "    max_seq_len_query=64,\n",
    "    max_seq_len_passage=256,\n",
    "    batch_size=16,\n",
    "    use_gpu=True,\n",
    "    embed_title=True,\n",
    "    use_fast_tokenizers=True,\n",
    ")"
   ]
  },
  {
   "cell_type": "code",
   "execution_count": 21,
   "id": "f6d7349d",
   "metadata": {},
   "outputs": [
    {
     "name": "stderr",
     "output_type": "stream",
     "text": [
      "Updating embeddings for 3443 docs...\n",
      "Updating Embedding:   0%|          | 0/3443 [00:00<?, ? docs/s]"
     ]
    },
    {
     "data": {
      "application/vnd.jupyter.widget-view+json": {
       "model_id": "",
       "version_major": 2,
       "version_minor": 0
      },
      "text/plain": [
       "Create embeddings:   0%|          | 0/3456 [00:00<?, ? Docs/s]"
      ]
     },
     "metadata": {},
     "output_type": "display_data"
    },
    {
     "name": "stderr",
     "output_type": "stream",
     "text": [
      "Documents Processed: 10000 docs [32:01,  5.20 docs/s]           \n"
     ]
    }
   ],
   "source": [
    "# Important:\n",
    "# Now that after we have the DPR initialized, we need to call update_embeddings() to iterate over all\n",
    "# previously indexed documents and update their embedding representation.\n",
    "# While this can be a time consuming operation (depending on corpus size), it only needs to be done once.\n",
    "# At query time, we only need to embed the query and compare it the existing doc embeddings which is very fast.\n",
    "document_store.update_embeddings(retriever)\n",
    "\n",
    "# save/load document store\n",
    "document_store.save(\"my_dataset.faiss\")\n",
    "document_store = FAISSDocumentStore.load(\"my_dataset.faiss\")"
   ]
  },
  {
   "cell_type": "markdown",
   "id": "30958221",
   "metadata": {},
   "source": [
    "# Create a Ranker (Optional)\n",
    "\n",
    "The ranker helps to sort semantically similar content first.  It is more useful for non-semantic retrievers like BM25, but can still help with Dense Passage retrievers. "
   ]
  },
  {
   "cell_type": "code",
   "execution_count": 22,
   "id": "e74c3330",
   "metadata": {},
   "outputs": [
    {
     "name": "stderr",
     "output_type": "stream",
     "text": [
      "Using devices: CPU\n",
      "Number of GPUs: 0\n"
     ]
    }
   ],
   "source": [
    "# ranker is optional, but can improve the results of the retriever\n",
    "ranker = SentenceTransformersRanker(model_name_or_path=\"cross-encoder/ms-marco-MiniLM-L-12-v2\")"
   ]
  },
  {
   "cell_type": "markdown",
   "id": "c7ff3a42",
   "metadata": {},
   "source": [
    "# Create the Pipeline"
   ]
  },
  {
   "cell_type": "code",
   "execution_count": 23,
   "id": "150045d4",
   "metadata": {},
   "outputs": [],
   "source": [
    "p = Pipeline()\n",
    "p.add_node(component=retriever_b, name=\"Retriever\", inputs=[\"Query\"])\n",
    "# p.add_node(component=ranker, name=\"Ranker\", inputs=[\"Retriever\"])"
   ]
  },
  {
   "cell_type": "code",
   "execution_count": 24,
   "id": "9f824894",
   "metadata": {},
   "outputs": [
    {
     "ename": "Exception",
     "evalue": "Exception while running node `Retriever` with input `{'root_node': 'Query', 'params': {'top_k': 25}, 'query': 'international climate conferences', 'node_id': 'Retriever'}`: unsupported operand type(s) for *: 'float' and 'NoneType', full stack trace: Traceback (most recent call last):\n  File \"/Users/nicholaslincoln/opt/anaconda3/lib/python3.8/site-packages/haystack/pipelines/base.py\", line 337, in run\n    node_output, stream_id = self.graph.nodes[node_id][\"component\"]._dispatch_run(**node_input)\n  File \"/Users/nicholaslincoln/opt/anaconda3/lib/python3.8/site-packages/haystack/nodes/base.py\", line 233, in _dispatch_run\n    output, stream = self.run(**run_inputs, **run_params)\n  File \"/Users/nicholaslincoln/opt/anaconda3/lib/python3.8/site-packages/haystack/nodes/retriever/base.py\", line 219, in run\n    output, stream = run_query_timed(query=query, filters=filters, top_k=top_k, index=index)\n  File \"/Users/nicholaslincoln/opt/anaconda3/lib/python3.8/site-packages/haystack/nodes/retriever/base.py\", line 70, in wrapper\n    ret = fn(*args, **kwargs)\n  File \"/Users/nicholaslincoln/opt/anaconda3/lib/python3.8/site-packages/haystack/nodes/retriever/base.py\", line 235, in run_query\n    documents = self.retrieve(query=query, filters=filters, top_k=top_k, index=index)\n  File \"/Users/nicholaslincoln/opt/anaconda3/lib/python3.8/site-packages/haystack/nodes/retriever/dense.py\", line 207, in retrieve\n    documents = self.document_store.query_by_embedding(query_emb=query_emb[0], top_k=top_k, filters=filters, index=index)\n  File \"/Users/nicholaslincoln/opt/anaconda3/lib/python3.8/site-packages/haystack/document_stores/memory.py\", line 199, in query_by_embedding\n    score = np.dot(query_emb, doc.embedding) / (\n  File \"<__array_function__ internals>\", line 5, in dot\nTypeError: unsupported operand type(s) for *: 'float' and 'NoneType'\n",
     "output_type": "error",
     "traceback": [
      "\u001b[0;31m---------------------------------------------------------------------------\u001b[0m",
      "\u001b[0;31mTypeError\u001b[0m                                 Traceback (most recent call last)",
      "\u001b[0;32m~/opt/anaconda3/lib/python3.8/site-packages/haystack/pipelines/base.py\u001b[0m in \u001b[0;36mrun\u001b[0;34m(self, query, file_paths, labels, documents, meta, params, debug, debug_logs)\u001b[0m\n\u001b[1;32m    336\u001b[0m                     \u001b[0mlogger\u001b[0m\u001b[0;34m.\u001b[0m\u001b[0mdebug\u001b[0m\u001b[0;34m(\u001b[0m\u001b[0;34mf\"Running node `{node_id}` with input `{node_input}`\"\u001b[0m\u001b[0;34m)\u001b[0m\u001b[0;34m\u001b[0m\u001b[0;34m\u001b[0m\u001b[0m\n\u001b[0;32m--> 337\u001b[0;31m                     \u001b[0mnode_output\u001b[0m\u001b[0;34m,\u001b[0m \u001b[0mstream_id\u001b[0m \u001b[0;34m=\u001b[0m \u001b[0mself\u001b[0m\u001b[0;34m.\u001b[0m\u001b[0mgraph\u001b[0m\u001b[0;34m.\u001b[0m\u001b[0mnodes\u001b[0m\u001b[0;34m[\u001b[0m\u001b[0mnode_id\u001b[0m\u001b[0;34m]\u001b[0m\u001b[0;34m[\u001b[0m\u001b[0;34m\"component\"\u001b[0m\u001b[0;34m]\u001b[0m\u001b[0;34m.\u001b[0m\u001b[0m_dispatch_run\u001b[0m\u001b[0;34m(\u001b[0m\u001b[0;34m**\u001b[0m\u001b[0mnode_input\u001b[0m\u001b[0;34m)\u001b[0m\u001b[0;34m\u001b[0m\u001b[0;34m\u001b[0m\u001b[0m\n\u001b[0m\u001b[1;32m    338\u001b[0m                 \u001b[0;32mexcept\u001b[0m \u001b[0mException\u001b[0m \u001b[0;32mas\u001b[0m \u001b[0me\u001b[0m\u001b[0;34m:\u001b[0m\u001b[0;34m\u001b[0m\u001b[0;34m\u001b[0m\u001b[0m\n",
      "\u001b[0;32m~/opt/anaconda3/lib/python3.8/site-packages/haystack/nodes/base.py\u001b[0m in \u001b[0;36m_dispatch_run\u001b[0;34m(self, **kwargs)\u001b[0m\n\u001b[1;32m    232\u001b[0m \u001b[0;34m\u001b[0m\u001b[0m\n\u001b[0;32m--> 233\u001b[0;31m         \u001b[0moutput\u001b[0m\u001b[0;34m,\u001b[0m \u001b[0mstream\u001b[0m \u001b[0;34m=\u001b[0m \u001b[0mself\u001b[0m\u001b[0;34m.\u001b[0m\u001b[0mrun\u001b[0m\u001b[0;34m(\u001b[0m\u001b[0;34m**\u001b[0m\u001b[0mrun_inputs\u001b[0m\u001b[0;34m,\u001b[0m \u001b[0;34m**\u001b[0m\u001b[0mrun_params\u001b[0m\u001b[0;34m)\u001b[0m\u001b[0;34m\u001b[0m\u001b[0;34m\u001b[0m\u001b[0m\n\u001b[0m\u001b[1;32m    234\u001b[0m \u001b[0;34m\u001b[0m\u001b[0m\n",
      "\u001b[0;32m~/opt/anaconda3/lib/python3.8/site-packages/haystack/nodes/retriever/base.py\u001b[0m in \u001b[0;36mrun\u001b[0;34m(self, root_node, query, filters, top_k, documents, index)\u001b[0m\n\u001b[1;32m    218\u001b[0m             \u001b[0mrun_query_timed\u001b[0m \u001b[0;34m=\u001b[0m \u001b[0mself\u001b[0m\u001b[0;34m.\u001b[0m\u001b[0mtiming\u001b[0m\u001b[0;34m(\u001b[0m\u001b[0mself\u001b[0m\u001b[0;34m.\u001b[0m\u001b[0mrun_query\u001b[0m\u001b[0;34m,\u001b[0m \u001b[0;34m\"query_time\"\u001b[0m\u001b[0;34m)\u001b[0m\u001b[0;34m\u001b[0m\u001b[0;34m\u001b[0m\u001b[0m\n\u001b[0;32m--> 219\u001b[0;31m             \u001b[0moutput\u001b[0m\u001b[0;34m,\u001b[0m \u001b[0mstream\u001b[0m \u001b[0;34m=\u001b[0m \u001b[0mrun_query_timed\u001b[0m\u001b[0;34m(\u001b[0m\u001b[0mquery\u001b[0m\u001b[0;34m=\u001b[0m\u001b[0mquery\u001b[0m\u001b[0;34m,\u001b[0m \u001b[0mfilters\u001b[0m\u001b[0;34m=\u001b[0m\u001b[0mfilters\u001b[0m\u001b[0;34m,\u001b[0m \u001b[0mtop_k\u001b[0m\u001b[0;34m=\u001b[0m\u001b[0mtop_k\u001b[0m\u001b[0;34m,\u001b[0m \u001b[0mindex\u001b[0m\u001b[0;34m=\u001b[0m\u001b[0mindex\u001b[0m\u001b[0;34m)\u001b[0m\u001b[0;34m\u001b[0m\u001b[0;34m\u001b[0m\u001b[0m\n\u001b[0m\u001b[1;32m    220\u001b[0m         \u001b[0;32melif\u001b[0m \u001b[0mroot_node\u001b[0m \u001b[0;34m==\u001b[0m \u001b[0;34m\"File\"\u001b[0m\u001b[0;34m:\u001b[0m\u001b[0;34m\u001b[0m\u001b[0;34m\u001b[0m\u001b[0m\n",
      "\u001b[0;32m~/opt/anaconda3/lib/python3.8/site-packages/haystack/nodes/retriever/base.py\u001b[0m in \u001b[0;36mwrapper\u001b[0;34m(*args, **kwargs)\u001b[0m\n\u001b[1;32m     69\u001b[0m             \u001b[0mtic\u001b[0m \u001b[0;34m=\u001b[0m \u001b[0mperf_counter\u001b[0m\u001b[0;34m(\u001b[0m\u001b[0;34m)\u001b[0m\u001b[0;34m\u001b[0m\u001b[0;34m\u001b[0m\u001b[0m\n\u001b[0;32m---> 70\u001b[0;31m             \u001b[0mret\u001b[0m \u001b[0;34m=\u001b[0m \u001b[0mfn\u001b[0m\u001b[0;34m(\u001b[0m\u001b[0;34m*\u001b[0m\u001b[0margs\u001b[0m\u001b[0;34m,\u001b[0m \u001b[0;34m**\u001b[0m\u001b[0mkwargs\u001b[0m\u001b[0;34m)\u001b[0m\u001b[0;34m\u001b[0m\u001b[0;34m\u001b[0m\u001b[0m\n\u001b[0m\u001b[1;32m     71\u001b[0m             \u001b[0mtoc\u001b[0m \u001b[0;34m=\u001b[0m \u001b[0mperf_counter\u001b[0m\u001b[0;34m(\u001b[0m\u001b[0;34m)\u001b[0m\u001b[0;34m\u001b[0m\u001b[0;34m\u001b[0m\u001b[0m\n",
      "\u001b[0;32m~/opt/anaconda3/lib/python3.8/site-packages/haystack/nodes/retriever/base.py\u001b[0m in \u001b[0;36mrun_query\u001b[0;34m(self, query, filters, top_k, index)\u001b[0m\n\u001b[1;32m    234\u001b[0m     ):\n\u001b[0;32m--> 235\u001b[0;31m         \u001b[0mdocuments\u001b[0m \u001b[0;34m=\u001b[0m \u001b[0mself\u001b[0m\u001b[0;34m.\u001b[0m\u001b[0mretrieve\u001b[0m\u001b[0;34m(\u001b[0m\u001b[0mquery\u001b[0m\u001b[0;34m=\u001b[0m\u001b[0mquery\u001b[0m\u001b[0;34m,\u001b[0m \u001b[0mfilters\u001b[0m\u001b[0;34m=\u001b[0m\u001b[0mfilters\u001b[0m\u001b[0;34m,\u001b[0m \u001b[0mtop_k\u001b[0m\u001b[0;34m=\u001b[0m\u001b[0mtop_k\u001b[0m\u001b[0;34m,\u001b[0m \u001b[0mindex\u001b[0m\u001b[0;34m=\u001b[0m\u001b[0mindex\u001b[0m\u001b[0;34m)\u001b[0m\u001b[0;34m\u001b[0m\u001b[0;34m\u001b[0m\u001b[0m\n\u001b[0m\u001b[1;32m    236\u001b[0m         \u001b[0mdocument_ids\u001b[0m \u001b[0;34m=\u001b[0m \u001b[0;34m[\u001b[0m\u001b[0mdoc\u001b[0m\u001b[0;34m.\u001b[0m\u001b[0mid\u001b[0m \u001b[0;32mfor\u001b[0m \u001b[0mdoc\u001b[0m \u001b[0;32min\u001b[0m \u001b[0mdocuments\u001b[0m\u001b[0;34m]\u001b[0m\u001b[0;34m\u001b[0m\u001b[0;34m\u001b[0m\u001b[0m\n",
      "\u001b[0;32m~/opt/anaconda3/lib/python3.8/site-packages/haystack/nodes/retriever/dense.py\u001b[0m in \u001b[0;36mretrieve\u001b[0;34m(self, query, filters, top_k, index)\u001b[0m\n\u001b[1;32m    206\u001b[0m         \u001b[0mquery_emb\u001b[0m \u001b[0;34m=\u001b[0m \u001b[0mself\u001b[0m\u001b[0;34m.\u001b[0m\u001b[0membed_queries\u001b[0m\u001b[0;34m(\u001b[0m\u001b[0mtexts\u001b[0m\u001b[0;34m=\u001b[0m\u001b[0;34m[\u001b[0m\u001b[0mquery\u001b[0m\u001b[0;34m]\u001b[0m\u001b[0;34m)\u001b[0m\u001b[0;34m\u001b[0m\u001b[0;34m\u001b[0m\u001b[0m\n\u001b[0;32m--> 207\u001b[0;31m         \u001b[0mdocuments\u001b[0m \u001b[0;34m=\u001b[0m \u001b[0mself\u001b[0m\u001b[0;34m.\u001b[0m\u001b[0mdocument_store\u001b[0m\u001b[0;34m.\u001b[0m\u001b[0mquery_by_embedding\u001b[0m\u001b[0;34m(\u001b[0m\u001b[0mquery_emb\u001b[0m\u001b[0;34m=\u001b[0m\u001b[0mquery_emb\u001b[0m\u001b[0;34m[\u001b[0m\u001b[0;36m0\u001b[0m\u001b[0;34m]\u001b[0m\u001b[0;34m,\u001b[0m \u001b[0mtop_k\u001b[0m\u001b[0;34m=\u001b[0m\u001b[0mtop_k\u001b[0m\u001b[0;34m,\u001b[0m \u001b[0mfilters\u001b[0m\u001b[0;34m=\u001b[0m\u001b[0mfilters\u001b[0m\u001b[0;34m,\u001b[0m \u001b[0mindex\u001b[0m\u001b[0;34m=\u001b[0m\u001b[0mindex\u001b[0m\u001b[0;34m)\u001b[0m\u001b[0;34m\u001b[0m\u001b[0;34m\u001b[0m\u001b[0m\n\u001b[0m\u001b[1;32m    208\u001b[0m         \u001b[0;32mreturn\u001b[0m \u001b[0mdocuments\u001b[0m\u001b[0;34m\u001b[0m\u001b[0;34m\u001b[0m\u001b[0m\n",
      "\u001b[0;32m~/opt/anaconda3/lib/python3.8/site-packages/haystack/document_stores/memory.py\u001b[0m in \u001b[0;36mquery_by_embedding\u001b[0;34m(self, query_emb, filters, top_k, index, return_embedding)\u001b[0m\n\u001b[1;32m    198\u001b[0m             \u001b[0;32mif\u001b[0m \u001b[0mself\u001b[0m\u001b[0;34m.\u001b[0m\u001b[0msimilarity\u001b[0m \u001b[0;34m==\u001b[0m \u001b[0;34m\"dot_product\"\u001b[0m\u001b[0;34m:\u001b[0m\u001b[0;34m\u001b[0m\u001b[0;34m\u001b[0m\u001b[0m\n\u001b[0;32m--> 199\u001b[0;31m                 score = np.dot(query_emb, doc.embedding) / (\n\u001b[0m\u001b[1;32m    200\u001b[0m                     \u001b[0mnp\u001b[0m\u001b[0;34m.\u001b[0m\u001b[0mlinalg\u001b[0m\u001b[0;34m.\u001b[0m\u001b[0mnorm\u001b[0m\u001b[0;34m(\u001b[0m\u001b[0mquery_emb\u001b[0m\u001b[0;34m)\u001b[0m \u001b[0;34m*\u001b[0m \u001b[0mnp\u001b[0m\u001b[0;34m.\u001b[0m\u001b[0mlinalg\u001b[0m\u001b[0;34m.\u001b[0m\u001b[0mnorm\u001b[0m\u001b[0;34m(\u001b[0m\u001b[0mdoc\u001b[0m\u001b[0;34m.\u001b[0m\u001b[0membedding\u001b[0m\u001b[0;34m)\u001b[0m\u001b[0;34m\u001b[0m\u001b[0;34m\u001b[0m\u001b[0m\n",
      "\u001b[0;32m<__array_function__ internals>\u001b[0m in \u001b[0;36mdot\u001b[0;34m(*args, **kwargs)\u001b[0m\n",
      "\u001b[0;31mTypeError\u001b[0m: unsupported operand type(s) for *: 'float' and 'NoneType'",
      "\nDuring handling of the above exception, another exception occurred:\n",
      "\u001b[0;31mException\u001b[0m                                 Traceback (most recent call last)",
      "\u001b[0;32m<ipython-input-24-21a59a2c81a9>\u001b[0m in \u001b[0;36m<module>\u001b[0;34m\u001b[0m\n\u001b[1;32m      3\u001b[0m \u001b[0;34m\u001b[0m\u001b[0m\n\u001b[1;32m      4\u001b[0m \u001b[0mnbr_results_to_return\u001b[0m \u001b[0;34m=\u001b[0m \u001b[0mint\u001b[0m\u001b[0;34m(\u001b[0m\u001b[0;36m25\u001b[0m\u001b[0;34m)\u001b[0m \u001b[0;31m# need to limit results, otherwise all docs in corpus will be returned\u001b[0m\u001b[0;34m\u001b[0m\u001b[0;34m\u001b[0m\u001b[0m\n\u001b[0;32m----> 5\u001b[0;31m result = p.run(\n\u001b[0m\u001b[1;32m      6\u001b[0m     \u001b[0mquery\u001b[0m\u001b[0;34m=\u001b[0m\u001b[0msearch_term\u001b[0m\u001b[0;34m,\u001b[0m\u001b[0;34m\u001b[0m\u001b[0;34m\u001b[0m\u001b[0m\n\u001b[1;32m      7\u001b[0m     \u001b[0mparams\u001b[0m\u001b[0;34m=\u001b[0m\u001b[0;34m{\u001b[0m\u001b[0;34m\"top_k\"\u001b[0m\u001b[0;34m:\u001b[0m \u001b[0mnbr_results_to_return\u001b[0m\u001b[0;34m}\u001b[0m\u001b[0;34m\u001b[0m\u001b[0;34m\u001b[0m\u001b[0m\n",
      "\u001b[0;32m~/opt/anaconda3/lib/python3.8/site-packages/haystack/pipelines/base.py\u001b[0m in \u001b[0;36mrun\u001b[0;34m(self, query, file_paths, labels, documents, meta, params, debug, debug_logs)\u001b[0m\n\u001b[1;32m    338\u001b[0m                 \u001b[0;32mexcept\u001b[0m \u001b[0mException\u001b[0m \u001b[0;32mas\u001b[0m \u001b[0me\u001b[0m\u001b[0;34m:\u001b[0m\u001b[0;34m\u001b[0m\u001b[0;34m\u001b[0m\u001b[0m\n\u001b[1;32m    339\u001b[0m                     \u001b[0mtb\u001b[0m \u001b[0;34m=\u001b[0m \u001b[0mtraceback\u001b[0m\u001b[0;34m.\u001b[0m\u001b[0mformat_exc\u001b[0m\u001b[0;34m(\u001b[0m\u001b[0;34m)\u001b[0m\u001b[0;34m\u001b[0m\u001b[0;34m\u001b[0m\u001b[0m\n\u001b[0;32m--> 340\u001b[0;31m                     \u001b[0;32mraise\u001b[0m \u001b[0mException\u001b[0m\u001b[0;34m(\u001b[0m\u001b[0;34mf\"Exception while running node `{node_id}` with input `{node_input}`: {e}, full stack trace: {tb}\"\u001b[0m\u001b[0;34m)\u001b[0m\u001b[0;34m\u001b[0m\u001b[0;34m\u001b[0m\u001b[0m\n\u001b[0m\u001b[1;32m    341\u001b[0m                 \u001b[0mqueue\u001b[0m\u001b[0;34m.\u001b[0m\u001b[0mpop\u001b[0m\u001b[0;34m(\u001b[0m\u001b[0mnode_id\u001b[0m\u001b[0;34m)\u001b[0m\u001b[0;34m\u001b[0m\u001b[0;34m\u001b[0m\u001b[0m\n\u001b[1;32m    342\u001b[0m                 \u001b[0mnext_nodes\u001b[0m \u001b[0;34m=\u001b[0m \u001b[0mself\u001b[0m\u001b[0;34m.\u001b[0m\u001b[0mget_next_nodes\u001b[0m\u001b[0;34m(\u001b[0m\u001b[0mnode_id\u001b[0m\u001b[0;34m,\u001b[0m \u001b[0mstream_id\u001b[0m\u001b[0;34m)\u001b[0m\u001b[0;34m\u001b[0m\u001b[0;34m\u001b[0m\u001b[0m\n",
      "\u001b[0;31mException\u001b[0m: Exception while running node `Retriever` with input `{'root_node': 'Query', 'params': {'top_k': 25}, 'query': 'international climate conferences', 'node_id': 'Retriever'}`: unsupported operand type(s) for *: 'float' and 'NoneType', full stack trace: Traceback (most recent call last):\n  File \"/Users/nicholaslincoln/opt/anaconda3/lib/python3.8/site-packages/haystack/pipelines/base.py\", line 337, in run\n    node_output, stream_id = self.graph.nodes[node_id][\"component\"]._dispatch_run(**node_input)\n  File \"/Users/nicholaslincoln/opt/anaconda3/lib/python3.8/site-packages/haystack/nodes/base.py\", line 233, in _dispatch_run\n    output, stream = self.run(**run_inputs, **run_params)\n  File \"/Users/nicholaslincoln/opt/anaconda3/lib/python3.8/site-packages/haystack/nodes/retriever/base.py\", line 219, in run\n    output, stream = run_query_timed(query=query, filters=filters, top_k=top_k, index=index)\n  File \"/Users/nicholaslincoln/opt/anaconda3/lib/python3.8/site-packages/haystack/nodes/retriever/base.py\", line 70, in wrapper\n    ret = fn(*args, **kwargs)\n  File \"/Users/nicholaslincoln/opt/anaconda3/lib/python3.8/site-packages/haystack/nodes/retriever/base.py\", line 235, in run_query\n    documents = self.retrieve(query=query, filters=filters, top_k=top_k, index=index)\n  File \"/Users/nicholaslincoln/opt/anaconda3/lib/python3.8/site-packages/haystack/nodes/retriever/dense.py\", line 207, in retrieve\n    documents = self.document_store.query_by_embedding(query_emb=query_emb[0], top_k=top_k, filters=filters, index=index)\n  File \"/Users/nicholaslincoln/opt/anaconda3/lib/python3.8/site-packages/haystack/document_stores/memory.py\", line 199, in query_by_embedding\n    score = np.dot(query_emb, doc.embedding) / (\n  File \"<__array_function__ internals>\", line 5, in dot\nTypeError: unsupported operand type(s) for *: 'float' and 'NoneType'\n"
     ]
    }
   ],
   "source": [
    "# run a search\n",
    "search_term = \"international climate conferences\"\n",
    "\n",
    "nbr_results_to_return = int(25) # need to limit results, otherwise all docs in corpus will be returned\n",
    "result = p.run(\n",
    "    query=search_term,\n",
    "    params={\"top_k\": nbr_results_to_return}\n",
    ")"
   ]
  },
  {
   "cell_type": "code",
   "execution_count": null,
   "id": "d4def032",
   "metadata": {},
   "outputs": [],
   "source": [
    "len(result['documents'])"
   ]
  },
  {
   "cell_type": "code",
   "execution_count": null,
   "id": "0370976f",
   "metadata": {},
   "outputs": [],
   "source": [
    "len(docs)"
   ]
  },
  {
   "cell_type": "code",
   "execution_count": null,
   "id": "9248e81e",
   "metadata": {},
   "outputs": [],
   "source": [
    "result['documents']"
   ]
  },
  {
   "cell_type": "code",
   "execution_count": null,
   "id": "4072f768",
   "metadata": {},
   "outputs": [],
   "source": []
  }
 ],
 "metadata": {
  "kernelspec": {
   "display_name": "Python 3",
   "language": "python",
   "name": "python3"
  },
  "language_info": {
   "codemirror_mode": {
    "name": "ipython",
    "version": 3
   },
   "file_extension": ".py",
   "mimetype": "text/x-python",
   "name": "python",
   "nbconvert_exporter": "python",
   "pygments_lexer": "ipython3",
   "version": "3.8.8"
  }
 },
 "nbformat": 4,
 "nbformat_minor": 5
}
